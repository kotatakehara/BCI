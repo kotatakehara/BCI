{
 "cells": [
  {
   "cell_type": "code",
   "execution_count": 74,
   "metadata": {},
   "outputs": [],
   "source": [
    "import numpy as np\n",
    "import matplotlib.pyplot as plt\n",
    "import scipy.io as io\n",
    "import pandas as pd\n",
    "from pandas import DataFrame as dframe\n",
    "import cvxpy as cv\n",
    "pd.options.display.max_rows = None\n",
    "#表示設定の配列次元の制限を無しにする"
   ]
  },
  {
   "cell_type": "code",
   "execution_count": 75,
   "metadata": {},
   "outputs": [],
   "source": [
    "#対象被験者の特徴ベクトルをMATLABから入手\n",
    "feat_C1 = np.loadtxt(\"feat_left_A02T_K0.txt\",delimiter=\",\")\n",
    "feat_C2 = np.loadtxt(\"feat_right_A02T_K0.txt\",delimiter=\",\")\n",
    "feat_Test_C1 = np.loadtxt(\"feat_test_left_A02T.txt\",delimiter=\",\")\n",
    "feat_Test_C2 = np.loadtxt(\"feat_test_right_A02T.txt\",delimiter=\",\")"
   ]
  },
  {
   "cell_type": "code",
   "execution_count": 76,
   "metadata": {},
   "outputs": [],
   "source": [
    "#非対象被験者の特徴ベクトルをMATLABから入手\n",
    "feat_C1_K1 = np.loadtxt(\"feat_left_A01T.txt\",delimiter=\",\")\n",
    "feat_C2_K1 = np.loadtxt(\"feat_right_A01T.txt\",delimiter=\",\")\n",
    "feat_C1_K2 = np.loadtxt(\"feat_left_A03T.txt\",delimiter=\",\")\n",
    "feat_C2_K2 = np.loadtxt(\"feat_right_A03T.txt\",delimiter=\",\")\n",
    "feat_C1_K3 = np.loadtxt(\"feat_left_A05T.txt\",delimiter=\",\")\n",
    "feat_C2_K3 = np.loadtxt(\"feat_right_A05T.txt\",delimiter=\",\")\n",
    "feat_C1_K4 = np.loadtxt(\"feat_left_A06T.txt\",delimiter=\",\")\n",
    "feat_C2_K4 = np.loadtxt(\"feat_right_A06T.txt\",delimiter=\",\")"
   ]
  },
  {
   "cell_type": "code",
   "execution_count": 77,
   "metadata": {},
   "outputs": [],
   "source": [
    "#辞書行列を作る関数\n",
    "def Dic(feat_l_tr,feat_r_tr): #入力の配列は2次元配列である必要がある\n",
    "    feat_tr = np.concatenate([feat_l_tr, feat_r_tr],0)\n",
    "    return feat_tr"
   ]
  },
  {
   "cell_type": "code",
   "execution_count": 78,
   "metadata": {},
   "outputs": [
    {
     "name": "stdout",
     "output_type": "stream",
     "text": [
      "(4, 40) (4, 200) (40, 4) (80, 4)\n"
     ]
    }
   ],
   "source": [
    "#特徴ベクトルを2次元に変換\n",
    "#特徴ベクトル g は２M×Tになっている必要がある\n",
    "#Tは被験者の試行回数である\n",
    "feat_tr = Dic(feat_C1,feat_C2)\n",
    "#非対象被験者の特徴ベクトルも同様の処理を行う\n",
    "feat_tr_K1 = Dic(feat_C1_K1,feat_C2_K1)\n",
    "feat_tr_K2 = Dic(feat_C1_K2,feat_C2_K2)\n",
    "feat_tr_K3 = Dic(feat_C1_K3,feat_C2_K3)\n",
    "feat_tr_K4 = Dic(feat_C1_K4,feat_C2_K4)\n",
    "#それぞれの特徴ベクトルをつなげる\n",
    "feat_tr_dic_1 = Dic(feat_tr,feat_tr_K1)\n",
    "feat_tr_dic_2 = Dic(feat_tr_dic_1,feat_tr_K2)\n",
    "feat_tr_dic_3 = Dic(feat_tr_dic_2,feat_tr_K3)\n",
    "feat_tr_dic = Dic(feat_tr_dic_3,feat_tr_K4).T\n",
    "#feat_tr_dicはすべての特徴ベクトルをつなげたもの\n",
    "#まず、分類に用いるテストデータの特徴ベクトルを2次元に変換\n",
    "feat_l_te = feat_Test_C1;\n",
    "feat_r_te = feat_Test_C2;\n",
    "feat_l_te = feat_l_te.T\n",
    "feat_r_te = feat_r_te.T\n",
    "print(feat_l_te.shape,feat_tr_dic.shape,feat_tr.shape,feat_tr_dic_1.shape)\n",
    "matrix_index = np.array([feat_C1.shape[0],feat_C2.shape[0],feat_C1_K1.shape[0],feat_C2_K1.shape[0],feat_C1_K2.shape[0],feat_C2_K2.shape[0],\n",
    "                        feat_C1_K3.shape[0],feat_C2_K3.shape[0],feat_C1_K4.shape[0],feat_C2_K4.shape[0]])"
   ]
  },
  {
   "cell_type": "code",
   "execution_count": 79,
   "metadata": {},
   "outputs": [],
   "source": [
    "#各クラスの特徴ベクトルの配列の列数を格納した配列を引数にすればもう少し拡張性が上がる\n",
    "def SGRM(feat_tr,feat_tr_dic_1,feat_tr_dic_2,feat_tr_dic_3,feat_tr_dic,feat_l_te,matrix_index,λ_1,λ_2):\n",
    "    #λ_1 = 0.01\n",
    "    #λ_2 = 0.01\n",
    "    answer = np.zeros(feat_l_te.shape[1])\n",
    "    SGRM_Cla = np.zeros((feat_tr_dic.shape[1], feat_l_te.shape[1]))\n",
    "    SGRM_l_Cla = np.zeros((feat_tr_dic.shape[1], feat_l_te.shape[1]))\n",
    "    SGRM_r_Cla = np.zeros((feat_tr_dic.shape[1], feat_l_te.shape[1]))\n",
    "    for i in range(feat_l_te.shape[1]):\n",
    "        u = cv.Variable((feat_tr_dic.shape[1],1)) #目的関数の次元\n",
    "        objective = cv.Minimize(0.5*(cv.norm(feat_tr_dic@u-feat_l_te[:,i,np.newaxis],2)**2)\n",
    "                                +λ_1*cv.norm(u[:,0],1)\n",
    "                                +λ_2*(cv.norm(u[0:feat_tr.shape[0],0],2)\n",
    "                                      +cv.norm(u[feat_tr.shape[0]:feat_tr_dic_1.shape[0],0],2)\n",
    "                                     +cv.norm(u[feat_tr_dic_1.shape[0]:feat_tr_dic_2.shape[0],0],2)\n",
    "                                     +cv.norm(u[feat_tr_dic_2.shape[0]:feat_tr_dic_3.shape[0],0],2)\n",
    "                                     +cv.norm(u[feat_tr_dic_3.shape[0]:feat_tr_dic.shape[0],0],2)))\n",
    "        prob = cv.Problem(objective)\n",
    "        result = prob.solve()\n",
    "        #classVariableから値を取るためには.valueを付ける\n",
    "        SGRM_Cla[:,i] = np.squeeze(u.value)\n",
    "        #各クラスに関連する表現ベクトルの値を抜き出す\n",
    "        #lは仕切りの値\n",
    "        l = 0\n",
    "        j = 0\n",
    "        while j < matrix_index.shape[0]-1:\n",
    "            SGRM_l_Cla[l:l+matrix_index[j],i] = SGRM_Cla[l:l+matrix_index[j],i]     \n",
    "            l = l + matrix_index[j]\n",
    "            j = j + 1\n",
    "            SGRM_r_Cla[l:l+matrix_index[j],i] = SGRM_Cla[l:l+matrix_index[j],i]\n",
    "            l = l + matrix_index[j]\n",
    "            j = j + 1\n",
    "    #パラメータを使って擬似的に各クラスのテスト信号の特徴ベクトルを作成\n",
    "    dout_feat_l_te = np.zeros((feat_l_te.shape[0], feat_l_te.shape[1]))\n",
    "    dout_feat_r_te = np.zeros((feat_l_te.shape[0], feat_l_te.shape[1])) \n",
    "    for i in range(feat_l_te.shape[1]):\n",
    "        dout_feat_l_te[:,i] = feat_tr_dic@SGRM_l_Cla[:,i]\n",
    "    for i in range(feat_r_te.shape[1]):\n",
    "        dout_feat_r_te[:,i] = feat_tr_dic@SGRM_r_Cla[:,i]\n",
    "    #作成した擬似特徴ベクトルとの残差を求める\n",
    "    R_l =  np.zeros((feat_l_te.shape[0], feat_l_te.shape[1])) #残差を格納するための配列\n",
    "    R_r =  np.zeros((feat_l_te.shape[0], feat_l_te.shape[1]))  \n",
    "    for i in range(feat_l_te.shape[1]):\n",
    "        R_l[:,i] = feat_l_te[:,i]-dout_feat_l_te[:,i]\n",
    "        R_r[:,i] = feat_l_te[:,i]-dout_feat_r_te[:,i]\n",
    "        if np.linalg.norm(R_l[:,i], ord=2) < np.linalg.norm(R_r[:,i], ord=2):\n",
    "            answer[i] = 1\n",
    "        elif np.linalg.norm(R_l[:,i], ord=2) > np.linalg.norm(R_r[:,i], ord=2):\n",
    "            answer[i] = 2\n",
    "    return answer"
   ]
  },
  {
   "cell_type": "code",
   "execution_count": 80,
   "metadata": {},
   "outputs": [
    {
     "name": "stdout",
     "output_type": "stream",
     "text": [
      "53.75 0.01 0.01\n"
     ]
    }
   ],
   "source": [
    "Max = 0\n",
    "for i in range(1,11):\n",
    "    λ_1 = i*0.01\n",
    "    for j in range(1,11):\n",
    "        λ_2 = j*0.01\n",
    "        answer1 = SGRM(feat_tr,feat_tr_dic_1,feat_tr_dic_2,feat_tr_dic_3,feat_tr_dic,feat_l_te,matrix_index,λ_1,λ_2)\n",
    "        answer2 = SGRM(feat_tr,feat_tr_dic_1,feat_tr_dic_2,feat_tr_dic_3,feat_tr_dic,feat_r_te,matrix_index,λ_1,λ_2)\n",
    "        x1 = 0\n",
    "        x2 = 0\n",
    "        for i in range(answer1.shape[0]):\n",
    "            if answer1[i] == 1:\n",
    "                x1 = x1 + 1\n",
    "            if answer2[i] == 2:\n",
    "                x2 = x2 + 1\n",
    "            temp = ((x1+x2)/(answer1.shape[0]+answer2.shape[0]))*100\n",
    "            if temp > Max:\n",
    "                Max = temp\n",
    "                p1 = λ_1\n",
    "                p2 = λ_2\n",
    "                \n",
    "print(Max,p1,p2)         "
   ]
  },
  {
   "cell_type": "code",
   "execution_count": null,
   "metadata": {},
   "outputs": [],
   "source": []
  }
 ],
 "metadata": {
  "kernelspec": {
   "display_name": "Python 3",
   "language": "python",
   "name": "python3"
  },
  "language_info": {
   "codemirror_mode": {
    "name": "ipython",
    "version": 3
   },
   "file_extension": ".py",
   "mimetype": "text/x-python",
   "name": "python",
   "nbconvert_exporter": "python",
   "pygments_lexer": "ipython3",
   "version": "3.7.6"
  }
 },
 "nbformat": 4,
 "nbformat_minor": 4
}
