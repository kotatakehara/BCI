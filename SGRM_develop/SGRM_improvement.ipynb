{
 "cells": [
  {
   "cell_type": "code",
   "execution_count": 16,
   "id": "d113b789-3c26-4319-8989-d69817f84151",
   "metadata": {},
   "outputs": [],
   "source": [
    "import numpy as np\n",
    "import matplotlib.pyplot as plt\n",
    "import scipy.io as io\n",
    "import pandas as pd\n",
    "from pandas import DataFrame as dframe\n",
    "import cvxpy as cv"
   ]
  },
  {
   "cell_type": "code",
   "execution_count": 17,
   "id": "687d8dd6-1d7d-42e1-ab8f-609ae544fcab",
   "metadata": {},
   "outputs": [],
   "source": [
    "#対象被験者の特徴ベクトルをMATLABから入手\n",
    "feat_C1 = np.loadtxt(\"feat_C1.txt\",delimiter=\",\")\n",
    "feat_C2 = np.loadtxt(\"feat_C2.txt\",delimiter=\",\")\n",
    "feat_Test_C1 = np.loadtxt(\"feat_Test_C1.txt\",delimiter=\",\")\n",
    "feat_Test_C2 = np.loadtxt(\"feat_Test_C2.txt\",delimiter=\",\")"
   ]
  },
  {
   "cell_type": "code",
   "execution_count": 18,
   "id": "68f9bc78-2bcd-4c87-badb-ba2f83eda81b",
   "metadata": {},
   "outputs": [],
   "source": [
    "#非対象被験者の特徴ベクトルをMATLABから入手\n",
    "feat_C1_K1 = np.loadtxt(\"feat_C1_K1.txt\",delimiter=\",\")\n",
    "feat_C2_K1 = np.loadtxt(\"feat_C2_K1.txt\",delimiter=\",\")"
   ]
  },
  {
   "cell_type": "code",
   "execution_count": 19,
   "id": "5be3789d-cf8b-4995-9421-a2b4b0728838",
   "metadata": {},
   "outputs": [],
   "source": [
    "#辞書行列を作る関数\n",
    "def Dic(feat_l_tr,feat_r_tr): #入力の配列は2次元配列である必要がある\n",
    "    feat_tr = np.concatenate([feat_l_tr, feat_r_tr],0)\n",
    "    return feat_tr"
   ]
  },
  {
   "cell_type": "code",
   "execution_count": 20,
   "id": "2e099bab-c890-433a-8cca-b961a450c314",
   "metadata": {},
   "outputs": [
    {
     "name": "stdout",
     "output_type": "stream",
     "text": [
      "(4, 12) (4, 200) (120, 4) (80, 4)\n"
     ]
    }
   ],
   "source": [
    "#特徴ベクトルを2次元に変換\n",
    "#特徴ベクトル g は２M×Tになっている必要がある\n",
    "#Tは被験者の試行回数である\n",
    "feat_tr = Dic(feat_C1,feat_C2)\n",
    "#非対象被験者の特徴ベクトルも同様の処理を行う\n",
    "feat_tr_K1 = Dic(feat_C1_K1,feat_C2_K1)\n",
    "#それぞれの特徴ベクトルをつなげる\n",
    "feat_tr_dic = Dic(feat_tr,feat_tr_K1).T\n",
    "#feat_tr_dicはすべての特徴ベクトルをつなげたもの\n",
    "#まず、分類に用いるテストデータの特徴ベクトルを2次元に変換\n",
    "feat_l_te = feat_Test_C1;\n",
    "feat_r_te = feat_Test_C2;\n",
    "feat_l_te = feat_l_te.T\n",
    "feat_r_te = feat_r_te.T\n",
    "print(feat_l_te.shape,feat_tr_dic.shape,feat_tr.shape,feat_tr_K1.shape)\n",
    "matrix_index = np.array([feat_C1.shape[0],feat_C2.shape[0],feat_C1_K1.shape[0],feat_C2_K1.shape[0]])"
   ]
  },
  {
   "cell_type": "code",
   "execution_count": 21,
   "id": "8849c022-0c27-4154-8cd7-1a1f45f896af",
   "metadata": {},
   "outputs": [],
   "source": [
    "#各クラスの特徴ベクトルの配列の列数を格納した配列を引数にすればもう少し拡張性が上がる\n",
    "def SGRM(feat_C1,feat_C2,feat_tr,feat_tr_K1,feat_tr_dic,feat_C1_K1,feat_C2_K1,feat_l_te,matrix_index):\n",
    "    λ_1 = 0.01\n",
    "    λ_2 = 0.01\n",
    "    answer = np.zeros(feat_l_te.shape[1])\n",
    "    SGRM_Cla = np.zeros((feat_tr_dic.shape[1], feat_l_te.shape[1]))\n",
    "    SGRM_l_Cla = np.zeros((feat_tr_dic.shape[1], feat_l_te.shape[1]))\n",
    "    SGRM_r_Cla = np.zeros((feat_tr_dic.shape[1], feat_l_te.shape[1]))\n",
    "    for i in range(feat_l_te.shape[1]):\n",
    "        u = cv.Variable((feat_tr_dic.shape[1],1)) #目的関数の次元\n",
    "        objective = cv.Minimize(0.5*(cv.norm(feat_tr_dic@u-feat_l_te[:,i,np.newaxis],2)**2)\n",
    "                                +λ_1*cv.norm(u,1)\n",
    "                                +λ_2*(cv.norm(u[0:feat_tr.shape[0],0],2)\n",
    "                                      +cv.norm(u[feat_tr.shape[0]:feat_tr.shape[0]+feat_tr_K1.shape[0],0],2)))\n",
    "        prob = cv.Problem(objective)\n",
    "        result = prob.solve()\n",
    "        #classVariableから値を取るためには.valueを付ける\n",
    "        SGRM_Cla[:,i] = np.squeeze(u.value)\n",
    "        #各クラスに関連する表現ベクトルの値を抜き出す\n",
    "        #lは仕切りの値\n",
    "        l = 0\n",
    "        j = 0\n",
    "        while j < matrix_index.shape[0]-1:\n",
    "            SGRM_l_Cla[l:matrix_index[j],i] = SGRM_Cla[l:matrix_index[j],i]     \n",
    "            l = l + matrix_index[j]\n",
    "            j = j + 1\n",
    "            SGRM_r_Cla[l:l+matrix_index[j],i] = SGRM_Cla[l:l+matrix_index[j],i]\n",
    "            l = l + matrix_index[j]\n",
    "            j = j + 1\n",
    "    #パラメータを使って擬似的に各クラスのテスト信号の特徴ベクトルを作成\n",
    "    dout_feat_l_te = np.zeros((feat_l_te.shape[0], feat_l_te.shape[1]))\n",
    "    dout_feat_r_te = np.zeros((feat_l_te.shape[0], feat_l_te.shape[1])) \n",
    "    for i in range(feat_l_te.shape[1]):\n",
    "        dout_feat_l_te[:,i] = feat_tr_dic@SGRM_l_Cla[:,i]\n",
    "    for i in range(feat_r_te.shape[1]):\n",
    "        dout_feat_r_te[:,i] = feat_tr_dic@SGRM_r_Cla[:,i]\n",
    "    #作成した擬似特徴ベクトルとの残差を求める\n",
    "    R_l =  np.zeros((feat_l_te.shape[0], feat_l_te.shape[1])) #残差を格納するための配列\n",
    "    R_r =  np.zeros((feat_l_te.shape[0], feat_l_te.shape[1]))  \n",
    "    for i in range(feat_l_te.shape[1]):\n",
    "        R_l[:,i] = feat_l_te[:,i]-dout_feat_l_te[:,i]\n",
    "        R_r[:,i] = feat_l_te[:,i]-dout_feat_r_te[:,i]\n",
    "        if np.linalg.norm(R_l[:,i], ord=2) < np.linalg.norm(R_r[:,i], ord=2):\n",
    "            answer[i] = 1\n",
    "        elif np.linalg.norm(R_l[:,i], ord=2) > np.linalg.norm(R_r[:,i], ord=2):\n",
    "            answer[i] = 2\n",
    "    return answer"
   ]
  },
  {
   "cell_type": "code",
   "execution_count": 22,
   "id": "7e9d94bf-0daa-4fc7-8d5a-b13dad796b13",
   "metadata": {},
   "outputs": [
    {
     "name": "stdout",
     "output_type": "stream",
     "text": [
      "8.333333333333332\n"
     ]
    }
   ],
   "source": [
    "answer = SGRM(feat_C1,feat_C2,feat_tr,feat_tr_K1,feat_tr_dic,feat_C1_K1,feat_C2_K1,feat_l_te,matrix_index)\n",
    "x = 0\n",
    "for i in range(answer.shape[0]):\n",
    "    if answer[i] == 1:\n",
    "        x = x + 1\n",
    "print((x/answer.shape[0])*100)"
   ]
  },
  {
   "cell_type": "code",
   "execution_count": null,
   "id": "38b88f56-efac-4eef-898d-0dd9e32a18a6",
   "metadata": {},
   "outputs": [],
   "source": []
  }
 ],
 "metadata": {
  "kernelspec": {
   "display_name": "Python 3 (ipykernel)",
   "language": "python",
   "name": "python3"
  },
  "language_info": {
   "codemirror_mode": {
    "name": "ipython",
    "version": 3
   },
   "file_extension": ".py",
   "mimetype": "text/x-python",
   "name": "python",
   "nbconvert_exporter": "python",
   "pygments_lexer": "ipython3",
   "version": "3.9.12"
  }
 },
 "nbformat": 4,
 "nbformat_minor": 5
}
