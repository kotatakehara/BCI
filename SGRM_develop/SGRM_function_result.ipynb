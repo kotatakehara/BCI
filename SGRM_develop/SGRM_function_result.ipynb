{
 "cells": [
  {
   "cell_type": "code",
   "execution_count": 1,
   "metadata": {},
   "outputs": [],
   "source": [
    "import numpy as np\n",
    "import matplotlib.pyplot as plt\n",
    "import scipy.io as io\n",
    "import pandas as pd\n",
    "from pandas import DataFrame as dframe\n",
    "import cvxpy as cv"
   ]
  },
  {
   "cell_type": "code",
   "execution_count": 2,
   "metadata": {},
   "outputs": [],
   "source": [
    "def Dic(feat_l_tr,feat_r_tr): #入力の配列は2次元配列である必要がある\n",
    "    feat_tr = np.concatenate([feat_l_tr, feat_r_tr],0)\n",
    "    return feat_tr"
   ]
  },
  {
   "cell_type": "code",
   "execution_count": 3,
   "metadata": {},
   "outputs": [],
   "source": [
    "#各クラスの特徴ベクトルの配列の列数を格納した配列を引数にすればもう少し拡張性が上がる\n",
    "def SGRM(feat_tr,feat_tr_dic_1,feat_tr_dic_2,feat_tr_dic_3,feat_tr_dic,feat_l_te,matrix_index):\n",
    "    λ_1 = 0.04\n",
    "    λ_2 = 0.05\n",
    "    answer = np.zeros(feat_l_te.shape[1])\n",
    "    SGRM_Cla = np.zeros((feat_tr_dic.shape[1], feat_l_te.shape[1]))\n",
    "    SGRM_l_Cla = np.zeros((feat_tr_dic.shape[1], feat_l_te.shape[1]))\n",
    "    SGRM_r_Cla = np.zeros((feat_tr_dic.shape[1], feat_l_te.shape[1]))\n",
    "    for i in range(feat_l_te.shape[1]):\n",
    "        u = cv.Variable((feat_tr_dic.shape[1],1)) #目的関数の次元\n",
    "        objective = cv.Minimize(0.5*(cv.norm(feat_tr_dic@u-feat_l_te[:,i,np.newaxis],2)**2)\n",
    "                                +λ_1*cv.norm(u[:,0],1)\n",
    "                                +λ_2*(cv.norm(u[0:feat_tr.shape[0],0],2)\n",
    "                                      +cv.norm(u[feat_tr.shape[0]:feat_tr_dic_1.shape[0],0],2)\n",
    "                                     +cv.norm(u[feat_tr_dic_1.shape[0]:feat_tr_dic_2.shape[0],0],2)\n",
    "                                     +cv.norm(u[feat_tr_dic_2.shape[0]:feat_tr_dic_3.shape[0],0],2)\n",
    "                                     +cv.norm(u[feat_tr_dic_3.shape[0]:feat_tr_dic.shape[0],0],2)))\n",
    "                                     #+cv.norm(u[feat_tr_dic_4.shape[0]:feat_tr_dic_5.shape[0],0],2)\n",
    "                                     #+cv.norm(u[feat_tr_dic_5.shape[0]:feat_tr_dic_6.shape[0],0],2)\n",
    "                                     #+cv.norm(u[feat_tr_dic_6.shape[0]:feat_tr_dic.shape[0],0],2)))\n",
    "        #constraints = [u == 0.5*(cv.norm(feat_tr_dic@u-feat_l_te[:,i,np.newaxis],2)**2)+λ_1*cv.norm(u[:,0],1)\n",
    "                       #+λ_2*(cv.norm(u[0:feat_tr.shape[0],0],2)\n",
    "                             #+cv.norm(u[feat_tr.shape[0]:feat_tr_dic_1.shape[0],0],2)\n",
    "                             #+cv.norm(u[feat_tr_dic_1.shape[0]:feat_tr_dic_2.shape[0],0],2)\n",
    "                             #+cv.norm(u[feat_tr_dic_2.shape[0]:feat_tr_dic_3.shape[0],0],2)\n",
    "                             #+cv.norm(u[feat_tr_dic_3.shape[0]:feat_tr_dic.shape[0],0],2))] \n",
    "                    \n",
    "        prob = cv.Problem(objective)\n",
    "        result = prob.solve()\n",
    "        #classVariableから値を取るためには.valueを付ける\n",
    "        SGRM_Cla[:,i] = np.squeeze(u.value)\n",
    "        #各クラスに関連する表現ベクトルの値を抜き出す\n",
    "        #lは仕切りの値\n",
    "        l = 0\n",
    "        j = 0\n",
    "        while j < matrix_index.shape[0]-1:\n",
    "            SGRM_l_Cla[l:l+matrix_index[j],i] = SGRM_Cla[l:l+matrix_index[j],i]     \n",
    "            l = l + matrix_index[j]\n",
    "            j = j + 1\n",
    "            SGRM_r_Cla[l:l+matrix_index[j],i] = SGRM_Cla[l:l+matrix_index[j],i]\n",
    "            l = l + matrix_index[j]\n",
    "            j = j + 1\n",
    "    #パラメータを使って擬似的に各クラスのテスト信号の特徴ベクトルを作成\n",
    "    dout_feat_l_te = np.zeros((feat_l_te.shape[0], feat_l_te.shape[1]))\n",
    "    dout_feat_r_te = np.zeros((feat_l_te.shape[0], feat_l_te.shape[1])) \n",
    "    for i in range(feat_l_te.shape[1]):\n",
    "        dout_feat_l_te[:,i] = feat_tr_dic@SGRM_l_Cla[:,i]\n",
    "    for i in range(feat_l_te.shape[1]):\n",
    "        dout_feat_r_te[:,i] = feat_tr_dic@SGRM_r_Cla[:,i]\n",
    "    #作成した擬似特徴ベクトルとの残差を求める\n",
    "    R_l =  np.zeros((feat_l_te.shape[0], feat_l_te.shape[1])) #残差を格納するための配列\n",
    "    R_r =  np.zeros((feat_l_te.shape[0], feat_l_te.shape[1]))  \n",
    "    for i in range(feat_l_te.shape[1]):\n",
    "        R_l[:,i] = feat_l_te[:,i]-dout_feat_l_te[:,i]\n",
    "        R_r[:,i] = feat_l_te[:,i]-dout_feat_r_te[:,i]\n",
    "        if np.linalg.norm(R_l[:,i], ord=2) < np.linalg.norm(R_r[:,i], ord=2):\n",
    "            answer[i] = 1\n",
    "        elif np.linalg.norm(R_l[:,i], ord=2) > np.linalg.norm(R_r[:,i], ord=2):\n",
    "            answer[i] = 2\n",
    "    return answer"
   ]
  },
  {
   "cell_type": "code",
   "execution_count": 4,
   "metadata": {},
   "outputs": [],
   "source": [
    "def SGRM_test(filename1,filename2,filename3,filename4,C1_K1,C2_K1,C1_K2,C2_K2,C1_K3,C2_K3,C1_K4,C2_K4):\n",
    "    #対象被験者の特徴ベクトルをMATLABから入手\n",
    "    feat_C1 = np.loadtxt(filename1,delimiter=\",\")\n",
    "    feat_C2 = np.loadtxt(filename2,delimiter=\",\")\n",
    "    feat_Test_C1 = np.loadtxt(filename3,delimiter=\",\")\n",
    "    feat_Test_C2 = np.loadtxt(filename4,delimiter=\",\")\n",
    "    #非対象被験者の特徴ベクトルをMATLABから入手\n",
    "    feat_C1_K1 = np.loadtxt(C1_K1,delimiter=\",\")\n",
    "    feat_C2_K1 = np.loadtxt(C2_K1,delimiter=\",\")\n",
    "    feat_C1_K2 = np.loadtxt(C1_K2,delimiter=\",\")\n",
    "    feat_C2_K2 = np.loadtxt(C1_K2,delimiter=\",\")\n",
    "    feat_C1_K3 = np.loadtxt(C1_K3,delimiter=\",\")\n",
    "    feat_C2_K3 = np.loadtxt(C1_K3,delimiter=\",\")\n",
    "    feat_C1_K4 = np.loadtxt(C1_K4,delimiter=\",\")\n",
    "    feat_C2_K4 = np.loadtxt(C1_K4,delimiter=\",\")\n",
    "    #Tは被験者の試行回数である\n",
    "    feat_tr = Dic(feat_C1,feat_C2)\n",
    "    #非対象被験者の特徴ベクトルも同様の処理を行う\n",
    "    feat_tr_K1 = Dic(feat_C1_K1,feat_C2_K1)\n",
    "    feat_tr_K2 = Dic(feat_C1_K2,feat_C2_K2)\n",
    "    feat_tr_K3 = Dic(feat_C1_K3,feat_C2_K3)\n",
    "    feat_tr_K4 = Dic(feat_C1_K4,feat_C2_K4)\n",
    "\n",
    "    #それぞれの特徴ベクトルをつなげる\n",
    "    feat_tr_dic_1 = Dic(feat_tr,feat_tr_K1)\n",
    "    feat_tr_dic_2 = Dic(feat_tr_dic_1,feat_tr_K2)\n",
    "    feat_tr_dic_3 = Dic(feat_tr_dic_2,feat_tr_K3)\n",
    "    feat_tr_dic = Dic(feat_tr_dic_3,feat_tr_K4).T\n",
    "    #feat_tr_dicはすべての特徴ベクトルをつなげたもの\n",
    "    #まず、分類に用いるテストデータの特徴ベクトルを2次元に変換\n",
    "    feat_l_te = feat_Test_C1;\n",
    "    feat_r_te = feat_Test_C2;\n",
    "    feat_l_te = feat_l_te.T\n",
    "    feat_r_te = feat_r_te.T\n",
    "\n",
    "    matrix_index = np.array([feat_C1.shape[0],feat_C2.shape[0],feat_C1_K1.shape[0],feat_C2_K1.shape[0],feat_C1_K2.shape[0],feat_C2_K2.shape[0],\n",
    "                        feat_C1_K3.shape[0],feat_C2_K3.shape[0],feat_C1_K4.shape[0],feat_C2_K4.shape[0]])\n",
    "    answer1 = SGRM(feat_tr,feat_tr_dic_1,feat_tr_dic_2,feat_tr_dic_3,feat_tr_dic,feat_l_te,matrix_index)\n",
    "    answer2 = SGRM(feat_tr,feat_tr_dic_1,feat_tr_dic_2,feat_tr_dic_3,feat_tr_dic,feat_r_te,matrix_index)\n",
    "    x1 = 0\n",
    "    x2 = 0\n",
    "    for i in range(answer1.shape[0]):\n",
    "        if answer1[i] == 1:\n",
    "            x1 = x1 + 1\n",
    "        if answer2[i] == 2:\n",
    "            x2 = x2 + 1\n",
    "        temp1 = ((x1)/(answer1.shape[0]))*100\n",
    "        temp2 = ((x2)/(answer2.shape[0]))*100\n",
    "        temp = ((x1+x2)/(answer1.shape[0]+answer2.shape[0]))*100\n",
    "                    \n",
    "    return temp,temp1,temp2"
   ]
  },
  {
   "cell_type": "code",
   "execution_count": 5,
   "metadata": {},
   "outputs": [
    {
     "name": "stderr",
     "output_type": "stream",
     "text": [
      "C:\\Users\\takehara kouta\\anaconda3\\lib\\site-packages\\cvxpy\\problems\\problem.py:1279: UserWarning: Solution may be inaccurate. Try another solver, adjusting the solver settings, or solve with verbose=True for more information.\n",
      "  \"Solution may be inaccurate. Try another solver, \"\n"
     ]
    },
    {
     "name": "stdout",
     "output_type": "stream",
     "text": [
      "[[ 48.75  97.5    0.  ]\n",
      " [ 51.25 100.     2.5 ]\n",
      " [ 50.     0.   100.  ]\n",
      " [ 53.75  67.5   40.  ]\n",
      " [ 52.5   22.5   82.5 ]\n",
      " [ 50.   100.     0.  ]]\n"
     ]
    }
   ],
   "source": [
    "#train=20,test=40で分類を行った結果\n",
    "probability = np.array([])\n",
    "temp,temp1,temp2 = SGRM_test(\"feat_2a_250Hz_25/feat_left_A01T_25_K0.txt\",\"feat_2a_250Hz_25/feat_right_A01T_25_K0.txt\",\"feat_2a_250Hz_25/feat_test_left_A01T_25.txt\",\"feat_2a_250Hz_25/feat_test_right_A01T_25.txt\"\n",
    "                           ,\"feat_2a_250Hz_30/feat_left_A02T_30.txt\",\"feat_2a_250Hz_30/feat_right_A02T_30.txt\",\"feat_2a_250Hz_30/feat_left_A03T_30.txt\",\"feat_2a_250Hz_30/feat_right_A03T_30.txt\"\n",
    "                           ,\"feat_2a_250Hz_30/feat_left_A06T_30.txt\",\"feat_2a_250Hz_30/feat_right_A06T_30.txt\",\"feat_2a_250Hz_30/feat_left_A09T_30.txt\",\"feat_2a_250Hz_30/feat_right_A09T_30.txt\")\n",
    "temp_l = np.array([temp,temp1,temp2])\n",
    "probability = np.append(probability,temp_l,axis=0)\n",
    "temp,temp1,temp2 = SGRM_test(\"feat_2a_250Hz_25/feat_left_A02T_25_K0.txt\",\"feat_2a_250Hz_25/feat_right_A02T_25_K0.txt\",\"feat_2a_250Hz_25/feat_test_left_A02T_25.txt\",\"feat_2a_250Hz_25/feat_test_right_A02T_25.txt\"\n",
    "                           ,\"feat_2a_250Hz_30/feat_left_A01T_30.txt\",\"feat_2a_250Hz_30/feat_right_A01T_30.txt\",\"feat_2a_250Hz_30/feat_left_A03T_30.txt\",\"feat_2a_250Hz_30/feat_right_A03T_30.txt\"\n",
    "                           ,\"feat_2a_250Hz_30/feat_left_A06T_30.txt\",\"feat_2a_250Hz_30/feat_right_A06T_30.txt\",\"feat_2a_250Hz_30/feat_left_A09T_30.txt\",\"feat_2a_250Hz_30/feat_right_A09T_30.txt\")\n",
    "temp_l = np.array([temp,temp1,temp2])\n",
    "probability = np.append(probability,temp_l,axis=0)\n",
    "temp,temp1,temp2 = SGRM_test(\"feat_2a_250Hz_25/feat_left_A03T_25_K0.txt\",\"feat_2a_250Hz_25/feat_right_A03T_25_K0.txt\",\"feat_2a_250Hz_25/feat_test_left_A03T_25.txt\",\"feat_2a_250Hz_25/feat_test_right_A03T_25.txt\"\n",
    "                           ,\"feat_2a_250Hz_30/feat_left_A01T_30.txt\",\"feat_2a_250Hz_30/feat_right_A01T_30.txt\",\"feat_2a_250Hz_30/feat_left_A02T_30.txt\",\"feat_2a_250Hz_30/feat_right_A02T_30.txt\"\n",
    "                           ,\"feat_2a_250Hz_30/feat_left_A06T_30.txt\",\"feat_2a_250Hz_30/feat_right_A06T_30.txt\",\"feat_2a_250Hz_30/feat_left_A09T_30.txt\",\"feat_2a_250Hz_30/feat_right_A09T_30.txt\")\n",
    "temp_l = np.array([temp,temp1,temp2])\n",
    "probability = np.append(probability,temp_l,axis=0)\n",
    "temp,temp1,temp2 = SGRM_test(\"feat_2a_250Hz_25/feat_left_A07T_25_K0.txt\",\"feat_2a_250Hz_25/feat_right_A07T_25_K0.txt\",\"feat_2a_250Hz_25/feat_test_left_A07T_25.txt\",\"feat_2a_250Hz_25/feat_test_right_A07T_25.txt\"\n",
    "                           ,\"feat_2a_250Hz_30/feat_left_A01T_30.txt\",\"feat_2a_250Hz_30/feat_right_A01T_30.txt\",\"feat_2a_250Hz_30/feat_left_A03T_30.txt\",\"feat_2a_250Hz_30/feat_right_A03T_30.txt\"\n",
    "                           ,\"feat_2a_250Hz_30/feat_left_A02T_30.txt\",\"feat_2a_250Hz_30/feat_right_A02T_30.txt\",\"feat_2a_250Hz_30/feat_left_A09T_30.txt\",\"feat_2a_250Hz_30/feat_right_A09T_30.txt\")\n",
    "temp_l = np.array([temp,temp1,temp2])\n",
    "probability = np.append(probability,temp_l,axis=0)\n",
    "temp,temp1,temp2 = SGRM_test(\"feat_2a_250Hz_25/feat_left_A08T_25_K0.txt\",\"feat_2a_250Hz_25/feat_right_A08T_25_K0.txt\",\"feat_2a_250Hz_25/feat_test_left_A08T_25.txt\",\"feat_2a_250Hz_25/feat_test_right_A08T_25.txt\"\n",
    "                           ,\"feat_2a_250Hz_30/feat_left_A01T_30.txt\",\"feat_2a_250Hz_30/feat_right_A01T_30.txt\",\"feat_2a_250Hz_30/feat_left_A03T_30.txt\",\"feat_2a_250Hz_30/feat_right_A03T_30.txt\"\n",
    "                           ,\"feat_2a_250Hz_30/feat_left_A02T_30.txt\",\"feat_2a_250Hz_30/feat_right_A02T_30.txt\",\"feat_2a_250Hz_30/feat_left_A09T_30.txt\",\"feat_2a_250Hz_30/feat_right_A09T_30.txt\")\n",
    "temp_l = np.array([temp,temp1,temp2])\n",
    "probability = np.append(probability,temp_l,axis=0)\n",
    "temp,temp1,temp2 = SGRM_test(\"feat_2a_250Hz_25/feat_left_A09T_25_K0.txt\",\"feat_2a_250Hz_25/feat_right_A09T_25_K0.txt\",\"feat_2a_250Hz_25/feat_test_left_A09T_25.txt\",\"feat_2a_250Hz_25/feat_test_right_A09T_25.txt\"\n",
    "                           ,\"feat_2a_250Hz_30/feat_left_A02T_30.txt\",\"feat_2a_250Hz_30/feat_right_A02T_30.txt\",\"feat_2a_250Hz_30/feat_left_A03T_30.txt\",\"feat_2a_250Hz_30/feat_right_A03T_30.txt\"\n",
    "                           ,\"feat_2a_250Hz_30/feat_left_A01T_30.txt\",\"feat_2a_250Hz_30/feat_right_A01T_30.txt\",\"feat_2a_250Hz_30/feat_left_A06T_30.txt\",\"feat_2a_250Hz_30/feat_right_A06T_30.txt\")\n",
    "temp_l = np.array([temp,temp1,temp2])\n",
    "probability = np.append(probability,temp_l,axis=0)\n",
    "\n",
    "probability_1 = probability.reshape([6, 3])\n",
    "print(probability_1)"
   ]
  },
  {
   "cell_type": "code",
   "execution_count": 6,
   "metadata": {},
   "outputs": [
    {
     "name": "stdout",
     "output_type": "stream",
     "text": [
      "[[ 48.75  90.     7.5 ]\n",
      " [ 56.25  97.5   15.  ]\n",
      " [ 50.     0.   100.  ]\n",
      " [ 50.    27.5   72.5 ]\n",
      " [ 51.25  52.5   50.  ]\n",
      " [ 58.    72.    44.  ]]\n"
     ]
    }
   ],
   "source": [
    "#train=20,test=40で分類を行った結果\n",
    "probability = np.array([])\n",
    "temp,temp1,temp2 = SGRM_test(\"feat_2a_250Hz_25/feat_left_A01T_25_K0.txt\",\"feat_2a_250Hz_25/feat_right_A01T_25_K0.txt\",\"feat_2a_250Hz_25/feat_test_left_A01T_25.txt\",\"feat_2a_250Hz_25/feat_test_right_A01T_25.txt\"\n",
    "                           ,\"feat_2a_250Hz_30_2/feat_left_A02T_30.txt\",\"feat_2a_250Hz_30_2/feat_right_A02T_30.txt\",\"feat_2a_250Hz_30_2/feat_left_A03T_30.txt\",\"feat_2a_250Hz_30_2/feat_right_A03T_30.txt\"\n",
    "                           ,\"feat_2a_250Hz_30_2/feat_left_A06T_30.txt\",\"feat_2a_250Hz_30_2/feat_right_A06T_30.txt\",\"feat_2a_250Hz_30_2/feat_left_A09T_30.txt\",\"feat_2a_250Hz_30_2/feat_right_A09T_30.txt\")\n",
    "temp_l = np.array([temp,temp1,temp2])\n",
    "probability = np.append(probability,temp_l,axis=0)\n",
    "temp,temp1,temp2 = SGRM_test(\"feat_2a_250Hz_25/feat_left_A02T_25_K0.txt\",\"feat_2a_250Hz_25/feat_right_A02T_25_K0.txt\",\"feat_2a_250Hz_25/feat_test_left_A02T_25.txt\",\"feat_2a_250Hz_25/feat_test_right_A02T_25.txt\"\n",
    "                           ,\"feat_2a_250Hz_30_2/feat_left_A01T_30.txt\",\"feat_2a_250Hz_30_2/feat_right_A01T_30.txt\",\"feat_2a_250Hz_30_2/feat_left_A03T_30.txt\",\"feat_2a_250Hz_30_2/feat_right_A03T_30.txt\"\n",
    "                           ,\"feat_2a_250Hz_30_2/feat_left_A06T_30.txt\",\"feat_2a_250Hz_30_2/feat_right_A06T_30.txt\",\"feat_2a_250Hz_30_2/feat_left_A09T_30.txt\",\"feat_2a_250Hz_30_2/feat_right_A09T_30.txt\")\n",
    "temp_l = np.array([temp,temp1,temp2])\n",
    "probability = np.append(probability,temp_l,axis=0)\n",
    "temp,temp1,temp2 = SGRM_test(\"feat_2a_250Hz_25/feat_left_A03T_25_K0.txt\",\"feat_2a_250Hz_25/feat_right_A03T_25_K0.txt\",\"feat_2a_250Hz_25/feat_test_left_A03T_25.txt\",\"feat_2a_250Hz_25/feat_test_right_A03T_25.txt\"\n",
    "                           ,\"feat_2a_250Hz_30_2/feat_left_A02T_30.txt\",\"feat_2a_250Hz_30_2/feat_right_A02T_30.txt\",\"feat_2a_250Hz_30_2/feat_left_A01T_30.txt\",\"feat_2a_250Hz_30_2/feat_right_A01T_30.txt\"\n",
    "                           ,\"feat_2a_250Hz_30_2/feat_left_A06T_30.txt\",\"feat_2a_250Hz_30_2/feat_right_A06T_30.txt\",\"feat_2a_250Hz_30_2/feat_left_A09T_30.txt\",\"feat_2a_250Hz_30_2/feat_right_A09T_30.txt\")\n",
    "temp_l = np.array([temp,temp1,temp2])\n",
    "probability = np.append(probability,temp_l,axis=0)\n",
    "temp,temp1,temp2 = SGRM_test(\"feat_2a_250Hz_25/feat_left_A07T_25_K0.txt\",\"feat_2a_250Hz_25/feat_right_A07T_25_K0.txt\",\"feat_2a_250Hz_25/feat_test_left_A07T_25.txt\",\"feat_2a_250Hz_25/feat_test_right_A07T_25.txt\"\n",
    "                           ,\"feat_2a_250Hz_30_2/feat_left_A02T_30.txt\",\"feat_2a_250Hz_30_2/feat_right_A02T_30.txt\",\"feat_2a_250Hz_30_2/feat_left_A03T_30.txt\",\"feat_2a_250Hz_30_2/feat_right_A03T_30.txt\"\n",
    "                           ,\"feat_2a_250Hz_30_2/feat_left_A01T_30.txt\",\"feat_2a_250Hz_30_2/feat_right_A01T_30.txt\",\"feat_2a_250Hz_30_2/feat_left_A09T_30.txt\",\"feat_2a_250Hz_30_2/feat_right_A09T_30.txt\")\n",
    "temp_l = np.array([temp,temp1,temp2])\n",
    "probability = np.append(probability,temp_l,axis=0)\n",
    "temp,temp1,temp2 = SGRM_test(\"feat_2a_250Hz_25/feat_left_A08T_25_K0.txt\",\"feat_2a_250Hz_25/feat_right_A08T_25_K0.txt\",\"feat_2a_250Hz_25/feat_test_left_A08T_25.txt\",\"feat_2a_250Hz_25/feat_test_right_A08T_25.txt\"\n",
    "                           ,\"feat_2a_250Hz_30_2/feat_left_A02T_30.txt\",\"feat_2a_250Hz_30_2/feat_right_A02T_30.txt\",\"feat_2a_250Hz_30_2/feat_left_A03T_30.txt\",\"feat_2a_250Hz_30_2/feat_right_A03T_30.txt\"\n",
    "                           ,\"feat_2a_250Hz_30_2/feat_left_A01T_30.txt\",\"feat_2a_250Hz_30_2/feat_right_A01T_30.txt\",\"feat_2a_250Hz_30_2/feat_left_A09T_30.txt\",\"feat_2a_250Hz_30_2/feat_right_A09T_30.txt\")\n",
    "temp_l = np.array([temp,temp1,temp2])\n",
    "probability = np.append(probability,temp_l,axis=0)\n",
    "temp,temp1,temp2 = SGRM_test(\"feat_2a_250Hz_25/feat_left_A09T_25_K0.txt\",\"feat_2a_250Hz_25/feat_right_A09T_25_K0.txt\",\"feat_2a_250Hz_25/feat_test_left_A09T_25.txt\",\"feat_2a_250Hz_25/feat_test_right_A09T_25.txt\"\n",
    "                           ,\"feat_2a_250Hz_30_2/feat_left_A02T_30.txt\",\"feat_2a_250Hz_30_2/feat_right_A02T_30.txt\",\"feat_2a_250Hz_30_2/feat_left_A03T_30.txt\",\"feat_2a_250Hz_30_2/feat_right_A03T_30.txt\"\n",
    "                           ,\"feat_2a_250Hz_30_2/feat_left_A01T_30.txt\",\"feat_2a_250Hz_30_2/feat_right_A01T_30.txt\",\"feat_2a_250Hz_30_2/feat_left_A06T_30.txt\",\"feat_2a_250Hz_30_2/feat_right_A06T_30.txt\")\n",
    "temp_l = np.array([temp,temp1,temp2])\n",
    "probability = np.append(probability,temp_l,axis=0)\n",
    "\n",
    "probability_2 = probability.reshape([6, 3])\n",
    "print(probability_2)"
   ]
  },
  {
   "cell_type": "code",
   "execution_count": 7,
   "metadata": {},
   "outputs": [
    {
     "name": "stdout",
     "output_type": "stream",
     "text": [
      "[[ 45.    80.    10.  ]\n",
      " [ 50.   100.     0.  ]\n",
      " [ 52.5    5.   100.  ]\n",
      " [ 51.25  67.5   35.  ]\n",
      " [ 55.    75.    35.  ]\n",
      " [ 54.    60.    48.  ]]\n"
     ]
    }
   ],
   "source": [
    "#train=20,test=40で分類を行った結果\n",
    "probability = np.array([])\n",
    "temp,temp1,temp2 = SGRM_test(\"feat_2a_250Hz_25/feat_left_A01T_25_K0.txt\",\"feat_2a_250Hz_25/feat_right_A01T_25_K0.txt\",\"feat_2a_250Hz_25/feat_test_left_A01T_25.txt\",\"feat_2a_250Hz_25/feat_test_right_A01T_25.txt\"\n",
    "                           ,\"feat_2a_250Hz_30_3/feat_left_A02T_30.txt\",\"feat_2a_250Hz_30_3/feat_right_A02T_30.txt\",\"feat_2a_250Hz_30_3/feat_left_A03T_30.txt\",\"feat_2a_250Hz_30_3/feat_right_A03T_30.txt\"\n",
    "                           ,\"feat_2a_250Hz_30_3/feat_left_A06T_30.txt\",\"feat_2a_250Hz_30_3/feat_right_A06T_30.txt\",\"feat_2a_250Hz_30_3/feat_left_A09T_30.txt\",\"feat_2a_250Hz_30_3/feat_right_A09T_30.txt\")\n",
    "temp_l = np.array([temp,temp1,temp2])\n",
    "probability = np.append(probability,temp_l,axis=0)\n",
    "temp,temp1,temp2 = SGRM_test(\"feat_2a_250Hz_25/feat_left_A02T_25_K0.txt\",\"feat_2a_250Hz_25/feat_right_A02T_25_K0.txt\",\"feat_2a_250Hz_25/feat_test_left_A02T_25.txt\",\"feat_2a_250Hz_25/feat_test_right_A02T_25.txt\"\n",
    "                           ,\"feat_2a_250Hz_30_3/feat_left_A01T_30.txt\",\"feat_2a_250Hz_30_3/feat_right_A01T_30.txt\",\"feat_2a_250Hz_30_3/feat_left_A03T_30.txt\",\"feat_2a_250Hz_30_3/feat_right_A03T_30.txt\"\n",
    "                           ,\"feat_2a_250Hz_30_3/feat_left_A06T_30.txt\",\"feat_2a_250Hz_30_3/feat_right_A06T_30.txt\",\"feat_2a_250Hz_30_3/feat_left_A09T_30.txt\",\"feat_2a_250Hz_30_3/feat_right_A09T_30.txt\")\n",
    "temp_l = np.array([temp,temp1,temp2])\n",
    "probability = np.append(probability,temp_l,axis=0)\n",
    "temp,temp1,temp2 = SGRM_test(\"feat_2a_250Hz_25/feat_left_A03T_25_K0.txt\",\"feat_2a_250Hz_25/feat_right_A03T_25_K0.txt\",\"feat_2a_250Hz_25/feat_test_left_A03T_25.txt\",\"feat_2a_250Hz_25/feat_test_right_A03T_25.txt\"\n",
    "                           ,\"feat_2a_250Hz_30_3/feat_left_A02T_30.txt\",\"feat_2a_250Hz_30_3/feat_right_A02T_30.txt\",\"feat_2a_250Hz_30_3/feat_left_A01T_30.txt\",\"feat_2a_250Hz_30_3/feat_right_A01T_30.txt\"\n",
    "                           ,\"feat_2a_250Hz_30_3/feat_left_A06T_30.txt\",\"feat_2a_250Hz_30_3/feat_right_A06T_30.txt\",\"feat_2a_250Hz_30_3/feat_left_A09T_30.txt\",\"feat_2a_250Hz_30_3/feat_right_A09T_30.txt\")\n",
    "temp_l = np.array([temp,temp1,temp2])\n",
    "probability = np.append(probability,temp_l,axis=0)\n",
    "temp,temp1,temp2 = SGRM_test(\"feat_2a_250Hz_25/feat_left_A07T_25_K0.txt\",\"feat_2a_250Hz_25/feat_right_A07T_25_K0.txt\",\"feat_2a_250Hz_25/feat_test_left_A07T_25.txt\",\"feat_2a_250Hz_25/feat_test_right_A07T_25.txt\"\n",
    "                           ,\"feat_2a_250Hz_30_3/feat_left_A02T_30.txt\",\"feat_2a_250Hz_30_3/feat_right_A02T_30.txt\",\"feat_2a_250Hz_30_3/feat_left_A03T_30.txt\",\"feat_2a_250Hz_30_3/feat_right_A03T_30.txt\"\n",
    "                           ,\"feat_2a_250Hz_30_3/feat_left_A01T_30.txt\",\"feat_2a_250Hz_30_3/feat_right_A01T_30.txt\",\"feat_2a_250Hz_30_3/feat_left_A09T_30.txt\",\"feat_2a_250Hz_30_3/feat_right_A09T_30.txt\")\n",
    "temp_l = np.array([temp,temp1,temp2])\n",
    "probability = np.append(probability,temp_l,axis=0)\n",
    "temp,temp1,temp2 = SGRM_test(\"feat_2a_250Hz_25/feat_left_A08T_25_K0.txt\",\"feat_2a_250Hz_25/feat_right_A08T_25_K0.txt\",\"feat_2a_250Hz_25/feat_test_left_A08T_25.txt\",\"feat_2a_250Hz_25/feat_test_right_A08T_25.txt\"\n",
    "                           ,\"feat_2a_250Hz_30_3/feat_left_A02T_30.txt\",\"feat_2a_250Hz_30_3/feat_right_A02T_30.txt\",\"feat_2a_250Hz_30_3/feat_left_A03T_30.txt\",\"feat_2a_250Hz_30_3/feat_right_A03T_30.txt\"\n",
    "                           ,\"feat_2a_250Hz_30_3/feat_left_A01T_30.txt\",\"feat_2a_250Hz_30_3/feat_right_A01T_30.txt\",\"feat_2a_250Hz_30_3/feat_left_A09T_30.txt\",\"feat_2a_250Hz_30_3/feat_right_A09T_30.txt\")\n",
    "temp_l = np.array([temp,temp1,temp2])\n",
    "probability = np.append(probability,temp_l,axis=0)\n",
    "temp,temp1,temp2 = SGRM_test(\"feat_2a_250Hz_25/feat_left_A09T_25_K0.txt\",\"feat_2a_250Hz_25/feat_right_A09T_25_K0.txt\",\"feat_2a_250Hz_25/feat_test_left_A09T_25.txt\",\"feat_2a_250Hz_25/feat_test_right_A09T_25.txt\"\n",
    "                           ,\"feat_2a_250Hz_30_3/feat_left_A02T_30.txt\",\"feat_2a_250Hz_30_3/feat_right_A02T_30.txt\",\"feat_2a_250Hz_30_3/feat_left_A03T_30.txt\",\"feat_2a_250Hz_30_3/feat_right_A03T_30.txt\"\n",
    "                           ,\"feat_2a_250Hz_30_3/feat_left_A01T_30.txt\",\"feat_2a_250Hz_30_3/feat_right_A01T_30.txt\",\"feat_2a_250Hz_30_3/feat_left_A06T_30.txt\",\"feat_2a_250Hz_30_3/feat_right_A06T_30.txt\")\n",
    "temp_l = np.array([temp,temp1,temp2])\n",
    "probability = np.append(probability,temp_l,axis=0)\n",
    "\n",
    "probability_3 = probability.reshape([6, 3])\n",
    "print(probability_3)"
   ]
  },
  {
   "cell_type": "code",
   "execution_count": 8,
   "metadata": {},
   "outputs": [
    {
     "name": "stdout",
     "output_type": "stream",
     "text": [
      "[[ 47.5         89.16666667   5.83333333]\n",
      " [ 52.5         99.16666667   5.83333333]\n",
      " [ 50.83333333   1.66666667 100.        ]\n",
      " [ 51.66666667  54.16666667  49.16666667]\n",
      " [ 52.91666667  50.          55.83333333]\n",
      " [ 54.          77.33333333  30.66666667]]\n"
     ]
    }
   ],
   "source": [
    "p_average_250Hz = (probability_1+probability_2+probability_3)/3\n",
    "print(p_average_250Hz)"
   ]
  },
  {
   "cell_type": "code",
   "execution_count": 9,
   "metadata": {},
   "outputs": [
    {
     "name": "stdout",
     "output_type": "stream",
     "text": [
      "[[ 51.25  12.5   90.  ]\n",
      " [ 43.75  55.    32.5 ]\n",
      " [ 50.     0.   100.  ]\n",
      " [ 50.     0.   100.  ]\n",
      " [ 50.   100.     0.  ]\n",
      " [ 52.    36.    68.  ]]\n"
     ]
    }
   ],
   "source": [
    "#train=20,test=40で分類を行った結果\n",
    "probability = np.array([])\n",
    "temp,temp1,temp2 = SGRM_test(\"feat_2a_125Hz_25/feat_left_A01T_25_K0.txt\",\"feat_2a_125Hz_25/feat_right_A01T_25_K0.txt\",\"feat_2a_125Hz_25/feat_test_left_A01T_25.txt\",\"feat_2a_125Hz_25/feat_test_right_A01T_25.txt\"\n",
    "                           ,\"feat_2a_125Hz_30/feat_left_A02T_30.txt\",\"feat_2a_125Hz_30/feat_right_A02T_30.txt\",\"feat_2a_125Hz_30/feat_left_A03T_30.txt\",\"feat_2a_125Hz_30/feat_right_A03T_30.txt\"\n",
    "                           ,\"feat_2a_125Hz_30/feat_left_A06T_30.txt\",\"feat_2a_125Hz_30/feat_right_A06T_30.txt\",\"feat_2a_125Hz_30/feat_left_A09T_30.txt\",\"feat_2a_125Hz_30/feat_right_A09T_30.txt\")\n",
    "temp_l = np.array([temp,temp1,temp2])\n",
    "probability = np.append(probability,temp_l,axis=0)\n",
    "temp,temp1,temp2 = SGRM_test(\"feat_2a_125Hz_25/feat_left_A02T_25_K0.txt\",\"feat_2a_125Hz_25/feat_right_A02T_25_K0.txt\",\"feat_2a_125Hz_25/feat_test_left_A02T_25.txt\",\"feat_2a_125Hz_25/feat_test_right_A02T_25.txt\"\n",
    "                           ,\"feat_2a_125Hz_30/feat_left_A01T_30.txt\",\"feat_2a_125Hz_30/feat_right_A01T_30.txt\",\"feat_2a_125Hz_30/feat_left_A03T_30.txt\",\"feat_2a_125Hz_30/feat_right_A03T_30.txt\"\n",
    "                           ,\"feat_2a_125Hz_30/feat_left_A06T_30.txt\",\"feat_2a_125Hz_30/feat_right_A06T_30.txt\",\"feat_2a_125Hz_30/feat_left_A09T_30.txt\",\"feat_2a_125Hz_30/feat_right_A09T_30.txt\")\n",
    "temp_l = np.array([temp,temp1,temp2])\n",
    "probability = np.append(probability,temp_l,axis=0)\n",
    "temp,temp1,temp2 = SGRM_test(\"feat_2a_125Hz_25/feat_left_A03T_25_K0.txt\",\"feat_2a_125Hz_25/feat_right_A03T_25_K0.txt\",\"feat_2a_125Hz_25/feat_test_left_A03T_25.txt\",\"feat_2a_125Hz_25/feat_test_right_A03T_25.txt\"\n",
    "                           ,\"feat_2a_125Hz_30/feat_left_A01T_30.txt\",\"feat_2a_125Hz_30/feat_right_A01T_30.txt\",\"feat_2a_125Hz_30/feat_left_A02T_30.txt\",\"feat_2a_125Hz_30/feat_right_A02T_30.txt\"\n",
    "                           ,\"feat_2a_125Hz_30/feat_left_A06T_30.txt\",\"feat_2a_125Hz_30/feat_right_A06T_30.txt\",\"feat_2a_125Hz_30/feat_left_A09T_30.txt\",\"feat_2a_125Hz_30/feat_right_A09T_30.txt\")\n",
    "temp_l = np.array([temp,temp1,temp2])\n",
    "probability = np.append(probability,temp_l,axis=0)\n",
    "temp,temp1,temp2 = SGRM_test(\"feat_2a_125Hz_25/feat_left_A07T_25_K0.txt\",\"feat_2a_125Hz_25/feat_right_A07T_25_K0.txt\",\"feat_2a_125Hz_25/feat_test_left_A07T_25.txt\",\"feat_2a_125Hz_25/feat_test_right_A07T_25.txt\"\n",
    "                           ,\"feat_2a_125Hz_30/feat_left_A01T_30.txt\",\"feat_2a_125Hz_30/feat_right_A01T_30.txt\",\"feat_2a_125Hz_30/feat_left_A03T_30.txt\",\"feat_2a_125Hz_30/feat_right_A03T_30.txt\"\n",
    "                           ,\"feat_2a_125Hz_30/feat_left_A02T_30.txt\",\"feat_2a_125Hz_30/feat_right_A02T_30.txt\",\"feat_2a_125Hz_30/feat_left_A09T_30.txt\",\"feat_2a_125Hz_30/feat_right_A09T_30.txt\")\n",
    "temp_l = np.array([temp,temp1,temp2])\n",
    "probability = np.append(probability,temp_l,axis=0)\n",
    "temp,temp1,temp2 = SGRM_test(\"feat_2a_125Hz_25/feat_left_A08T_25_K0.txt\",\"feat_2a_125Hz_25/feat_right_A08T_25_K0.txt\",\"feat_2a_125Hz_25/feat_test_left_A08T_25.txt\",\"feat_2a_125Hz_25/feat_test_right_A08T_25.txt\"\n",
    "                           ,\"feat_2a_125Hz_30/feat_left_A01T_30.txt\",\"feat_2a_125Hz_30/feat_right_A01T_30.txt\",\"feat_2a_125Hz_30/feat_left_A03T_30.txt\",\"feat_2a_125Hz_30/feat_right_A03T_30.txt\"\n",
    "                           ,\"feat_2a_125Hz_30/feat_left_A02T_30.txt\",\"feat_2a_125Hz_30/feat_right_A02T_30.txt\",\"feat_2a_125Hz_30/feat_left_A09T_30.txt\",\"feat_2a_125Hz_30/feat_right_A09T_30.txt\")\n",
    "temp_l = np.array([temp,temp1,temp2])\n",
    "probability = np.append(probability,temp_l,axis=0)\n",
    "temp,temp1,temp2 = SGRM_test(\"feat_2a_125Hz_25/feat_left_A09T_25_K0.txt\",\"feat_2a_125Hz_25/feat_right_A09T_25_K0.txt\",\"feat_2a_125Hz_25/feat_test_left_A09T_25.txt\",\"feat_2a_125Hz_25/feat_test_right_A09T_25.txt\"\n",
    "                           ,\"feat_2a_125Hz_30/feat_left_A01T_30.txt\",\"feat_2a_125Hz_30/feat_right_A01T_30.txt\",\"feat_2a_125Hz_30/feat_left_A03T_30.txt\",\"feat_2a_125Hz_30/feat_right_A03T_30.txt\"\n",
    "                           ,\"feat_2a_125Hz_30/feat_left_A02T_30.txt\",\"feat_2a_125Hz_30/feat_right_A02T_30.txt\",\"feat_2a_125Hz_30/feat_left_A06T_30.txt\",\"feat_2a_125Hz_30/feat_right_A06T_30.txt\")\n",
    "temp_l = np.array([temp,temp1,temp2])\n",
    "probability = np.append(probability,temp_l,axis=0)\n",
    "\n",
    "probability_1 = probability.reshape([6, 3])\n",
    "print(probability_1)"
   ]
  },
  {
   "cell_type": "code",
   "execution_count": 10,
   "metadata": {},
   "outputs": [
    {
     "name": "stdout",
     "output_type": "stream",
     "text": [
      "[[ 40.   15.   65. ]\n",
      " [ 45.   42.5  47.5]\n",
      " [ 55.   15.   95. ]\n",
      " [ 50.    0.  100. ]\n",
      " [ 55.   95.   15. ]\n",
      " [ 52.   28.   76. ]]\n"
     ]
    }
   ],
   "source": [
    "#train=20,test=40で分類を行った結果\n",
    "probability = np.array([])\n",
    "temp,temp1,temp2 = SGRM_test(\"feat_2a_125Hz_25/feat_left_A01T_25_K0.txt\",\"feat_2a_125Hz_25/feat_right_A01T_25_K0.txt\",\"feat_2a_125Hz_25/feat_test_left_A01T_25.txt\",\"feat_2a_125Hz_25/feat_test_right_A01T_25.txt\"\n",
    "                           ,\"feat_2a_125Hz_30_2/feat_left_A02T_30.txt\",\"feat_2a_125Hz_30_2/feat_right_A02T_30.txt\",\"feat_2a_125Hz_30_2/feat_left_A03T_30.txt\",\"feat_2a_125Hz_30_2/feat_right_A03T_30.txt\"\n",
    "                           ,\"feat_2a_125Hz_30_2/feat_left_A06T_30.txt\",\"feat_2a_125Hz_30_2/feat_right_A06T_30.txt\",\"feat_2a_125Hz_30_2/feat_left_A09T_30.txt\",\"feat_2a_125Hz_30_2/feat_right_A09T_30.txt\")\n",
    "temp_l = np.array([temp,temp1,temp2])\n",
    "probability = np.append(probability,temp_l,axis=0)\n",
    "temp,temp1,temp2 = SGRM_test(\"feat_2a_125Hz_25/feat_left_A02T_25_K0.txt\",\"feat_2a_125Hz_25/feat_right_A02T_25_K0.txt\",\"feat_2a_125Hz_25/feat_test_left_A02T_25.txt\",\"feat_2a_125Hz_25/feat_test_right_A02T_25.txt\"\n",
    "                           ,\"feat_2a_125Hz_30_2/feat_left_A01T_30.txt\",\"feat_2a_125Hz_30_2/feat_right_A01T_30.txt\",\"feat_2a_125Hz_30_2/feat_left_A03T_30.txt\",\"feat_2a_125Hz_30_2/feat_right_A03T_30.txt\"\n",
    "                           ,\"feat_2a_125Hz_30_2/feat_left_A06T_30.txt\",\"feat_2a_125Hz_30_2/feat_right_A06T_30.txt\",\"feat_2a_125Hz_30_2/feat_left_A09T_30.txt\",\"feat_2a_125Hz_30_2/feat_right_A09T_30.txt\")\n",
    "temp_l = np.array([temp,temp1,temp2])\n",
    "probability = np.append(probability,temp_l,axis=0)\n",
    "temp,temp1,temp2 = SGRM_test(\"feat_2a_125Hz_25/feat_left_A03T_25_K0.txt\",\"feat_2a_125Hz_25/feat_right_A03T_25_K0.txt\",\"feat_2a_125Hz_25/feat_test_left_A03T_25.txt\",\"feat_2a_125Hz_25/feat_test_right_A03T_25.txt\"\n",
    "                           ,\"feat_2a_125Hz_30_2/feat_left_A01T_30.txt\",\"feat_2a_125Hz_30_2/feat_right_A01T_30.txt\",\"feat_2a_125Hz_30_2/feat_left_A02T_30.txt\",\"feat_2a_125Hz_30_2/feat_right_A02T_30.txt\"\n",
    "                           ,\"feat_2a_125Hz_30_2/feat_left_A06T_30.txt\",\"feat_2a_125Hz_30_2/feat_right_A06T_30.txt\",\"feat_2a_125Hz_30_2/feat_left_A09T_30.txt\",\"feat_2a_125Hz_30_2/feat_right_A09T_30.txt\")\n",
    "temp_l = np.array([temp,temp1,temp2])\n",
    "probability = np.append(probability,temp_l,axis=0)\n",
    "temp,temp1,temp2 = SGRM_test(\"feat_2a_125Hz_25/feat_left_A07T_25_K0.txt\",\"feat_2a_125Hz_25/feat_right_A07T_25_K0.txt\",\"feat_2a_125Hz_25/feat_test_left_A07T_25.txt\",\"feat_2a_125Hz_25/feat_test_right_A07T_25.txt\"\n",
    "                           ,\"feat_2a_125Hz_30_2/feat_left_A01T_30.txt\",\"feat_2a_125Hz_30_2/feat_right_A01T_30.txt\",\"feat_2a_125Hz_30_2/feat_left_A03T_30.txt\",\"feat_2a_125Hz_30_2/feat_right_A03T_30.txt\"\n",
    "                           ,\"feat_2a_125Hz_30_2/feat_left_A02T_30.txt\",\"feat_2a_125Hz_30_2/feat_right_A02T_30.txt\",\"feat_2a_125Hz_30_2/feat_left_A09T_30.txt\",\"feat_2a_125Hz_30_2/feat_right_A09T_30.txt\")\n",
    "temp_l = np.array([temp,temp1,temp2])\n",
    "probability = np.append(probability,temp_l,axis=0)\n",
    "temp,temp1,temp2 = SGRM_test(\"feat_2a_125Hz_25/feat_left_A08T_25_K0.txt\",\"feat_2a_125Hz_25/feat_right_A08T_25_K0.txt\",\"feat_2a_125Hz_25/feat_test_left_A08T_25.txt\",\"feat_2a_125Hz_25/feat_test_right_A08T_25.txt\"\n",
    "                           ,\"feat_2a_125Hz_30_2/feat_left_A01T_30.txt\",\"feat_2a_125Hz_30_2/feat_right_A01T_30.txt\",\"feat_2a_125Hz_30_2/feat_left_A03T_30.txt\",\"feat_2a_125Hz_30_2/feat_right_A03T_30.txt\"\n",
    "                           ,\"feat_2a_125Hz_30_2/feat_left_A02T_30.txt\",\"feat_2a_125Hz_30_2/feat_right_A02T_30.txt\",\"feat_2a_125Hz_30_2/feat_left_A09T_30.txt\",\"feat_2a_125Hz_30_2/feat_right_A09T_30.txt\")\n",
    "temp_l = np.array([temp,temp1,temp2])\n",
    "probability = np.append(probability,temp_l,axis=0)\n",
    "temp,temp1,temp2 = SGRM_test(\"feat_2a_125Hz_25/feat_left_A09T_25_K0.txt\",\"feat_2a_125Hz_25/feat_right_A09T_25_K0.txt\",\"feat_2a_125Hz_25/feat_test_left_A09T_25.txt\",\"feat_2a_125Hz_25/feat_test_right_A09T_25.txt\"\n",
    "                           ,\"feat_2a_125Hz_30_2/feat_left_A01T_30.txt\",\"feat_2a_125Hz_30_2/feat_right_A01T_30.txt\",\"feat_2a_125Hz_30_2/feat_left_A03T_30.txt\",\"feat_2a_125Hz_30_2/feat_right_A03T_30.txt\"\n",
    "                           ,\"feat_2a_125Hz_30_2/feat_left_A02T_30.txt\",\"feat_2a_125Hz_30_2/feat_right_A02T_30.txt\",\"feat_2a_125Hz_30_2/feat_left_A06T_30.txt\",\"feat_2a_125Hz_30_2/feat_right_A06T_30.txt\")\n",
    "temp_l = np.array([temp,temp1,temp2])\n",
    "probability = np.append(probability,temp_l,axis=0)\n",
    "\n",
    "probability_2 = probability.reshape([6, 3])\n",
    "print(probability_2)"
   ]
  },
  {
   "cell_type": "code",
   "execution_count": 11,
   "metadata": {},
   "outputs": [
    {
     "name": "stdout",
     "output_type": "stream",
     "text": [
      "[[ 46.25   7.5   85.  ]\n",
      " [ 51.25  42.5   60.  ]\n",
      " [ 52.5    7.5   97.5 ]\n",
      " [ 50.     0.   100.  ]\n",
      " [ 50.    97.5    2.5 ]\n",
      " [ 48.     4.    92.  ]]\n"
     ]
    }
   ],
   "source": [
    "#train=20,test=40で分類を行った結果\n",
    "probability = np.array([])\n",
    "temp,temp1,temp2 = SGRM_test(\"feat_2a_125Hz_25/feat_left_A01T_25_K0.txt\",\"feat_2a_125Hz_25/feat_right_A01T_25_K0.txt\",\"feat_2a_125Hz_25/feat_test_left_A01T_25.txt\",\"feat_2a_125Hz_25/feat_test_right_A01T_25.txt\"\n",
    "                           ,\"feat_2a_125Hz_30_3/feat_left_A02T_30.txt\",\"feat_2a_125Hz_30_3/feat_right_A02T_30.txt\",\"feat_2a_125Hz_30_3/feat_left_A03T_30.txt\",\"feat_2a_125Hz_30_3/feat_right_A03T_30.txt\"\n",
    "                           ,\"feat_2a_125Hz_30_3/feat_left_A06T_30.txt\",\"feat_2a_125Hz_30_3/feat_right_A06T_30.txt\",\"feat_2a_125Hz_30_3/feat_left_A09T_30.txt\",\"feat_2a_125Hz_30_3/feat_right_A09T_30.txt\")\n",
    "temp_l = np.array([temp,temp1,temp2])\n",
    "probability = np.append(probability,temp_l,axis=0)\n",
    "temp,temp1,temp2 = SGRM_test(\"feat_2a_125Hz_25/feat_left_A02T_25_K0.txt\",\"feat_2a_125Hz_25/feat_right_A02T_25_K0.txt\",\"feat_2a_125Hz_25/feat_test_left_A02T_25.txt\",\"feat_2a_125Hz_25/feat_test_right_A02T_25.txt\"\n",
    "                           ,\"feat_2a_125Hz_30_3/feat_left_A01T_30.txt\",\"feat_2a_125Hz_30_3/feat_right_A01T_30.txt\",\"feat_2a_125Hz_30_3/feat_left_A03T_30.txt\",\"feat_2a_125Hz_30_3/feat_right_A03T_30.txt\"\n",
    "                           ,\"feat_2a_125Hz_30_3/feat_left_A06T_30.txt\",\"feat_2a_125Hz_30_3/feat_right_A06T_30.txt\",\"feat_2a_125Hz_30_3/feat_left_A09T_30.txt\",\"feat_2a_125Hz_30_3/feat_right_A09T_30.txt\")\n",
    "temp_l = np.array([temp,temp1,temp2])\n",
    "probability = np.append(probability,temp_l,axis=0)\n",
    "temp,temp1,temp2 = SGRM_test(\"feat_2a_125Hz_25/feat_left_A03T_25_K0.txt\",\"feat_2a_125Hz_25/feat_right_A03T_25_K0.txt\",\"feat_2a_125Hz_25/feat_test_left_A03T_25.txt\",\"feat_2a_125Hz_25/feat_test_right_A03T_25.txt\"\n",
    "                           ,\"feat_2a_125Hz_30_3/feat_left_A01T_30.txt\",\"feat_2a_125Hz_30_3/feat_right_A01T_30.txt\",\"feat_2a_125Hz_30_3/feat_left_A02T_30.txt\",\"feat_2a_125Hz_30_3/feat_right_A02T_30.txt\"\n",
    "                           ,\"feat_2a_125Hz_30_3/feat_left_A06T_30.txt\",\"feat_2a_125Hz_30_3/feat_right_A06T_30.txt\",\"feat_2a_125Hz_30_3/feat_left_A09T_30.txt\",\"feat_2a_125Hz_30_3/feat_right_A09T_30.txt\")\n",
    "temp_l = np.array([temp,temp1,temp2])\n",
    "probability = np.append(probability,temp_l,axis=0)\n",
    "temp,temp1,temp2 = SGRM_test(\"feat_2a_125Hz_25/feat_left_A07T_25_K0.txt\",\"feat_2a_125Hz_25/feat_right_A07T_25_K0.txt\",\"feat_2a_125Hz_25/feat_test_left_A07T_25.txt\",\"feat_2a_125Hz_25/feat_test_right_A07T_25.txt\"\n",
    "                           ,\"feat_2a_125Hz_30_3/feat_left_A01T_30.txt\",\"feat_2a_125Hz_30_3/feat_right_A01T_30.txt\",\"feat_2a_125Hz_30_3/feat_left_A03T_30.txt\",\"feat_2a_125Hz_30_3/feat_right_A03T_30.txt\"\n",
    "                           ,\"feat_2a_125Hz_30_3/feat_left_A02T_30.txt\",\"feat_2a_125Hz_30_3/feat_right_A02T_30.txt\",\"feat_2a_125Hz_30_3/feat_left_A09T_30.txt\",\"feat_2a_125Hz_30_3/feat_right_A09T_30.txt\")\n",
    "temp_l = np.array([temp,temp1,temp2])\n",
    "probability = np.append(probability,temp_l,axis=0)\n",
    "temp,temp1,temp2 = SGRM_test(\"feat_2a_125Hz_25/feat_left_A08T_25_K0.txt\",\"feat_2a_125Hz_25/feat_right_A08T_25_K0.txt\",\"feat_2a_125Hz_25/feat_test_left_A08T_25.txt\",\"feat_2a_125Hz_25/feat_test_right_A08T_25.txt\"\n",
    "                           ,\"feat_2a_125Hz_30_3/feat_left_A01T_30.txt\",\"feat_2a_125Hz_30_3/feat_right_A01T_30.txt\",\"feat_2a_125Hz_30_3/feat_left_A03T_30.txt\",\"feat_2a_125Hz_30_3/feat_right_A03T_30.txt\"\n",
    "                           ,\"feat_2a_125Hz_30_3/feat_left_A02T_30.txt\",\"feat_2a_125Hz_30_3/feat_right_A02T_30.txt\",\"feat_2a_125Hz_30_3/feat_left_A09T_30.txt\",\"feat_2a_125Hz_30_3/feat_right_A09T_30.txt\")\n",
    "temp_l = np.array([temp,temp1,temp2])\n",
    "probability = np.append(probability,temp_l,axis=0)\n",
    "temp,temp1,temp2 = SGRM_test(\"feat_2a_125Hz_25/feat_left_A09T_25_K0.txt\",\"feat_2a_125Hz_25/feat_right_A09T_25_K0.txt\",\"feat_2a_125Hz_25/feat_test_left_A09T_25.txt\",\"feat_2a_125Hz_25/feat_test_right_A09T_25.txt\"\n",
    "                           ,\"feat_2a_125Hz_30_3/feat_left_A01T_30.txt\",\"feat_2a_125Hz_30_3/feat_right_A01T_30.txt\",\"feat_2a_125Hz_30_3/feat_left_A03T_30.txt\",\"feat_2a_125Hz_30_3/feat_right_A03T_30.txt\"\n",
    "                           ,\"feat_2a_125Hz_30_3/feat_left_A02T_30.txt\",\"feat_2a_125Hz_30_3/feat_right_A02T_30.txt\",\"feat_2a_125Hz_30_3/feat_left_A06T_30.txt\",\"feat_2a_125Hz_30_3/feat_right_A06T_30.txt\")\n",
    "temp_l = np.array([temp,temp1,temp2])\n",
    "probability = np.append(probability,temp_l,axis=0)\n",
    "\n",
    "probability_3 = probability.reshape([6, 3])\n",
    "print(probability_3)"
   ]
  },
  {
   "cell_type": "code",
   "execution_count": 12,
   "metadata": {},
   "outputs": [
    {
     "name": "stdout",
     "output_type": "stream",
     "text": [
      "[[ 45.83333333  11.66666667  80.        ]\n",
      " [ 46.66666667  46.66666667  46.66666667]\n",
      " [ 52.5          7.5         97.5       ]\n",
      " [ 50.           0.         100.        ]\n",
      " [ 51.66666667  97.5          5.83333333]\n",
      " [ 50.66666667  22.66666667  78.66666667]]\n"
     ]
    }
   ],
   "source": [
    "p_average_125Hz = (probability_1+probability_2+probability_3)/3\n",
    "print(p_average_125Hz)"
   ]
  },
  {
   "cell_type": "code",
   "execution_count": 13,
   "metadata": {},
   "outputs": [
    {
     "name": "stdout",
     "output_type": "stream",
     "text": [
      "51.569444444444436 49.55555555555555\n"
     ]
    }
   ],
   "source": [
    "a_20 = 0; a_30 = 0;\n",
    "for i in range(6):\n",
    "    a_20 = a_20 + p_average_250Hz[i,0] \n",
    "    a_30 = a_30 + p_average_125Hz[i,0] \n",
    "    \n",
    "a_20 = a_20/6\n",
    "a_30 = a_30/6\n",
    "print(a_20,a_30)"
   ]
  },
  {
   "cell_type": "code",
   "execution_count": 14,
   "metadata": {},
   "outputs": [
    {
     "name": "stdout",
     "output_type": "stream",
     "text": [
      "[[45.83333333 46.66666667 52.5        50.         51.66666667 50.66666667]\n",
      " [47.5        52.5        50.83333333 51.66666667 52.91666667 54.        ]]\n"
     ]
    },
    {
     "data": {
      "image/png": "[encoded data removed]",
      "text/plain": [
       "<Figure size 432x288 with 1 Axes>"
      ]
     },
     "metadata": {
      "needs_background": "light"
     },
     "output_type": "display_data"
    }
   ],
   "source": [
    "import matplotlib.pyplot as plt\n",
    "import japanize_matplotlib\n",
    "y = np.array([])\n",
    "x = np.arange(1, 7, step=1)\n",
    "y = np.append(p_average_250Hz[:,0],y)\n",
    "y = np.append(p_average_125Hz[:,0],y)\n",
    "y = y.reshape([2,6])\n",
    "print(y)\n",
    "plt.plot(x,y[1],\"red\")\n",
    "plt.plot(x,y[0])\n",
    "plt.title(\"SGRM_Group分類確率\", {\"fontsize\":20})\n",
    "plt.xlabel(\"被験者No.\", {\"fontsize\":15})\n",
    "plt.ylabel(\"分類確率(%)\", {\"fontsize\":15})\n",
    "plt.xticks(np.arange(1, 7, step=1))\n",
    "plt.yticks(np.arange(0, 110, step=10))\n",
    "plt.savefig(\"2a_SGRM_group_probability.pdf\")\n",
    "plt.show()"
   ]
  },
  {
   "cell_type": "code",
   "execution_count": null,
   "metadata": {},
   "outputs": [],
   "source": []
  }
 ],
 "metadata": {
  "kernelspec": {
   "display_name": "Python 3",
   "language": "python",
   "name": "python3"
  },
  "language_info": {
   "codemirror_mode": {
    "name": "ipython",
    "version": 3
   },
   "file_extension": ".py",
   "mimetype": "text/x-python",
   "name": "python",
   "nbconvert_exporter": "python",
   "pygments_lexer": "ipython3",
   "version": "3.7.6"
  }
 },
 "nbformat": 4,
 "nbformat_minor": 5
}
