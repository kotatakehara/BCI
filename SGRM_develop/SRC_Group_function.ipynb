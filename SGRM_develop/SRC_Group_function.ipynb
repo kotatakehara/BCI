{
 "cells": [
  {
   "cell_type": "code",
   "execution_count": 71,
   "id": "d32c6958-3d96-49a1-a006-ff69bb2d0ecb",
   "metadata": {},
   "outputs": [],
   "source": [
    "import numpy as np\n",
    "import matplotlib.pyplot as plt\n",
    "import scipy.io as io\n",
    "import pandas as pd\n",
    "from pandas import DataFrame as dframe\n",
    "import cvxpy as cv"
   ]
  },
  {
   "cell_type": "code",
   "execution_count": 72,
   "id": "93766f76-8055-42d7-8266-87a0c2e24767",
   "metadata": {},
   "outputs": [],
   "source": [
    "def Dic(feat_l_tr,feat_r_tr): #入力の配列は2次元配列である必要がある\n",
    "    feat_tr = np.concatenate([feat_l_tr, feat_r_tr],0)\n",
    "    return feat_tr"
   ]
  },
  {
   "cell_type": "code",
   "execution_count": 73,
   "id": "51f00c1d-5106-459a-a367-c049e243847e",
   "metadata": {},
   "outputs": [],
   "source": [
    "def SRC(feat_tr_dic,feat_l_te,matrix_index):\n",
    "    answer = np.zeros(feat_l_te.shape[1])\n",
    "    SRC_Cla = np.zeros((feat_tr_dic.shape[1], feat_l_te.shape[1]))\n",
    "    SRC_l_Cla = np.zeros((feat_tr_dic.shape[1], feat_l_te.shape[1]))\n",
    "    SRC_r_Cla = np.zeros((feat_tr_dic.shape[1], feat_l_te.shape[1]))\n",
    "    for i in range(feat_l_te.shape[1]):\n",
    "        x = cv.Variable((feat_tr_dic.shape[1],1)) #目的関数の次元\n",
    "        objective = cv.Minimize(cv.norm(x,1))\n",
    "        constraints = [feat_l_te[:,i,np.newaxis] == feat_tr_dic@x]\n",
    "        prob = cv.Problem(objective, constraints)\n",
    "        result = prob.solve()\n",
    "        #classVariableから値を取るためには.valueを付ける\n",
    "        SRC_Cla[:,i] = np.squeeze(x.value)\n",
    "        #各クラスに関連する表現ベクトルの値を抜き出す\n",
    "        #lは仕切りの値\n",
    "        l = 0\n",
    "        j = 0\n",
    "        while j < matrix_index.shape[0]-1:\n",
    "            SRC_l_Cla[l:l+matrix_index[j],i] = SRC_Cla[l:l+matrix_index[j],i]     \n",
    "            l = l + matrix_index[j]\n",
    "            j = j + 1\n",
    "            SRC_r_Cla[l:l+matrix_index[j],i] = SRC_Cla[l:l+matrix_index[j],i]\n",
    "            l = l + matrix_index[j]\n",
    "            j = j + 1\n",
    "    #パラメータを使って擬似的に各クラスのテスト信号の特徴ベクトルを作成\n",
    "    dout_feat_l_te = np.zeros((feat_l_te.shape[0], feat_l_te.shape[1]))\n",
    "    dout_feat_r_te = np.zeros((feat_l_te.shape[0], feat_l_te.shape[1])) \n",
    "    for i in range(feat_l_te.shape[1]):\n",
    "        dout_feat_l_te[:,i] = feat_tr_dic@SRC_l_Cla[:,i]\n",
    "    for i in range(feat_l_te.shape[1]):\n",
    "        dout_feat_r_te[:,i] = feat_tr_dic@SRC_r_Cla[:,i]\n",
    "    #作成した擬似特徴ベクトルとの残差を求める\n",
    "    R_l =  np.zeros((feat_l_te.shape[0], feat_l_te.shape[1])) #残差を格納するための配列\n",
    "    R_r =  np.zeros((feat_l_te.shape[0], feat_l_te.shape[1]))  \n",
    "    for i in range(feat_l_te.shape[1]):\n",
    "        R_l[:,i] = feat_l_te[:,i]-dout_feat_l_te[:,i]\n",
    "        R_r[:,i] = feat_l_te[:,i]-dout_feat_r_te[:,i]\n",
    "        if np.linalg.norm(R_l[:,i], ord=2) < np.linalg.norm(R_r[:,i], ord=2):\n",
    "            answer[i] = 1\n",
    "        elif np.linalg.norm(R_l[:,i], ord=2) > np.linalg.norm(R_r[:,i], ord=2):\n",
    "            answer[i] = 2\n",
    "    return answer"
   ]
  },
  {
   "cell_type": "code",
   "execution_count": 74,
   "id": "de75bed1-9186-40f5-8675-ad153d881d2e",
   "metadata": {},
   "outputs": [],
   "source": [
    "def SRC_test(filename1,filename2,filename3,filename4,C1_K1,C2_K1,C1_K2,C2_K2,C1_K3,C2_K3,C1_K4,C2_K4):\n",
    "    #対象被験者の特徴ベクトルをMATLABから入手\n",
    "    feat_C1 = np.loadtxt(filename1,delimiter=\",\")\n",
    "    feat_C2 = np.loadtxt(filename2,delimiter=\",\")\n",
    "    feat_Test_C1 = np.loadtxt(filename3,delimiter=\",\")\n",
    "    feat_Test_C2 = np.loadtxt(filename4,delimiter=\",\")\n",
    "    #非対象被験者の特徴ベクトルをMATLABから入手\n",
    "    feat_C1_K1 = np.loadtxt(C1_K1,delimiter=\",\")\n",
    "    feat_C2_K1 = np.loadtxt(C2_K1,delimiter=\",\")\n",
    "    feat_C1_K2 = np.loadtxt(C1_K2,delimiter=\",\")\n",
    "    feat_C2_K2 = np.loadtxt(C1_K2,delimiter=\",\")\n",
    "    feat_C1_K3 = np.loadtxt(C1_K3,delimiter=\",\")\n",
    "    feat_C2_K3 = np.loadtxt(C1_K3,delimiter=\",\")\n",
    "    feat_C1_K4 = np.loadtxt(C1_K4,delimiter=\",\")\n",
    "    feat_C2_K4 = np.loadtxt(C1_K4,delimiter=\",\")\n",
    "    #Tは被験者の試行回数である\n",
    "    feat_tr = Dic(feat_C1,feat_C2)\n",
    "    #非対象被験者の特徴ベクトルも同様の処理を行う\n",
    "    feat_tr_K1 = Dic(feat_C1_K1,feat_C2_K1)\n",
    "    feat_tr_K2 = Dic(feat_C1_K2,feat_C2_K2)\n",
    "    feat_tr_K3 = Dic(feat_C1_K3,feat_C2_K3)\n",
    "    feat_tr_K4 = Dic(feat_C1_K4,feat_C2_K4)\n",
    "\n",
    "    #それぞれの特徴ベクトルをつなげる\n",
    "    feat_tr_dic_1 = Dic(feat_tr,feat_tr_K1)\n",
    "    feat_tr_dic_2 = Dic(feat_tr_dic_1,feat_tr_K2)\n",
    "    feat_tr_dic_3 = Dic(feat_tr_dic_2,feat_tr_K3)\n",
    "    feat_tr_dic = Dic(feat_tr_dic_3,feat_tr_K4).T\n",
    "    #feat_tr_dicはすべての特徴ベクトルをつなげたもの\n",
    "    #まず、分類に用いるテストデータの特徴ベクトルを2次元に変換\n",
    "    feat_l_te = feat_Test_C1;\n",
    "    feat_r_te = feat_Test_C2;\n",
    "    feat_l_te = feat_l_te.T\n",
    "    feat_r_te = feat_r_te.T\n",
    "\n",
    "    matrix_index = np.array([feat_C1.shape[0],feat_C2.shape[0],feat_C1_K1.shape[0],feat_C2_K1.shape[0],feat_C1_K2.shape[0],feat_C2_K2.shape[0],\n",
    "                        feat_C1_K3.shape[0],feat_C2_K3.shape[0],feat_C1_K4.shape[0],feat_C2_K4.shape[0]])\n",
    "    answer1 = SRC(feat_tr_dic,feat_l_te,matrix_index)\n",
    "    answer2 = SRC(feat_tr_dic,feat_r_te,matrix_index)\n",
    "    x1 = 0\n",
    "    x2 = 0\n",
    "    for i in range(answer1.shape[0]):\n",
    "        if answer1[i] == 1:\n",
    "            x1 = x1 + 1\n",
    "        if answer2[i] == 2:\n",
    "            x2 = x2 + 1\n",
    "    temp = ((x1+x2)/(answer1.shape[0]+answer2.shape[0]))*100\n",
    "    temp1 = ((x1)/(answer1.shape[0]))*100\n",
    "    temp2 = ((x2)/(answer2.shape[0]))*100\n",
    "                    \n",
    "    return temp,temp1,temp2"
   ]
  },
  {
   "cell_type": "code",
   "execution_count": 75,
   "id": "74503a02-a551-4fb3-aba9-c9288459e49f",
   "metadata": {},
   "outputs": [
    {
     "name": "stdout",
     "output_type": "stream",
     "text": [
      "[[50.         10.         90.        ]\n",
      " [48.75        0.         97.5       ]\n",
      " [55.         42.5        67.5       ]\n",
      " [50.         32.5        67.5       ]\n",
      " [50.          5.         95.        ]\n",
      " [68.33333333 43.33333333 93.33333333]]\n"
     ]
    }
   ],
   "source": [
    "#train=20,test=40で分類を行った結果\n",
    "probability = np.array([])\n",
    "temp,temp1,temp2 = SRC_test(\"feat_2a_250Hz_20/feat_left_A01T_20_K0.txt\",\"feat_2a_250Hz_20/feat_right_A01T_20_K0.txt\",\"feat_2a_250Hz_20/feat_test_left_A01T_20.txt\",\"feat_2a_250Hz_20/feat_test_right_A01T_20.txt\"\n",
    "                           ,\"feat_2a_250Hz_20/feat_left_A02T_20.txt\",\"feat_2a_250Hz_20/feat_right_A02T_20.txt\",\"feat_2a_250Hz_20/feat_left_A03T_20.txt\",\"feat_2a_250Hz_20/feat_right_A03T_20.txt\"\n",
    "                           ,\"feat_2a_250Hz_20/feat_left_A06T_20.txt\",\"feat_2a_250Hz_20/feat_right_A06T_20.txt\",\"feat_2a_250Hz_20/feat_left_A09T_20.txt\",\"feat_2a_250Hz_20/feat_right_A09T_20.txt\")\n",
    "temp_l = np.array([temp,temp1,temp2])\n",
    "probability = np.append(probability,temp_l,axis=0)\n",
    "temp,temp1,temp2 = SRC_test(\"feat_2a_250Hz_20/feat_left_A02T_20_K0.txt\",\"feat_2a_250Hz_20/feat_right_A02T_20_K0.txt\",\"feat_2a_250Hz_20/feat_test_left_A02T_20.txt\",\"feat_2a_250Hz_20/feat_test_right_A02T_20.txt\"\n",
    "                           ,\"feat_2a_250Hz_20/feat_left_A01T_20.txt\",\"feat_2a_250Hz_20/feat_right_A01T_20.txt\",\"feat_2a_250Hz_20/feat_left_A03T_20.txt\",\"feat_2a_250Hz_20/feat_right_A03T_20.txt\"\n",
    "                           ,\"feat_2a_250Hz_20/feat_left_A06T_20.txt\",\"feat_2a_250Hz_20/feat_right_A06T_20.txt\",\"feat_2a_250Hz_20/feat_left_A09T_20.txt\",\"feat_2a_250Hz_20/feat_right_A09T_20.txt\")\n",
    "temp_l = np.array([temp,temp1,temp2])\n",
    "probability = np.append(probability,temp_l,axis=0)\n",
    "temp,temp1,temp2 = SRC_test(\"feat_2a_250Hz_20/feat_left_A03T_20_K0.txt\",\"feat_2a_250Hz_20/feat_right_A03T_20_K0.txt\",\"feat_2a_250Hz_20/feat_test_left_A03T_20.txt\",\"feat_2a_250Hz_20/feat_test_right_A03T_20.txt\"\n",
    "                           ,\"feat_2a_250Hz_20/feat_left_A02T_20.txt\",\"feat_2a_250Hz_20/feat_right_A02T_20.txt\",\"feat_2a_250Hz_20/feat_left_A01T_20.txt\",\"feat_2a_250Hz_20/feat_right_A01T_20.txt\"\n",
    "                           ,\"feat_2a_250Hz_20/feat_left_A06T_20.txt\",\"feat_2a_250Hz_20/feat_right_A06T_20.txt\",\"feat_2a_250Hz_20/feat_left_A09T_20.txt\",\"feat_2a_250Hz_20/feat_right_A09T_20.txt\")\n",
    "temp_l = np.array([temp,temp1,temp2])\n",
    "probability = np.append(probability,temp_l,axis=0)\n",
    "temp,temp1,temp2 = SRC_test(\"feat_2a_250Hz_20/feat_left_A07T_20_K0.txt\",\"feat_2a_250Hz_20/feat_right_A07T_20_K0.txt\",\"feat_2a_250Hz_20/feat_test_left_A07T_20.txt\",\"feat_2a_250Hz_20/feat_test_right_A07T_20.txt\"\n",
    "                           ,\"feat_2a_250Hz_20/feat_left_A02T_20.txt\",\"feat_2a_250Hz_20/feat_right_A02T_20.txt\",\"feat_2a_250Hz_20/feat_left_A03T_20.txt\",\"feat_2a_250Hz_20/feat_right_A03T_20.txt\"\n",
    "                           ,\"feat_2a_250Hz_20/feat_left_A01T_20.txt\",\"feat_2a_250Hz_20/feat_right_A01T_20.txt\",\"feat_2a_250Hz_20/feat_left_A09T_20.txt\",\"feat_2a_250Hz_20/feat_right_A09T_20.txt\")\n",
    "temp_l = np.array([temp,temp1,temp2])\n",
    "probability = np.append(probability,temp_l,axis=0)\n",
    "temp,temp1,temp2 = SRC_test(\"feat_2a_250Hz_20/feat_left_A08T_20_K0.txt\",\"feat_2a_250Hz_20/feat_right_A08T_20_K0.txt\",\"feat_2a_250Hz_20/feat_test_left_A08T_20.txt\",\"feat_2a_250Hz_20/feat_test_right_A08T_20.txt\"\n",
    "                           ,\"feat_2a_250Hz_20/feat_left_A02T_20.txt\",\"feat_2a_250Hz_20/feat_right_A02T_20.txt\",\"feat_2a_250Hz_20/feat_left_A03T_20.txt\",\"feat_2a_250Hz_20/feat_right_A03T_20.txt\"\n",
    "                           ,\"feat_2a_250Hz_20/feat_left_A01T_20.txt\",\"feat_2a_250Hz_20/feat_right_A01T_20.txt\",\"feat_2a_250Hz_20/feat_left_A09T_20.txt\",\"feat_2a_250Hz_20/feat_right_A09T_20.txt\")\n",
    "temp_l = np.array([temp,temp1,temp2])\n",
    "probability = np.append(probability,temp_l,axis=0)\n",
    "temp,temp1,temp2 = SRC_test(\"feat_2a_250Hz_20/feat_left_A09T_20_K0.txt\",\"feat_2a_250Hz_20/feat_right_A09T_20_K0.txt\",\"feat_2a_250Hz_20/feat_test_left_A09T_20.txt\",\"feat_2a_250Hz_20/feat_test_right_A09T_20.txt\"\n",
    "                           ,\"feat_2a_250Hz_20/feat_left_A02T_20.txt\",\"feat_2a_250Hz_20/feat_right_A02T_20.txt\",\"feat_2a_250Hz_20/feat_left_A03T_20.txt\",\"feat_2a_250Hz_20/feat_right_A03T_20.txt\"\n",
    "                           ,\"feat_2a_250Hz_20/feat_left_A01T_20.txt\",\"feat_2a_250Hz_20/feat_right_A01T_20.txt\",\"feat_2a_250Hz_20/feat_left_A06T_20.txt\",\"feat_2a_250Hz_20/feat_right_A06T_20.txt\")\n",
    "temp_l = np.array([temp,temp1,temp2])\n",
    "probability = np.append(probability,temp_l,axis=0)\n",
    "\n",
    "probability_1 = probability.reshape([6, 3])\n",
    "print(probability_1)"
   ]
  },
  {
   "cell_type": "code",
   "execution_count": 76,
   "id": "015d5710-d935-45da-bba6-510813d46b24",
   "metadata": {},
   "outputs": [
    {
     "name": "stdout",
     "output_type": "stream",
     "text": [
      "[[ 51.25  12.5   90.  ]\n",
      " [ 51.25   5.    97.5 ]\n",
      " [ 51.25  30.    72.5 ]\n",
      " [ 46.25  92.5    0.  ]\n",
      " [ 58.75  75.    42.5 ]\n",
      " [ 55.    10.   100.  ]]\n"
     ]
    }
   ],
   "source": [
    "#train=20,test=40で分類を行った結果\n",
    "probability = np.array([])\n",
    "temp,temp1,temp2 = SRC_test(\"feat_2a_250Hz_20/feat_left_A01T_20_K0.txt\",\"feat_2a_250Hz_20/feat_right_A01T_20_K0.txt\",\"feat_2a_250Hz_20/feat_test_left_A01T_20.txt\",\"feat_2a_250Hz_20/feat_test_right_A01T_20.txt\"\n",
    "                           ,\"feat_2a_250Hz_20_2/feat_left_A02T_20.txt\",\"feat_2a_250Hz_20_2/feat_right_A02T_20.txt\",\"feat_2a_250Hz_20_2/feat_left_A03T_20.txt\",\"feat_2a_250Hz_20_2/feat_right_A03T_20.txt\"\n",
    "                           ,\"feat_2a_250Hz_20_2/feat_left_A06T_20.txt\",\"feat_2a_250Hz_20_2/feat_right_A06T_20.txt\",\"feat_2a_250Hz_20_2/feat_left_A09T_20.txt\",\"feat_2a_250Hz_20_2/feat_right_A09T_20.txt\")\n",
    "temp_l = np.array([temp,temp1,temp2])\n",
    "probability = np.append(probability,temp_l,axis=0)\n",
    "temp,temp1,temp2 = SRC_test(\"feat_2a_250Hz_20/feat_left_A02T_20_K0.txt\",\"feat_2a_250Hz_20/feat_right_A02T_20_K0.txt\",\"feat_2a_250Hz_20/feat_test_left_A02T_20.txt\",\"feat_2a_250Hz_20/feat_test_right_A02T_20.txt\"\n",
    "                           ,\"feat_2a_250Hz_20_2/feat_left_A01T_20.txt\",\"feat_2a_250Hz_20_2/feat_right_A01T_20.txt\",\"feat_2a_250Hz_20_2/feat_left_A03T_20.txt\",\"feat_2a_250Hz_20_2/feat_right_A03T_20.txt\"\n",
    "                           ,\"feat_2a_250Hz_20_2/feat_left_A06T_20.txt\",\"feat_2a_250Hz_20_2/feat_right_A06T_20.txt\",\"feat_2a_250Hz_20_2/feat_left_A09T_20.txt\",\"feat_2a_250Hz_20_2/feat_right_A09T_20.txt\")\n",
    "temp_l = np.array([temp,temp1,temp2])\n",
    "probability = np.append(probability,temp_l,axis=0)\n",
    "temp,temp1,temp2 = SRC_test(\"feat_2a_250Hz_20/feat_left_A03T_20_K0.txt\",\"feat_2a_250Hz_20/feat_right_A03T_20_K0.txt\",\"feat_2a_250Hz_20/feat_test_left_A03T_20.txt\",\"feat_2a_250Hz_20/feat_test_right_A03T_20.txt\"\n",
    "                           ,\"feat_2a_250Hz_20_2/feat_left_A02T_20.txt\",\"feat_2a_250Hz_20_2/feat_right_A02T_20.txt\",\"feat_2a_250Hz_20_2/feat_left_A01T_20.txt\",\"feat_2a_250Hz_20_2/feat_right_A01T_20.txt\"\n",
    "                           ,\"feat_2a_250Hz_20_2/feat_left_A06T_20.txt\",\"feat_2a_250Hz_20_2/feat_right_A06T_20.txt\",\"feat_2a_250Hz_20_2/feat_left_A09T_20.txt\",\"feat_2a_250Hz_20_2/feat_right_A09T_20.txt\")\n",
    "temp_l = np.array([temp,temp1,temp2])\n",
    "probability = np.append(probability,temp_l,axis=0)\n",
    "temp,temp1,temp2 = SRC_test(\"feat_2a_250Hz_20/feat_left_A07T_20_K0.txt\",\"feat_2a_250Hz_20/feat_right_A07T_20_K0.txt\",\"feat_2a_250Hz_20/feat_test_left_A07T_20.txt\",\"feat_2a_250Hz_20/feat_test_right_A07T_20.txt\"\n",
    "                           ,\"feat_2a_250Hz_20_2/feat_left_A02T_20.txt\",\"feat_2a_250Hz_20_2/feat_right_A02T_20.txt\",\"feat_2a_250Hz_20_2/feat_left_A03T_20.txt\",\"feat_2a_250Hz_20_2/feat_right_A03T_20.txt\"\n",
    "                           ,\"feat_2a_250Hz_20_2/feat_left_A01T_20.txt\",\"feat_2a_250Hz_20_2/feat_right_A01T_20.txt\",\"feat_2a_250Hz_20_2/feat_left_A09T_20.txt\",\"feat_2a_250Hz_20_2/feat_right_A09T_20.txt\")\n",
    "temp_l = np.array([temp,temp1,temp2])\n",
    "probability = np.append(probability,temp_l,axis=0)\n",
    "temp,temp1,temp2 = SRC_test(\"feat_2a_250Hz_20/feat_left_A08T_20_K0.txt\",\"feat_2a_250Hz_20/feat_right_A08T_20_K0.txt\",\"feat_2a_250Hz_20/feat_test_left_A08T_20.txt\",\"feat_2a_250Hz_20/feat_test_right_A08T_20.txt\"\n",
    "                           ,\"feat_2a_250Hz_20_2/feat_left_A02T_20.txt\",\"feat_2a_250Hz_20_2/feat_right_A02T_20.txt\",\"feat_2a_250Hz_20_2/feat_left_A03T_20.txt\",\"feat_2a_250Hz_20_2/feat_right_A03T_20.txt\"\n",
    "                           ,\"feat_2a_250Hz_20_2/feat_left_A01T_20.txt\",\"feat_2a_250Hz_20_2/feat_right_A01T_20.txt\",\"feat_2a_250Hz_20_2/feat_left_A09T_20.txt\",\"feat_2a_250Hz_20_2/feat_right_A09T_20.txt\")\n",
    "temp_l = np.array([temp,temp1,temp2])\n",
    "probability = np.append(probability,temp_l,axis=0)\n",
    "temp,temp1,temp2 = SRC_test(\"feat_2a_250Hz_20/feat_left_A09T_20_K0.txt\",\"feat_2a_250Hz_20/feat_right_A09T_20_K0.txt\",\"feat_2a_250Hz_20/feat_test_left_A09T_20.txt\",\"feat_2a_250Hz_20/feat_test_right_A09T_20.txt\"\n",
    "                           ,\"feat_2a_250Hz_20_2/feat_left_A02T_20.txt\",\"feat_2a_250Hz_20_2/feat_right_A02T_20.txt\",\"feat_2a_250Hz_20_2/feat_left_A03T_20.txt\",\"feat_2a_250Hz_20_2/feat_right_A03T_20.txt\"\n",
    "                           ,\"feat_2a_250Hz_20_2/feat_left_A01T_20.txt\",\"feat_2a_250Hz_20_2/feat_right_A01T_20.txt\",\"feat_2a_250Hz_20_2/feat_left_A06T_20.txt\",\"feat_2a_250Hz_20_2/feat_right_A06T_20.txt\")\n",
    "temp_l = np.array([temp,temp1,temp2])\n",
    "probability = np.append(probability,temp_l,axis=0)\n",
    "\n",
    "probability_2 = probability.reshape([6, 3])\n",
    "print(probability_2)"
   ]
  },
  {
   "cell_type": "code",
   "execution_count": 97,
   "id": "5d2fde0c-eafe-480f-bf82-65f2dc13fac2",
   "metadata": {},
   "outputs": [
    {
     "name": "stdout",
     "output_type": "stream",
     "text": [
      "[[56.25       27.5        85.        ]\n",
      " [48.75       37.5        60.        ]\n",
      " [51.25       97.5         5.        ]\n",
      " [48.75       77.5        20.        ]\n",
      " [52.5        87.5        17.5       ]\n",
      " [61.66666667 80.         43.33333333]]\n"
     ]
    }
   ],
   "source": [
    "#train=20,test=40で分類を行った結果\n",
    "probability = np.array([])\n",
    "temp,temp1,temp2 = SRC_test(\"feat_2a_250Hz_20/feat_left_A01T_20_K0.txt\",\"feat_2a_250Hz_20/feat_right_A01T_20_K0.txt\",\"feat_2a_250Hz_20/feat_test_left_A01T_20.txt\",\"feat_2a_250Hz_20/feat_test_right_A01T_20.txt\"\n",
    "                           ,\"feat_2a_250Hz_20_3/feat_left_A02T_20.txt\",\"feat_2a_250Hz_20_3/feat_right_A02T_20.txt\",\"feat_2a_250Hz_20_3/feat_left_A03T_20.txt\",\"feat_2a_250Hz_20_3/feat_right_A03T_20.txt\"\n",
    "                           ,\"feat_2a_250Hz_20_3/feat_left_A06T_20.txt\",\"feat_2a_250Hz_20_3/feat_right_A06T_20.txt\",\"feat_2a_250Hz_20_3/feat_left_A09T_20.txt\",\"feat_2a_250Hz_20_3/feat_right_A09T_20.txt\")\n",
    "temp_l = np.array([temp,temp1,temp2])\n",
    "probability = np.append(probability,temp_l,axis=0)\n",
    "temp,temp1,temp2 = SRC_test(\"feat_2a_250Hz_20/feat_left_A02T_20_K0.txt\",\"feat_2a_250Hz_20/feat_right_A02T_20_K0.txt\",\"feat_2a_250Hz_20/feat_test_left_A02T_20.txt\",\"feat_2a_250Hz_20/feat_test_right_A02T_20.txt\"\n",
    "                           ,\"feat_2a_250Hz_20_3/feat_left_A01T_20.txt\",\"feat_2a_250Hz_20_3/feat_right_A01T_20.txt\",\"feat_2a_250Hz_20_3/feat_left_A03T_20.txt\",\"feat_2a_250Hz_20_3/feat_right_A03T_20.txt\"\n",
    "                           ,\"feat_2a_250Hz_20_3/feat_left_A06T_20.txt\",\"feat_2a_250Hz_20_3/feat_right_A06T_20.txt\",\"feat_2a_250Hz_20_3/feat_left_A09T_20.txt\",\"feat_2a_250Hz_20_3/feat_right_A09T_20.txt\")\n",
    "temp_l = np.array([temp,temp1,temp2])\n",
    "probability = np.append(probability,temp_l,axis=0)\n",
    "temp,temp1,temp2 = SRC_test(\"feat_2a_250Hz_20/feat_left_A03T_20_K0.txt\",\"feat_2a_250Hz_20/feat_right_A03T_20_K0.txt\",\"feat_2a_250Hz_20/feat_test_left_A03T_20.txt\",\"feat_2a_250Hz_20/feat_test_right_A03T_20.txt\"\n",
    "                           ,\"feat_2a_250Hz_20_3/feat_left_A02T_20.txt\",\"feat_2a_250Hz_20_3/feat_right_A02T_20.txt\",\"feat_2a_250Hz_20_3/feat_left_A01T_20.txt\",\"feat_2a_250Hz_20_3/feat_right_A01T_20.txt\"\n",
    "                           ,\"feat_2a_250Hz_20_3/feat_left_A06T_20.txt\",\"feat_2a_250Hz_20_3/feat_right_A06T_20.txt\",\"feat_2a_250Hz_20_3/feat_left_A09T_20.txt\",\"feat_2a_250Hz_20_3/feat_right_A09T_20.txt\")\n",
    "temp_l = np.array([temp,temp1,temp2])\n",
    "probability = np.append(probability,temp_l,axis=0)\n",
    "temp,temp1,temp2 = SRC_test(\"feat_2a_250Hz_20/feat_left_A07T_20_K0.txt\",\"feat_2a_250Hz_20/feat_right_A07T_20_K0.txt\",\"feat_2a_250Hz_20/feat_test_left_A07T_20.txt\",\"feat_2a_250Hz_20/feat_test_right_A07T_20.txt\"\n",
    "                           ,\"feat_2a_250Hz_20_3/feat_left_A02T_20.txt\",\"feat_2a_250Hz_20_3/feat_right_A02T_20.txt\",\"feat_2a_250Hz_20_3/feat_left_A03T_20.txt\",\"feat_2a_250Hz_20_3/feat_right_A03T_20.txt\"\n",
    "                           ,\"feat_2a_250Hz_20_3/feat_left_A01T_20.txt\",\"feat_2a_250Hz_20_3/feat_right_A01T_20.txt\",\"feat_2a_250Hz_20_3/feat_left_A09T_20.txt\",\"feat_2a_250Hz_20_3/feat_right_A09T_20.txt\")\n",
    "temp_l = np.array([temp,temp1,temp2])\n",
    "probability = np.append(probability,temp_l,axis=0)\n",
    "temp,temp1,temp2 = SRC_test(\"feat_2a_250Hz_20/feat_left_A08T_20_K0.txt\",\"feat_2a_250Hz_20/feat_right_A08T_20_K0.txt\",\"feat_2a_250Hz_20/feat_test_left_A08T_20.txt\",\"feat_2a_250Hz_20/feat_test_right_A08T_20.txt\"\n",
    "                           ,\"feat_2a_250Hz_20_3/feat_left_A02T_20.txt\",\"feat_2a_250Hz_20_3/feat_right_A02T_20.txt\",\"feat_2a_250Hz_20_3/feat_left_A03T_20.txt\",\"feat_2a_250Hz_20_3/feat_right_A03T_20.txt\"\n",
    "                           ,\"feat_2a_250Hz_20_3/feat_left_A01T_20.txt\",\"feat_2a_250Hz_20_3/feat_right_A01T_20.txt\",\"feat_2a_250Hz_20_3/feat_left_A09T_20.txt\",\"feat_2a_250Hz_20_3/feat_right_A09T_20.txt\")\n",
    "temp_l = np.array([temp,temp1,temp2])\n",
    "probability = np.append(probability,temp_l,axis=0)\n",
    "temp,temp1,temp2 = SRC_test(\"feat_2a_250Hz_20/feat_left_A09T_20_K0.txt\",\"feat_2a_250Hz_20/feat_right_A09T_20_K0.txt\",\"feat_2a_250Hz_20/feat_test_left_A09T_20.txt\",\"feat_2a_250Hz_20/feat_test_right_A09T_20.txt\"\n",
    "                           ,\"feat_2a_250Hz_20_3/feat_left_A02T_20.txt\",\"feat_2a_250Hz_20_3/feat_right_A02T_20.txt\",\"feat_2a_250Hz_20_3/feat_left_A03T_20.txt\",\"feat_2a_250Hz_20_3/feat_right_A03T_20.txt\"\n",
    "                           ,\"feat_2a_250Hz_20_3/feat_left_A01T_20.txt\",\"feat_2a_250Hz_20_3/feat_right_A01T_20.txt\",\"feat_2a_250Hz_20_3/feat_left_A06T_20.txt\",\"feat_2a_250Hz_20_3/feat_right_A06T_20.txt\")\n",
    "temp_l = np.array([temp,temp1,temp2])\n",
    "probability = np.append(probability,temp_l,axis=0)\n",
    "\n",
    "\n",
    "probability_3 = probability.reshape([6, 3])\n",
    "print(probability_3)"
   ]
  },
  {
   "cell_type": "code",
   "execution_count": 98,
   "id": "a3dbad8c-ae73-4a78-9aad-408d2f86ad41",
   "metadata": {},
   "outputs": [
    {
     "name": "stdout",
     "output_type": "stream",
     "text": [
      "[[57.5        30.         85.        ]\n",
      " [48.33333333 12.5        84.16666667]\n",
      " [51.25       80.         22.5       ]\n",
      " [50.         72.5        27.5       ]\n",
      " [50.83333333 53.33333333 48.33333333]\n",
      " [62.77777778 50.         75.55555556]]\n"
     ]
    }
   ],
   "source": [
    "p_average_20 = (probability_1+probability_2+probability_3)/3\n",
    "print(p_average_20)"
   ]
  },
  {
   "cell_type": "code",
   "execution_count": 79,
   "id": "cabff2b8-140f-40fc-a4db-02f2b8231be5",
   "metadata": {
    "tags": []
   },
   "outputs": [
    {
     "name": "stdout",
     "output_type": "stream",
     "text": [
      "[[61.25       40.         82.5       ]\n",
      " [47.5         0.         95.        ]\n",
      " [45.         65.         25.        ]\n",
      " [52.5        45.         60.        ]\n",
      " [46.25       50.         42.5       ]\n",
      " [55.         16.66666667 93.33333333]]\n"
     ]
    }
   ],
   "source": [
    "#train=30,test=40で分類を行った結果\n",
    "probability = np.array([])\n",
    "temp,temp1,temp2 = SRC_test(\"feat_2a_250Hz_20/feat_left_A01T_20_K0.txt\",\"feat_2a_250Hz_20/feat_right_A01T_20_K0.txt\",\"feat_2a_250Hz_20/feat_test_left_A01T_20.txt\",\"feat_2a_250Hz_20/feat_test_right_A01T_20.txt\"\n",
    "                           ,\"feat_2a_250Hz_30/feat_left_A02T_30.txt\",\"feat_2a_250Hz_30/feat_right_A02T_30.txt\",\"feat_2a_250Hz_30/feat_left_A03T_30.txt\",\"feat_2a_250Hz_30/feat_right_A03T_30.txt\"\n",
    "                           ,\"feat_2a_250Hz_30/feat_left_A06T_30.txt\",\"feat_2a_250Hz_30/feat_right_A06T_30.txt\",\"feat_2a_250Hz_30/feat_left_A09T_30.txt\",\"feat_2a_250Hz_30/feat_right_A09T_30.txt\")\n",
    "temp_l = np.array([temp,temp1,temp2])\n",
    "probability = np.append(probability,temp_l,axis=0)\n",
    "temp,temp1,temp2 = SRC_test(\"feat_2a_250Hz_20/feat_left_A02T_20_K0.txt\",\"feat_2a_250Hz_20/feat_right_A02T_20_K0.txt\",\"feat_2a_250Hz_20/feat_test_left_A02T_20.txt\",\"feat_2a_250Hz_20/feat_test_right_A02T_20.txt\"\n",
    "                           ,\"feat_2a_250Hz_30/feat_left_A01T_30.txt\",\"feat_2a_250Hz_30/feat_right_A01T_30.txt\",\"feat_2a_250Hz_30/feat_left_A03T_30.txt\",\"feat_2a_250Hz_30/feat_right_A03T_30.txt\"\n",
    "                           ,\"feat_2a_250Hz_30/feat_left_A06T_30.txt\",\"feat_2a_250Hz_30/feat_right_A06T_30.txt\",\"feat_2a_250Hz_30/feat_left_A09T_30.txt\",\"feat_2a_250Hz_30/feat_right_A09T_30.txt\")\n",
    "temp_l = np.array([temp,temp1,temp2])\n",
    "probability = np.append(probability,temp_l,axis=0)\n",
    "temp,temp1,temp2 = SRC_test(\"feat_2a_250Hz_20/feat_left_A03T_20_K0.txt\",\"feat_2a_250Hz_20/feat_right_A03T_20_K0.txt\",\"feat_2a_250Hz_20/feat_test_left_A03T_20.txt\",\"feat_2a_250Hz_20/feat_test_right_A03T_20.txt\"\n",
    "                           ,\"feat_2a_250Hz_30/feat_left_A02T_30.txt\",\"feat_2a_250Hz_30/feat_right_A02T_30.txt\",\"feat_2a_250Hz_30/feat_left_A01T_30.txt\",\"feat_2a_250Hz_30/feat_right_A01T_30.txt\"\n",
    "                           ,\"feat_2a_250Hz_30/feat_left_A06T_30.txt\",\"feat_2a_250Hz_30/feat_right_A06T_30.txt\",\"feat_2a_250Hz_30/feat_left_A09T_30.txt\",\"feat_2a_250Hz_30/feat_right_A09T_30.txt\")\n",
    "temp_l = np.array([temp,temp1,temp2])\n",
    "probability = np.append(probability,temp_l,axis=0)\n",
    "temp,temp1,temp2 = SRC_test(\"feat_2a_250Hz_20/feat_left_A07T_20_K0.txt\",\"feat_2a_250Hz_20/feat_right_A07T_20_K0.txt\",\"feat_2a_250Hz_20/feat_test_left_A07T_20.txt\",\"feat_2a_250Hz_20/feat_test_right_A07T_20.txt\"\n",
    "                           ,\"feat_2a_250Hz_30/feat_left_A02T_30.txt\",\"feat_2a_250Hz_30/feat_right_A02T_30.txt\",\"feat_2a_250Hz_30/feat_left_A03T_30.txt\",\"feat_2a_250Hz_30/feat_right_A03T_30.txt\"\n",
    "                           ,\"feat_2a_250Hz_30/feat_left_A01T_30.txt\",\"feat_2a_250Hz_30/feat_right_A01T_30.txt\",\"feat_2a_250Hz_30/feat_left_A09T_30.txt\",\"feat_2a_250Hz_30/feat_right_A09T_30.txt\")\n",
    "temp_l = np.array([temp,temp1,temp2])\n",
    "probability = np.append(probability,temp_l,axis=0)\n",
    "temp,temp1,temp2 = SRC_test(\"feat_2a_250Hz_20/feat_left_A08T_20_K0.txt\",\"feat_2a_250Hz_20/feat_right_A08T_20_K0.txt\",\"feat_2a_250Hz_20/feat_test_left_A08T_20.txt\",\"feat_2a_250Hz_20/feat_test_right_A08T_20.txt\"\n",
    "                           ,\"feat_2a_250Hz_30/feat_left_A02T_30.txt\",\"feat_2a_250Hz_30/feat_right_A02T_30.txt\",\"feat_2a_250Hz_30/feat_left_A03T_30.txt\",\"feat_2a_250Hz_30/feat_right_A03T_30.txt\"\n",
    "                           ,\"feat_2a_250Hz_30/feat_left_A01T_30.txt\",\"feat_2a_250Hz_30/feat_right_A01T_30.txt\",\"feat_2a_250Hz_30/feat_left_A09T_30.txt\",\"feat_2a_250Hz_30/feat_right_A09T_30.txt\")\n",
    "temp_l = np.array([temp,temp1,temp2])\n",
    "probability = np.append(probability,temp_l,axis=0)\n",
    "temp,temp1,temp2 = SRC_test(\"feat_2a_250Hz_20/feat_left_A09T_20_K0.txt\",\"feat_2a_250Hz_20/feat_right_A09T_20_K0.txt\",\"feat_2a_250Hz_20/feat_test_left_A09T_20.txt\",\"feat_2a_250Hz_20/feat_test_right_A09T_20.txt\"\n",
    "                           ,\"feat_2a_250Hz_30/feat_left_A02T_30.txt\",\"feat_2a_250Hz_30/feat_right_A02T_30.txt\",\"feat_2a_250Hz_30/feat_left_A03T_30.txt\",\"feat_2a_250Hz_30/feat_right_A03T_30.txt\"\n",
    "                           ,\"feat_2a_250Hz_30/feat_left_A01T_30.txt\",\"feat_2a_250Hz_30/feat_right_A01T_30.txt\",\"feat_2a_250Hz_30/feat_left_A06T_30.txt\",\"feat_2a_250Hz_30/feat_right_A06T_30.txt\")\n",
    "temp_l = np.array([temp,temp1,temp2])\n",
    "probability = np.append(probability,temp_l,axis=0)\n",
    "\n",
    "probability_1 = probability.reshape([6, 3])\n",
    "print(probability_1)"
   ]
  },
  {
   "cell_type": "code",
   "execution_count": 80,
   "id": "eaa7836e-cf0c-4b75-9884-f69c5865a340",
   "metadata": {},
   "outputs": [
    {
     "name": "stdout",
     "output_type": "stream",
     "text": [
      "[[55.         22.5        87.5       ]\n",
      " [48.75        0.         97.5       ]\n",
      " [57.5        77.5        37.5       ]\n",
      " [48.75       95.          2.5       ]\n",
      " [53.75       22.5        85.        ]\n",
      " [71.66666667 53.33333333 90.        ]]\n"
     ]
    }
   ],
   "source": [
    "#train=30,test=40で分類を行った結果\n",
    "probability = np.array([])\n",
    "temp,temp1,temp2 = SRC_test(\"feat_2a_250Hz_20/feat_left_A01T_20_K0.txt\",\"feat_2a_250Hz_20/feat_right_A01T_20_K0.txt\",\"feat_2a_250Hz_20/feat_test_left_A01T_20.txt\",\"feat_2a_250Hz_20/feat_test_right_A01T_20.txt\"\n",
    "                           ,\"feat_2a_250Hz_30_2/feat_left_A02T_30.txt\",\"feat_2a_250Hz_30_2/feat_right_A02T_30.txt\",\"feat_2a_250Hz_30_2/feat_left_A03T_30.txt\",\"feat_2a_250Hz_30_2/feat_right_A03T_30.txt\"\n",
    "                           ,\"feat_2a_250Hz_30_2/feat_left_A06T_30.txt\",\"feat_2a_250Hz_30_2/feat_right_A06T_30.txt\",\"feat_2a_250Hz_30_2/feat_left_A09T_30.txt\",\"feat_2a_250Hz_30_2/feat_right_A09T_30.txt\")\n",
    "temp_l = np.array([temp,temp1,temp2])\n",
    "probability = np.append(probability,temp_l,axis=0)\n",
    "temp,temp1,temp2 = SRC_test(\"feat_2a_250Hz_20/feat_left_A02T_20_K0.txt\",\"feat_2a_250Hz_20/feat_right_A02T_20_K0.txt\",\"feat_2a_250Hz_20/feat_test_left_A02T_20.txt\",\"feat_2a_250Hz_20/feat_test_right_A02T_20.txt\"\n",
    "                           ,\"feat_2a_250Hz_30_2/feat_left_A01T_30.txt\",\"feat_2a_250Hz_30_2/feat_right_A01T_30.txt\",\"feat_2a_250Hz_30_2/feat_left_A03T_30.txt\",\"feat_2a_250Hz_30_2/feat_right_A03T_30.txt\"\n",
    "                           ,\"feat_2a_250Hz_30_2/feat_left_A06T_30.txt\",\"feat_2a_250Hz_30_2/feat_right_A06T_30.txt\",\"feat_2a_250Hz_30_2/feat_left_A09T_30.txt\",\"feat_2a_250Hz_30_2/feat_right_A09T_30.txt\")\n",
    "temp_l = np.array([temp,temp1,temp2])\n",
    "probability = np.append(probability,temp_l,axis=0)\n",
    "temp,temp1,temp2 = SRC_test(\"feat_2a_250Hz_20/feat_left_A03T_20_K0.txt\",\"feat_2a_250Hz_20/feat_right_A03T_20_K0.txt\",\"feat_2a_250Hz_20/feat_test_left_A03T_20.txt\",\"feat_2a_250Hz_20/feat_test_right_A03T_20.txt\"\n",
    "                           ,\"feat_2a_250Hz_30_2/feat_left_A02T_30.txt\",\"feat_2a_250Hz_30_2/feat_right_A02T_30.txt\",\"feat_2a_250Hz_30_2/feat_left_A01T_30.txt\",\"feat_2a_250Hz_30_2/feat_right_A01T_30.txt\"\n",
    "                           ,\"feat_2a_250Hz_30_2/feat_left_A06T_30.txt\",\"feat_2a_250Hz_30_2/feat_right_A06T_30.txt\",\"feat_2a_250Hz_30_2/feat_left_A09T_30.txt\",\"feat_2a_250Hz_30_2/feat_right_A09T_30.txt\")\n",
    "temp_l = np.array([temp,temp1,temp2])\n",
    "probability = np.append(probability,temp_l,axis=0)\n",
    "temp,temp1,temp2 = SRC_test(\"feat_2a_250Hz_20/feat_left_A07T_20_K0.txt\",\"feat_2a_250Hz_20/feat_right_A07T_20_K0.txt\",\"feat_2a_250Hz_20/feat_test_left_A07T_20.txt\",\"feat_2a_250Hz_20/feat_test_right_A07T_20.txt\"\n",
    "                           ,\"feat_2a_250Hz_30_2/feat_left_A02T_30.txt\",\"feat_2a_250Hz_30_2/feat_right_A02T_30.txt\",\"feat_2a_250Hz_30_2/feat_left_A03T_30.txt\",\"feat_2a_250Hz_30_2/feat_right_A03T_30.txt\"\n",
    "                           ,\"feat_2a_250Hz_30_2/feat_left_A01T_30.txt\",\"feat_2a_250Hz_30_2/feat_right_A01T_30.txt\",\"feat_2a_250Hz_30_2/feat_left_A09T_30.txt\",\"feat_2a_250Hz_30_2/feat_right_A09T_30.txt\")\n",
    "temp_l = np.array([temp,temp1,temp2])\n",
    "probability = np.append(probability,temp_l,axis=0)\n",
    "temp,temp1,temp2 = SRC_test(\"feat_2a_250Hz_20/feat_left_A08T_20_K0.txt\",\"feat_2a_250Hz_20/feat_right_A08T_20_K0.txt\",\"feat_2a_250Hz_20/feat_test_left_A08T_20.txt\",\"feat_2a_250Hz_20/feat_test_right_A08T_20.txt\"\n",
    "                           ,\"feat_2a_250Hz_30_2/feat_left_A02T_30.txt\",\"feat_2a_250Hz_30_2/feat_right_A02T_30.txt\",\"feat_2a_250Hz_30_2/feat_left_A03T_30.txt\",\"feat_2a_250Hz_30_2/feat_right_A03T_30.txt\"\n",
    "                           ,\"feat_2a_250Hz_30_2/feat_left_A01T_30.txt\",\"feat_2a_250Hz_30_2/feat_right_A01T_30.txt\",\"feat_2a_250Hz_30_2/feat_left_A09T_30.txt\",\"feat_2a_250Hz_30_2/feat_right_A09T_30.txt\")\n",
    "temp_l = np.array([temp,temp1,temp2])\n",
    "probability = np.append(probability,temp_l,axis=0)\n",
    "temp,temp1,temp2 = SRC_test(\"feat_2a_250Hz_20/feat_left_A09T_20_K0.txt\",\"feat_2a_250Hz_20/feat_right_A09T_20_K0.txt\",\"feat_2a_250Hz_20/feat_test_left_A09T_20.txt\",\"feat_2a_250Hz_20/feat_test_right_A09T_20.txt\"\n",
    "                           ,\"feat_2a_250Hz_30_2/feat_left_A02T_30.txt\",\"feat_2a_250Hz_30_2/feat_right_A02T_30.txt\",\"feat_2a_250Hz_30_2/feat_left_A03T_30.txt\",\"feat_2a_250Hz_30_2/feat_right_A03T_30.txt\"\n",
    "                           ,\"feat_2a_250Hz_30_2/feat_left_A01T_30.txt\",\"feat_2a_250Hz_30_2/feat_right_A01T_30.txt\",\"feat_2a_250Hz_30_2/feat_left_A06T_30.txt\",\"feat_2a_250Hz_30_2/feat_right_A06T_30.txt\")\n",
    "temp_l = np.array([temp,temp1,temp2])\n",
    "probability = np.append(probability,temp_l,axis=0)\n",
    "\n",
    "probability_2 = probability.reshape([6, 3])\n",
    "print(probability_2)"
   ]
  },
  {
   "cell_type": "code",
   "execution_count": 81,
   "id": "444b2f01-49e2-430a-bf39-a961abf15c97",
   "metadata": {},
   "outputs": [
    {
     "name": "stdout",
     "output_type": "stream",
     "text": [
      "[[50.         30.         70.        ]\n",
      " [50.          2.5        97.5       ]\n",
      " [56.25       50.         62.5       ]\n",
      " [48.75       95.          2.5       ]\n",
      " [50.         25.         75.        ]\n",
      " [70.         63.33333333 76.66666667]]\n"
     ]
    }
   ],
   "source": [
    "probability = np.array([])\n",
    "temp,temp1,temp2 = SRC_test(\"feat_2a_250Hz_20/feat_left_A01T_20_K0.txt\",\"feat_2a_250Hz_20/feat_right_A01T_20_K0.txt\",\"feat_2a_250Hz_20/feat_test_left_A01T_20.txt\",\"feat_2a_250Hz_20/feat_test_right_A01T_20.txt\"\n",
    "                           ,\"feat_2a_250Hz_30_3/feat_left_A02T_30.txt\",\"feat_2a_250Hz_30_3/feat_right_A02T_30.txt\",\"feat_2a_250Hz_30_3/feat_left_A03T_30.txt\",\"feat_2a_250Hz_30_3/feat_right_A03T_30.txt\"\n",
    "                           ,\"feat_2a_250Hz_30_3/feat_left_A06T_30.txt\",\"feat_2a_250Hz_30_3/feat_right_A06T_30.txt\",\"feat_2a_250Hz_30_3/feat_left_A09T_30.txt\",\"feat_2a_250Hz_30_3/feat_right_A09T_30.txt\")\n",
    "temp_l = np.array([temp,temp1,temp2])\n",
    "probability = np.append(probability,temp_l,axis=0)\n",
    "temp,temp1,temp2 = SRC_test(\"feat_2a_250Hz_20/feat_left_A02T_20_K0.txt\",\"feat_2a_250Hz_20/feat_right_A02T_20_K0.txt\",\"feat_2a_250Hz_20/feat_test_left_A02T_20.txt\",\"feat_2a_250Hz_20/feat_test_right_A02T_20.txt\"\n",
    "                           ,\"feat_2a_250Hz_30_3/feat_left_A01T_30.txt\",\"feat_2a_250Hz_30_3/feat_right_A01T_30.txt\",\"feat_2a_250Hz_30_3/feat_left_A03T_30.txt\",\"feat_2a_250Hz_30_3/feat_right_A03T_30.txt\"\n",
    "                           ,\"feat_2a_250Hz_30_3/feat_left_A06T_30.txt\",\"feat_2a_250Hz_30_3/feat_right_A06T_30.txt\",\"feat_2a_250Hz_30_3/feat_left_A09T_30.txt\",\"feat_2a_250Hz_30_3/feat_right_A09T_30.txt\")\n",
    "temp_l = np.array([temp,temp1,temp2])\n",
    "probability = np.append(probability,temp_l,axis=0)\n",
    "temp,temp1,temp2 = SRC_test(\"feat_2a_250Hz_20/feat_left_A03T_20_K0.txt\",\"feat_2a_250Hz_20/feat_right_A03T_20_K0.txt\",\"feat_2a_250Hz_20/feat_test_left_A03T_20.txt\",\"feat_2a_250Hz_20/feat_test_right_A03T_20.txt\"\n",
    "                           ,\"feat_2a_250Hz_30_3/feat_left_A02T_30.txt\",\"feat_2a_250Hz_30_3/feat_right_A02T_30.txt\",\"feat_2a_250Hz_30_3/feat_left_A01T_30.txt\",\"feat_2a_250Hz_30_3/feat_right_A01T_30.txt\"\n",
    "                           ,\"feat_2a_250Hz_30_3/feat_left_A06T_30.txt\",\"feat_2a_250Hz_30_3/feat_right_A06T_30.txt\",\"feat_2a_250Hz_30_3/feat_left_A09T_30.txt\",\"feat_2a_250Hz_30_3/feat_right_A09T_30.txt\")\n",
    "temp_l = np.array([temp,temp1,temp2])\n",
    "probability = np.append(probability,temp_l,axis=0)\n",
    "temp,temp1,temp2 = SRC_test(\"feat_2a_250Hz_20/feat_left_A07T_20_K0.txt\",\"feat_2a_250Hz_20/feat_right_A07T_20_K0.txt\",\"feat_2a_250Hz_20/feat_test_left_A07T_20.txt\",\"feat_2a_250Hz_20/feat_test_right_A07T_20.txt\"\n",
    "                           ,\"feat_2a_250Hz_30_3/feat_left_A02T_30.txt\",\"feat_2a_250Hz_30_3/feat_right_A02T_30.txt\",\"feat_2a_250Hz_30_3/feat_left_A03T_30.txt\",\"feat_2a_250Hz_30_3/feat_right_A03T_30.txt\"\n",
    "                           ,\"feat_2a_250Hz_30_3/feat_left_A01T_30.txt\",\"feat_2a_250Hz_30_3/feat_right_A01T_30.txt\",\"feat_2a_250Hz_30_3/feat_left_A09T_30.txt\",\"feat_2a_250Hz_30_3/feat_right_A09T_30.txt\")\n",
    "temp_l = np.array([temp,temp1,temp2])\n",
    "probability = np.append(probability,temp_l,axis=0)\n",
    "temp,temp1,temp2 = SRC_test(\"feat_2a_250Hz_20/feat_left_A08T_20_K0.txt\",\"feat_2a_250Hz_20/feat_right_A08T_20_K0.txt\",\"feat_2a_250Hz_20/feat_test_left_A08T_20.txt\",\"feat_2a_250Hz_20/feat_test_right_A08T_20.txt\"\n",
    "                           ,\"feat_2a_250Hz_30_3/feat_left_A02T_30.txt\",\"feat_2a_250Hz_30_3/feat_right_A02T_30.txt\",\"feat_2a_250Hz_30_3/feat_left_A03T_30.txt\",\"feat_2a_250Hz_30_3/feat_right_A03T_30.txt\"\n",
    "                           ,\"feat_2a_250Hz_30_3/feat_left_A01T_30.txt\",\"feat_2a_250Hz_30_3/feat_right_A01T_30.txt\",\"feat_2a_250Hz_30_3/feat_left_A09T_30.txt\",\"feat_2a_250Hz_30_3/feat_right_A09T_30.txt\")\n",
    "temp_l = np.array([temp,temp1,temp2])\n",
    "probability = np.append(probability,temp_l,axis=0)\n",
    "temp,temp1,temp2 = SRC_test(\"feat_2a_250Hz_20/feat_left_A09T_20_K0.txt\",\"feat_2a_250Hz_20/feat_right_A09T_20_K0.txt\",\"feat_2a_250Hz_20/feat_test_left_A09T_20.txt\",\"feat_2a_250Hz_20/feat_test_right_A09T_20.txt\"\n",
    "                           ,\"feat_2a_250Hz_30_3/feat_left_A02T_30.txt\",\"feat_2a_250Hz_30_3/feat_right_A02T_30.txt\",\"feat_2a_250Hz_30_3/feat_left_A03T_30.txt\",\"feat_2a_250Hz_30_3/feat_right_A03T_30.txt\"\n",
    "                           ,\"feat_2a_250Hz_30_3/feat_left_A01T_30.txt\",\"feat_2a_250Hz_30_3/feat_right_A01T_30.txt\",\"feat_2a_250Hz_30_3/feat_left_A06T_30.txt\",\"feat_2a_250Hz_30_3/feat_right_A06T_30.txt\")\n",
    "temp_l = np.array([temp,temp1,temp2])\n",
    "probability = np.append(probability,temp_l,axis=0)\n",
    "\n",
    "probability_3 = probability.reshape([6, 3])\n",
    "print(probability_3)"
   ]
  },
  {
   "cell_type": "code",
   "execution_count": 82,
   "id": "c8ba2135-7b07-4471-a4fd-3ba16c0e283c",
   "metadata": {},
   "outputs": [
    {
     "name": "stdout",
     "output_type": "stream",
     "text": [
      "[[55.41666667 30.83333333 80.        ]\n",
      " [48.75        0.83333333 96.66666667]\n",
      " [52.91666667 64.16666667 41.66666667]\n",
      " [50.         78.33333333 21.66666667]\n",
      " [50.         32.5        67.5       ]\n",
      " [65.55555556 44.44444444 86.66666667]]\n"
     ]
    }
   ],
   "source": [
    "p_average_30 = (probability_1+probability_2+probability_3)/3\n",
    "print(p_average_30)"
   ]
  },
  {
   "cell_type": "code",
   "execution_count": 96,
   "id": "a6c03bec-e80b-400a-912a-358d1d880f07",
   "metadata": {},
   "outputs": [
    {
     "name": "stdout",
     "output_type": "stream",
     "text": [
      "53.055555555555564 53.773148148148145\n"
     ]
    }
   ],
   "source": [
    "a_20 = 0; a_30 = 0;\n",
    "for i in range(6):\n",
    "    a_20 = a_20 + p_average_20[i,0] \n",
    "    a_30 = a_30 + p_average_30[i,0] \n",
    "    \n",
    "a_20 = a_20/6\n",
    "a_30 = a_30/6\n",
    "print(a_20,a_30)"
   ]
  },
  {
   "cell_type": "code",
   "execution_count": 95,
   "id": "e9de02f3-99be-471f-ac60-a446249d05be",
   "metadata": {},
   "outputs": [
    {
     "name": "stdout",
     "output_type": "stream",
     "text": [
      "[[55.41666667 48.75       52.91666667 50.         50.         65.55555556]\n",
      " [52.5        49.58333333 52.5        48.33333333 53.75       61.66666667]]\n"
     ]
    },
    {
     "data": {
      "image/png": "[encoded data removed]",
      "text/plain": [
       "<Figure size 432x288 with 1 Axes>"
      ]
     },
     "metadata": {
      "needs_background": "light"
     },
     "output_type": "display_data"
    }
   ],
   "source": [
    "import matplotlib.pyplot as plt\n",
    "import japanize_matplotlib\n",
    "y = np.array([])\n",
    "x = np.arange(1, 7, step=1)\n",
    "y = np.append(p_average_20[:,0],y)\n",
    "y = np.append(p_average_30[:,0],y)\n",
    "y = y.reshape([2,6])\n",
    "print(y)\n",
    "plt.plot(x,y[1],\"red\")\n",
    "plt.plot(x,y[0])\n",
    "plt.title(\"SRC_Group分類確率\", {\"fontsize\":20})\n",
    "plt.xlabel(\"被験者No.\", {\"fontsize\":15})\n",
    "plt.ylabel(\"分類確率(%)\", {\"fontsize\":15})\n",
    "plt.xticks(np.arange(1, 7, step=1))\n",
    "plt.savefig(\"2a_SRC_group_probability_30.pdf\")\n",
    "plt.show()"
   ]
  },
  {
   "cell_type": "code",
   "execution_count": null,
   "id": "fee65198-8e0f-4755-be8e-0ac039e3de8b",
   "metadata": {},
   "outputs": [],
   "source": []
  }
 ],
 "metadata": {
  "kernelspec": {
   "display_name": "Python 3 (ipykernel)",
   "language": "python",
   "name": "python3"
  },
  "language_info": {
   "codemirror_mode": {
    "name": "ipython",
    "version": 3
   },
   "file_extension": ".py",
   "mimetype": "text/x-python",
   "name": "python",
   "nbconvert_exporter": "python",
   "pygments_lexer": "ipython3",
   "version": "3.9.12"
  }
 },
 "nbformat": 4,
 "nbformat_minor": 5
}
