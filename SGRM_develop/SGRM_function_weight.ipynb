{
 "cells": [
  {
   "cell_type": "code",
   "execution_count": 85,
   "metadata": {},
   "outputs": [],
   "source": [
    "import numpy as np\n",
    "import matplotlib.pyplot as plt\n",
    "import scipy.io as io\n",
    "import pandas as pd\n",
    "from pandas import DataFrame as dframe\n",
    "import cvxpy as cv"
   ]
  },
  {
   "cell_type": "code",
   "execution_count": 86,
   "metadata": {},
   "outputs": [],
   "source": [
    "def Dic(feat_l_tr,feat_r_tr): #入力の配列は2次元配列である必要がある\n",
    "    feat_tr = np.concatenate([feat_l_tr, feat_r_tr],0)\n",
    "    return feat_tr"
   ]
  },
  {
   "cell_type": "code",
   "execution_count": 87,
   "metadata": {},
   "outputs": [],
   "source": [
    "#各クラスの特徴ベクトルの配列の列数を格納した配列を引数にすればもう少し拡張性が上がる\n",
    "def SGRM(feat_tr,feat_tr_dic_1,feat_tr_dic_2,feat_tr_dic,feat_l_te,matrix_index):\n",
    "    λ_1 = 0.04\n",
    "    λ_2 = 0.06\n",
    "    answer = np.zeros(feat_l_te.shape[1])\n",
    "    SGRM_Cla = np.zeros((feat_tr_dic.shape[1], feat_l_te.shape[1]))\n",
    "    SGRM_l_Cla = np.zeros((feat_tr_dic.shape[1], feat_l_te.shape[1]))\n",
    "    SGRM_r_Cla = np.zeros((feat_tr_dic.shape[1], feat_l_te.shape[1]))\n",
    "    for i in range(feat_l_te.shape[1]):\n",
    "        u = cv.Variable((feat_tr_dic.shape[1],1)) #目的関数の次元\n",
    "        objective = cv.Minimize(0.5*(cv.norm(feat_tr_dic@u-feat_l_te[:,i,np.newaxis],2)**2)\n",
    "                                +λ_1*cv.norm(u[:,0],1)\n",
    "                                +λ_2*(cv.norm(u[0:feat_tr.shape[0],0],2)\n",
    "                                      +cv.norm(u[feat_tr.shape[0]:feat_tr_dic_1.shape[0],0],2)\n",
    "                                     +cv.norm(u[feat_tr_dic_1.shape[0]:feat_tr_dic_2.shape[0],0],2)\n",
    "                                     +cv.norm(u[feat_tr_dic_2.shape[0]:feat_tr_dic.shape[0],0],2)))\n",
    "                                     #+cv.norm(u[feat_tr_dic_4.shape[0]:feat_tr_dic_5.shape[0],0],2)\n",
    "                                     #+cv.norm(u[feat_tr_dic_5.shape[0]:feat_tr_dic_6.shape[0],0],2)\n",
    "                                     #+cv.norm(u[feat_tr_dic_6.shape[0]:feat_tr_dic.shape[0],0],2)))\n",
    "        constraints = [u == 0.5*(cv.norm(feat_tr_dic@u-feat_l_te[:,i,np.newaxis],2)**2)+λ_1*cv.norm(u[:,0],1)\n",
    "                       +λ_2*(cv.norm(u[0:feat_tr.shape[0],0],2)\n",
    "                             +cv.norm(u[feat_tr.shape[0]:feat_tr_dic_1.shape[0],0],2)\n",
    "                             +cv.norm(u[feat_tr_dic_1.shape[0]:feat_tr_dic_2.shape[0],0],2)\n",
    "                             +cv.norm(u[feat_tr_dic_2.shape[0]:feat_tr_dic.shape[0],0],2))]\n",
    "                             #+cv.norm(u[feat_tr_dic_3.shape[0]:feat_tr_dic.shape[0],0],2))] \n",
    "                    \n",
    "        prob = cv.Problem(objective)\n",
    "        result = prob.solve()\n",
    "        #classVariableから値を取るためには.valueを付ける\n",
    "        SGRM_Cla[:,i] = np.squeeze(u.value)\n",
    "        #各クラスに関連する表現ベクトルの値を抜き出す\n",
    "        #lは仕切りの値\n",
    "        l = 0\n",
    "        j = 0\n",
    "        while j < matrix_index.shape[0]-1:\n",
    "            SGRM_l_Cla[l:l+matrix_index[j],i] = SGRM_Cla[l:l+matrix_index[j],i]     \n",
    "            l = l + matrix_index[j]\n",
    "            j = j + 1\n",
    "            SGRM_r_Cla[l:l+matrix_index[j],i] = SGRM_Cla[l:l+matrix_index[j],i]\n",
    "            l = l + matrix_index[j]\n",
    "            j = j + 1\n",
    "    #パラメータを使って擬似的に各クラスのテスト信号の特徴ベクトルを作成\n",
    "    dout_feat_l_te = np.zeros((feat_l_te.shape[0], feat_l_te.shape[1]))\n",
    "    dout_feat_r_te = np.zeros((feat_l_te.shape[0], feat_l_te.shape[1])) \n",
    "    for i in range(feat_l_te.shape[1]):\n",
    "        dout_feat_l_te[:,i] = feat_tr_dic@SGRM_l_Cla[:,i]\n",
    "    for i in range(feat_l_te.shape[1]):\n",
    "        dout_feat_r_te[:,i] = feat_tr_dic@SGRM_r_Cla[:,i]\n",
    "    #作成した擬似特徴ベクトルとの残差を求める\n",
    "    R_l =  np.zeros((feat_l_te.shape[0], feat_l_te.shape[1])) #残差を格納するための配列\n",
    "    R_r =  np.zeros((feat_l_te.shape[0], feat_l_te.shape[1]))  \n",
    "    for i in range(feat_l_te.shape[1]):\n",
    "        R_l[:,i] = feat_l_te[:,i]-dout_feat_l_te[:,i]\n",
    "        R_r[:,i] = feat_l_te[:,i]-dout_feat_r_te[:,i]\n",
    "        if np.linalg.norm(R_l[:,i], ord=2) < np.linalg.norm(R_r[:,i], ord=2):\n",
    "            answer[i] = 1\n",
    "        elif np.linalg.norm(R_l[:,i], ord=2) > np.linalg.norm(R_r[:,i], ord=2):\n",
    "            answer[i] = 2\n",
    "    return answer"
   ]
  },
  {
   "cell_type": "code",
   "execution_count": 88,
   "metadata": {},
   "outputs": [],
   "source": [
    "def SGRM_test(filename1,filename2,filename3,filename4,C1_K1,C2_K1,C1_K2,C2_K2,C1_K3,C2_K3):\n",
    "    #対象被験者の特徴ベクトルをMATLABから入手\n",
    "    feat_C1 = np.loadtxt(filename1,delimiter=\",\")\n",
    "    feat_C2 = np.loadtxt(filename2,delimiter=\",\")\n",
    "    feat_Test_C1 = np.loadtxt(filename3,delimiter=\",\")\n",
    "    feat_Test_C2 = np.loadtxt(filename4,delimiter=\",\")\n",
    "    #非対象被験者の特徴ベクトルをMATLABから入手\n",
    "    feat_C1_K1 = np.loadtxt(C1_K1,delimiter=\",\")\n",
    "    feat_C2_K1 = np.loadtxt(C2_K1,delimiter=\",\")\n",
    "    feat_C1_K2 = np.loadtxt(C1_K2,delimiter=\",\")\n",
    "    feat_C2_K2 = np.loadtxt(C1_K2,delimiter=\",\")\n",
    "    feat_C1_K3 = np.loadtxt(C1_K3,delimiter=\",\")\n",
    "    feat_C2_K3 = np.loadtxt(C1_K3,delimiter=\",\")\n",
    "\n",
    "    #Tは被験者の試行回数である\n",
    "    feat_tr = Dic(feat_C1,feat_C2)\n",
    "    #非対象被験者の特徴ベクトルも同様の処理を行う\n",
    "    feat_tr_K1 = Dic(feat_C1_K1,feat_C2_K1)\n",
    "    feat_tr_K2 = Dic(feat_C1_K2,feat_C2_K2)\n",
    "    feat_tr_K3 = Dic(feat_C1_K3,feat_C2_K3)\n",
    "\n",
    "    #それぞれの特徴ベクトルをつなげる\n",
    "    feat_tr_dic_1 = Dic(feat_tr,feat_tr_K1)\n",
    "    feat_tr_dic_2 = Dic(feat_tr_dic_1,feat_tr_K2)\n",
    "    feat_tr_dic = Dic(feat_tr_dic_2,feat_tr_K3).T\n",
    "    #feat_tr_dicはすべての特徴ベクトルをつなげたもの\n",
    "    #まず、分類に用いるテストデータの特徴ベクトルを2次元に変換\n",
    "    feat_l_te = feat_Test_C1;\n",
    "    feat_r_te = feat_Test_C2;\n",
    "    feat_l_te = feat_l_te.T\n",
    "    feat_r_te = feat_r_te.T\n",
    "\n",
    "    matrix_index = np.array([feat_C1.shape[0],feat_C2.shape[0],feat_C1_K1.shape[0],feat_C2_K1.shape[0],feat_C1_K2.shape[0],feat_C2_K2.shape[0],\n",
    "                        feat_C1_K3.shape[0],feat_C2_K3.shape[0]])\n",
    "    answer1 = SGRM(feat_tr,feat_tr_dic_1,feat_tr_dic_2,feat_tr_dic,feat_l_te,matrix_index)\n",
    "    answer2 = SGRM(feat_tr,feat_tr_dic_1,feat_tr_dic_2,feat_tr_dic,feat_r_te,matrix_index)\n",
    "    x1 = 0\n",
    "    x2 = 0\n",
    "    for i in range(answer1.shape[0]):\n",
    "        if answer1[i] == 1:\n",
    "            x1 = x1 + 1\n",
    "        if answer2[i] == 2:\n",
    "            x2 = x2 + 1\n",
    "    temp1 = ((x1)/(answer1.shape[0]))*100\n",
    "    temp2 = ((x2)/(answer2.shape[0]))*100\n",
    "    temp = ((x1+x2)/(answer1.shape[0]+answer2.shape[0]))*100\n",
    "                    \n",
    "    return temp,temp1,temp2"
   ]
  },
  {
   "cell_type": "code",
   "execution_count": 89,
   "metadata": {},
   "outputs": [
    {
     "name": "stdout",
     "output_type": "stream",
     "text": [
      "[[ 50.   0. 100.]\n",
      " [ 50.   0. 100.]\n",
      " [ 59.  50.  68.]\n",
      " [ 50. 100.   0.]\n",
      " [ 50.   0. 100.]\n",
      " [ 55.  56.  54.]]\n"
     ]
    }
   ],
   "source": [
    "#train=30,test=40で分類を行った結果\n",
    "probability = np.array([])\n",
    "temp,temp1,temp2 = SGRM_test(\"feat_2a_250Hz_20/feat_left_A01T_20.txt\",\"feat_2a_250Hz_20/feat_right_A01T_20.txt\",\"feat_2a_250Hz_Test/feat_test_left_A01E.txt\",\"feat_2a_250Hz_Test/feat_test_right_A01E.txt\"\n",
    "                           ,\"feat_2a_250Hz_30/feat_left_A02T_30.txt\",\"feat_2a_250Hz_30/feat_right_A02T_30.txt\",\"feat_2a_250Hz_30/feat_left_A03T_30.txt\",\"feat_2a_250Hz_30/feat_right_A03T_30.txt\"\n",
    "                           ,\"feat_2a_250Hz_30/feat_left_A09T_30.txt\",\"feat_2a_250Hz_30/feat_right_A09T_30.txt\")\n",
    "temp_l = np.array([temp,temp1,temp2])\n",
    "probability = np.append(probability,temp_l,axis=0)\n",
    "temp,temp1,temp2 = SGRM_test(\"feat_2a_250Hz_20/feat_left_A02T_20.txt\",\"feat_2a_250Hz_20/feat_right_A02T_20.txt\",\"feat_2a_250Hz_Test/feat_test_left_A02E.txt\",\"feat_2a_250Hz_Test/feat_test_right_A02E.txt\"\n",
    "                           ,\"feat_2a_250Hz_30/feat_left_A01T_30.txt\",\"feat_2a_250Hz_30/feat_right_A01T_30.txt\",\"feat_2a_250Hz_30/feat_left_A03T_30.txt\",\"feat_2a_250Hz_30/feat_right_A03T_30.txt\"\n",
    "                           ,\"feat_2a_250Hz_30/feat_left_A09T_30.txt\",\"feat_2a_250Hz_30/feat_right_A09T_30.txt\")\n",
    "temp_l = np.array([temp,temp1,temp2])\n",
    "probability = np.append(probability,temp_l,axis=0)\n",
    "temp,temp1,temp2 = SGRM_test(\"feat_2a_250Hz_20/feat_left_A03T_20.txt\",\"feat_2a_250Hz_20/feat_right_A03T_20.txt\",\"feat_2a_250Hz_Test/feat_test_left_A03E.txt\",\"feat_2a_250Hz_Test/feat_test_right_A03E.txt\"\n",
    "                           ,\"feat_2a_250Hz_30/feat_left_A02T_30.txt\",\"feat_2a_250Hz_30/feat_right_A02T_30.txt\",\"feat_2a_250Hz_30/feat_left_A01T_30.txt\",\"feat_2a_250Hz_30/feat_right_A01T_30.txt\"\n",
    "                           ,\"feat_2a_250Hz_30/feat_left_A09T_30.txt\",\"feat_2a_250Hz_30/feat_right_A09T_30.txt\")\n",
    "temp_l = np.array([temp,temp1,temp2])\n",
    "probability = np.append(probability,temp_l,axis=0)\n",
    "temp,temp1,temp2 = SGRM_test(\"feat_2a_250Hz_20/feat_left_A07T_20.txt\",\"feat_2a_250Hz_20/feat_right_A07T_20.txt\",\"feat_2a_250Hz_Test/feat_test_left_A07E.txt\",\"feat_2a_250Hz_Test/feat_test_right_A07E.txt\"\n",
    "                           ,\"feat_2a_250Hz_30/feat_left_A03T_30.txt\",\"feat_2a_250Hz_30/feat_right_A03T_30.txt\"\n",
    "                           ,\"feat_2a_250Hz_30/feat_left_A01T_30.txt\",\"feat_2a_250Hz_30/feat_right_A01T_30.txt\",\"feat_2a_250Hz_30/feat_left_A09T_30.txt\",\"feat_2a_250Hz_30/feat_right_A09T_30.txt\")\n",
    "temp_l = np.array([temp,temp1,temp2])\n",
    "probability = np.append(probability,temp_l,axis=0)\n",
    "temp,temp1,temp2 = SGRM_test(\"feat_2a_250Hz_20/feat_left_A08T_20.txt\",\"feat_2a_250Hz_20/feat_right_A08T_20.txt\",\"feat_2a_250Hz_Test/feat_test_left_A08E.txt\",\"feat_2a_250Hz_Test/feat_test_right_A08E.txt\"\n",
    "                           ,\"feat_2a_250Hz_30/feat_left_A03T_30.txt\",\"feat_2a_250Hz_30/feat_right_A03T_30.txt\"\n",
    "                           ,\"feat_2a_250Hz_30/feat_left_A01T_30.txt\",\"feat_2a_250Hz_30/feat_right_A01T_30.txt\",\"feat_2a_250Hz_30/feat_left_A09T_30.txt\",\"feat_2a_250Hz_30/feat_right_A09T_30.txt\")\n",
    "temp_l = np.array([temp,temp1,temp2])\n",
    "probability = np.append(probability,temp_l,axis=0)\n",
    "temp,temp1,temp2 = SGRM_test(\"feat_2a_250Hz_20/feat_left_A09T_20.txt\",\"feat_2a_250Hz_20/feat_right_A09T_20.txt\",\"feat_2a_250Hz_Test/feat_test_left_A09E.txt\",\"feat_2a_250Hz_Test/feat_test_right_A09E.txt\"\n",
    "                           ,\"feat_2a_250Hz_30/feat_left_A03T_30.txt\",\"feat_2a_250Hz_30/feat_right_A03T_30.txt\"\n",
    "                           ,\"feat_2a_250Hz_30/feat_left_A01T_30.txt\",\"feat_2a_250Hz_30/feat_right_A01T_30.txt\",\"feat_2a_250Hz_30/feat_left_A08T_30.txt\",\"feat_2a_250Hz_30/feat_right_A08T_30.txt\")\n",
    "temp_l = np.array([temp,temp1,temp2])\n",
    "probability = np.append(probability,temp_l,axis=0)\n",
    "\n",
    "probability_1 = probability.reshape([6, 3])\n",
    "print(probability_1)"
   ]
  },
  {
   "cell_type": "code",
   "execution_count": 90,
   "metadata": {},
   "outputs": [
    {
     "name": "stdout",
     "output_type": "stream",
     "text": [
      "[[ 57.  18.  96.]\n",
      " [ 50.   0. 100.]\n",
      " [ 50.   6.  94.]\n",
      " [ 50. 100.   0.]\n",
      " [ 50. 100.   0.]\n",
      " [ 50.   0. 100.]]\n"
     ]
    }
   ],
   "source": [
    "#train=30,test=40で分類を行った結果\n",
    "probability = np.array([])\n",
    "temp,temp1,temp2 = SGRM_test(\"feat_2a_250Hz_20/feat_left_A01T_20.txt\",\"feat_2a_250Hz_20/feat_right_A01T_20.txt\",\"feat_2a_250Hz_Test/feat_test_left_A01E.txt\",\"feat_2a_250Hz_Test/feat_test_right_A01E.txt\"\n",
    "                           ,\"feat_2a_250Hz_30_2/feat_left_A02T_30.txt\",\"feat_2a_250Hz_30_2/feat_right_A02T_30.txt\",\"feat_2a_250Hz_30_2/feat_left_A03T_30.txt\",\"feat_2a_250Hz_30_2/feat_right_A03T_30.txt\"\n",
    "                           ,\"feat_2a_250Hz_30_2/feat_left_A09T_30.txt\",\"feat_2a_250Hz_30_2/feat_right_A09T_30.txt\")\n",
    "temp_l = np.array([temp,temp1,temp2])\n",
    "probability = np.append(probability,temp_l,axis=0)\n",
    "temp,temp1,temp2 = SGRM_test(\"feat_2a_250Hz_20/feat_left_A02T_20.txt\",\"feat_2a_250Hz_20/feat_right_A02T_20.txt\",\"feat_2a_250Hz_Test/feat_test_left_A02E.txt\",\"feat_2a_250Hz_Test/feat_test_right_A02E.txt\"\n",
    "                           ,\"feat_2a_250Hz_30_2/feat_left_A01T_30.txt\",\"feat_2a_250Hz_30_2/feat_right_A01T_30.txt\",\"feat_2a_250Hz_30_2/feat_left_A03T_30.txt\",\"feat_2a_250Hz_30_2/feat_right_A03T_30.txt\"\n",
    "                           ,\"feat_2a_250Hz_30_2/feat_left_A09T_30.txt\",\"feat_2a_250Hz_30_2/feat_right_A09T_30.txt\")\n",
    "temp_l = np.array([temp,temp1,temp2])\n",
    "probability = np.append(probability,temp_l,axis=0)\n",
    "temp,temp1,temp2 = SGRM_test(\"feat_2a_250Hz_20/feat_left_A03T_20.txt\",\"feat_2a_250Hz_20/feat_right_A03T_20.txt\",\"feat_2a_250Hz_Test/feat_test_left_A03E.txt\",\"feat_2a_250Hz_Test/feat_test_right_A03E.txt\"\n",
    "                           ,\"feat_2a_250Hz_30_2/feat_left_A02T_30.txt\",\"feat_2a_250Hz_30_2/feat_right_A02T_30.txt\",\"feat_2a_250Hz_30_2/feat_left_A01T_30.txt\",\"feat_2a_250Hz_30_2/feat_right_A01T_30.txt\"\n",
    "                           ,\"feat_2a_250Hz_30_2/feat_left_A09T_30.txt\",\"feat_2a_250Hz_30_2/feat_right_A09T_30.txt\")\n",
    "temp_l = np.array([temp,temp1,temp2])\n",
    "probability = np.append(probability,temp_l,axis=0)\n",
    "temp,temp1,temp2 = SGRM_test(\"feat_2a_250Hz_20/feat_left_A07T_20.txt\",\"feat_2a_250Hz_20/feat_right_A07T_20.txt\",\"feat_2a_250Hz_Test/feat_test_left_A07E.txt\",\"feat_2a_250Hz_Test/feat_test_right_A07E.txt\"\n",
    "                           ,\"feat_2a_250Hz_30_2/feat_left_A03T_30.txt\",\"feat_2a_250Hz_30_2/feat_right_A03T_30.txt\"\n",
    "                           ,\"feat_2a_250Hz_30_2/feat_left_A01T_30.txt\",\"feat_2a_250Hz_30_2/feat_right_A01T_30.txt\",\"feat_2a_250Hz_30_2/feat_left_A09T_30.txt\",\"feat_2a_250Hz_30_2/feat_right_A09T_30.txt\")\n",
    "temp_l = np.array([temp,temp1,temp2])\n",
    "probability = np.append(probability,temp_l,axis=0)\n",
    "temp,temp1,temp2 = SGRM_test(\"feat_2a_250Hz_20/feat_left_A08T_20.txt\",\"feat_2a_250Hz_20/feat_right_A08T_20.txt\",\"feat_2a_250Hz_Test/feat_test_left_A08E.txt\",\"feat_2a_250Hz_Test/feat_test_right_A08E.txt\"\n",
    "                           ,\"feat_2a_250Hz_30_2/feat_left_A03T_30.txt\",\"feat_2a_250Hz_30_2/feat_right_A03T_30.txt\"\n",
    "                           ,\"feat_2a_250Hz_30_2/feat_left_A01T_30.txt\",\"feat_2a_250Hz_30_2/feat_right_A01T_30.txt\",\"feat_2a_250Hz_30_2/feat_left_A09T_30.txt\",\"feat_2a_250Hz_30_2/feat_right_A09T_30.txt\")\n",
    "temp_l = np.array([temp,temp1,temp2])\n",
    "probability = np.append(probability,temp_l,axis=0)\n",
    "temp,temp1,temp2 = SGRM_test(\"feat_2a_250Hz_20/feat_left_A09T_20.txt\",\"feat_2a_250Hz_20/feat_right_A09T_20.txt\",\"feat_2a_250Hz_Test/feat_test_left_A09E.txt\",\"feat_2a_250Hz_Test/feat_test_right_A09E.txt\"\n",
    "                           ,\"feat_2a_250Hz_30_2/feat_left_A03T_30.txt\",\"feat_2a_250Hz_30_2/feat_right_A03T_30.txt\"\n",
    "                           ,\"feat_2a_250Hz_30_2/feat_left_A01T_30.txt\",\"feat_2a_250Hz_30_2/feat_right_A01T_30.txt\",\"feat_2a_250Hz_30_2/feat_left_A08T_30.txt\",\"feat_2a_250Hz_30_2/feat_right_A08T_30.txt\")\n",
    "temp_l = np.array([temp,temp1,temp2])\n",
    "probability = np.append(probability,temp_l,axis=0)\n",
    "\n",
    "probability_2 = probability.reshape([6, 3])\n",
    "print(probability_2)"
   ]
  },
  {
   "cell_type": "code",
   "execution_count": 91,
   "metadata": {},
   "outputs": [
    {
     "name": "stdout",
     "output_type": "stream",
     "text": [
      "[[ 44.  36.  52.]\n",
      " [ 50.   0. 100.]\n",
      " [ 53.  52.  54.]\n",
      " [ 51.  22.  80.]\n",
      " [ 50. 100.   0.]\n",
      " [ 50. 100.   0.]]\n"
     ]
    }
   ],
   "source": [
    "#train=30,test=40で分類を行った結果\n",
    "probability = np.array([])\n",
    "temp,temp1,temp2 = SGRM_test(\"feat_2a_250Hz_20/feat_left_A01T_20.txt\",\"feat_2a_250Hz_20/feat_right_A01T_20.txt\",\"feat_2a_250Hz_Test/feat_test_left_A01E.txt\",\"feat_2a_250Hz_Test/feat_test_right_A01E.txt\"\n",
    "                           ,\"feat_2a_250Hz_30_3/feat_left_A02T_30.txt\",\"feat_2a_250Hz_30_3/feat_right_A02T_30.txt\",\"feat_2a_250Hz_30_3/feat_left_A03T_30.txt\",\"feat_2a_250Hz_30_3/feat_right_A03T_30.txt\"\n",
    "                           ,\"feat_2a_250Hz_30_3/feat_left_A09T_30.txt\",\"feat_2a_250Hz_30_3/feat_right_A09T_30.txt\")\n",
    "temp_l = np.array([temp,temp1,temp2])\n",
    "probability = np.append(probability,temp_l,axis=0)\n",
    "temp,temp1,temp2 = SGRM_test(\"feat_2a_250Hz_20/feat_left_A02T_20.txt\",\"feat_2a_250Hz_20/feat_right_A02T_20.txt\",\"feat_2a_250Hz_Test/feat_test_left_A02E.txt\",\"feat_2a_250Hz_Test/feat_test_right_A02E.txt\"\n",
    "                           ,\"feat_2a_250Hz_30_3/feat_left_A01T_30.txt\",\"feat_2a_250Hz_30_3/feat_right_A01T_30.txt\",\"feat_2a_250Hz_30_3/feat_left_A03T_30.txt\",\"feat_2a_250Hz_30_3/feat_right_A03T_30.txt\"\n",
    "                           ,\"feat_2a_250Hz_30_3/feat_left_A09T_30.txt\",\"feat_2a_250Hz_30_3/feat_right_A09T_30.txt\")\n",
    "temp_l = np.array([temp,temp1,temp2])\n",
    "probability = np.append(probability,temp_l,axis=0)\n",
    "temp,temp1,temp2 = SGRM_test(\"feat_2a_250Hz_20/feat_left_A03T_20.txt\",\"feat_2a_250Hz_20/feat_right_A03T_20.txt\",\"feat_2a_250Hz_Test/feat_test_left_A03E.txt\",\"feat_2a_250Hz_Test/feat_test_right_A03E.txt\"\n",
    "                           ,\"feat_2a_250Hz_30_3/feat_left_A02T_30.txt\",\"feat_2a_250Hz_30_3/feat_right_A02T_30.txt\",\"feat_2a_250Hz_30_3/feat_left_A01T_30.txt\",\"feat_2a_250Hz_30_3/feat_right_A01T_30.txt\"\n",
    "                           ,\"feat_2a_250Hz_30_3/feat_left_A09T_30.txt\",\"feat_2a_250Hz_30_3/feat_right_A09T_30.txt\")\n",
    "temp_l = np.array([temp,temp1,temp2])\n",
    "probability = np.append(probability,temp_l,axis=0)\n",
    "temp,temp1,temp2 = SGRM_test(\"feat_2a_250Hz_30_3/feat_left_A07T_30.txt\",\"feat_2a_250Hz_30_3/feat_right_A07T_30.txt\",\"feat_2a_250Hz_Test/feat_test_left_A07E.txt\",\"feat_2a_250Hz_Test/feat_test_right_A07E.txt\"\n",
    "                           ,\"feat_2a_250Hz_30_3/feat_left_A03T_30.txt\",\"feat_2a_250Hz_30_3/feat_right_A03T_30.txt\"\n",
    "                           ,\"feat_2a_250Hz_30_3/feat_left_A01T_30.txt\",\"feat_2a_250Hz_30_3/feat_right_A01T_30.txt\",\"feat_2a_250Hz_30_3/feat_left_A09T_30.txt\",\"feat_2a_250Hz_30_3/feat_right_A09T_30.txt\")\n",
    "temp_l = np.array([temp,temp1,temp2])\n",
    "probability = np.append(probability,temp_l,axis=0)\n",
    "temp,temp1,temp2 = SGRM_test(\"feat_2a_250Hz_20/feat_left_A08T_20.txt\",\"feat_2a_250Hz_20/feat_right_A08T_20.txt\",\"feat_2a_250Hz_Test/feat_test_left_A08E.txt\",\"feat_2a_250Hz_Test/feat_test_right_A08E.txt\"\n",
    "                           ,\"feat_2a_250Hz_30_3/feat_left_A03T_30.txt\",\"feat_2a_250Hz_30_3/feat_right_A03T_30.txt\"\n",
    "                           ,\"feat_2a_250Hz_30_3/feat_left_A01T_30.txt\",\"feat_2a_250Hz_30_3/feat_right_A01T_30.txt\",\"feat_2a_250Hz_30_3/feat_left_A09T_30.txt\",\"feat_2a_250Hz_30_3/feat_right_A09T_30.txt\")\n",
    "temp_l = np.array([temp,temp1,temp2])\n",
    "probability = np.append(probability,temp_l,axis=0)\n",
    "temp,temp1,temp2 = SGRM_test(\"feat_2a_250Hz_20/feat_left_A09T_20.txt\",\"feat_2a_250Hz_20/feat_right_A09T_20.txt\",\"feat_2a_250Hz_Test/feat_test_left_A09E.txt\",\"feat_2a_250Hz_Test/feat_test_right_A09E.txt\"\n",
    "                           ,\"feat_2a_250Hz_30_3/feat_left_A03T_30.txt\",\"feat_2a_250Hz_30_3/feat_right_A03T_30.txt\"\n",
    "                           ,\"feat_2a_250Hz_30_3/feat_left_A01T_30.txt\",\"feat_2a_250Hz_30_3/feat_right_A01T_30.txt\",\"feat_2a_250Hz_30_3/feat_left_A08T_30.txt\",\"feat_2a_250Hz_30_3/feat_right_A08T_30.txt\")\n",
    "temp_l = np.array([temp,temp1,temp2])\n",
    "probability = np.append(probability,temp_l,axis=0)\n",
    "\n",
    "probability_3 = probability.reshape([6, 3])\n",
    "print(probability_3)"
   ]
  },
  {
   "cell_type": "code",
   "execution_count": 8,
   "metadata": {},
   "outputs": [
    {
     "name": "stdout",
     "output_type": "stream",
     "text": [
      "[[ 50.33333333  18.          82.66666667]\n",
      " [ 50.           0.         100.        ]\n",
      " [ 54.          36.          72.        ]\n",
      " [ 50.33333333  74.          26.66666667]\n",
      " [ 50.          66.66666667  33.33333333]\n",
      " [ 51.66666667  52.          51.33333333]]\n"
     ]
    }
   ],
   "source": [
    "p_average_250Hz = (probability_1+probability_2+probability_3)/3\n",
    "print(p_average_250Hz)"
   ]
  },
  {
   "cell_type": "code",
   "execution_count": 9,
   "metadata": {},
   "outputs": [
    {
     "name": "stdout",
     "output_type": "stream",
     "text": [
      "[[ 51.  74.  28.]\n",
      " [ 50.   0. 100.]\n",
      " [ 57.  48.  66.]\n",
      " [ 54.   8. 100.]\n",
      " [ 50.  20.  80.]\n",
      " [ 48.  96.   0.]]\n"
     ]
    }
   ],
   "source": [
    "#train=30,test=40で分類を行った結果\n",
    "probability = np.array([])\n",
    "temp,temp1,temp2 = SGRM_test(\"feat_2a_125Hz_20/feat_left_A01T_20.txt\",\"feat_2a_125Hz_20/feat_right_A01T_20.txt\",\"feat_2a_125Hz_Test/feat_test_left_A01E.txt\",\"feat_2a_125Hz_Test/feat_test_right_A01E.txt\"\n",
    "                           ,\"feat_2a_125Hz_30/feat_left_A02T_30.txt\",\"feat_2a_125Hz_30/feat_right_A02T_30.txt\",\"feat_2a_125Hz_30/feat_left_A03T_30.txt\",\"feat_2a_125Hz_30/feat_right_A03T_30.txt\"\n",
    "                           ,\"feat_2a_125Hz_30/feat_left_A09T_30.txt\",\"feat_2a_125Hz_30/feat_right_A09T_30.txt\")\n",
    "temp_l = np.array([temp,temp1,temp2])\n",
    "probability = np.append(probability,temp_l,axis=0)\n",
    "temp,temp1,temp2 = SGRM_test(\"feat_2a_125Hz_20/feat_left_A02T_20.txt\",\"feat_2a_125Hz_20/feat_right_A02T_20.txt\",\"feat_2a_125Hz_Test/feat_test_left_A02E.txt\",\"feat_2a_125Hz_Test/feat_test_right_A02E.txt\"\n",
    "                           ,\"feat_2a_125Hz_30/feat_left_A01T_30.txt\",\"feat_2a_125Hz_30/feat_right_A01T_30.txt\",\"feat_2a_125Hz_30/feat_left_A03T_30.txt\",\"feat_2a_125Hz_30/feat_right_A03T_30.txt\"\n",
    "                           ,\"feat_2a_125Hz_30/feat_left_A09T_30.txt\",\"feat_2a_125Hz_30/feat_right_A09T_30.txt\")\n",
    "temp_l = np.array([temp,temp1,temp2])\n",
    "probability = np.append(probability,temp_l,axis=0)\n",
    "temp,temp1,temp2 = SGRM_test(\"feat_2a_125Hz_20/feat_left_A03T_20.txt\",\"feat_2a_125Hz_20/feat_right_A03T_20.txt\",\"feat_2a_125Hz_Test/feat_test_left_A03E.txt\",\"feat_2a_125Hz_Test/feat_test_right_A03E.txt\"\n",
    "                           ,\"feat_2a_125Hz_30/feat_left_A02T_30.txt\",\"feat_2a_125Hz_30/feat_right_A02T_30.txt\",\"feat_2a_125Hz_30/feat_left_A01T_30.txt\",\"feat_2a_125Hz_30/feat_right_A01T_30.txt\"\n",
    "                           ,\"feat_2a_125Hz_30/feat_left_A09T_30.txt\",\"feat_2a_125Hz_30/feat_right_A09T_30.txt\")\n",
    "temp_l = np.array([temp,temp1,temp2])\n",
    "probability = np.append(probability,temp_l,axis=0)\n",
    "temp,temp1,temp2 = SGRM_test(\"feat_2a_125Hz_20/feat_left_A07T_20.txt\",\"feat_2a_125Hz_20/feat_right_A07T_20.txt\",\"feat_2a_125Hz_Test/feat_test_left_A07E.txt\",\"feat_2a_125Hz_Test/feat_test_right_A07E.txt\"\n",
    "                           ,\"feat_2a_125Hz_30/feat_left_A03T_30.txt\",\"feat_2a_125Hz_30/feat_right_A03T_30.txt\"\n",
    "                           ,\"feat_2a_125Hz_30/feat_left_A01T_30.txt\",\"feat_2a_125Hz_30/feat_right_A01T_30.txt\",\"feat_2a_125Hz_30/feat_left_A09T_30.txt\",\"feat_2a_125Hz_30/feat_right_A09T_30.txt\")\n",
    "temp_l = np.array([temp,temp1,temp2])\n",
    "probability = np.append(probability,temp_l,axis=0)\n",
    "temp,temp1,temp2 = SGRM_test(\"feat_2a_125Hz_20/feat_left_A08T_20.txt\",\"feat_2a_125Hz_20/feat_right_A08T_20.txt\",\"feat_2a_125Hz_Test/feat_test_left_A08E.txt\",\"feat_2a_125Hz_Test/feat_test_right_A08E.txt\"\n",
    "                           ,\"feat_2a_125Hz_30/feat_left_A03T_30.txt\",\"feat_2a_125Hz_30/feat_right_A03T_30.txt\"\n",
    "                           ,\"feat_2a_125Hz_30/feat_left_A01T_30.txt\",\"feat_2a_125Hz_30/feat_right_A01T_30.txt\",\"feat_2a_125Hz_30/feat_left_A09T_30.txt\",\"feat_2a_125Hz_30/feat_right_A09T_30.txt\")\n",
    "temp_l = np.array([temp,temp1,temp2])\n",
    "probability = np.append(probability,temp_l,axis=0)\n",
    "temp,temp1,temp2 = SGRM_test(\"feat_2a_125Hz_20/feat_left_A09T_20.txt\",\"feat_2a_125Hz_20/feat_right_A09T_20.txt\",\"feat_2a_125Hz_Test/feat_test_left_A09E.txt\",\"feat_2a_125Hz_Test/feat_test_right_A09E.txt\"\n",
    "                           ,\"feat_2a_125Hz_30/feat_left_A03T_30.txt\",\"feat_2a_125Hz_30/feat_right_A03T_30.txt\"\n",
    "                           ,\"feat_2a_125Hz_30/feat_left_A01T_30.txt\",\"feat_2a_125Hz_30/feat_right_A01T_30.txt\",\"feat_2a_125Hz_30/feat_left_A08T_30.txt\",\"feat_2a_125Hz_30/feat_right_A08T_30.txt\")\n",
    "temp_l = np.array([temp,temp1,temp2])\n",
    "probability = np.append(probability,temp_l,axis=0)\n",
    "\n",
    "probability_1 = probability.reshape([6, 3])\n",
    "print(probability_1)"
   ]
  },
  {
   "cell_type": "code",
   "execution_count": 10,
   "metadata": {},
   "outputs": [
    {
     "name": "stdout",
     "output_type": "stream",
     "text": [
      "[[ 50.   0. 100.]\n",
      " [ 48.  88.   8.]\n",
      " [ 57.  22.  92.]\n",
      " [ 50. 100.   0.]\n",
      " [ 50.   0. 100.]\n",
      " [ 55.  46.  64.]]\n"
     ]
    }
   ],
   "source": [
    "#train=30,test=40で分類を行った結果\n",
    "probability = np.array([])\n",
    "temp,temp1,temp2 = SGRM_test(\"feat_2a_125Hz_20/feat_left_A01T_20.txt\",\"feat_2a_125Hz_20/feat_right_A01T_20.txt\",\"feat_2a_125Hz_Test/feat_test_left_A01E.txt\",\"feat_2a_125Hz_Test/feat_test_right_A01E.txt\"\n",
    "                           ,\"feat_2a_125Hz_30_2/feat_left_A02T_30.txt\",\"feat_2a_125Hz_30_2/feat_right_A02T_30.txt\",\"feat_2a_125Hz_30_2/feat_left_A03T_30.txt\",\"feat_2a_125Hz_30_2/feat_right_A03T_30.txt\"\n",
    "                           ,\"feat_2a_125Hz_30_2/feat_left_A09T_30.txt\",\"feat_2a_125Hz_30_2/feat_right_A09T_30.txt\")\n",
    "temp_l = np.array([temp,temp1,temp2])\n",
    "probability = np.append(probability,temp_l,axis=0)\n",
    "temp,temp1,temp2 = SGRM_test(\"feat_2a_125Hz_20/feat_left_A02T_20.txt\",\"feat_2a_125Hz_20/feat_right_A02T_20.txt\",\"feat_2a_125Hz_Test/feat_test_left_A02E.txt\",\"feat_2a_125Hz_Test/feat_test_right_A02E.txt\"\n",
    "                           ,\"feat_2a_125Hz_30_2/feat_left_A01T_30.txt\",\"feat_2a_125Hz_30_2/feat_right_A01T_30.txt\",\"feat_2a_125Hz_30_2/feat_left_A03T_30.txt\",\"feat_2a_125Hz_30_2/feat_right_A03T_30.txt\"\n",
    "                           ,\"feat_2a_125Hz_30_2/feat_left_A09T_30.txt\",\"feat_2a_125Hz_30_2/feat_right_A09T_30.txt\")\n",
    "temp_l = np.array([temp,temp1,temp2])\n",
    "probability = np.append(probability,temp_l,axis=0)\n",
    "temp,temp1,temp2 = SGRM_test(\"feat_2a_125Hz_20/feat_left_A03T_20.txt\",\"feat_2a_125Hz_20/feat_right_A03T_20.txt\",\"feat_2a_125Hz_Test/feat_test_left_A03E.txt\",\"feat_2a_125Hz_Test/feat_test_right_A03E.txt\"\n",
    "                           ,\"feat_2a_125Hz_30_2/feat_left_A02T_30.txt\",\"feat_2a_125Hz_30_2/feat_right_A02T_30.txt\",\"feat_2a_125Hz_30_2/feat_left_A01T_30.txt\",\"feat_2a_125Hz_30_2/feat_right_A01T_30.txt\"\n",
    "                           ,\"feat_2a_125Hz_30_2/feat_left_A09T_30.txt\",\"feat_2a_125Hz_30_2/feat_right_A09T_30.txt\")\n",
    "temp_l = np.array([temp,temp1,temp2])\n",
    "probability = np.append(probability,temp_l,axis=0)\n",
    "temp,temp1,temp2 = SGRM_test(\"feat_2a_125Hz_20/feat_left_A07T_20.txt\",\"feat_2a_125Hz_20/feat_right_A07T_20.txt\",\"feat_2a_125Hz_Test/feat_test_left_A07E.txt\",\"feat_2a_125Hz_Test/feat_test_right_A07E.txt\"\n",
    "                           ,\"feat_2a_125Hz_30_2/feat_left_A03T_30.txt\",\"feat_2a_125Hz_30_2/feat_right_A03T_30.txt\"\n",
    "                           ,\"feat_2a_125Hz_30_2/feat_left_A01T_30.txt\",\"feat_2a_125Hz_30_2/feat_right_A01T_30.txt\",\"feat_2a_125Hz_30_2/feat_left_A09T_30.txt\",\"feat_2a_125Hz_30_2/feat_right_A09T_30.txt\")\n",
    "temp_l = np.array([temp,temp1,temp2])\n",
    "probability = np.append(probability,temp_l,axis=0)\n",
    "temp,temp1,temp2 = SGRM_test(\"feat_2a_125Hz_20/feat_left_A08T_20.txt\",\"feat_2a_125Hz_20/feat_right_A08T_20.txt\",\"feat_2a_125Hz_Test/feat_test_left_A08E.txt\",\"feat_2a_125Hz_Test/feat_test_right_A08E.txt\"\n",
    "                           ,\"feat_2a_125Hz_30_2/feat_left_A03T_30.txt\",\"feat_2a_125Hz_30_2/feat_right_A03T_30.txt\"\n",
    "                           ,\"feat_2a_125Hz_30_2/feat_left_A01T_30.txt\",\"feat_2a_125Hz_30_2/feat_right_A01T_30.txt\",\"feat_2a_125Hz_30_2/feat_left_A09T_30.txt\",\"feat_2a_125Hz_30_2/feat_right_A09T_30.txt\")\n",
    "temp_l = np.array([temp,temp1,temp2])\n",
    "probability = np.append(probability,temp_l,axis=0)\n",
    "temp,temp1,temp2 = SGRM_test(\"feat_2a_125Hz_20/feat_left_A09T_20.txt\",\"feat_2a_125Hz_20/feat_right_A09T_20.txt\",\"feat_2a_125Hz_Test/feat_test_left_A09E.txt\",\"feat_2a_125Hz_Test/feat_test_right_A09E.txt\"\n",
    "                           ,\"feat_2a_125Hz_30_2/feat_left_A03T_30.txt\",\"feat_2a_125Hz_30_2/feat_right_A03T_30.txt\"\n",
    "                           ,\"feat_2a_125Hz_30_2/feat_left_A01T_30.txt\",\"feat_2a_125Hz_30_2/feat_right_A01T_30.txt\",\"feat_2a_125Hz_30_2/feat_left_A06T_30.txt\",\"feat_2a_125Hz_30_2/feat_right_A06T_30.txt\")\n",
    "temp_l = np.array([temp,temp1,temp2])\n",
    "probability = np.append(probability,temp_l,axis=0)\n",
    "\n",
    "probability_2 = probability.reshape([6, 3])\n",
    "print(probability_2)"
   ]
  },
  {
   "cell_type": "code",
   "execution_count": 11,
   "metadata": {},
   "outputs": [
    {
     "name": "stdout",
     "output_type": "stream",
     "text": [
      "[[ 50.   0. 100.]\n",
      " [ 50. 100.   0.]\n",
      " [ 50. 100.   0.]\n",
      " [ 52.  24.  80.]\n",
      " [ 56.  28.  84.]\n",
      " [ 59.  42.  76.]]\n"
     ]
    }
   ],
   "source": [
    "#train=30,test=40で分類を行った結果\n",
    "probability = np.array([])\n",
    "temp,temp1,temp2 = SGRM_test(\"feat_2a_125Hz_20/feat_left_A01T_20.txt\",\"feat_2a_125Hz_20/feat_right_A01T_20.txt\",\"feat_2a_125Hz_Test/feat_test_left_A01E.txt\",\"feat_2a_125Hz_Test/feat_test_right_A01E.txt\"\n",
    "                           ,\"feat_2a_125Hz_30_3/feat_left_A02T_30.txt\",\"feat_2a_125Hz_30_3/feat_right_A02T_30.txt\",\"feat_2a_125Hz_30_3/feat_left_A03T_30.txt\",\"feat_2a_125Hz_30_3/feat_right_A03T_30.txt\"\n",
    "                           ,\"feat_2a_125Hz_30_3/feat_left_A09T_30.txt\",\"feat_2a_125Hz_30_3/feat_right_A09T_30.txt\")\n",
    "temp_l = np.array([temp,temp1,temp2])\n",
    "probability = np.append(probability,temp_l,axis=0)\n",
    "temp,temp1,temp2 = SGRM_test(\"feat_2a_125Hz_20/feat_left_A02T_20.txt\",\"feat_2a_125Hz_20/feat_right_A02T_20.txt\",\"feat_2a_125Hz_Test/feat_test_left_A02E.txt\",\"feat_2a_125Hz_Test/feat_test_right_A02E.txt\"\n",
    "                           ,\"feat_2a_125Hz_30_3/feat_left_A01T_30.txt\",\"feat_2a_125Hz_30_3/feat_right_A01T_30.txt\",\"feat_2a_125Hz_30_3/feat_left_A03T_30.txt\",\"feat_2a_125Hz_30_3/feat_right_A03T_30.txt\"\n",
    "                           ,\"feat_2a_125Hz_30_3/feat_left_A09T_30.txt\",\"feat_2a_125Hz_30_3/feat_right_A09T_30.txt\")\n",
    "temp_l = np.array([temp,temp1,temp2])\n",
    "probability = np.append(probability,temp_l,axis=0)\n",
    "temp,temp1,temp2 = SGRM_test(\"feat_2a_125Hz_20/feat_left_A03T_20.txt\",\"feat_2a_125Hz_20/feat_right_A03T_20.txt\",\"feat_2a_125Hz_Test/feat_test_left_A03E.txt\",\"feat_2a_125Hz_Test/feat_test_right_A03E.txt\"\n",
    "                           ,\"feat_2a_125Hz_30_3/feat_left_A02T_30.txt\",\"feat_2a_125Hz_30_3/feat_right_A02T_30.txt\",\"feat_2a_125Hz_30_3/feat_left_A01T_30.txt\",\"feat_2a_125Hz_30_3/feat_right_A01T_30.txt\"\n",
    "                           ,\"feat_2a_125Hz_30_3/feat_left_A09T_30.txt\",\"feat_2a_125Hz_30_3/feat_right_A09T_30.txt\")\n",
    "temp_l = np.array([temp,temp1,temp2])\n",
    "probability = np.append(probability,temp_l,axis=0)\n",
    "temp,temp1,temp2 = SGRM_test(\"feat_2a_125Hz_20/feat_left_A07T_20.txt\",\"feat_2a_125Hz_20/feat_right_A07T_20.txt\",\"feat_2a_125Hz_Test/feat_test_left_A07E.txt\",\"feat_2a_125Hz_Test/feat_test_right_A07E.txt\"\n",
    "                           ,\"feat_2a_125Hz_30_3/feat_left_A03T_30.txt\",\"feat_2a_125Hz_30_3/feat_right_A03T_30.txt\"\n",
    "                           ,\"feat_2a_125Hz_30_3/feat_left_A01T_30.txt\",\"feat_2a_125Hz_30_3/feat_right_A01T_30.txt\",\"feat_2a_125Hz_30_3/feat_left_A09T_30.txt\",\"feat_2a_125Hz_30_3/feat_right_A09T_30.txt\")\n",
    "temp_l = np.array([temp,temp1,temp2])\n",
    "probability = np.append(probability,temp_l,axis=0)\n",
    "temp,temp1,temp2 = SGRM_test(\"feat_2a_125Hz_20/feat_left_A08T_20.txt\",\"feat_2a_125Hz_20/feat_right_A08T_20.txt\",\"feat_2a_125Hz_Test/feat_test_left_A08E.txt\",\"feat_2a_125Hz_Test/feat_test_right_A08E.txt\"\n",
    "                           ,\"feat_2a_125Hz_30_3/feat_left_A03T_30.txt\",\"feat_2a_125Hz_30_3/feat_right_A03T_30.txt\"\n",
    "                           ,\"feat_2a_125Hz_30_3/feat_left_A01T_30.txt\",\"feat_2a_125Hz_30_3/feat_right_A01T_30.txt\",\"feat_2a_125Hz_30_3/feat_left_A09T_30.txt\",\"feat_2a_125Hz_30_3/feat_right_A09T_30.txt\")\n",
    "temp_l = np.array([temp,temp1,temp2])\n",
    "probability = np.append(probability,temp_l,axis=0)\n",
    "temp,temp1,temp2 = SGRM_test(\"feat_2a_125Hz_20/feat_left_A09T_20.txt\",\"feat_2a_125Hz_20/feat_right_A09T_20.txt\",\"feat_2a_125Hz_Test/feat_test_left_A09E.txt\",\"feat_2a_125Hz_Test/feat_test_right_A09E.txt\"\n",
    "                           ,\"feat_2a_125Hz_30_3/feat_left_A03T_30.txt\",\"feat_2a_125Hz_30_3/feat_right_A03T_30.txt\"\n",
    "                           ,\"feat_2a_125Hz_30_3/feat_left_A01T_30.txt\",\"feat_2a_125Hz_30_3/feat_right_A01T_30.txt\",\"feat_2a_125Hz_30_3/feat_left_A08T_30.txt\",\"feat_2a_125Hz_30_3/feat_right_A08T_30.txt\")\n",
    "temp_l = np.array([temp,temp1,temp2])\n",
    "probability = np.append(probability,temp_l,axis=0)\n",
    "\n",
    "probability_3 = probability.reshape([6, 3])\n",
    "print(probability_3)"
   ]
  },
  {
   "cell_type": "code",
   "execution_count": 12,
   "metadata": {},
   "outputs": [
    {
     "name": "stdout",
     "output_type": "stream",
     "text": [
      "[[50.33333333 24.66666667 76.        ]\n",
      " [49.33333333 62.66666667 36.        ]\n",
      " [54.66666667 56.66666667 52.66666667]\n",
      " [52.         44.         60.        ]\n",
      " [52.         16.         88.        ]\n",
      " [54.         61.33333333 46.66666667]]\n"
     ]
    }
   ],
   "source": [
    "p_average_125Hz = (probability_1+probability_2+probability_3)/3\n",
    "print(p_average_125Hz)"
   ]
  },
  {
   "cell_type": "code",
   "execution_count": 13,
   "metadata": {},
   "outputs": [
    {
     "name": "stdout",
     "output_type": "stream",
     "text": [
      "51.055555555555564 52.055555555555564\n"
     ]
    }
   ],
   "source": [
    "a_20 = 0; a_30 = 0;\n",
    "for i in range(6):\n",
    "    a_20 = a_20 + p_average_250Hz[i,0] \n",
    "    a_30 = a_30 + p_average_125Hz[i,0] \n",
    "    \n",
    "a_20 = a_20/6\n",
    "a_30 = a_30/6\n",
    "print(a_20,a_30)"
   ]
  },
  {
   "cell_type": "code",
   "execution_count": 14,
   "metadata": {},
   "outputs": [
    {
     "name": "stdout",
     "output_type": "stream",
     "text": [
      "[[50.33333333 49.33333333 54.66666667 52.         52.         54.        ]\n",
      " [50.33333333 50.         54.         50.33333333 50.         51.66666667]]\n"
     ]
    },
    {
     "data": {
      "image/png": "[encoded data removed]",
      "text/plain": [
       "<Figure size 432x288 with 1 Axes>"
      ]
     },
     "metadata": {
      "needs_background": "light"
     },
     "output_type": "display_data"
    }
   ],
   "source": [
    "import matplotlib.pyplot as plt\n",
    "import japanize_matplotlib\n",
    "y = np.array([])\n",
    "x = np.arange(1, 7, step=1)\n",
    "y = np.append(p_average_250Hz[:,0],y)\n",
    "y = np.append(p_average_125Hz[:,0],y)\n",
    "y = y.reshape([2,6])\n",
    "print(y)\n",
    "plt.plot(x,y[1],\"red\")\n",
    "plt.plot(x,y[0])\n",
    "plt.title(\"SGRM_Group分類確率\", {\"fontsize\":20})\n",
    "plt.xlabel(\"被験者No.\", {\"fontsize\":15})\n",
    "plt.ylabel(\"分類確率(%)\", {\"fontsize\":15})\n",
    "plt.xticks(np.arange(1, 7, step=1))\n",
    "plt.yticks(np.arange(0, 110, step=10))\n",
    "plt.savefig(\"2a_SGRM_group_probability_K3.pdf\")\n",
    "plt.show()"
   ]
  },
  {
   "cell_type": "code",
   "execution_count": 15,
   "metadata": {},
   "outputs": [
    {
     "name": "stderr",
     "output_type": "stream",
     "text": [
      "C:\\Users\\takehara kouta\\anaconda3\\lib\\site-packages\\cvxpy\\problems\\problem.py:1279: UserWarning: Solution may be inaccurate. Try another solver, adjusting the solver settings, or solve with verbose=True for more information.\n",
      "  \"Solution may be inaccurate. Try another solver, \"\n"
     ]
    },
    {
     "name": "stdout",
     "output_type": "stream",
     "text": [
      "[[51. 92. 10.]\n",
      " [50. 98.  2.]\n",
      " [54. 76. 32.]]\n"
     ]
    }
   ],
   "source": [
    "#train=30,test=50で分類を行った結果\n",
    "probability = np.array([])\n",
    "temp,temp1,temp2 = SGRM_test(\"feat_4a_1000Hz_20/feat_right_aa_20.txt\",\"feat_4a_1000Hz_20/feat_foot_aa_20.txt\",\"feat_4a_1000Hz_Test/feat_test_right_aa.txt\",\"feat_4a_1000Hz_Test/feat_test_foot_aa.txt\"\n",
    "                           ,\"feat_4a_1000Hz_30/feat_right_av_30.txt\",\"feat_4a_1000Hz_30/feat_foot_av_30.txt\",\"feat_4a_1000Hz_30/feat_right_al_30.txt\",\"feat_4a_1000Hz_30/feat_foot_al_30.txt\"\n",
    "                           ,\"feat_4a_1000Hz_30/feat_right_aw_30.txt\",\"feat_4a_1000Hz_30/feat_foot_aw_30.txt\")\n",
    "temp_l = np.array([temp,temp1,temp2])\n",
    "probability = np.append(probability,temp_l,axis=0)\n",
    "temp,temp1,temp2 = SGRM_test(\"feat_4a_1000Hz_20/feat_right_av_20.txt\",\"feat_4a_1000Hz_20/feat_foot_av_20.txt\",\"feat_4a_1000Hz_Test/feat_test_right_av.txt\",\"feat_4a_1000Hz_Test/feat_test_foot_av.txt\"\n",
    "                           ,\"feat_4a_1000Hz_30/feat_right_aa_30.txt\",\"feat_4a_1000Hz_30/feat_foot_aa_30.txt\",\"feat_4a_1000Hz_30/feat_right_al_30.txt\",\"feat_4a_1000Hz_30/feat_foot_al_30.txt\"\n",
    "                           ,\"feat_4a_1000Hz_30/feat_right_aw_30.txt\",\"feat_4a_1000Hz_30/feat_foot_aw_30.txt\")\n",
    "temp_l = np.array([temp,temp1,temp2])\n",
    "probability = np.append(probability,temp_l,axis=0)\n",
    "temp,temp1,temp2 = SGRM_test(\"feat_4a_1000Hz_20/feat_right_aw_20.txt\",\"feat_4a_1000Hz_20/feat_foot_aw_20.txt\",\"feat_4a_1000Hz_Test/feat_test_right_aw.txt\",\"feat_4a_1000Hz_Test/feat_test_foot_aw.txt\"\n",
    "                           ,\"feat_4a_1000Hz_30/feat_right_aa_30.txt\",\"feat_4a_1000Hz_30/feat_foot_aa_30.txt\",\"feat_4a_1000Hz_30/feat_right_al_30.txt\",\"feat_4a_1000Hz_30/feat_foot_al_30.txt\"\n",
    "                           ,\"feat_4a_1000Hz_30/feat_right_av_30.txt\",\"feat_4a_1000Hz_30/feat_foot_av_30.txt\")\n",
    "temp_l = np.array([temp,temp1,temp2])\n",
    "probability = np.append(probability,temp_l,axis=0)\n",
    "\n",
    "probability_1 = probability.reshape([3, 3])\n",
    "print(probability_1)"
   ]
  },
  {
   "cell_type": "code",
   "execution_count": 16,
   "metadata": {},
   "outputs": [
    {
     "name": "stdout",
     "output_type": "stream",
     "text": [
      "[[49. 92.  6.]\n",
      " [52. 60. 44.]\n",
      " [51. 30. 72.]]\n"
     ]
    }
   ],
   "source": [
    "#train=30,test=50で分類を行った結果\n",
    "probability = np.array([])\n",
    "temp,temp1,temp2 = SGRM_test(\"feat_4a_1000Hz_20/feat_right_aa_20.txt\",\"feat_4a_1000Hz_20/feat_foot_aa_20.txt\",\"feat_4a_1000Hz_Test/feat_test_right_aa.txt\",\"feat_4a_1000Hz_Test/feat_test_foot_aa.txt\"\n",
    "                           ,\"feat_4a_1000Hz_30_2/feat_right_av_30.txt\",\"feat_4a_1000Hz_30_2/feat_foot_av_30.txt\",\"feat_4a_1000Hz_30_2/feat_right_al_30.txt\",\"feat_4a_1000Hz_30_2/feat_foot_al_30.txt\"\n",
    "                           ,\"feat_4a_1000Hz_30_2/feat_right_aw_30.txt\",\"feat_4a_1000Hz_30_2/feat_foot_aw_30.txt\")\n",
    "temp_l = np.array([temp,temp1,temp2])\n",
    "probability = np.append(probability,temp_l,axis=0)\n",
    "temp,temp1,temp2 = SGRM_test(\"feat_4a_1000Hz_20/feat_right_av_20.txt\",\"feat_4a_1000Hz_20/feat_foot_av_20.txt\",\"feat_4a_1000Hz_Test/feat_test_right_av.txt\",\"feat_4a_1000Hz_Test/feat_test_foot_av.txt\"\n",
    "                           ,\"feat_4a_1000Hz_30_2/feat_right_aa_30.txt\",\"feat_4a_1000Hz_30_2/feat_foot_aa_30.txt\",\"feat_4a_1000Hz_30_2/feat_right_al_30.txt\",\"feat_4a_1000Hz_30_2/feat_foot_al_30.txt\"\n",
    "                           ,\"feat_4a_1000Hz_30_2/feat_right_aw_30.txt\",\"feat_4a_1000Hz_30_2/feat_foot_aw_30.txt\")\n",
    "temp_l = np.array([temp,temp1,temp2])\n",
    "probability = np.append(probability,temp_l,axis=0)\n",
    "temp,temp1,temp2 = SGRM_test(\"feat_4a_1000Hz_20/feat_right_aw_20.txt\",\"feat_4a_1000Hz_20/feat_foot_aw_20.txt\",\"feat_4a_1000Hz_Test/feat_test_right_aw.txt\",\"feat_4a_1000Hz_Test/feat_test_foot_aw.txt\"\n",
    "                           ,\"feat_4a_1000Hz_30_2/feat_right_aa_30.txt\",\"feat_4a_1000Hz_30_2/feat_foot_aa_30.txt\",\"feat_4a_1000Hz_30_2/feat_right_al_30.txt\",\"feat_4a_1000Hz_30_2/feat_foot_al_30.txt\"\n",
    "                           ,\"feat_4a_1000Hz_30_2/feat_right_av_30.txt\",\"feat_4a_1000Hz_30_2/feat_foot_av_30.txt\")\n",
    "temp_l = np.array([temp,temp1,temp2])\n",
    "probability = np.append(probability,temp_l,axis=0)\n",
    "\n",
    "probability_2 = probability.reshape([3, 3])\n",
    "print(probability_2)"
   ]
  },
  {
   "cell_type": "code",
   "execution_count": 17,
   "metadata": {},
   "outputs": [
    {
     "name": "stdout",
     "output_type": "stream",
     "text": [
      "[[ 51.  90.  12.]\n",
      " [ 50.   0. 100.]\n",
      " [ 53.  86.  20.]]\n"
     ]
    }
   ],
   "source": [
    "#train=30,test=50で分類を行った結果\n",
    "probability = np.array([])\n",
    "temp,temp1,temp2 = SGRM_test(\"feat_4a_1000Hz_20/feat_right_aa_20.txt\",\"feat_4a_1000Hz_20/feat_foot_aa_20.txt\",\"feat_4a_1000Hz_Test/feat_test_right_aa.txt\",\"feat_4a_1000Hz_Test/feat_test_foot_aa.txt\"\n",
    "                           ,\"feat_4a_1000Hz_30_3/feat_right_av_30.txt\",\"feat_4a_1000Hz_30_3/feat_foot_av_30.txt\",\"feat_4a_1000Hz_30_3/feat_right_al_30.txt\",\"feat_4a_1000Hz_30_3/feat_foot_al_30.txt\"\n",
    "                           ,\"feat_4a_1000Hz_30_3/feat_right_aw_30.txt\",\"feat_4a_1000Hz_30_3/feat_foot_aw_30.txt\")\n",
    "temp_l = np.array([temp,temp1,temp2])\n",
    "probability = np.append(probability,temp_l,axis=0)\n",
    "temp,temp1,temp2 = SGRM_test(\"feat_4a_1000Hz_20/feat_right_av_20.txt\",\"feat_4a_1000Hz_20/feat_foot_av_20.txt\",\"feat_4a_1000Hz_Test/feat_test_right_av.txt\",\"feat_4a_1000Hz_Test/feat_test_foot_av.txt\"\n",
    "                           ,\"feat_4a_1000Hz_30_3/feat_right_aa_30.txt\",\"feat_4a_1000Hz_30_3/feat_foot_aa_30.txt\",\"feat_4a_1000Hz_30_3/feat_right_al_30.txt\",\"feat_4a_1000Hz_30_3/feat_foot_al_30.txt\"\n",
    "                           ,\"feat_4a_1000Hz_30_3/feat_right_aw_30.txt\",\"feat_4a_1000Hz_30_3/feat_foot_aw_30.txt\")\n",
    "temp_l = np.array([temp,temp1,temp2])\n",
    "probability = np.append(probability,temp_l,axis=0)\n",
    "temp,temp1,temp2 = SGRM_test(\"feat_4a_1000Hz_20/feat_right_aw_20.txt\",\"feat_4a_1000Hz_20/feat_foot_aw_20.txt\",\"feat_4a_1000Hz_Test/feat_test_right_aw.txt\",\"feat_4a_1000Hz_Test/feat_test_foot_aw.txt\"\n",
    "                           ,\"feat_4a_1000Hz_30_3/feat_right_aa_30.txt\",\"feat_4a_1000Hz_30_3/feat_foot_aa_30.txt\",\"feat_4a_1000Hz_30_3/feat_right_al_30.txt\",\"feat_4a_1000Hz_30_3/feat_foot_al_30.txt\"\n",
    "                           ,\"feat_4a_1000Hz_30_3/feat_right_av_30.txt\",\"feat_4a_1000Hz_30_3/feat_foot_av_30.txt\")\n",
    "temp_l = np.array([temp,temp1,temp2])\n",
    "probability = np.append(probability,temp_l,axis=0)\n",
    "\n",
    "probability_3 = probability.reshape([3, 3])\n",
    "print(probability_3)"
   ]
  },
  {
   "cell_type": "code",
   "execution_count": 18,
   "metadata": {},
   "outputs": [
    {
     "name": "stdout",
     "output_type": "stream",
     "text": [
      "[[50.33333333 91.33333333  9.33333333]\n",
      " [50.66666667 52.66666667 48.66666667]\n",
      " [52.66666667 64.         41.33333333]]\n"
     ]
    }
   ],
   "source": [
    "p_average_1000Hz = (probability_1+probability_2+probability_3)/3\n",
    "print(p_average_1000Hz)"
   ]
  },
  {
   "cell_type": "code",
   "execution_count": 19,
   "metadata": {},
   "outputs": [
    {
     "name": "stdout",
     "output_type": "stream",
     "text": [
      "[[ 50.   0. 100.]\n",
      " [ 49.   0.  98.]\n",
      " [ 50.   0. 100.]]\n"
     ]
    }
   ],
   "source": [
    "#train=30,test=50で分類を行った結果\n",
    "probability = np.array([])\n",
    "temp,temp1,temp2 = SGRM_test(\"feat_4a_100Hz_20/feat_right_aa_20.txt\",\"feat_4a_100Hz_20/feat_foot_aa_20.txt\",\"feat_4a_100Hz_Test/feat_test_right_aa.txt\",\"feat_4a_100Hz_Test/feat_test_foot_aa.txt\"\n",
    "                           ,\"feat_4a_100Hz_30/feat_right_av_30.txt\",\"feat_4a_100Hz_30/feat_foot_av_30.txt\",\"feat_4a_100Hz_30/feat_right_al_30.txt\",\"feat_4a_100Hz_30/feat_foot_al_30.txt\"\n",
    "                           ,\"feat_4a_100Hz_30/feat_right_aw_30.txt\",\"feat_4a_100Hz_30/feat_foot_aw_30.txt\")\n",
    "temp_l = np.array([temp,temp1,temp2])\n",
    "probability = np.append(probability,temp_l,axis=0)\n",
    "temp,temp1,temp2 = SGRM_test(\"feat_4a_100Hz_20/feat_right_av_20.txt\",\"feat_4a_100Hz_20/feat_foot_av_20.txt\",\"feat_4a_100Hz_Test/feat_test_right_av.txt\",\"feat_4a_100Hz_Test/feat_test_foot_av.txt\"\n",
    "                           ,\"feat_4a_100Hz_30/feat_right_aa_30.txt\",\"feat_4a_100Hz_30/feat_foot_aa_30.txt\",\"feat_4a_100Hz_30/feat_right_al_30.txt\",\"feat_4a_100Hz_30/feat_foot_al_30.txt\"\n",
    "                           ,\"feat_4a_100Hz_30/feat_right_aw_30.txt\",\"feat_4a_100Hz_30/feat_foot_aw_30.txt\")\n",
    "temp_l = np.array([temp,temp1,temp2])\n",
    "probability = np.append(probability,temp_l,axis=0)\n",
    "temp,temp1,temp2 = SGRM_test(\"feat_4a_100Hz_20/feat_right_aw_20.txt\",\"feat_4a_100Hz_20/feat_foot_aw_20.txt\",\"feat_4a_100Hz_Test/feat_test_right_aw.txt\",\"feat_4a_100Hz_Test/feat_test_foot_aw.txt\"\n",
    "                           ,\"feat_4a_100Hz_30/feat_right_aa_30.txt\",\"feat_4a_100Hz_30/feat_foot_aa_30.txt\",\"feat_4a_100Hz_30/feat_right_al_30.txt\",\"feat_4a_100Hz_30/feat_foot_al_30.txt\"\n",
    "                           ,\"feat_4a_100Hz_30/feat_right_av_30.txt\",\"feat_4a_100Hz_30/feat_foot_av_30.txt\")\n",
    "temp_l = np.array([temp,temp1,temp2])\n",
    "probability = np.append(probability,temp_l,axis=0)\n",
    "\n",
    "probability_1 = probability.reshape([3, 3])\n",
    "print(probability_1)"
   ]
  },
  {
   "cell_type": "code",
   "execution_count": 20,
   "metadata": {},
   "outputs": [
    {
     "name": "stdout",
     "output_type": "stream",
     "text": [
      "[[ 51.  10.  92.]\n",
      " [ 50. 100.   0.]\n",
      " [ 50.   0. 100.]]\n"
     ]
    }
   ],
   "source": [
    "#train=30,test=50で分類を行った結果\n",
    "probability = np.array([])\n",
    "temp,temp1,temp2 = SGRM_test(\"feat_4a_100Hz_20/feat_right_aa_20.txt\",\"feat_4a_100Hz_20/feat_foot_aa_20.txt\",\"feat_4a_100Hz_Test/feat_test_right_aa.txt\",\"feat_4a_100Hz_Test/feat_test_foot_aa.txt\"\n",
    "                           ,\"feat_4a_100Hz_30_2/feat_right_av_30.txt\",\"feat_4a_100Hz_30_2/feat_foot_av_30.txt\",\"feat_4a_100Hz_30_2/feat_right_al_30.txt\",\"feat_4a_100Hz_30_2/feat_foot_al_30.txt\"\n",
    "                           ,\"feat_4a_100Hz_30_2/feat_right_aw_30.txt\",\"feat_4a_100Hz_30_2/feat_foot_aw_30.txt\")\n",
    "temp_l = np.array([temp,temp1,temp2])\n",
    "probability = np.append(probability,temp_l,axis=0)\n",
    "temp,temp1,temp2 = SGRM_test(\"feat_4a_100Hz_20/feat_right_av_20.txt\",\"feat_4a_100Hz_20/feat_foot_av_20.txt\",\"feat_4a_100Hz_Test/feat_test_right_av.txt\",\"feat_4a_100Hz_Test/feat_test_foot_av.txt\"\n",
    "                           ,\"feat_4a_100Hz_30_2/feat_right_aa_30.txt\",\"feat_4a_100Hz_30_2/feat_foot_aa_30.txt\",\"feat_4a_100Hz_30_2/feat_right_al_30.txt\",\"feat_4a_100Hz_30_2/feat_foot_al_30.txt\"\n",
    "                           ,\"feat_4a_100Hz_30_2/feat_right_aw_30.txt\",\"feat_4a_100Hz_30_2/feat_foot_aw_30.txt\")\n",
    "temp_l = np.array([temp,temp1,temp2])\n",
    "probability = np.append(probability,temp_l,axis=0)\n",
    "temp,temp1,temp2 = SGRM_test(\"feat_4a_100Hz_20/feat_right_aw_20.txt\",\"feat_4a_100Hz_20/feat_foot_aw_20.txt\",\"feat_4a_100Hz_Test/feat_test_right_aw.txt\",\"feat_4a_100Hz_Test/feat_test_foot_aw.txt\"\n",
    "                           ,\"feat_4a_100Hz_30_2/feat_right_aa_30.txt\",\"feat_4a_100Hz_30_2/feat_foot_aa_30.txt\",\"feat_4a_100Hz_30_2/feat_right_al_30.txt\",\"feat_4a_100Hz_30_2/feat_foot_al_30.txt\"\n",
    "                           ,\"feat_4a_100Hz_30_2/feat_right_av_30.txt\",\"feat_4a_100Hz_30_2/feat_foot_av_30.txt\")\n",
    "temp_l = np.array([temp,temp1,temp2])\n",
    "probability = np.append(probability,temp_l,axis=0)\n",
    "\n",
    "probability_2 = probability.reshape([3, 3])\n",
    "print(probability_2)"
   ]
  },
  {
   "cell_type": "code",
   "execution_count": 21,
   "metadata": {},
   "outputs": [
    {
     "name": "stdout",
     "output_type": "stream",
     "text": [
      "[[ 50.   0. 100.]\n",
      " [ 48.   6.  90.]\n",
      " [ 51. 100.   2.]]\n"
     ]
    }
   ],
   "source": [
    "#train=30,test=50で分類を行った結果\n",
    "probability = np.array([])\n",
    "temp,temp1,temp2 = SGRM_test(\"feat_4a_100Hz_20/feat_right_aa_20.txt\",\"feat_4a_100Hz_20/feat_foot_aa_20.txt\",\"feat_4a_100Hz_Test/feat_test_right_aa.txt\",\"feat_4a_100Hz_Test/feat_test_foot_aa.txt\"\n",
    "                           ,\"feat_4a_100Hz_30_3/feat_right_av_30.txt\",\"feat_4a_100Hz_30_3/feat_foot_av_30.txt\",\"feat_4a_100Hz_30_3/feat_right_al_30.txt\",\"feat_4a_100Hz_30_3/feat_foot_al_30.txt\"\n",
    "                           ,\"feat_4a_100Hz_30_3/feat_right_aw_30.txt\",\"feat_4a_100Hz_30_3/feat_foot_aw_30.txt\")\n",
    "temp_l = np.array([temp,temp1,temp2])\n",
    "probability = np.append(probability,temp_l,axis=0)\n",
    "temp,temp1,temp2 = SGRM_test(\"feat_4a_100Hz_20/feat_right_av_20.txt\",\"feat_4a_100Hz_20/feat_foot_av_20.txt\",\"feat_4a_100Hz_Test/feat_test_right_av.txt\",\"feat_4a_100Hz_Test/feat_test_foot_av.txt\"\n",
    "                           ,\"feat_4a_100Hz_30_3/feat_right_aa_30.txt\",\"feat_4a_100Hz_30_3/feat_foot_aa_30.txt\",\"feat_4a_100Hz_30_3/feat_right_al_30.txt\",\"feat_4a_100Hz_30_3/feat_foot_al_30.txt\"\n",
    "                           ,\"feat_4a_100Hz_30_3/feat_right_aw_30.txt\",\"feat_4a_100Hz_30_3/feat_foot_aw_30.txt\")\n",
    "temp_l = np.array([temp,temp1,temp2])\n",
    "probability = np.append(probability,temp_l,axis=0)\n",
    "temp,temp1,temp2 = SGRM_test(\"feat_4a_100Hz_20/feat_right_aw_20.txt\",\"feat_4a_100Hz_20/feat_foot_aw_20.txt\",\"feat_4a_100Hz_Test/feat_test_right_aw.txt\",\"feat_4a_100Hz_Test/feat_test_foot_aw.txt\"\n",
    "                           ,\"feat_4a_100Hz_30_3/feat_right_aa_30.txt\",\"feat_4a_100Hz_30_3/feat_foot_aa_30.txt\",\"feat_4a_100Hz_30_3/feat_right_al_30.txt\",\"feat_4a_100Hz_30_3/feat_foot_al_30.txt\"\n",
    "                           ,\"feat_4a_100Hz_30_3/feat_right_av_30.txt\",\"feat_4a_100Hz_30_3/feat_foot_av_30.txt\")\n",
    "temp_l = np.array([temp,temp1,temp2])\n",
    "probability = np.append(probability,temp_l,axis=0)\n",
    "\n",
    "probability_3 = probability.reshape([3, 3])\n",
    "print(probability_3)"
   ]
  },
  {
   "cell_type": "code",
   "execution_count": 22,
   "metadata": {},
   "outputs": [
    {
     "name": "stdout",
     "output_type": "stream",
     "text": [
      "[[50.33333333  3.33333333 97.33333333]\n",
      " [49.         35.33333333 62.66666667]\n",
      " [50.33333333 33.33333333 67.33333333]]\n"
     ]
    }
   ],
   "source": [
    "p_average_100Hz = (probability_1+probability_2+probability_3)/3\n",
    "print(p_average_100Hz)"
   ]
  },
  {
   "cell_type": "code",
   "execution_count": 23,
   "metadata": {},
   "outputs": [
    {
     "name": "stdout",
     "output_type": "stream",
     "text": [
      "51.22222222222222 49.88888888888889\n"
     ]
    }
   ],
   "source": [
    "a_20 = 0; a_30 = 0;\n",
    "for i in range(3):\n",
    "    a_20 = a_20 + p_average_1000Hz[i,0] \n",
    "    a_30 = a_30 + p_average_100Hz[i,0] \n",
    "    \n",
    "a_20 = a_20/3\n",
    "a_30 = a_30/3\n",
    "print(a_20,a_30)"
   ]
  },
  {
   "cell_type": "code",
   "execution_count": 24,
   "metadata": {},
   "outputs": [
    {
     "name": "stdout",
     "output_type": "stream",
     "text": [
      "[[50.33333333 49.         50.33333333]\n",
      " [50.33333333 50.66666667 52.66666667]]\n"
     ]
    },
    {
     "data": {
      "image/png": "[encoded data removed]",
      "text/plain": [
       "<Figure size 432x288 with 1 Axes>"
      ]
     },
     "metadata": {
      "needs_background": "light"
     },
     "output_type": "display_data"
    }
   ],
   "source": [
    "import matplotlib.pyplot as plt\n",
    "import japanize_matplotlib\n",
    "y = np.array([])\n",
    "x = np.arange(1, 4, step=1)\n",
    "y = np.append(p_average_1000Hz[:,0],y)\n",
    "y = np.append(p_average_100Hz[:,0],y)\n",
    "y = y.reshape([2,3])\n",
    "print(y)\n",
    "plt.plot(x,y[1],\"red\")\n",
    "plt.plot(x,y[0])\n",
    "plt.title(\"SGRM_Group分類確率\", {\"fontsize\":20})\n",
    "plt.xlabel(\"被験者No.\", {\"fontsize\":15})\n",
    "plt.ylabel(\"分類確率(%)\", {\"fontsize\":15})\n",
    "plt.xticks(np.arange(1, 4, step=1))\n",
    "plt.yticks(np.arange(0, 110, step=10))\n",
    "plt.savefig(\"4a_SGRM_group_probability_K3.pdf\")\n",
    "plt.show()"
   ]
  },
  {
   "cell_type": "code",
   "execution_count": 25,
   "metadata": {},
   "outputs": [
    {
     "name": "stdout",
     "output_type": "stream",
     "text": [
      "[[ 50.   2.  98.]\n",
      " [ 50.   0. 100.]\n",
      " [ 59.  50.  68.]\n",
      " [ 56.  48.  64.]\n",
      " [ 53.  70.  36.]\n",
      " [ 49.  90.   8.]]\n"
     ]
    }
   ],
   "source": [
    "#train=30,test=40で分類を行った結果\n",
    "probability = np.array([])\n",
    "temp,temp1,temp2 = SGRM_test(\"feat_2a_250Hz_10/feat_left_A01T_10.txt\",\"feat_2a_250Hz_10/feat_right_A01T_10.txt\",\"feat_2a_250Hz_Test/feat_test_left_A01E.txt\",\"feat_2a_250Hz_Test/feat_test_right_A01E.txt\"\n",
    "                           ,\"feat_2a_250Hz_30/feat_left_A02T_30.txt\",\"feat_2a_250Hz_30/feat_right_A02T_30.txt\",\"feat_2a_250Hz_30/feat_left_A03T_30.txt\",\"feat_2a_250Hz_30/feat_right_A03T_30.txt\"\n",
    "                           ,\"feat_2a_250Hz_30/feat_left_A09T_30.txt\",\"feat_2a_250Hz_30/feat_right_A09T_30.txt\")\n",
    "temp_l = np.array([temp,temp1,temp2])\n",
    "probability = np.append(probability,temp_l,axis=0)\n",
    "temp,temp1,temp2 = SGRM_test(\"feat_2a_250Hz_10/feat_left_A02T_10.txt\",\"feat_2a_250Hz_10/feat_right_A02T_10.txt\",\"feat_2a_250Hz_Test/feat_test_left_A02E.txt\",\"feat_2a_250Hz_Test/feat_test_right_A02E.txt\"\n",
    "                           ,\"feat_2a_250Hz_30/feat_left_A01T_30.txt\",\"feat_2a_250Hz_30/feat_right_A01T_30.txt\",\"feat_2a_250Hz_30/feat_left_A03T_30.txt\",\"feat_2a_250Hz_30/feat_right_A03T_30.txt\"\n",
    "                           ,\"feat_2a_250Hz_30/feat_left_A09T_30.txt\",\"feat_2a_250Hz_30/feat_right_A09T_30.txt\")\n",
    "temp_l = np.array([temp,temp1,temp2])\n",
    "probability = np.append(probability,temp_l,axis=0)\n",
    "temp,temp1,temp2 = SGRM_test(\"feat_2a_250Hz_10/feat_left_A03T_10.txt\",\"feat_2a_250Hz_10/feat_right_A03T_10.txt\",\"feat_2a_250Hz_Test/feat_test_left_A03E.txt\",\"feat_2a_250Hz_Test/feat_test_right_A03E.txt\"\n",
    "                           ,\"feat_2a_250Hz_30/feat_left_A02T_30.txt\",\"feat_2a_250Hz_30/feat_right_A02T_30.txt\",\"feat_2a_250Hz_30/feat_left_A01T_30.txt\",\"feat_2a_250Hz_30/feat_right_A01T_30.txt\"\n",
    "                           ,\"feat_2a_250Hz_30/feat_left_A09T_30.txt\",\"feat_2a_250Hz_30/feat_right_A09T_30.txt\")\n",
    "temp_l = np.array([temp,temp1,temp2])\n",
    "probability = np.append(probability,temp_l,axis=0)\n",
    "temp,temp1,temp2 = SGRM_test(\"feat_2a_250Hz_10/feat_left_A07T_10.txt\",\"feat_2a_250Hz_10/feat_right_A07T_10.txt\",\"feat_2a_250Hz_Test/feat_test_left_A07E.txt\",\"feat_2a_250Hz_Test/feat_test_right_A07E.txt\"\n",
    "                           ,\"feat_2a_250Hz_30/feat_left_A03T_30.txt\",\"feat_2a_250Hz_30/feat_right_A03T_30.txt\"\n",
    "                           ,\"feat_2a_250Hz_30/feat_left_A01T_30.txt\",\"feat_2a_250Hz_30/feat_right_A01T_30.txt\",\"feat_2a_250Hz_30/feat_left_A09T_30.txt\",\"feat_2a_250Hz_30/feat_right_A09T_30.txt\")\n",
    "temp_l = np.array([temp,temp1,temp2])\n",
    "probability = np.append(probability,temp_l,axis=0)\n",
    "temp,temp1,temp2 = SGRM_test(\"feat_2a_250Hz_10/feat_left_A08T_10.txt\",\"feat_2a_250Hz_10/feat_right_A08T_10.txt\",\"feat_2a_250Hz_Test/feat_test_left_A08E.txt\",\"feat_2a_250Hz_Test/feat_test_right_A08E.txt\"\n",
    "                           ,\"feat_2a_250Hz_30/feat_left_A03T_30.txt\",\"feat_2a_250Hz_30/feat_right_A03T_30.txt\"\n",
    "                           ,\"feat_2a_250Hz_30/feat_left_A01T_30.txt\",\"feat_2a_250Hz_30/feat_right_A01T_30.txt\",\"feat_2a_250Hz_30/feat_left_A09T_30.txt\",\"feat_2a_250Hz_30/feat_right_A09T_30.txt\")\n",
    "temp_l = np.array([temp,temp1,temp2])\n",
    "probability = np.append(probability,temp_l,axis=0)\n",
    "temp,temp1,temp2 = SGRM_test(\"feat_2a_250Hz_10/feat_left_A09T_10.txt\",\"feat_2a_250Hz_10/feat_right_A09T_10.txt\",\"feat_2a_250Hz_Test/feat_test_left_A09E.txt\",\"feat_2a_250Hz_Test/feat_test_right_A09E.txt\"\n",
    "                           ,\"feat_2a_250Hz_30/feat_left_A03T_30.txt\",\"feat_2a_250Hz_30/feat_right_A03T_30.txt\"\n",
    "                           ,\"feat_2a_250Hz_30/feat_left_A01T_30.txt\",\"feat_2a_250Hz_30/feat_right_A01T_30.txt\",\"feat_2a_250Hz_30/feat_left_A08T_30.txt\",\"feat_2a_250Hz_30/feat_right_A08T_30.txt\")\n",
    "temp_l = np.array([temp,temp1,temp2])\n",
    "probability = np.append(probability,temp_l,axis=0)\n",
    "\n",
    "probability_1 = probability.reshape([6, 3])\n",
    "print(probability_1)"
   ]
  },
  {
   "cell_type": "code",
   "execution_count": 26,
   "metadata": {},
   "outputs": [
    {
     "name": "stderr",
     "output_type": "stream",
     "text": [
      "C:\\Users\\takehara kouta\\anaconda3\\lib\\site-packages\\cvxpy\\problems\\problem.py:1279: UserWarning: Solution may be inaccurate. Try another solver, adjusting the solver settings, or solve with verbose=True for more information.\n",
      "  \"Solution may be inaccurate. Try another solver, \"\n"
     ]
    },
    {
     "name": "stdout",
     "output_type": "stream",
     "text": [
      "[[ 50.   0. 100.]\n",
      " [ 50.   0. 100.]\n",
      " [ 52.  98.   6.]\n",
      " [ 52. 100.   4.]\n",
      " [ 50. 100.   0.]\n",
      " [ 52.   4. 100.]]\n"
     ]
    }
   ],
   "source": [
    "#train=30,test=40で分類を行った結果\n",
    "probability = np.array([])\n",
    "temp,temp1,temp2 = SGRM_test(\"feat_2a_250Hz_10/feat_left_A01T_10.txt\",\"feat_2a_250Hz_10/feat_right_A01T_10.txt\",\"feat_2a_250Hz_Test/feat_test_left_A01E.txt\",\"feat_2a_250Hz_Test/feat_test_right_A01E.txt\"\n",
    "                           ,\"feat_2a_250Hz_30_2/feat_left_A02T_30.txt\",\"feat_2a_250Hz_30_2/feat_right_A02T_30.txt\",\"feat_2a_250Hz_30_2/feat_left_A03T_30.txt\",\"feat_2a_250Hz_30_2/feat_right_A03T_30.txt\"\n",
    "                           ,\"feat_2a_250Hz_30_2/feat_left_A09T_30.txt\",\"feat_2a_250Hz_30_2/feat_right_A09T_30.txt\")\n",
    "temp_l = np.array([temp,temp1,temp2])\n",
    "probability = np.append(probability,temp_l,axis=0)\n",
    "temp,temp1,temp2 = SGRM_test(\"feat_2a_250Hz_10/feat_left_A02T_10.txt\",\"feat_2a_250Hz_10/feat_right_A02T_10.txt\",\"feat_2a_250Hz_Test/feat_test_left_A02E.txt\",\"feat_2a_250Hz_Test/feat_test_right_A02E.txt\"\n",
    "                           ,\"feat_2a_250Hz_30_2/feat_left_A01T_30.txt\",\"feat_2a_250Hz_30_2/feat_right_A01T_30.txt\",\"feat_2a_250Hz_30_2/feat_left_A03T_30.txt\",\"feat_2a_250Hz_30_2/feat_right_A03T_30.txt\"\n",
    "                           ,\"feat_2a_250Hz_30_2/feat_left_A09T_30.txt\",\"feat_2a_250Hz_30_2/feat_right_A09T_30.txt\")\n",
    "temp_l = np.array([temp,temp1,temp2])\n",
    "probability = np.append(probability,temp_l,axis=0)\n",
    "temp,temp1,temp2 = SGRM_test(\"feat_2a_250Hz_10/feat_left_A03T_10.txt\",\"feat_2a_250Hz_10/feat_right_A03T_10.txt\",\"feat_2a_250Hz_Test/feat_test_left_A03E.txt\",\"feat_2a_250Hz_Test/feat_test_right_A03E.txt\"\n",
    "                           ,\"feat_2a_250Hz_30_2/feat_left_A02T_30.txt\",\"feat_2a_250Hz_30_2/feat_right_A02T_30.txt\",\"feat_2a_250Hz_30_2/feat_left_A01T_30.txt\",\"feat_2a_250Hz_30_2/feat_right_A01T_30.txt\"\n",
    "                           ,\"feat_2a_250Hz_30_2/feat_left_A09T_30.txt\",\"feat_2a_250Hz_30_2/feat_right_A09T_30.txt\")\n",
    "temp_l = np.array([temp,temp1,temp2])\n",
    "probability = np.append(probability,temp_l,axis=0)\n",
    "temp,temp1,temp2 = SGRM_test(\"feat_2a_250Hz_10/feat_left_A07T_10.txt\",\"feat_2a_250Hz_10/feat_right_A07T_10.txt\",\"feat_2a_250Hz_Test/feat_test_left_A07E.txt\",\"feat_2a_250Hz_Test/feat_test_right_A07E.txt\"\n",
    "                           ,\"feat_2a_250Hz_30_2/feat_left_A03T_30.txt\",\"feat_2a_250Hz_30_2/feat_right_A03T_30.txt\"\n",
    "                           ,\"feat_2a_250Hz_30_2/feat_left_A01T_30.txt\",\"feat_2a_250Hz_30_2/feat_right_A01T_30.txt\",\"feat_2a_250Hz_30_2/feat_left_A09T_30.txt\",\"feat_2a_250Hz_30_2/feat_right_A09T_30.txt\")\n",
    "temp_l = np.array([temp,temp1,temp2])\n",
    "probability = np.append(probability,temp_l,axis=0)\n",
    "temp,temp1,temp2 = SGRM_test(\"feat_2a_250Hz_10/feat_left_A08T_10.txt\",\"feat_2a_250Hz_10/feat_right_A08T_10.txt\",\"feat_2a_250Hz_Test/feat_test_left_A08E.txt\",\"feat_2a_250Hz_Test/feat_test_right_A08E.txt\"\n",
    "                           ,\"feat_2a_250Hz_30_2/feat_left_A03T_30.txt\",\"feat_2a_250Hz_30_2/feat_right_A03T_30.txt\"\n",
    "                           ,\"feat_2a_250Hz_30_2/feat_left_A01T_30.txt\",\"feat_2a_250Hz_30_2/feat_right_A01T_30.txt\",\"feat_2a_250Hz_30_2/feat_left_A09T_30.txt\",\"feat_2a_250Hz_30_2/feat_right_A09T_30.txt\")\n",
    "temp_l = np.array([temp,temp1,temp2])\n",
    "probability = np.append(probability,temp_l,axis=0)\n",
    "temp,temp1,temp2 = SGRM_test(\"feat_2a_250Hz_10/feat_left_A09T_10.txt\",\"feat_2a_250Hz_10/feat_right_A09T_10.txt\",\"feat_2a_250Hz_Test/feat_test_left_A09E.txt\",\"feat_2a_250Hz_Test/feat_test_right_A09E.txt\"\n",
    "                           ,\"feat_2a_250Hz_30_2/feat_left_A03T_30.txt\",\"feat_2a_250Hz_30_2/feat_right_A03T_30.txt\"\n",
    "                           ,\"feat_2a_250Hz_30_2/feat_left_A01T_30.txt\",\"feat_2a_250Hz_30_2/feat_right_A01T_30.txt\",\"feat_2a_250Hz_30_2/feat_left_A08T_30.txt\",\"feat_2a_250Hz_30_2/feat_right_A08T_30.txt\")\n",
    "temp_l = np.array([temp,temp1,temp2])\n",
    "probability = np.append(probability,temp_l,axis=0)\n",
    "\n",
    "probability_2 = probability.reshape([6, 3])\n",
    "print(probability_2)"
   ]
  },
  {
   "cell_type": "code",
   "execution_count": 27,
   "metadata": {},
   "outputs": [
    {
     "name": "stdout",
     "output_type": "stream",
     "text": [
      "[[ 50.  50.  50.]\n",
      " [ 50.   0. 100.]\n",
      " [ 57.  88.  26.]\n",
      " [ 47.   0.  94.]\n",
      " [ 50. 100.   0.]\n",
      " [ 50. 100.   0.]]\n"
     ]
    }
   ],
   "source": [
    "#train=30,test=40で分類を行った結果\n",
    "probability = np.array([])\n",
    "temp,temp1,temp2 = SGRM_test(\"feat_2a_250Hz_10/feat_left_A01T_10.txt\",\"feat_2a_250Hz_10/feat_right_A01T_10.txt\",\"feat_2a_250Hz_Test/feat_test_left_A01E.txt\",\"feat_2a_250Hz_Test/feat_test_right_A01E.txt\"\n",
    "                           ,\"feat_2a_250Hz_30_3/feat_left_A02T_30.txt\",\"feat_2a_250Hz_30_3/feat_right_A02T_30.txt\",\"feat_2a_250Hz_30_3/feat_left_A03T_30.txt\",\"feat_2a_250Hz_30_3/feat_right_A03T_30.txt\"\n",
    "                           ,\"feat_2a_250Hz_30_3/feat_left_A09T_30.txt\",\"feat_2a_250Hz_30_3/feat_right_A09T_30.txt\")\n",
    "temp_l = np.array([temp,temp1,temp2])\n",
    "probability = np.append(probability,temp_l,axis=0)\n",
    "temp,temp1,temp2 = SGRM_test(\"feat_2a_250Hz_10/feat_left_A02T_10.txt\",\"feat_2a_250Hz_10/feat_right_A02T_10.txt\",\"feat_2a_250Hz_Test/feat_test_left_A02E.txt\",\"feat_2a_250Hz_Test/feat_test_right_A02E.txt\"\n",
    "                           ,\"feat_2a_250Hz_30_3/feat_left_A01T_30.txt\",\"feat_2a_250Hz_30_3/feat_right_A01T_30.txt\",\"feat_2a_250Hz_30_3/feat_left_A03T_30.txt\",\"feat_2a_250Hz_30_3/feat_right_A03T_30.txt\"\n",
    "                           ,\"feat_2a_250Hz_30_3/feat_left_A09T_30.txt\",\"feat_2a_250Hz_30_3/feat_right_A09T_30.txt\")\n",
    "temp_l = np.array([temp,temp1,temp2])\n",
    "probability = np.append(probability,temp_l,axis=0)\n",
    "temp,temp1,temp2 = SGRM_test(\"feat_2a_250Hz_10/feat_left_A03T_10.txt\",\"feat_2a_250Hz_10/feat_right_A03T_10.txt\",\"feat_2a_250Hz_Test/feat_test_left_A03E.txt\",\"feat_2a_250Hz_Test/feat_test_right_A03E.txt\"\n",
    "                           ,\"feat_2a_250Hz_30_3/feat_left_A02T_30.txt\",\"feat_2a_250Hz_30_3/feat_right_A02T_30.txt\",\"feat_2a_250Hz_30_3/feat_left_A01T_30.txt\",\"feat_2a_250Hz_30_3/feat_right_A01T_30.txt\"\n",
    "                           ,\"feat_2a_250Hz_30_3/feat_left_A09T_30.txt\",\"feat_2a_250Hz_30_3/feat_right_A09T_30.txt\")\n",
    "temp_l = np.array([temp,temp1,temp2])\n",
    "probability = np.append(probability,temp_l,axis=0)\n",
    "temp,temp1,temp2 = SGRM_test(\"feat_2a_250Hz_10/feat_left_A07T_10.txt\",\"feat_2a_250Hz_10/feat_right_A07T_10.txt\",\"feat_2a_250Hz_Test/feat_test_left_A07E.txt\",\"feat_2a_250Hz_Test/feat_test_right_A07E.txt\"\n",
    "                           ,\"feat_2a_250Hz_30_3/feat_left_A03T_30.txt\",\"feat_2a_250Hz_30_3/feat_right_A03T_30.txt\"\n",
    "                           ,\"feat_2a_250Hz_30_3/feat_left_A01T_30.txt\",\"feat_2a_250Hz_30_3/feat_right_A01T_30.txt\",\"feat_2a_250Hz_30_3/feat_left_A09T_30.txt\",\"feat_2a_250Hz_30_3/feat_right_A09T_30.txt\")\n",
    "temp_l = np.array([temp,temp1,temp2])\n",
    "probability = np.append(probability,temp_l,axis=0)\n",
    "temp,temp1,temp2 = SGRM_test(\"feat_2a_250Hz_10/feat_left_A08T_10.txt\",\"feat_2a_250Hz_10/feat_right_A08T_10.txt\",\"feat_2a_250Hz_Test/feat_test_left_A08E.txt\",\"feat_2a_250Hz_Test/feat_test_right_A08E.txt\"\n",
    "                           ,\"feat_2a_250Hz_30_3/feat_left_A03T_30.txt\",\"feat_2a_250Hz_30_3/feat_right_A03T_30.txt\"\n",
    "                           ,\"feat_2a_250Hz_30_3/feat_left_A01T_30.txt\",\"feat_2a_250Hz_30_3/feat_right_A01T_30.txt\",\"feat_2a_250Hz_30_3/feat_left_A09T_30.txt\",\"feat_2a_250Hz_30_3/feat_right_A09T_30.txt\")\n",
    "temp_l = np.array([temp,temp1,temp2])\n",
    "probability = np.append(probability,temp_l,axis=0)\n",
    "temp,temp1,temp2 = SGRM_test(\"feat_2a_250Hz_10/feat_left_A09T_10.txt\",\"feat_2a_250Hz_10/feat_right_A09T_10.txt\",\"feat_2a_250Hz_Test/feat_test_left_A09E.txt\",\"feat_2a_250Hz_Test/feat_test_right_A09E.txt\"\n",
    "                           ,\"feat_2a_250Hz_30_3/feat_left_A03T_30.txt\",\"feat_2a_250Hz_30_3/feat_right_A03T_30.txt\"\n",
    "                           ,\"feat_2a_250Hz_30_3/feat_left_A01T_30.txt\",\"feat_2a_250Hz_30_3/feat_right_A01T_30.txt\",\"feat_2a_250Hz_30_3/feat_left_A08T_30.txt\",\"feat_2a_250Hz_30_3/feat_right_A08T_30.txt\")\n",
    "temp_l = np.array([temp,temp1,temp2])\n",
    "probability = np.append(probability,temp_l,axis=0)\n",
    "\n",
    "probability_3 = probability.reshape([6, 3])\n",
    "print(probability_3)"
   ]
  },
  {
   "cell_type": "code",
   "execution_count": 28,
   "metadata": {},
   "outputs": [
    {
     "name": "stdout",
     "output_type": "stream",
     "text": [
      "[[ 50.          17.33333333  82.66666667]\n",
      " [ 50.           0.         100.        ]\n",
      " [ 56.          78.66666667  33.33333333]\n",
      " [ 51.66666667  49.33333333  54.        ]\n",
      " [ 51.          90.          12.        ]\n",
      " [ 50.33333333  64.66666667  36.        ]]\n"
     ]
    }
   ],
   "source": [
    "p_average_250Hz = (probability_1+probability_2+probability_3)/3\n",
    "print(p_average_250Hz)"
   ]
  },
  {
   "cell_type": "code",
   "execution_count": 29,
   "metadata": {},
   "outputs": [
    {
     "name": "stdout",
     "output_type": "stream",
     "text": [
      "[[ 49.  52.  46.]\n",
      " [ 50.   0. 100.]\n",
      " [ 53.  32.  74.]\n",
      " [ 50.   0. 100.]\n",
      " [ 50. 100.   0.]\n",
      " [ 58.  34.  82.]]\n"
     ]
    }
   ],
   "source": [
    "#train=30,test=40で分類を行った結果\n",
    "probability = np.array([])\n",
    "temp,temp1,temp2 = SGRM_test(\"feat_2a_125Hz_10/feat_left_A01T_10.txt\",\"feat_2a_125Hz_10/feat_right_A01T_10.txt\",\"feat_2a_125Hz_Test/feat_test_left_A01E.txt\",\"feat_2a_125Hz_Test/feat_test_right_A01E.txt\"\n",
    "                           ,\"feat_2a_125Hz_30/feat_left_A02T_30.txt\",\"feat_2a_125Hz_30/feat_right_A02T_30.txt\",\"feat_2a_125Hz_30/feat_left_A03T_30.txt\",\"feat_2a_125Hz_30/feat_right_A03T_30.txt\"\n",
    "                           ,\"feat_2a_125Hz_30/feat_left_A09T_30.txt\",\"feat_2a_125Hz_30/feat_right_A09T_30.txt\")\n",
    "temp_l = np.array([temp,temp1,temp2])\n",
    "probability = np.append(probability,temp_l,axis=0)\n",
    "temp,temp1,temp2 = SGRM_test(\"feat_2a_125Hz_10/feat_left_A02T_10.txt\",\"feat_2a_125Hz_10/feat_right_A02T_10.txt\",\"feat_2a_125Hz_Test/feat_test_left_A02E.txt\",\"feat_2a_125Hz_Test/feat_test_right_A02E.txt\"\n",
    "                           ,\"feat_2a_125Hz_30/feat_left_A01T_30.txt\",\"feat_2a_125Hz_30/feat_right_A01T_30.txt\",\"feat_2a_125Hz_30/feat_left_A03T_30.txt\",\"feat_2a_125Hz_30/feat_right_A03T_30.txt\"\n",
    "                           ,\"feat_2a_125Hz_30/feat_left_A09T_30.txt\",\"feat_2a_125Hz_30/feat_right_A09T_30.txt\")\n",
    "temp_l = np.array([temp,temp1,temp2])\n",
    "probability = np.append(probability,temp_l,axis=0)\n",
    "temp,temp1,temp2 = SGRM_test(\"feat_2a_125Hz_10/feat_left_A03T_10.txt\",\"feat_2a_125Hz_10/feat_right_A03T_10.txt\",\"feat_2a_125Hz_Test/feat_test_left_A03E.txt\",\"feat_2a_125Hz_Test/feat_test_right_A03E.txt\"\n",
    "                           ,\"feat_2a_125Hz_30/feat_left_A02T_30.txt\",\"feat_2a_125Hz_30/feat_right_A02T_30.txt\",\"feat_2a_125Hz_30/feat_left_A01T_30.txt\",\"feat_2a_125Hz_30/feat_right_A01T_30.txt\"\n",
    "                           ,\"feat_2a_125Hz_30/feat_left_A09T_30.txt\",\"feat_2a_125Hz_30/feat_right_A09T_30.txt\")\n",
    "temp_l = np.array([temp,temp1,temp2])\n",
    "probability = np.append(probability,temp_l,axis=0)\n",
    "temp,temp1,temp2 = SGRM_test(\"feat_2a_125Hz_10/feat_left_A07T_10.txt\",\"feat_2a_125Hz_10/feat_right_A07T_10.txt\",\"feat_2a_125Hz_Test/feat_test_left_A07E.txt\",\"feat_2a_125Hz_Test/feat_test_right_A07E.txt\"\n",
    "                           ,\"feat_2a_125Hz_30/feat_left_A03T_30.txt\",\"feat_2a_125Hz_30/feat_right_A03T_30.txt\"\n",
    "                           ,\"feat_2a_125Hz_30/feat_left_A01T_30.txt\",\"feat_2a_125Hz_30/feat_right_A01T_30.txt\",\"feat_2a_125Hz_30/feat_left_A09T_30.txt\",\"feat_2a_125Hz_30/feat_right_A09T_30.txt\")\n",
    "temp_l = np.array([temp,temp1,temp2])\n",
    "probability = np.append(probability,temp_l,axis=0)\n",
    "temp,temp1,temp2 = SGRM_test(\"feat_2a_125Hz_10/feat_left_A08T_10.txt\",\"feat_2a_125Hz_10/feat_right_A08T_10.txt\",\"feat_2a_125Hz_Test/feat_test_left_A08E.txt\",\"feat_2a_125Hz_Test/feat_test_right_A08E.txt\"\n",
    "                           ,\"feat_2a_125Hz_30/feat_left_A03T_30.txt\",\"feat_2a_125Hz_30/feat_right_A03T_30.txt\"\n",
    "                           ,\"feat_2a_125Hz_30/feat_left_A01T_30.txt\",\"feat_2a_125Hz_30/feat_right_A01T_30.txt\",\"feat_2a_125Hz_30/feat_left_A09T_30.txt\",\"feat_2a_125Hz_30/feat_right_A09T_30.txt\")\n",
    "temp_l = np.array([temp,temp1,temp2])\n",
    "probability = np.append(probability,temp_l,axis=0)\n",
    "temp,temp1,temp2 = SGRM_test(\"feat_2a_125Hz_10/feat_left_A09T_10.txt\",\"feat_2a_125Hz_10/feat_right_A09T_10.txt\",\"feat_2a_125Hz_Test/feat_test_left_A09E.txt\",\"feat_2a_125Hz_Test/feat_test_right_A09E.txt\"\n",
    "                           ,\"feat_2a_125Hz_30/feat_left_A03T_30.txt\",\"feat_2a_125Hz_30/feat_right_A03T_30.txt\"\n",
    "                           ,\"feat_2a_125Hz_30/feat_left_A01T_30.txt\",\"feat_2a_125Hz_30/feat_right_A01T_30.txt\",\"feat_2a_125Hz_30/feat_left_A08T_30.txt\",\"feat_2a_125Hz_30/feat_right_A08T_30.txt\")\n",
    "temp_l = np.array([temp,temp1,temp2])\n",
    "probability = np.append(probability,temp_l,axis=0)\n",
    "\n",
    "probability_1 = probability.reshape([6, 3])\n",
    "print(probability_1)"
   ]
  },
  {
   "cell_type": "code",
   "execution_count": 30,
   "metadata": {},
   "outputs": [
    {
     "name": "stdout",
     "output_type": "stream",
     "text": [
      "[[ 50.   0. 100.]\n",
      " [ 50.  98.   2.]\n",
      " [ 47.  94.   0.]\n",
      " [ 51.   2. 100.]\n",
      " [ 50. 100.   0.]\n",
      " [ 53.   8.  98.]]\n"
     ]
    }
   ],
   "source": [
    "#train=30,test=40で分類を行った結果\n",
    "probability = np.array([])\n",
    "temp,temp1,temp2 = SGRM_test(\"feat_2a_125Hz_10/feat_left_A01T_10.txt\",\"feat_2a_125Hz_10/feat_right_A01T_10.txt\",\"feat_2a_125Hz_Test/feat_test_left_A01E.txt\",\"feat_2a_125Hz_Test/feat_test_right_A01E.txt\"\n",
    "                           ,\"feat_2a_125Hz_30_2/feat_left_A02T_30.txt\",\"feat_2a_125Hz_30_2/feat_right_A02T_30.txt\",\"feat_2a_125Hz_30_2/feat_left_A03T_30.txt\",\"feat_2a_125Hz_30_2/feat_right_A03T_30.txt\"\n",
    "                           ,\"feat_2a_125Hz_30_2/feat_left_A09T_30.txt\",\"feat_2a_125Hz_30_2/feat_right_A09T_30.txt\")\n",
    "temp_l = np.array([temp,temp1,temp2])\n",
    "probability = np.append(probability,temp_l,axis=0)\n",
    "temp,temp1,temp2 = SGRM_test(\"feat_2a_125Hz_10/feat_left_A02T_10.txt\",\"feat_2a_125Hz_10/feat_right_A02T_10.txt\",\"feat_2a_125Hz_Test/feat_test_left_A02E.txt\",\"feat_2a_125Hz_Test/feat_test_right_A02E.txt\"\n",
    "                           ,\"feat_2a_125Hz_30_2/feat_left_A01T_30.txt\",\"feat_2a_125Hz_30_2/feat_right_A01T_30.txt\",\"feat_2a_125Hz_30_2/feat_left_A03T_30.txt\",\"feat_2a_125Hz_30_2/feat_right_A03T_30.txt\"\n",
    "                           ,\"feat_2a_125Hz_30_2/feat_left_A09T_30.txt\",\"feat_2a_125Hz_30_2/feat_right_A09T_30.txt\")\n",
    "temp_l = np.array([temp,temp1,temp2])\n",
    "probability = np.append(probability,temp_l,axis=0)\n",
    "temp,temp1,temp2 = SGRM_test(\"feat_2a_125Hz_10/feat_left_A03T_10.txt\",\"feat_2a_125Hz_10/feat_right_A03T_10.txt\",\"feat_2a_125Hz_Test/feat_test_left_A03E.txt\",\"feat_2a_125Hz_Test/feat_test_right_A03E.txt\"\n",
    "                           ,\"feat_2a_125Hz_30_2/feat_left_A02T_30.txt\",\"feat_2a_125Hz_30_2/feat_right_A02T_30.txt\",\"feat_2a_125Hz_30_2/feat_left_A01T_30.txt\",\"feat_2a_125Hz_30_2/feat_right_A01T_30.txt\"\n",
    "                           ,\"feat_2a_125Hz_30_2/feat_left_A09T_30.txt\",\"feat_2a_125Hz_30_2/feat_right_A09T_30.txt\")\n",
    "temp_l = np.array([temp,temp1,temp2])\n",
    "probability = np.append(probability,temp_l,axis=0)\n",
    "temp,temp1,temp2 = SGRM_test(\"feat_2a_125Hz_10/feat_left_A07T_10.txt\",\"feat_2a_125Hz_10/feat_right_A07T_10.txt\",\"feat_2a_125Hz_Test/feat_test_left_A07E.txt\",\"feat_2a_125Hz_Test/feat_test_right_A07E.txt\"\n",
    "                           ,\"feat_2a_125Hz_30_2/feat_left_A03T_30.txt\",\"feat_2a_125Hz_30_2/feat_right_A03T_30.txt\"\n",
    "                           ,\"feat_2a_125Hz_30_2/feat_left_A01T_30.txt\",\"feat_2a_125Hz_30_2/feat_right_A01T_30.txt\",\"feat_2a_125Hz_30_2/feat_left_A09T_30.txt\",\"feat_2a_125Hz_30_2/feat_right_A09T_30.txt\")\n",
    "temp_l = np.array([temp,temp1,temp2])\n",
    "probability = np.append(probability,temp_l,axis=0)\n",
    "temp,temp1,temp2 = SGRM_test(\"feat_2a_125Hz_10/feat_left_A08T_10.txt\",\"feat_2a_125Hz_10/feat_right_A08T_10.txt\",\"feat_2a_125Hz_Test/feat_test_left_A08E.txt\",\"feat_2a_125Hz_Test/feat_test_right_A08E.txt\"\n",
    "                           ,\"feat_2a_125Hz_30_2/feat_left_A03T_30.txt\",\"feat_2a_125Hz_30_2/feat_right_A03T_30.txt\"\n",
    "                           ,\"feat_2a_125Hz_30_2/feat_left_A01T_30.txt\",\"feat_2a_125Hz_30_2/feat_right_A01T_30.txt\",\"feat_2a_125Hz_30_2/feat_left_A09T_30.txt\",\"feat_2a_125Hz_30_2/feat_right_A09T_30.txt\")\n",
    "temp_l = np.array([temp,temp1,temp2])\n",
    "probability = np.append(probability,temp_l,axis=0)\n",
    "temp,temp1,temp2 = SGRM_test(\"feat_2a_125Hz_10/feat_left_A09T_10.txt\",\"feat_2a_125Hz_10/feat_right_A09T_10.txt\",\"feat_2a_125Hz_Test/feat_test_left_A09E.txt\",\"feat_2a_125Hz_Test/feat_test_right_A09E.txt\"\n",
    "                           ,\"feat_2a_125Hz_30_2/feat_left_A03T_30.txt\",\"feat_2a_125Hz_30_2/feat_right_A03T_30.txt\"\n",
    "                           ,\"feat_2a_125Hz_30_2/feat_left_A01T_30.txt\",\"feat_2a_125Hz_30_2/feat_right_A01T_30.txt\",\"feat_2a_125Hz_30_2/feat_left_A06T_30.txt\",\"feat_2a_125Hz_30_2/feat_right_A06T_30.txt\")\n",
    "temp_l = np.array([temp,temp1,temp2])\n",
    "probability = np.append(probability,temp_l,axis=0)\n",
    "\n",
    "probability_2 = probability.reshape([6, 3])\n",
    "print(probability_2)"
   ]
  },
  {
   "cell_type": "code",
   "execution_count": 31,
   "metadata": {},
   "outputs": [
    {
     "name": "stdout",
     "output_type": "stream",
     "text": [
      "[[ 35.  48.  22.]\n",
      " [ 50.   0. 100.]\n",
      " [ 50.   0. 100.]\n",
      " [ 54.  10.  98.]\n",
      " [ 44.  50.  38.]\n",
      " [ 64.  68.  60.]]\n"
     ]
    }
   ],
   "source": [
    "#train=30,test=40で分類を行った結果\n",
    "probability = np.array([])\n",
    "temp,temp1,temp2 = SGRM_test(\"feat_2a_125Hz_10/feat_left_A01T_10.txt\",\"feat_2a_125Hz_10/feat_right_A01T_10.txt\",\"feat_2a_125Hz_Test/feat_test_left_A01E.txt\",\"feat_2a_125Hz_Test/feat_test_right_A01E.txt\"\n",
    "                           ,\"feat_2a_125Hz_30_3/feat_left_A02T_30.txt\",\"feat_2a_125Hz_30_3/feat_right_A02T_30.txt\",\"feat_2a_125Hz_30_3/feat_left_A03T_30.txt\",\"feat_2a_125Hz_30_3/feat_right_A03T_30.txt\"\n",
    "                           ,\"feat_2a_125Hz_30_3/feat_left_A09T_30.txt\",\"feat_2a_125Hz_30_3/feat_right_A09T_30.txt\")\n",
    "temp_l = np.array([temp,temp1,temp2])\n",
    "probability = np.append(probability,temp_l,axis=0)\n",
    "temp,temp1,temp2 = SGRM_test(\"feat_2a_125Hz_10/feat_left_A02T_10.txt\",\"feat_2a_125Hz_10/feat_right_A02T_10.txt\",\"feat_2a_125Hz_Test/feat_test_left_A02E.txt\",\"feat_2a_125Hz_Test/feat_test_right_A02E.txt\"\n",
    "                           ,\"feat_2a_125Hz_30_3/feat_left_A01T_30.txt\",\"feat_2a_125Hz_30_3/feat_right_A01T_30.txt\",\"feat_2a_125Hz_30_3/feat_left_A03T_30.txt\",\"feat_2a_125Hz_30_3/feat_right_A03T_30.txt\"\n",
    "                           ,\"feat_2a_125Hz_30_3/feat_left_A09T_30.txt\",\"feat_2a_125Hz_30_3/feat_right_A09T_30.txt\")\n",
    "temp_l = np.array([temp,temp1,temp2])\n",
    "probability = np.append(probability,temp_l,axis=0)\n",
    "temp,temp1,temp2 = SGRM_test(\"feat_2a_125Hz_10/feat_left_A03T_10.txt\",\"feat_2a_125Hz_10/feat_right_A03T_10.txt\",\"feat_2a_125Hz_Test/feat_test_left_A03E.txt\",\"feat_2a_125Hz_Test/feat_test_right_A03E.txt\"\n",
    "                           ,\"feat_2a_125Hz_30_3/feat_left_A02T_30.txt\",\"feat_2a_125Hz_30_3/feat_right_A02T_30.txt\",\"feat_2a_125Hz_30_3/feat_left_A01T_30.txt\",\"feat_2a_125Hz_30_3/feat_right_A01T_30.txt\"\n",
    "                           ,\"feat_2a_125Hz_30_3/feat_left_A09T_30.txt\",\"feat_2a_125Hz_30_3/feat_right_A09T_30.txt\")\n",
    "temp_l = np.array([temp,temp1,temp2])\n",
    "probability = np.append(probability,temp_l,axis=0)\n",
    "temp,temp1,temp2 = SGRM_test(\"feat_2a_125Hz_10/feat_left_A07T_10.txt\",\"feat_2a_125Hz_10/feat_right_A07T_10.txt\",\"feat_2a_125Hz_Test/feat_test_left_A07E.txt\",\"feat_2a_125Hz_Test/feat_test_right_A07E.txt\"\n",
    "                           ,\"feat_2a_125Hz_30_3/feat_left_A03T_30.txt\",\"feat_2a_125Hz_30_3/feat_right_A03T_30.txt\"\n",
    "                           ,\"feat_2a_125Hz_30_3/feat_left_A01T_30.txt\",\"feat_2a_125Hz_30_3/feat_right_A01T_30.txt\",\"feat_2a_125Hz_30_3/feat_left_A09T_30.txt\",\"feat_2a_125Hz_30_3/feat_right_A09T_30.txt\")\n",
    "temp_l = np.array([temp,temp1,temp2])\n",
    "probability = np.append(probability,temp_l,axis=0)\n",
    "temp,temp1,temp2 = SGRM_test(\"feat_2a_125Hz_10/feat_left_A08T_10.txt\",\"feat_2a_125Hz_10/feat_right_A08T_10.txt\",\"feat_2a_125Hz_Test/feat_test_left_A08E.txt\",\"feat_2a_125Hz_Test/feat_test_right_A08E.txt\"\n",
    "                           ,\"feat_2a_125Hz_30_3/feat_left_A03T_30.txt\",\"feat_2a_125Hz_30_3/feat_right_A03T_30.txt\"\n",
    "                           ,\"feat_2a_125Hz_30_3/feat_left_A01T_30.txt\",\"feat_2a_125Hz_30_3/feat_right_A01T_30.txt\",\"feat_2a_125Hz_30_3/feat_left_A09T_30.txt\",\"feat_2a_125Hz_30_3/feat_right_A09T_30.txt\")\n",
    "temp_l = np.array([temp,temp1,temp2])\n",
    "probability = np.append(probability,temp_l,axis=0)\n",
    "temp,temp1,temp2 = SGRM_test(\"feat_2a_125Hz_10/feat_left_A09T_10.txt\",\"feat_2a_125Hz_10/feat_right_A09T_10.txt\",\"feat_2a_125Hz_Test/feat_test_left_A09E.txt\",\"feat_2a_125Hz_Test/feat_test_right_A09E.txt\"\n",
    "                           ,\"feat_2a_125Hz_30_3/feat_left_A03T_30.txt\",\"feat_2a_125Hz_30_3/feat_right_A03T_30.txt\"\n",
    "                           ,\"feat_2a_125Hz_30_3/feat_left_A01T_30.txt\",\"feat_2a_125Hz_30_3/feat_right_A01T_30.txt\",\"feat_2a_125Hz_30_3/feat_left_A08T_30.txt\",\"feat_2a_125Hz_30_3/feat_right_A08T_30.txt\")\n",
    "temp_l = np.array([temp,temp1,temp2])\n",
    "probability = np.append(probability,temp_l,axis=0)\n",
    "\n",
    "probability_3 = probability.reshape([6, 3])\n",
    "print(probability_3)"
   ]
  },
  {
   "cell_type": "code",
   "execution_count": 32,
   "metadata": {},
   "outputs": [
    {
     "name": "stdout",
     "output_type": "stream",
     "text": [
      "[[44.66666667 33.33333333 56.        ]\n",
      " [50.         32.66666667 67.33333333]\n",
      " [50.         42.         58.        ]\n",
      " [51.66666667  4.         99.33333333]\n",
      " [48.         83.33333333 12.66666667]\n",
      " [58.33333333 36.66666667 80.        ]]\n"
     ]
    }
   ],
   "source": [
    "p_average_125Hz = (probability_1+probability_2+probability_3)/3\n",
    "print(p_average_125Hz)"
   ]
  },
  {
   "cell_type": "code",
   "execution_count": 33,
   "metadata": {},
   "outputs": [
    {
     "name": "stdout",
     "output_type": "stream",
     "text": [
      "51.49999999999999 50.444444444444436\n"
     ]
    }
   ],
   "source": [
    "a_20 = 0; a_30 = 0;\n",
    "for i in range(6):\n",
    "    a_20 = a_20 + p_average_250Hz[i,0] \n",
    "    a_30 = a_30 + p_average_125Hz[i,0] \n",
    "    \n",
    "a_20 = a_20/6\n",
    "a_30 = a_30/6\n",
    "print(a_20,a_30)"
   ]
  },
  {
   "cell_type": "code",
   "execution_count": 34,
   "metadata": {},
   "outputs": [
    {
     "name": "stdout",
     "output_type": "stream",
     "text": [
      "[[44.66666667 50.         50.         51.66666667 48.         58.33333333]\n",
      " [50.         50.         56.         51.66666667 51.         50.33333333]]\n"
     ]
    },
    {
     "data": {
      "image/png": "[encoded data removed]",
      "text/plain": [
       "<Figure size 432x288 with 1 Axes>"
      ]
     },
     "metadata": {
      "needs_background": "light"
     },
     "output_type": "display_data"
    }
   ],
   "source": [
    "import matplotlib.pyplot as plt\n",
    "import japanize_matplotlib\n",
    "y = np.array([])\n",
    "x = np.arange(1, 7, step=1)\n",
    "y = np.append(p_average_250Hz[:,0],y)\n",
    "y = np.append(p_average_125Hz[:,0],y)\n",
    "y = y.reshape([2,6])\n",
    "print(y)\n",
    "plt.plot(x,y[1],\"red\")\n",
    "plt.plot(x,y[0])\n",
    "plt.title(\"SGRM_Group分類確率\", {\"fontsize\":20})\n",
    "plt.xlabel(\"被験者No.\", {\"fontsize\":15})\n",
    "plt.ylabel(\"分類確率(%)\", {\"fontsize\":15})\n",
    "plt.xticks(np.arange(1, 7, step=1))\n",
    "plt.yticks(np.arange(0, 110, step=10))\n",
    "plt.savefig(\"2a_SGRM_group_probability_K3_down.pdf\")\n",
    "plt.show()"
   ]
  },
  {
   "cell_type": "code",
   "execution_count": 35,
   "metadata": {},
   "outputs": [
    {
     "name": "stdout",
     "output_type": "stream",
     "text": [
      "[[49.  0. 98.]\n",
      " [50. 62. 38.]\n",
      " [52. 54. 50.]]\n"
     ]
    }
   ],
   "source": [
    "#train=30,test=50で分類を行った結果\n",
    "probability = np.array([])\n",
    "temp,temp1,temp2 = SGRM_test(\"feat_4a_1000Hz_10/feat_right_aa_10.txt\",\"feat_4a_1000Hz_10/feat_foot_aa_10.txt\",\"feat_4a_1000Hz_Test/feat_test_right_aa.txt\",\"feat_4a_1000Hz_Test/feat_test_foot_aa.txt\"\n",
    "                           ,\"feat_4a_1000Hz_30/feat_right_av_30.txt\",\"feat_4a_1000Hz_30/feat_foot_av_30.txt\",\"feat_4a_1000Hz_30/feat_right_al_30.txt\",\"feat_4a_1000Hz_30/feat_foot_al_30.txt\"\n",
    "                           ,\"feat_4a_1000Hz_30/feat_right_aw_30.txt\",\"feat_4a_1000Hz_30/feat_foot_aw_30.txt\")\n",
    "temp_l = np.array([temp,temp1,temp2])\n",
    "probability = np.append(probability,temp_l,axis=0)\n",
    "temp,temp1,temp2 = SGRM_test(\"feat_4a_1000Hz_10/feat_right_av_10.txt\",\"feat_4a_1000Hz_10/feat_foot_av_10.txt\",\"feat_4a_1000Hz_Test/feat_test_right_av.txt\",\"feat_4a_1000Hz_Test/feat_test_foot_av.txt\"\n",
    "                           ,\"feat_4a_1000Hz_30/feat_right_aa_30.txt\",\"feat_4a_1000Hz_30/feat_foot_aa_30.txt\",\"feat_4a_1000Hz_30/feat_right_al_30.txt\",\"feat_4a_1000Hz_30/feat_foot_al_30.txt\"\n",
    "                           ,\"feat_4a_1000Hz_30/feat_right_aw_30.txt\",\"feat_4a_1000Hz_30/feat_foot_aw_30.txt\")\n",
    "temp_l = np.array([temp,temp1,temp2])\n",
    "probability = np.append(probability,temp_l,axis=0)\n",
    "temp,temp1,temp2 = SGRM_test(\"feat_4a_1000Hz_10/feat_right_aw_10.txt\",\"feat_4a_1000Hz_10/feat_foot_aw_10.txt\",\"feat_4a_1000Hz_Test/feat_test_right_aw.txt\",\"feat_4a_1000Hz_Test/feat_test_foot_aw.txt\"\n",
    "                           ,\"feat_4a_1000Hz_30/feat_right_aa_30.txt\",\"feat_4a_1000Hz_30/feat_foot_aa_30.txt\",\"feat_4a_1000Hz_30/feat_right_al_30.txt\",\"feat_4a_1000Hz_30/feat_foot_al_30.txt\"\n",
    "                           ,\"feat_4a_1000Hz_30/feat_right_av_30.txt\",\"feat_4a_1000Hz_30/feat_foot_av_30.txt\")\n",
    "temp_l = np.array([temp,temp1,temp2])\n",
    "probability = np.append(probability,temp_l,axis=0)\n",
    "\n",
    "probability_1 = probability.reshape([3, 3])\n",
    "print(probability_1)"
   ]
  },
  {
   "cell_type": "code",
   "execution_count": 36,
   "metadata": {},
   "outputs": [
    {
     "name": "stderr",
     "output_type": "stream",
     "text": [
      "C:\\Users\\takehara kouta\\anaconda3\\lib\\site-packages\\cvxpy\\problems\\problem.py:1279: UserWarning: Solution may be inaccurate. Try another solver, adjusting the solver settings, or solve with verbose=True for more information.\n",
      "  \"Solution may be inaccurate. Try another solver, \"\n"
     ]
    },
    {
     "name": "stdout",
     "output_type": "stream",
     "text": [
      "[[ 50.   0. 100.]\n",
      " [ 50.  58.  42.]\n",
      " [ 49.  12.  86.]]\n"
     ]
    }
   ],
   "source": [
    "#train=30,test=50で分類を行った結果\n",
    "probability = np.array([])\n",
    "temp,temp1,temp2 = SGRM_test(\"feat_4a_1000Hz_10/feat_right_aa_10.txt\",\"feat_4a_1000Hz_10/feat_foot_aa_10.txt\",\"feat_4a_1000Hz_Test/feat_test_right_aa.txt\",\"feat_4a_1000Hz_Test/feat_test_foot_aa.txt\"\n",
    "                           ,\"feat_4a_1000Hz_30_2/feat_right_av_30.txt\",\"feat_4a_1000Hz_30_2/feat_foot_av_30.txt\",\"feat_4a_1000Hz_30_2/feat_right_al_30.txt\",\"feat_4a_1000Hz_30_2/feat_foot_al_30.txt\"\n",
    "                           ,\"feat_4a_1000Hz_30_2/feat_right_aw_30.txt\",\"feat_4a_1000Hz_30_2/feat_foot_aw_30.txt\")\n",
    "temp_l = np.array([temp,temp1,temp2])\n",
    "probability = np.append(probability,temp_l,axis=0)\n",
    "temp,temp1,temp2 = SGRM_test(\"feat_4a_1000Hz_10/feat_right_av_10.txt\",\"feat_4a_1000Hz_10/feat_foot_av_10.txt\",\"feat_4a_1000Hz_Test/feat_test_right_av.txt\",\"feat_4a_1000Hz_Test/feat_test_foot_av.txt\"\n",
    "                           ,\"feat_4a_1000Hz_30_2/feat_right_aa_30.txt\",\"feat_4a_1000Hz_30_2/feat_foot_aa_30.txt\",\"feat_4a_1000Hz_30_2/feat_right_al_30.txt\",\"feat_4a_1000Hz_30_2/feat_foot_al_30.txt\"\n",
    "                           ,\"feat_4a_1000Hz_30_2/feat_right_aw_30.txt\",\"feat_4a_1000Hz_30_2/feat_foot_aw_30.txt\")\n",
    "temp_l = np.array([temp,temp1,temp2])\n",
    "probability = np.append(probability,temp_l,axis=0)\n",
    "temp,temp1,temp2 = SGRM_test(\"feat_4a_1000Hz_10/feat_right_aw_10.txt\",\"feat_4a_1000Hz_10/feat_foot_aw_10.txt\",\"feat_4a_1000Hz_Test/feat_test_right_aw.txt\",\"feat_4a_1000Hz_Test/feat_test_foot_aw.txt\"\n",
    "                           ,\"feat_4a_1000Hz_30_2/feat_right_aa_30.txt\",\"feat_4a_1000Hz_30_2/feat_foot_aa_30.txt\",\"feat_4a_1000Hz_30_2/feat_right_al_30.txt\",\"feat_4a_1000Hz_30_2/feat_foot_al_30.txt\"\n",
    "                           ,\"feat_4a_1000Hz_30_2/feat_right_av_30.txt\",\"feat_4a_1000Hz_30_2/feat_foot_av_30.txt\")\n",
    "temp_l = np.array([temp,temp1,temp2])\n",
    "probability = np.append(probability,temp_l,axis=0)\n",
    "\n",
    "probability_2 = probability.reshape([3, 3])\n",
    "print(probability_2)"
   ]
  },
  {
   "cell_type": "code",
   "execution_count": 37,
   "metadata": {},
   "outputs": [
    {
     "name": "stdout",
     "output_type": "stream",
     "text": [
      "[[ 52.  26.  78.]\n",
      " [ 50.   0. 100.]\n",
      " [ 49.  20.  78.]]\n"
     ]
    }
   ],
   "source": [
    "#train=30,test=50で分類を行った結果\n",
    "probability = np.array([])\n",
    "temp,temp1,temp2 = SGRM_test(\"feat_4a_1000Hz_10/feat_right_aa_10.txt\",\"feat_4a_1000Hz_10/feat_foot_aa_10.txt\",\"feat_4a_1000Hz_Test/feat_test_right_aa.txt\",\"feat_4a_1000Hz_Test/feat_test_foot_aa.txt\"\n",
    "                           ,\"feat_4a_1000Hz_30_3/feat_right_av_30.txt\",\"feat_4a_1000Hz_30_3/feat_foot_av_30.txt\",\"feat_4a_1000Hz_30_3/feat_right_al_30.txt\",\"feat_4a_1000Hz_30_3/feat_foot_al_30.txt\"\n",
    "                           ,\"feat_4a_1000Hz_30_3/feat_right_aw_30.txt\",\"feat_4a_1000Hz_30_3/feat_foot_aw_30.txt\")\n",
    "temp_l = np.array([temp,temp1,temp2])\n",
    "probability = np.append(probability,temp_l,axis=0)\n",
    "temp,temp1,temp2 = SGRM_test(\"feat_4a_1000Hz_10/feat_right_av_10.txt\",\"feat_4a_1000Hz_10/feat_foot_av_10.txt\",\"feat_4a_1000Hz_Test/feat_test_right_av.txt\",\"feat_4a_1000Hz_Test/feat_test_foot_av.txt\"\n",
    "                           ,\"feat_4a_1000Hz_30_3/feat_right_aa_30.txt\",\"feat_4a_1000Hz_30_3/feat_foot_aa_30.txt\",\"feat_4a_1000Hz_30_3/feat_right_al_30.txt\",\"feat_4a_1000Hz_30_3/feat_foot_al_30.txt\"\n",
    "                           ,\"feat_4a_1000Hz_30_3/feat_right_aw_30.txt\",\"feat_4a_1000Hz_30_3/feat_foot_aw_30.txt\")\n",
    "temp_l = np.array([temp,temp1,temp2])\n",
    "probability = np.append(probability,temp_l,axis=0)\n",
    "temp,temp1,temp2 = SGRM_test(\"feat_4a_1000Hz_10/feat_right_aw_10.txt\",\"feat_4a_1000Hz_10/feat_foot_aw_10.txt\",\"feat_4a_1000Hz_Test/feat_test_right_aw.txt\",\"feat_4a_1000Hz_Test/feat_test_foot_aw.txt\"\n",
    "                           ,\"feat_4a_1000Hz_30_3/feat_right_aa_30.txt\",\"feat_4a_1000Hz_30_3/feat_foot_aa_30.txt\",\"feat_4a_1000Hz_30_3/feat_right_al_30.txt\",\"feat_4a_1000Hz_30_3/feat_foot_al_30.txt\"\n",
    "                           ,\"feat_4a_1000Hz_30_3/feat_right_av_30.txt\",\"feat_4a_1000Hz_30_3/feat_foot_av_30.txt\")\n",
    "temp_l = np.array([temp,temp1,temp2])\n",
    "probability = np.append(probability,temp_l,axis=0)\n",
    "\n",
    "probability_3 = probability.reshape([3, 3])\n",
    "print(probability_3)"
   ]
  },
  {
   "cell_type": "code",
   "execution_count": 38,
   "metadata": {},
   "outputs": [
    {
     "name": "stdout",
     "output_type": "stream",
     "text": [
      "[[50.33333333  8.66666667 92.        ]\n",
      " [50.         40.         60.        ]\n",
      " [50.         28.66666667 71.33333333]]\n"
     ]
    }
   ],
   "source": [
    "p_average_1000Hz = (probability_1+probability_2+probability_3)/3\n",
    "print(p_average_1000Hz)"
   ]
  },
  {
   "cell_type": "code",
   "execution_count": 39,
   "metadata": {},
   "outputs": [
    {
     "name": "stdout",
     "output_type": "stream",
     "text": [
      "[[ 50.   0. 100.]\n",
      " [ 50.  96.   4.]\n",
      " [ 47.   2.  92.]]\n"
     ]
    }
   ],
   "source": [
    "#train=30,test=50で分類を行った結果\n",
    "probability = np.array([])\n",
    "temp,temp1,temp2 = SGRM_test(\"feat_4a_100Hz_10/feat_right_aa_10.txt\",\"feat_4a_100Hz_10/feat_foot_aa_10.txt\",\"feat_4a_100Hz_Test/feat_test_right_aa.txt\",\"feat_4a_100Hz_Test/feat_test_foot_aa.txt\"\n",
    "                           ,\"feat_4a_100Hz_30/feat_right_av_30.txt\",\"feat_4a_100Hz_30/feat_foot_av_30.txt\",\"feat_4a_100Hz_30/feat_right_al_30.txt\",\"feat_4a_100Hz_30/feat_foot_al_30.txt\"\n",
    "                           ,\"feat_4a_100Hz_30/feat_right_aw_30.txt\",\"feat_4a_100Hz_30/feat_foot_aw_30.txt\")\n",
    "temp_l = np.array([temp,temp1,temp2])\n",
    "probability = np.append(probability,temp_l,axis=0)\n",
    "temp,temp1,temp2 = SGRM_test(\"feat_4a_100Hz_10/feat_right_av_10.txt\",\"feat_4a_100Hz_10/feat_foot_av_10.txt\",\"feat_4a_100Hz_Test/feat_test_right_av.txt\",\"feat_4a_100Hz_Test/feat_test_foot_av.txt\"\n",
    "                           ,\"feat_4a_100Hz_30/feat_right_aa_30.txt\",\"feat_4a_100Hz_30/feat_foot_aa_30.txt\",\"feat_4a_100Hz_30/feat_right_al_30.txt\",\"feat_4a_100Hz_30/feat_foot_al_30.txt\"\n",
    "                           ,\"feat_4a_100Hz_30/feat_right_aw_30.txt\",\"feat_4a_100Hz_30/feat_foot_aw_30.txt\")\n",
    "temp_l = np.array([temp,temp1,temp2])\n",
    "probability = np.append(probability,temp_l,axis=0)\n",
    "temp,temp1,temp2 = SGRM_test(\"feat_4a_100Hz_10/feat_right_aw_10.txt\",\"feat_4a_100Hz_10/feat_foot_aw_10.txt\",\"feat_4a_100Hz_Test/feat_test_right_aw.txt\",\"feat_4a_100Hz_Test/feat_test_foot_aw.txt\"\n",
    "                           ,\"feat_4a_100Hz_30/feat_right_aa_30.txt\",\"feat_4a_100Hz_30/feat_foot_aa_30.txt\",\"feat_4a_100Hz_30/feat_right_al_30.txt\",\"feat_4a_100Hz_30/feat_foot_al_30.txt\"\n",
    "                           ,\"feat_4a_100Hz_30/feat_right_av_30.txt\",\"feat_4a_100Hz_30/feat_foot_av_30.txt\")\n",
    "temp_l = np.array([temp,temp1,temp2])\n",
    "probability = np.append(probability,temp_l,axis=0)\n",
    "\n",
    "probability_1 = probability.reshape([3, 3])\n",
    "print(probability_1)"
   ]
  },
  {
   "cell_type": "code",
   "execution_count": 40,
   "metadata": {},
   "outputs": [
    {
     "name": "stdout",
     "output_type": "stream",
     "text": [
      "[[ 52.  42.  62.]\n",
      " [ 50. 100.   0.]\n",
      " [ 46.  12.  80.]]\n"
     ]
    }
   ],
   "source": [
    "#train=30,test=50で分類を行った結果\n",
    "probability = np.array([])\n",
    "temp,temp1,temp2 = SGRM_test(\"feat_4a_100Hz_10/feat_right_aa_10.txt\",\"feat_4a_100Hz_10/feat_foot_aa_10.txt\",\"feat_4a_100Hz_Test/feat_test_right_aa.txt\",\"feat_4a_100Hz_Test/feat_test_foot_aa.txt\"\n",
    "                           ,\"feat_4a_100Hz_30_2/feat_right_av_30.txt\",\"feat_4a_100Hz_30_2/feat_foot_av_30.txt\",\"feat_4a_100Hz_30_2/feat_right_al_30.txt\",\"feat_4a_100Hz_30_2/feat_foot_al_30.txt\"\n",
    "                           ,\"feat_4a_100Hz_30_2/feat_right_aw_30.txt\",\"feat_4a_100Hz_30_2/feat_foot_aw_30.txt\")\n",
    "temp_l = np.array([temp,temp1,temp2])\n",
    "probability = np.append(probability,temp_l,axis=0)\n",
    "temp,temp1,temp2 = SGRM_test(\"feat_4a_100Hz_10/feat_right_av_10.txt\",\"feat_4a_100Hz_10/feat_foot_av_10.txt\",\"feat_4a_100Hz_Test/feat_test_right_av.txt\",\"feat_4a_100Hz_Test/feat_test_foot_av.txt\"\n",
    "                           ,\"feat_4a_100Hz_30_2/feat_right_aa_30.txt\",\"feat_4a_100Hz_30_2/feat_foot_aa_30.txt\",\"feat_4a_100Hz_30_2/feat_right_al_30.txt\",\"feat_4a_100Hz_30_2/feat_foot_al_30.txt\"\n",
    "                           ,\"feat_4a_100Hz_30_2/feat_right_aw_30.txt\",\"feat_4a_100Hz_30_2/feat_foot_aw_30.txt\")\n",
    "temp_l = np.array([temp,temp1,temp2])\n",
    "probability = np.append(probability,temp_l,axis=0)\n",
    "temp,temp1,temp2 = SGRM_test(\"feat_4a_100Hz_10/feat_right_aw_10.txt\",\"feat_4a_100Hz_10/feat_foot_aw_10.txt\",\"feat_4a_100Hz_Test/feat_test_right_aw.txt\",\"feat_4a_100Hz_Test/feat_test_foot_aw.txt\"\n",
    "                           ,\"feat_4a_100Hz_30_2/feat_right_aa_30.txt\",\"feat_4a_100Hz_30_2/feat_foot_aa_30.txt\",\"feat_4a_100Hz_30_2/feat_right_al_30.txt\",\"feat_4a_100Hz_30_2/feat_foot_al_30.txt\"\n",
    "                           ,\"feat_4a_100Hz_30_2/feat_right_av_30.txt\",\"feat_4a_100Hz_30_2/feat_foot_av_30.txt\")\n",
    "temp_l = np.array([temp,temp1,temp2])\n",
    "probability = np.append(probability,temp_l,axis=0)\n",
    "\n",
    "probability_2 = probability.reshape([3, 3])\n",
    "print(probability_2)"
   ]
  },
  {
   "cell_type": "code",
   "execution_count": 41,
   "metadata": {},
   "outputs": [
    {
     "name": "stdout",
     "output_type": "stream",
     "text": [
      "[[ 50.   0. 100.]\n",
      " [ 47.   4.  90.]\n",
      " [ 51. 100.   2.]]\n"
     ]
    }
   ],
   "source": [
    "#train=30,test=50で分類を行った結果\n",
    "probability = np.array([])\n",
    "temp,temp1,temp2 = SGRM_test(\"feat_4a_100Hz_10/feat_right_aa_10.txt\",\"feat_4a_100Hz_10/feat_foot_aa_10.txt\",\"feat_4a_100Hz_Test/feat_test_right_aa.txt\",\"feat_4a_100Hz_Test/feat_test_foot_aa.txt\"\n",
    "                           ,\"feat_4a_100Hz_30_3/feat_right_av_30.txt\",\"feat_4a_100Hz_30_3/feat_foot_av_30.txt\",\"feat_4a_100Hz_30_3/feat_right_al_30.txt\",\"feat_4a_100Hz_30_3/feat_foot_al_30.txt\"\n",
    "                           ,\"feat_4a_100Hz_30_3/feat_right_aw_30.txt\",\"feat_4a_100Hz_30_3/feat_foot_aw_30.txt\")\n",
    "temp_l = np.array([temp,temp1,temp2])\n",
    "probability = np.append(probability,temp_l,axis=0)\n",
    "temp,temp1,temp2 = SGRM_test(\"feat_4a_100Hz_10/feat_right_av_10.txt\",\"feat_4a_100Hz_10/feat_foot_av_10.txt\",\"feat_4a_100Hz_Test/feat_test_right_av.txt\",\"feat_4a_100Hz_Test/feat_test_foot_av.txt\"\n",
    "                           ,\"feat_4a_100Hz_30_3/feat_right_aa_30.txt\",\"feat_4a_100Hz_30_3/feat_foot_aa_30.txt\",\"feat_4a_100Hz_30_3/feat_right_al_30.txt\",\"feat_4a_100Hz_30_3/feat_foot_al_30.txt\"\n",
    "                           ,\"feat_4a_100Hz_30_3/feat_right_aw_30.txt\",\"feat_4a_100Hz_30_3/feat_foot_aw_30.txt\")\n",
    "temp_l = np.array([temp,temp1,temp2])\n",
    "probability = np.append(probability,temp_l,axis=0)\n",
    "temp,temp1,temp2 = SGRM_test(\"feat_4a_100Hz_10/feat_right_aw_10.txt\",\"feat_4a_100Hz_10/feat_foot_aw_10.txt\",\"feat_4a_100Hz_Test/feat_test_right_aw.txt\",\"feat_4a_100Hz_Test/feat_test_foot_aw.txt\"\n",
    "                           ,\"feat_4a_100Hz_30_3/feat_right_aa_30.txt\",\"feat_4a_100Hz_30_3/feat_foot_aa_30.txt\",\"feat_4a_100Hz_30_3/feat_right_al_30.txt\",\"feat_4a_100Hz_30_3/feat_foot_al_30.txt\"\n",
    "                           ,\"feat_4a_100Hz_30_3/feat_right_av_30.txt\",\"feat_4a_100Hz_30_3/feat_foot_av_30.txt\")\n",
    "temp_l = np.array([temp,temp1,temp2])\n",
    "probability = np.append(probability,temp_l,axis=0)\n",
    "\n",
    "probability_3 = probability.reshape([3, 3])\n",
    "print(probability_3)"
   ]
  },
  {
   "cell_type": "code",
   "execution_count": 42,
   "metadata": {},
   "outputs": [
    {
     "name": "stdout",
     "output_type": "stream",
     "text": [
      "[[50.66666667 14.         87.33333333]\n",
      " [49.         66.66666667 31.33333333]\n",
      " [48.         38.         58.        ]]\n"
     ]
    }
   ],
   "source": [
    "p_average_100Hz = (probability_1+probability_2+probability_3)/3\n",
    "print(p_average_100Hz)"
   ]
  },
  {
   "cell_type": "code",
   "execution_count": 43,
   "metadata": {},
   "outputs": [
    {
     "name": "stdout",
     "output_type": "stream",
     "text": [
      "50.111111111111114 49.22222222222222\n"
     ]
    }
   ],
   "source": [
    "a_20 = 0; a_30 = 0;\n",
    "for i in range(3):\n",
    "    a_20 = a_20 + p_average_1000Hz[i,0] \n",
    "    a_30 = a_30 + p_average_100Hz[i,0] \n",
    "    \n",
    "a_20 = a_20/3\n",
    "a_30 = a_30/3\n",
    "print(a_20,a_30)"
   ]
  },
  {
   "cell_type": "code",
   "execution_count": 44,
   "metadata": {},
   "outputs": [
    {
     "name": "stdout",
     "output_type": "stream",
     "text": [
      "[[50.66666667 49.         48.        ]\n",
      " [50.33333333 50.         50.        ]]\n"
     ]
    },
    {
     "data": {
      "image/png": "[encoded data removed]",
      "text/plain": [
       "<Figure size 432x288 with 1 Axes>"
      ]
     },
     "metadata": {
      "needs_background": "light"
     },
     "output_type": "display_data"
    }
   ],
   "source": [
    "import matplotlib.pyplot as plt\n",
    "import japanize_matplotlib\n",
    "y = np.array([])\n",
    "x = np.arange(1, 4, step=1)\n",
    "y = np.append(p_average_1000Hz[:,0],y)\n",
    "y = np.append(p_average_100Hz[:,0],y)\n",
    "y = y.reshape([2,3])\n",
    "print(y)\n",
    "plt.plot(x,y[1],\"red\")\n",
    "plt.plot(x,y[0])\n",
    "plt.title(\"SGRM_Group分類確率\", {\"fontsize\":20})\n",
    "plt.xlabel(\"被験者No.\", {\"fontsize\":15})\n",
    "plt.ylabel(\"分類確率(%)\", {\"fontsize\":15})\n",
    "plt.xticks(np.arange(1, 4, step=1))\n",
    "plt.yticks(np.arange(0, 110, step=10))\n",
    "plt.savefig(\"4a_SGRM_group_probability_K3_10.pdf\")\n",
    "plt.show()"
   ]
  },
  {
   "cell_type": "code",
   "execution_count": 64,
   "metadata": {},
   "outputs": [
    {
     "name": "stdout",
     "output_type": "stream",
     "text": [
      "[[ 50.   0. 100.]\n",
      " [ 50.  96.   4.]\n",
      " [ 50.   0. 100.]]\n"
     ]
    }
   ],
   "source": [
    "#train=30,test=40で分類を行った結果\n",
    "probability = np.array([])\n",
    "temp,temp1,temp2 = SGRM_test(\"emotiv_data/feat_left_emotiv_20.txt\",\"emotiv_data/feat_right_emotiv_20.txt\",\"emotiv_data/feat_test_left_emotiv.txt\",\"emotiv_data/feat_test_right_emotiv.txt\"\n",
    "                           ,\"feat_2a_250Hz_30/feat_left_A03T_30.txt\",\"feat_2a_250Hz_30/feat_right_A03T_30.txt\"\n",
    "                           ,\"feat_2a_250Hz_30/feat_left_A01T_30.txt\",\"feat_2a_250Hz_30/feat_right_A01T_30.txt\",\"feat_2a_250Hz_30/feat_left_A09T_30.txt\",\"feat_2a_250Hz_30/feat_right_A09T_30.txt\")\n",
    "temp_l = np.array([temp,temp1,temp2])\n",
    "probability = np.append(probability,temp_l,axis=0)\n",
    "temp,temp1,temp2 = SGRM_test(\"emotiv_data_2/feat_left_emotiv_20.txt\",\"emotiv_data_2/feat_right_emotiv_20.txt\",\"emotiv_data_2/feat_test_left_emotiv.txt\",\"emotiv_data_2/feat_test_right_emotiv.txt\"\n",
    "                           ,\"feat_2a_250Hz_30/feat_left_A03T_30.txt\",\"feat_2a_250Hz_30/feat_right_A03T_30.txt\"\n",
    "                           ,\"feat_2a_250Hz_30/feat_left_A01T_30.txt\",\"feat_2a_250Hz_30/feat_right_A01T_30.txt\",\"feat_2a_250Hz_30/feat_left_A09T_30.txt\",\"feat_2a_250Hz_30/feat_right_A09T_30.txt\")\n",
    "temp_l = np.array([temp,temp1,temp2])\n",
    "probability = np.append(probability,temp_l,axis=0)\n",
    "temp,temp1,temp2 = SGRM_test(\"emotiv_data_3/feat_left_emotiv_20.txt\",\"emotiv_data_3/feat_right_emotiv_20.txt\",\"emotiv_data_3/feat_test_left_emotiv.txt\",\"emotiv_data_3/feat_test_right_emotiv.txt\"\n",
    "                           ,\"feat_2a_250Hz_30/feat_left_A03T_30.txt\",\"feat_2a_250Hz_30/feat_right_A03T_30.txt\"\n",
    "                           ,\"feat_2a_250Hz_30/feat_left_A01T_30.txt\",\"feat_2a_250Hz_30/feat_right_A01T_30.txt\",\"feat_2a_250Hz_30/feat_left_A09T_30.txt\",\"feat_2a_250Hz_30/feat_right_A09T_30.txt\")\n",
    "temp_l = np.array([temp,temp1,temp2])\n",
    "probability = np.append(probability,temp_l,axis=0)\n",
    "probability_1 = probability.reshape([3, 3])\n",
    "print(probability_1)"
   ]
  },
  {
   "cell_type": "code",
   "execution_count": null,
   "metadata": {},
   "outputs": [],
   "source": [
    "#train=30,test=40で分類を行った結果\n",
    "probability = np.array([])\n",
    "temp,temp1,temp2 = SGRM_test(\"emotiv_data/feat_left_emotiv_20.txt\",\"emotiv_data/feat_right_emotiv_20.txt\",\"emotiv_data/feat_test_left_emotiv.txt\",\"emotiv_data/feat_test_right_emotiv.txt\"\n",
    "                           ,\"feat_2a_250Hz_30_2/feat_left_A03T_30.txt\",\"feat_2a_250Hz_30_2/feat_right_A03T_30.txt\"\n",
    "                           ,\"feat_2a_250Hz_30_2/feat_left_A01T_30.txt\",\"feat_2a_250Hz_30_2/feat_right_A01T_30.txt\",\"feat_2a_250Hz_30_2/feat_left_A09T_30.txt\",\"feat_2a_250Hz_30_2/feat_right_A09T_30.txt\")\n",
    "temp_l = np.array([temp,temp1,temp2])\n",
    "probability = np.append(probability,temp_l,axis=0)\n",
    "temp,temp1,temp2 = SGRM_test(\"emotiv_data_2/feat_left_emotiv_20.txt\",\"emotiv_data_2/feat_right_emotiv_20.txt\",\"emotiv_data_2/feat_test_left_emotiv.txt\",\"emotiv_data_2/feat_test_right_emotiv.txt\"\n",
    "                           ,\"feat_2a_250Hz_30_2/feat_left_A03T_30.txt\",\"feat_2a_250Hz_30_2/feat_right_A03T_30.txt\"\n",
    "                           ,\"feat_2a_250Hz_30_2/feat_left_A01T_30.txt\",\"feat_2a_250Hz_30_2/feat_right_A01T_30.txt\",\"feat_2a_250Hz_30_2/feat_left_A09T_30.txt\",\"feat_2a_250Hz_30_2/feat_right_A09T_30.txt\")\n",
    "temp_l = np.array([temp,temp1,temp2])\n",
    "probability = np.append(probability,temp_l,axis=0)\n",
    "temp,temp1,temp2 = SGRM_test(\"emotiv_data_3/feat_left_emotiv_20.txt\",\"emotiv_data_3/feat_right_emotiv_20.txt\",\"emotiv_data_3/feat_test_left_emotiv.txt\",\"emotiv_data_3/feat_test_right_emotiv.txt\"\n",
    "                           ,\"feat_2a_250Hz_30_2/feat_left_A03T_30.txt\",\"feat_2a_250Hz_30_2/feat_right_A03T_30.txt\"\n",
    "                           ,\"feat_2a_250Hz_30_2/feat_left_A01T_30.txt\",\"feat_2a_250Hz_30_2/feat_right_A01T_30.txt\",\"feat_2a_250Hz_30_2/feat_left_A09T_30.txt\",\"feat_2a_250Hz_30_2/feat_right_A09T_30.txt\")\n",
    "temp_l = np.array([temp,temp1,temp2])\n",
    "probability = np.append(probability,temp_l,axis=0)\n",
    "\n",
    "probability_2 = probability.reshape([3, 3])\n",
    "print(probability_2)"
   ]
  },
  {
   "cell_type": "code",
   "execution_count": 68,
   "metadata": {},
   "outputs": [
    {
     "name": "stdout",
     "output_type": "stream",
     "text": [
      "[[ 50. 100.   0.]\n",
      " [ 49.  94.   4.]\n",
      " [ 52.   4. 100.]]\n"
     ]
    }
   ],
   "source": [
    "#train=30,test=40で分類を行った結果\n",
    "probability = np.array([])\n",
    "temp,temp1,temp2 = SGRM_test(\"emotiv_data/feat_left_emotiv_20.txt\",\"emotiv_data/feat_right_emotiv_20.txt\",\"emotiv_data/feat_test_left_emotiv.txt\",\"emotiv_data/feat_test_right_emotiv.txt\"\n",
    "                           ,\"feat_2a_250Hz_30_3/feat_left_A03T_30.txt\",\"feat_2a_250Hz_30_3/feat_right_A03T_30.txt\"\n",
    "                           ,\"feat_2a_250Hz_30_3/feat_left_A01T_30.txt\",\"feat_2a_250Hz_30_3/feat_right_A01T_30.txt\",\"feat_2a_250Hz_30_3/feat_left_A09T_30.txt\",\"feat_2a_250Hz_30_3/feat_right_A09T_30.txt\")\n",
    "temp_l = np.array([temp,temp1,temp2])\n",
    "probability = np.append(probability,temp_l,axis=0)\n",
    "temp,temp1,temp2 = SGRM_test(\"emotiv_data_2/feat_left_emotiv_20.txt\",\"emotiv_data_2/feat_right_emotiv_20.txt\",\"emotiv_data_2/feat_test_left_emotiv.txt\",\"emotiv_data_2/feat_test_right_emotiv.txt\"\n",
    "                           ,\"feat_2a_250Hz_30_3/feat_left_A03T_30.txt\",\"feat_2a_250Hz_30_3/feat_right_A03T_30.txt\"\n",
    "                           ,\"feat_2a_250Hz_30_3/feat_left_A01T_30.txt\",\"feat_2a_250Hz_30_3/feat_right_A01T_30.txt\",\"feat_2a_250Hz_30_3/feat_left_A09T_30.txt\",\"feat_2a_250Hz_30_3/feat_right_A09T_30.txt\")\n",
    "temp_l = np.array([temp,temp1,temp2])\n",
    "probability = np.append(probability,temp_l,axis=0)\n",
    "temp,temp1,temp2 = SGRM_test(\"emotiv_data_3/feat_left_emotiv_20.txt\",\"emotiv_data_3/feat_right_emotiv_20.txt\",\"emotiv_data_3/feat_test_left_emotiv.txt\",\"emotiv_data_3/feat_test_right_emotiv.txt\"\n",
    "                           ,\"feat_2a_250Hz_30_3/feat_left_A03T_30.txt\",\"feat_2a_250Hz_30_3/feat_right_A03T_30.txt\"\n",
    "                           ,\"feat_2a_250Hz_30_3/feat_left_A01T_30.txt\",\"feat_2a_250Hz_30_3/feat_right_A01T_30.txt\",\"feat_2a_250Hz_30_3/feat_left_A09T_30.txt\",\"feat_2a_250Hz_30_3/feat_right_A09T_30.txt\")\n",
    "temp_l = np.array([temp,temp1,temp2])\n",
    "probability = np.append(probability,temp_l,axis=0)\n",
    "probability_3 = probability.reshape([3, 3])\n",
    "print(probability_3)"
   ]
  },
  {
   "cell_type": "code",
   "execution_count": 69,
   "metadata": {},
   "outputs": [
    {
     "name": "stdout",
     "output_type": "stream",
     "text": [
      "[[ 50.          33.33333333  66.66666667]\n",
      " [ 48.66666667  92.66666667   4.66666667]\n",
      " [ 50.66666667   1.33333333 100.        ]]\n"
     ]
    }
   ],
   "source": [
    "p_average_250Hz = (probability_1+probability_2+probability_3)/3\n",
    "print(p_average_250Hz)"
   ]
  },
  {
   "cell_type": "code",
   "execution_count": 70,
   "metadata": {},
   "outputs": [
    {
     "name": "stdout",
     "output_type": "stream",
     "text": [
      "[[ 53. 100.   6.]\n",
      " [ 52. 100.   4.]\n",
      " [ 58.  46.  70.]]\n"
     ]
    }
   ],
   "source": [
    "#train=30,test=40で分類を行った結果\n",
    "probability = np.array([])\n",
    "temp,temp1,temp2 = SGRM_test(\"emotiv_data/feat_left_emotiv_20.txt\",\"emotiv_data/feat_right_emotiv_20.txt\",\"emotiv_data/feat_test_left_emotiv.txt\",\"emotiv_data/feat_test_right_emotiv.txt\"\n",
    "                           ,\"feat_2a_125Hz_30/feat_left_A02T_30.txt\",\"feat_2a_125Hz_30/feat_right_A02T_30.txt\",\"feat_2a_125Hz_30/feat_left_A03T_30.txt\",\"feat_2a_125Hz_30/feat_right_A03T_30.txt\"\n",
    "                           ,\"feat_2a_125Hz_30/feat_left_A09T_30.txt\",\"feat_2a_125Hz_30/feat_right_A09T_30.txt\")\n",
    "temp_l = np.array([temp,temp1,temp2])\n",
    "probability = np.append(probability,temp_l,axis=0)\n",
    "temp,temp1,temp2 = SGRM_test(\"emotiv_data_2/feat_left_emotiv_20.txt\",\"emotiv_data_2/feat_right_emotiv_20.txt\",\"emotiv_data_2/feat_test_left_emotiv.txt\",\"emotiv_data_2/feat_test_right_emotiv.txt\"\n",
    "                           ,\"feat_2a_125Hz_30/feat_left_A02T_30.txt\",\"feat_2a_125Hz_30/feat_right_A02T_30.txt\",\"feat_2a_125Hz_30/feat_left_A03T_30.txt\",\"feat_2a_125Hz_30/feat_right_A03T_30.txt\"\n",
    "                           ,\"feat_2a_125Hz_30/feat_left_A09T_30.txt\",\"feat_2a_125Hz_30/feat_right_A09T_30.txt\")\n",
    "temp_l = np.array([temp,temp1,temp2])\n",
    "probability = np.append(probability,temp_l,axis=0)\n",
    "temp,temp1,temp2 = SGRM_test(\"emotiv_data_3/feat_left_emotiv_20.txt\",\"emotiv_data_3/feat_right_emotiv_20.txt\",\"emotiv_data_3/feat_test_left_emotiv.txt\",\"emotiv_data_3/feat_test_right_emotiv.txt\"\n",
    "                           ,\"feat_2a_125Hz_30/feat_left_A02T_30.txt\",\"feat_2a_125Hz_30/feat_right_A02T_30.txt\",\"feat_2a_125Hz_30/feat_left_A03T_30.txt\",\"feat_2a_125Hz_30/feat_right_A03T_30.txt\"\n",
    "                           ,\"feat_2a_125Hz_30/feat_left_A09T_30.txt\",\"feat_2a_125Hz_30/feat_right_A09T_30.txt\")\n",
    "temp_l = np.array([temp,temp1,temp2])\n",
    "probability = np.append(probability,temp_l,axis=0)\n",
    "\n",
    "probability_1 = probability.reshape([3, 3])\n",
    "print(probability_1)"
   ]
  },
  {
   "cell_type": "code",
   "execution_count": 71,
   "metadata": {},
   "outputs": [
    {
     "name": "stdout",
     "output_type": "stream",
     "text": [
      "[[ 57.  94.  20.]\n",
      " [ 52. 100.   4.]\n",
      " [ 50.   0. 100.]]\n"
     ]
    }
   ],
   "source": [
    "#train=30,test=40で分類を行った結果\n",
    "probability = np.array([])\n",
    "temp,temp1,temp2 = SGRM_test(\"emotiv_data/feat_left_emotiv_20.txt\",\"emotiv_data/feat_right_emotiv_20.txt\",\"emotiv_data/feat_test_left_emotiv.txt\",\"emotiv_data/feat_test_right_emotiv.txt\"\n",
    "                           ,\"feat_2a_125Hz_30_2/feat_left_A03T_30.txt\",\"feat_2a_125Hz_30_2/feat_right_A03T_30.txt\"\n",
    "                           ,\"feat_2a_125Hz_30_2/feat_left_A01T_30.txt\",\"feat_2a_125Hz_30_2/feat_right_A01T_30.txt\",\"feat_2a_125Hz_30_2/feat_left_A09T_30.txt\",\"feat_2a_125Hz_30_2/feat_right_A09T_30.txt\")\n",
    "temp_l = np.array([temp,temp1,temp2])\n",
    "probability = np.append(probability,temp_l,axis=0)\n",
    "temp,temp1,temp2 = SGRM_test(\"emotiv_data_2/feat_left_emotiv_20.txt\",\"emotiv_data_2/feat_right_emotiv_20.txt\",\"emotiv_data_2/feat_test_left_emotiv.txt\",\"emotiv_data_2/feat_test_right_emotiv.txt\"\n",
    "                           ,\"feat_2a_125Hz_30_2/feat_left_A03T_30.txt\",\"feat_2a_125Hz_30_2/feat_right_A03T_30.txt\"\n",
    "                           ,\"feat_2a_125Hz_30_2/feat_left_A01T_30.txt\",\"feat_2a_125Hz_30_2/feat_right_A01T_30.txt\",\"feat_2a_125Hz_30_2/feat_left_A09T_30.txt\",\"feat_2a_125Hz_30_2/feat_right_A09T_30.txt\")\n",
    "temp_l = np.array([temp,temp1,temp2])\n",
    "probability = np.append(probability,temp_l,axis=0)\n",
    "temp,temp1,temp2 = SGRM_test(\"emotiv_data_3/feat_left_emotiv_20.txt\",\"emotiv_data_3/feat_right_emotiv_20.txt\",\"emotiv_data_3/feat_test_left_emotiv.txt\",\"emotiv_data_3/feat_test_right_emotiv.txt\"\n",
    "                           ,\"feat_2a_125Hz_30_2/feat_left_A03T_30.txt\",\"feat_2a_125Hz_30_2/feat_right_A03T_30.txt\"\n",
    "                           ,\"feat_2a_125Hz_30_2/feat_left_A01T_30.txt\",\"feat_2a_125Hz_30_2/feat_right_A01T_30.txt\",\"feat_2a_125Hz_30_2/feat_left_A09T_30.txt\",\"feat_2a_125Hz_30_2/feat_right_A09T_30.txt\")\n",
    "temp_l = np.array([temp,temp1,temp2])\n",
    "probability = np.append(probability,temp_l,axis=0)\n",
    "probability_2 = probability.reshape([3, 3])\n",
    "print(probability_2)"
   ]
  },
  {
   "cell_type": "code",
   "execution_count": 72,
   "metadata": {},
   "outputs": [
    {
     "name": "stdout",
     "output_type": "stream",
     "text": [
      "[[ 50. 100.   0.]\n",
      " [ 51.  98.   4.]\n",
      " [ 50.   2.  98.]]\n"
     ]
    }
   ],
   "source": [
    "#train=30,test=40で分類を行った結果\n",
    "probability = np.array([])\n",
    "temp,temp1,temp2 = SGRM_test(\"emotiv_data/feat_left_emotiv_20.txt\",\"emotiv_data/feat_right_emotiv_20.txt\",\"emotiv_data/feat_test_left_emotiv.txt\",\"emotiv_data/feat_test_right_emotiv.txt\"\n",
    "                           ,\"feat_2a_125Hz_30_3/feat_left_A03T_30.txt\",\"feat_2a_125Hz_30_3/feat_right_A03T_30.txt\"\n",
    "                           ,\"feat_2a_125Hz_30_3/feat_left_A01T_30.txt\",\"feat_2a_125Hz_30_3/feat_right_A01T_30.txt\",\"feat_2a_125Hz_30_3/feat_left_A09T_30.txt\",\"feat_2a_125Hz_30_3/feat_right_A09T_30.txt\")\n",
    "temp_l = np.array([temp,temp1,temp2])\n",
    "probability = np.append(probability,temp_l,axis=0)\n",
    "temp,temp1,temp2 = SGRM_test(\"emotiv_data_2/feat_left_emotiv_20.txt\",\"emotiv_data_2/feat_right_emotiv_20.txt\",\"emotiv_data_2/feat_test_left_emotiv.txt\",\"emotiv_data_2/feat_test_right_emotiv.txt\"\n",
    "                           ,\"feat_2a_125Hz_30_3/feat_left_A03T_30.txt\",\"feat_2a_125Hz_30_3/feat_right_A03T_30.txt\"\n",
    "                           ,\"feat_2a_125Hz_30_3/feat_left_A01T_30.txt\",\"feat_2a_125Hz_30_3/feat_right_A01T_30.txt\",\"feat_2a_125Hz_30_3/feat_left_A09T_30.txt\",\"feat_2a_125Hz_30_3/feat_right_A09T_30.txt\")\n",
    "temp_l = np.array([temp,temp1,temp2])\n",
    "probability = np.append(probability,temp_l,axis=0)\n",
    "temp,temp1,temp2 = SGRM_test(\"emotiv_data_3/feat_left_emotiv_20.txt\",\"emotiv_data_3/feat_right_emotiv_20.txt\",\"emotiv_data_3/feat_test_left_emotiv.txt\",\"emotiv_data_3/feat_test_right_emotiv.txt\"\n",
    "                           ,\"feat_2a_125Hz_30_3/feat_left_A03T_30.txt\",\"feat_2a_125Hz_30_3/feat_right_A03T_30.txt\"\n",
    "                           ,\"feat_2a_125Hz_30_3/feat_left_A01T_30.txt\",\"feat_2a_125Hz_30_3/feat_right_A01T_30.txt\",\"feat_2a_125Hz_30_3/feat_left_A09T_30.txt\",\"feat_2a_125Hz_30_3/feat_right_A09T_30.txt\")\n",
    "temp_l = np.array([temp,temp1,temp2])\n",
    "probability = np.append(probability,temp_l,axis=0)\n",
    "probability_3 = probability.reshape([3, 3])\n",
    "print(probability_3)\n",
    "        "
   ]
  },
  {
   "cell_type": "code",
   "execution_count": 73,
   "metadata": {},
   "outputs": [
    {
     "name": "stdout",
     "output_type": "stream",
     "text": [
      "[[53.33333333 98.          8.66666667]\n",
      " [51.66666667 99.33333333  4.        ]\n",
      " [52.66666667 16.         89.33333333]]\n"
     ]
    }
   ],
   "source": [
    "p_average_125Hz = (probability_1+probability_2+probability_3)/3\n",
    "print(p_average_125Hz)"
   ]
  },
  {
   "cell_type": "code",
   "execution_count": 74,
   "metadata": {},
   "outputs": [
    {
     "name": "stdout",
     "output_type": "stream",
     "text": [
      "49.77777777777777 52.55555555555555\n"
     ]
    }
   ],
   "source": [
    "a_20 = 0; a_30 = 0;\n",
    "for i in range(3):\n",
    "    a_20 = a_20 + p_average_250Hz[i,0] \n",
    "    a_30 = a_30 + p_average_125Hz[i,0] \n",
    "    \n",
    "a_20 = a_20/3\n",
    "a_30 = a_30/3\n",
    "print(a_20,a_30)"
   ]
  },
  {
   "cell_type": "code",
   "execution_count": 76,
   "metadata": {},
   "outputs": [
    {
     "name": "stdout",
     "output_type": "stream",
     "text": [
      "[[ 48.  84.  12.]\n",
      " [ 50. 100.   0.]\n",
      " [ 50. 100.   0.]]\n"
     ]
    }
   ],
   "source": [
    "#train=30,test=40で分類を行った結果\n",
    "probability = np.array([])\n",
    "temp,temp1,temp2 = SGRM_test(\"emotiv_data/feat_left_emotiv_10.txt\",\"emotiv_data/feat_right_emotiv_10.txt\",\"emotiv_data/feat_test_left_emotiv.txt\",\"emotiv_data/feat_test_right_emotiv.txt\"\n",
    "                           ,\"feat_2a_250Hz_30/feat_left_A03T_30.txt\",\"feat_2a_250Hz_30/feat_right_A03T_30.txt\"\n",
    "                           ,\"feat_2a_250Hz_30/feat_left_A01T_30.txt\",\"feat_2a_250Hz_30/feat_right_A01T_30.txt\",\"feat_2a_250Hz_30/feat_left_A09T_30.txt\",\"feat_2a_250Hz_30/feat_right_A09T_30.txt\")\n",
    "temp_l = np.array([temp,temp1,temp2])\n",
    "probability = np.append(probability,temp_l,axis=0)\n",
    "temp,temp1,temp2 = SGRM_test(\"emotiv_data_2/feat_left_emotiv_10.txt\",\"emotiv_data_2/feat_right_emotiv_10.txt\",\"emotiv_data_2/feat_test_left_emotiv.txt\",\"emotiv_data_2/feat_test_right_emotiv.txt\"\n",
    "                           ,\"feat_2a_250Hz_30/feat_left_A03T_30.txt\",\"feat_2a_250Hz_30/feat_right_A03T_30.txt\"\n",
    "                           ,\"feat_2a_250Hz_30/feat_left_A01T_30.txt\",\"feat_2a_250Hz_30/feat_right_A01T_30.txt\",\"feat_2a_250Hz_30/feat_left_A09T_30.txt\",\"feat_2a_250Hz_30/feat_right_A09T_30.txt\")\n",
    "temp_l = np.array([temp,temp1,temp2])\n",
    "probability = np.append(probability,temp_l,axis=0)\n",
    "temp,temp1,temp2 = SGRM_test(\"emotiv_data_3/feat_left_emotiv_10.txt\",\"emotiv_data_3/feat_right_emotiv_10.txt\",\"emotiv_data_3/feat_test_left_emotiv.txt\",\"emotiv_data_3/feat_test_right_emotiv.txt\"\n",
    "                           ,\"feat_2a_250Hz_30/feat_left_A03T_30.txt\",\"feat_2a_250Hz_30/feat_right_A03T_30.txt\"\n",
    "                           ,\"feat_2a_250Hz_30/feat_left_A01T_30.txt\",\"feat_2a_250Hz_30/feat_right_A01T_30.txt\",\"feat_2a_250Hz_30/feat_left_A09T_30.txt\",\"feat_2a_250Hz_30/feat_right_A09T_30.txt\")\n",
    "temp_l = np.array([temp,temp1,temp2])\n",
    "probability = np.append(probability,temp_l,axis=0)\n",
    "probability_1 = probability.reshape([3, 3])\n",
    "print(probability_1)"
   ]
  },
  {
   "cell_type": "code",
   "execution_count": 77,
   "metadata": {},
   "outputs": [
    {
     "name": "stdout",
     "output_type": "stream",
     "text": [
      "[[57. 56. 58.]\n",
      " [49.  4. 94.]\n",
      " [45. 76. 14.]]\n"
     ]
    }
   ],
   "source": [
    "#train=30,test=40で分類を行った結果\n",
    "probability = np.array([])\n",
    "temp,temp1,temp2 = SGRM_test(\"emotiv_data/feat_left_emotiv_10.txt\",\"emotiv_data/feat_right_emotiv_10.txt\",\"emotiv_data/feat_test_left_emotiv.txt\",\"emotiv_data/feat_test_right_emotiv.txt\"\n",
    "                           ,\"feat_2a_250Hz_30_2/feat_left_A03T_30.txt\",\"feat_2a_250Hz_30_2/feat_right_A03T_30.txt\"\n",
    "                           ,\"feat_2a_250Hz_30_2/feat_left_A01T_30.txt\",\"feat_2a_250Hz_30_2/feat_right_A01T_30.txt\",\"feat_2a_250Hz_30_2/feat_left_A09T_30.txt\",\"feat_2a_250Hz_30_2/feat_right_A09T_30.txt\")\n",
    "temp_l = np.array([temp,temp1,temp2])\n",
    "probability = np.append(probability,temp_l,axis=0)\n",
    "temp,temp1,temp2 = SGRM_test(\"emotiv_data_2/feat_left_emotiv_10.txt\",\"emotiv_data_2/feat_right_emotiv_10.txt\",\"emotiv_data_2/feat_test_left_emotiv.txt\",\"emotiv_data_2/feat_test_right_emotiv.txt\"\n",
    "                           ,\"feat_2a_250Hz_30_2/feat_left_A03T_30.txt\",\"feat_2a_250Hz_30_2/feat_right_A03T_30.txt\"\n",
    "                           ,\"feat_2a_250Hz_30_2/feat_left_A01T_30.txt\",\"feat_2a_250Hz_30_2/feat_right_A01T_30.txt\",\"feat_2a_250Hz_30_2/feat_left_A09T_30.txt\",\"feat_2a_250Hz_30_2/feat_right_A09T_30.txt\")\n",
    "temp_l = np.array([temp,temp1,temp2])\n",
    "probability = np.append(probability,temp_l,axis=0)\n",
    "temp,temp1,temp2 = SGRM_test(\"emotiv_data_3/feat_left_emotiv_10.txt\",\"emotiv_data_3/feat_right_emotiv_10.txt\",\"emotiv_data_3/feat_test_left_emotiv.txt\",\"emotiv_data_3/feat_test_right_emotiv.txt\"\n",
    "                           ,\"feat_2a_250Hz_30_2/feat_left_A03T_30.txt\",\"feat_2a_250Hz_30_2/feat_right_A03T_30.txt\"\n",
    "                           ,\"feat_2a_250Hz_30_2/feat_left_A01T_30.txt\",\"feat_2a_250Hz_30_2/feat_right_A01T_30.txt\",\"feat_2a_250Hz_30_2/feat_left_A09T_30.txt\",\"feat_2a_250Hz_30_2/feat_right_A09T_30.txt\")\n",
    "temp_l = np.array([temp,temp1,temp2])\n",
    "probability = np.append(probability,temp_l,axis=0)\n",
    "probability_2 = probability.reshape([3, 3])\n",
    "print(probability_2)"
   ]
  },
  {
   "cell_type": "code",
   "execution_count": 78,
   "metadata": {},
   "outputs": [
    {
     "name": "stdout",
     "output_type": "stream",
     "text": [
      "[[ 48.  60.  36.]\n",
      " [ 50.   0. 100.]\n",
      " [ 50. 100.   0.]]\n"
     ]
    }
   ],
   "source": [
    "#train=30,test=40で分類を行った結果\n",
    "probability = np.array([])\n",
    "temp,temp1,temp2 = SGRM_test(\"emotiv_data/feat_left_emotiv_10.txt\",\"emotiv_data/feat_right_emotiv_10.txt\",\"emotiv_data/feat_test_left_emotiv.txt\",\"emotiv_data/feat_test_right_emotiv.txt\"\n",
    "                           ,\"feat_2a_250Hz_30_3/feat_left_A03T_30.txt\",\"feat_2a_250Hz_30_3/feat_right_A03T_30.txt\"\n",
    "                           ,\"feat_2a_250Hz_30_3/feat_left_A01T_30.txt\",\"feat_2a_250Hz_30_3/feat_right_A01T_30.txt\",\"feat_2a_250Hz_30_3/feat_left_A09T_30.txt\",\"feat_2a_250Hz_30_3/feat_right_A09T_30.txt\")\n",
    "temp_l = np.array([temp,temp1,temp2])\n",
    "probability = np.append(probability,temp_l,axis=0)\n",
    "temp,temp1,temp2 = SGRM_test(\"emotiv_data_2/feat_left_emotiv_10.txt\",\"emotiv_data_2/feat_right_emotiv_10.txt\",\"emotiv_data_2/feat_test_left_emotiv.txt\",\"emotiv_data_2/feat_test_right_emotiv.txt\"\n",
    "                           ,\"feat_2a_250Hz_30_3/feat_left_A03T_30.txt\",\"feat_2a_250Hz_30_3/feat_right_A03T_30.txt\"\n",
    "                           ,\"feat_2a_250Hz_30_3/feat_left_A01T_30.txt\",\"feat_2a_250Hz_30_3/feat_right_A01T_30.txt\",\"feat_2a_250Hz_30_3/feat_left_A09T_30.txt\",\"feat_2a_250Hz_30_3/feat_right_A09T_30.txt\")\n",
    "temp_l = np.array([temp,temp1,temp2])\n",
    "probability = np.append(probability,temp_l,axis=0)\n",
    "temp,temp1,temp2 = SGRM_test(\"emotiv_data_3/feat_left_emotiv_10.txt\",\"emotiv_data_3/feat_right_emotiv_10.txt\",\"emotiv_data_3/feat_test_left_emotiv.txt\",\"emotiv_data_3/feat_test_right_emotiv.txt\"\n",
    "                           ,\"feat_2a_250Hz_30_3/feat_left_A03T_30.txt\",\"feat_2a_250Hz_30_3/feat_right_A03T_30.txt\"\n",
    "                           ,\"feat_2a_250Hz_30_3/feat_left_A01T_30.txt\",\"feat_2a_250Hz_30_3/feat_right_A01T_30.txt\",\"feat_2a_250Hz_30_3/feat_left_A09T_30.txt\",\"feat_2a_250Hz_30_3/feat_right_A09T_30.txt\")\n",
    "temp_l = np.array([temp,temp1,temp2])\n",
    "probability = np.append(probability,temp_l,axis=0)\n",
    "probability_3 = probability.reshape([3, 3])\n",
    "print(probability_3)"
   ]
  },
  {
   "cell_type": "code",
   "execution_count": 79,
   "metadata": {},
   "outputs": [
    {
     "name": "stdout",
     "output_type": "stream",
     "text": [
      "[[51.         66.66666667 35.33333333]\n",
      " [49.66666667 34.66666667 64.66666667]\n",
      " [48.33333333 92.          4.66666667]]\n"
     ]
    }
   ],
   "source": [
    "p_average_250Hz = (probability_1+probability_2+probability_3)/3\n",
    "print(p_average_250Hz)"
   ]
  },
  {
   "cell_type": "code",
   "execution_count": 80,
   "metadata": {},
   "outputs": [
    {
     "name": "stdout",
     "output_type": "stream",
     "text": [
      "[[ 49.  98.   0.]\n",
      " [ 50. 100.   0.]\n",
      " [ 50.  12.  88.]]\n"
     ]
    }
   ],
   "source": [
    "#train=30,test=40で分類を行った結果\n",
    "probability = np.array([])\n",
    "temp,temp1,temp2 = SGRM_test(\"emotiv_data/feat_left_emotiv_10.txt\",\"emotiv_data/feat_right_emotiv_10.txt\",\"emotiv_data/feat_test_left_emotiv.txt\",\"emotiv_data/feat_test_right_emotiv.txt\"\n",
    "                           ,\"feat_2a_125Hz_30/feat_left_A02T_30.txt\",\"feat_2a_125Hz_30/feat_right_A02T_30.txt\",\"feat_2a_125Hz_30/feat_left_A03T_30.txt\",\"feat_2a_125Hz_30/feat_right_A03T_30.txt\"\n",
    "                           ,\"feat_2a_125Hz_30/feat_left_A09T_30.txt\",\"feat_2a_125Hz_30/feat_right_A09T_30.txt\")\n",
    "temp_l = np.array([temp,temp1,temp2])\n",
    "probability = np.append(probability,temp_l,axis=0)\n",
    "temp,temp1,temp2 = SGRM_test(\"emotiv_data_2/feat_left_emotiv_10.txt\",\"emotiv_data_2/feat_right_emotiv_10.txt\",\"emotiv_data_2/feat_test_left_emotiv.txt\",\"emotiv_data_2/feat_test_right_emotiv.txt\"\n",
    "                           ,\"feat_2a_125Hz_30/feat_left_A02T_30.txt\",\"feat_2a_125Hz_30/feat_right_A02T_30.txt\",\"feat_2a_125Hz_30/feat_left_A03T_30.txt\",\"feat_2a_125Hz_30/feat_right_A03T_30.txt\"\n",
    "                           ,\"feat_2a_125Hz_30/feat_left_A09T_30.txt\",\"feat_2a_125Hz_30/feat_right_A09T_30.txt\")\n",
    "temp_l = np.array([temp,temp1,temp2])\n",
    "probability = np.append(probability,temp_l,axis=0)\n",
    "temp,temp1,temp2 = SGRM_test(\"emotiv_data_3/feat_left_emotiv_10.txt\",\"emotiv_data_3/feat_right_emotiv_10.txt\",\"emotiv_data_3/feat_test_left_emotiv.txt\",\"emotiv_data_3/feat_test_right_emotiv.txt\"\n",
    "                           ,\"feat_2a_125Hz_30/feat_left_A02T_30.txt\",\"feat_2a_125Hz_30/feat_right_A02T_30.txt\",\"feat_2a_125Hz_30/feat_left_A03T_30.txt\",\"feat_2a_125Hz_30/feat_right_A03T_30.txt\"\n",
    "                           ,\"feat_2a_125Hz_30/feat_left_A09T_30.txt\",\"feat_2a_125Hz_30/feat_right_A09T_30.txt\")\n",
    "temp_l = np.array([temp,temp1,temp2])\n",
    "probability = np.append(probability,temp_l,axis=0)\n",
    "probability_1 = probability.reshape([3, 3])\n",
    "print(probability_1)"
   ]
  },
  {
   "cell_type": "code",
   "execution_count": 81,
   "metadata": {},
   "outputs": [
    {
     "name": "stdout",
     "output_type": "stream",
     "text": [
      "[[ 53.  98.   8.]\n",
      " [ 50. 100.   0.]\n",
      " [ 50. 100.   0.]]\n"
     ]
    }
   ],
   "source": [
    "#train=30,test=40で分類を行った結果\n",
    "probability = np.array([])\n",
    "temp,temp1,temp2 = SGRM_test(\"emotiv_data/feat_left_emotiv_10.txt\",\"emotiv_data/feat_right_emotiv_10.txt\",\"emotiv_data/feat_test_left_emotiv.txt\",\"emotiv_data/feat_test_right_emotiv.txt\"\n",
    "                           ,\"feat_2a_125Hz_30_2/feat_left_A03T_30.txt\",\"feat_2a_125Hz_30_2/feat_right_A03T_30.txt\"\n",
    "                           ,\"feat_2a_125Hz_30_2/feat_left_A01T_30.txt\",\"feat_2a_125Hz_30_2/feat_right_A01T_30.txt\",\"feat_2a_125Hz_30_2/feat_left_A09T_30.txt\",\"feat_2a_125Hz_30_2/feat_right_A09T_30.txt\")\n",
    "temp_l = np.array([temp,temp1,temp2])\n",
    "probability = np.append(probability,temp_l,axis=0)\n",
    "temp,temp1,temp2 = SGRM_test(\"emotiv_data_2/feat_left_emotiv_10.txt\",\"emotiv_data_2/feat_right_emotiv_10.txt\",\"emotiv_data_2/feat_test_left_emotiv.txt\",\"emotiv_data_2/feat_test_right_emotiv.txt\"\n",
    "                           ,\"feat_2a_125Hz_30_2/feat_left_A03T_30.txt\",\"feat_2a_125Hz_30_2/feat_right_A03T_30.txt\"\n",
    "                           ,\"feat_2a_125Hz_30_2/feat_left_A01T_30.txt\",\"feat_2a_125Hz_30_2/feat_right_A01T_30.txt\",\"feat_2a_125Hz_30_2/feat_left_A09T_30.txt\",\"feat_2a_125Hz_30_2/feat_right_A09T_30.txt\")\n",
    "temp_l = np.array([temp,temp1,temp2])\n",
    "probability = np.append(probability,temp_l,axis=0)\n",
    "temp,temp1,temp2 = SGRM_test(\"emotiv_data_3/feat_left_emotiv_10.txt\",\"emotiv_data_3/feat_right_emotiv_10.txt\",\"emotiv_data_3/feat_test_left_emotiv.txt\",\"emotiv_data_3/feat_test_right_emotiv.txt\"\n",
    "                           ,\"feat_2a_125Hz_30_2/feat_left_A03T_30.txt\",\"feat_2a_125Hz_30_2/feat_right_A03T_30.txt\"\n",
    "                           ,\"feat_2a_125Hz_30_2/feat_left_A01T_30.txt\",\"feat_2a_125Hz_30_2/feat_right_A01T_30.txt\",\"feat_2a_125Hz_30_2/feat_left_A09T_30.txt\",\"feat_2a_125Hz_30_2/feat_right_A09T_30.txt\")\n",
    "temp_l = np.array([temp,temp1,temp2])\n",
    "probability = np.append(probability,temp_l,axis=0)\n",
    "probability_2 = probability.reshape([3, 3])\n",
    "print(probability_2)"
   ]
  },
  {
   "cell_type": "code",
   "execution_count": 82,
   "metadata": {},
   "outputs": [
    {
     "name": "stdout",
     "output_type": "stream",
     "text": [
      "[[ 49.  24.  74.]\n",
      " [ 57.  48.  66.]\n",
      " [ 50. 100.   0.]]\n"
     ]
    }
   ],
   "source": [
    "#train=30,test=40で分類を行った結果\n",
    "probability = np.array([])\n",
    "temp,temp1,temp2 = SGRM_test(\"emotiv_data/feat_left_emotiv_10.txt\",\"emotiv_data/feat_right_emotiv_10.txt\",\"emotiv_data/feat_test_left_emotiv.txt\",\"emotiv_data/feat_test_right_emotiv.txt\"\n",
    "                           ,\"feat_2a_125Hz_30_3/feat_left_A03T_30.txt\",\"feat_2a_125Hz_30_3/feat_right_A03T_30.txt\"\n",
    "                           ,\"feat_2a_125Hz_30_3/feat_left_A01T_30.txt\",\"feat_2a_125Hz_30_3/feat_right_A01T_30.txt\",\"feat_2a_125Hz_30_3/feat_left_A09T_30.txt\",\"feat_2a_125Hz_30_3/feat_right_A09T_30.txt\")\n",
    "temp_l = np.array([temp,temp1,temp2])\n",
    "probability = np.append(probability,temp_l,axis=0)\n",
    "temp,temp1,temp2 = SGRM_test(\"emotiv_data_2/feat_left_emotiv_10.txt\",\"emotiv_data_2/feat_right_emotiv_10.txt\",\"emotiv_data_2/feat_test_left_emotiv.txt\",\"emotiv_data_2/feat_test_right_emotiv.txt\"\n",
    "                           ,\"feat_2a_125Hz_30_3/feat_left_A03T_30.txt\",\"feat_2a_125Hz_30_3/feat_right_A03T_30.txt\"\n",
    "                           ,\"feat_2a_125Hz_30_3/feat_left_A01T_30.txt\",\"feat_2a_125Hz_30_3/feat_right_A01T_30.txt\",\"feat_2a_125Hz_30_3/feat_left_A09T_30.txt\",\"feat_2a_125Hz_30_3/feat_right_A09T_30.txt\")\n",
    "temp_l = np.array([temp,temp1,temp2])\n",
    "probability = np.append(probability,temp_l,axis=0)\n",
    "temp,temp1,temp2 = SGRM_test(\"emotiv_data_3/feat_left_emotiv_10.txt\",\"emotiv_data_3/feat_right_emotiv_10.txt\",\"emotiv_data_3/feat_test_left_emotiv.txt\",\"emotiv_data_3/feat_test_right_emotiv.txt\"\n",
    "                           ,\"feat_2a_125Hz_30_3/feat_left_A03T_30.txt\",\"feat_2a_125Hz_30_3/feat_right_A03T_30.txt\"\n",
    "                           ,\"feat_2a_125Hz_30_3/feat_left_A01T_30.txt\",\"feat_2a_125Hz_30_3/feat_right_A01T_30.txt\",\"feat_2a_125Hz_30_3/feat_left_A09T_30.txt\",\"feat_2a_125Hz_30_3/feat_right_A09T_30.txt\")\n",
    "temp_l = np.array([temp,temp1,temp2])\n",
    "probability = np.append(probability,temp_l,axis=0)\n",
    "probability_3 = probability.reshape([3, 3])\n",
    "print(probability_3)\n",
    "        "
   ]
  },
  {
   "cell_type": "code",
   "execution_count": 83,
   "metadata": {},
   "outputs": [
    {
     "name": "stdout",
     "output_type": "stream",
     "text": [
      "[[50.33333333 73.33333333 27.33333333]\n",
      " [52.33333333 82.66666667 22.        ]\n",
      " [50.         70.66666667 29.33333333]]\n"
     ]
    }
   ],
   "source": [
    "p_average_125Hz = (probability_1+probability_2+probability_3)/3\n",
    "print(p_average_125Hz)"
   ]
  },
  {
   "cell_type": "code",
   "execution_count": 84,
   "metadata": {},
   "outputs": [
    {
     "name": "stdout",
     "output_type": "stream",
     "text": [
      "50.33333333333333 51.333333333333336\n"
     ]
    }
   ],
   "source": [
    "a_20 = 0; a_30 = 0;\n",
    "for i in range(2):\n",
    "    a_20 = a_20 + p_average_250Hz[i,0] \n",
    "    a_30 = a_30 + p_average_125Hz[i,0] \n",
    "    \n",
    "a_20 = a_20/2\n",
    "a_30 = a_30/2\n",
    "print(a_20,a_30)"
   ]
  },
  {
   "cell_type": "code",
   "execution_count": null,
   "metadata": {},
   "outputs": [],
   "source": []
  }
 ],
 "metadata": {
  "kernelspec": {
   "display_name": "Python 3",
   "language": "python",
   "name": "python3"
  },
  "language_info": {
   "codemirror_mode": {
    "name": "ipython",
    "version": 3
   },
   "file_extension": ".py",
   "mimetype": "text/x-python",
   "name": "python",
   "nbconvert_exporter": "python",
   "pygments_lexer": "ipython3",
   "version": "3.7.6"
  }
 },
 "nbformat": 4,
 "nbformat_minor": 5
}
