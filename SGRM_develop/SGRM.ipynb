{
 "cells": [
  {
   "cell_type": "code",
   "execution_count": 1,
   "metadata": {},
   "outputs": [],
   "source": [
    "import numpy as np\n",
    "import matplotlib.pyplot as plt\n",
    "import scipy.io as io\n",
    "import pandas as pd\n",
    "from pandas import DataFrame as dframe\n",
    "import cvxpy as cv"
   ]
  },
  {
   "cell_type": "code",
   "execution_count": 2,
   "metadata": {},
   "outputs": [],
   "source": [
    "#対象被験者の特徴ベクトル(トレーニングデータ＆テストデータ)をMATLAB(自身で作成)から入手\n",
    "feat_C1 = np.loadtxt(\"feat_C1.txt\",delimiter=\",\")\n",
    "feat_C2 = np.loadtxt(\"feat_C2.txt\",delimiter=\",\")\n",
    "feat_Test_C1 = np.loadtxt(\"feat_Test_C1.txt\",delimiter=\",\")\n",
    "feat_Test_C2 = np.loadtxt(\"feat_Test_C2.txt\",delimiter=\",\")"
   ]
  },
  {
   "cell_type": "code",
   "execution_count": 3,
   "metadata": {},
   "outputs": [],
   "source": [
    "#非対象被験者の特徴ベクトルをMATLABから入手\n",
    "feat_C1_K1 = np.loadtxt(\"feat_C1_K1.txt\",delimiter=\",\")\n",
    "feat_C2_K1 = np.loadtxt(\"feat_C2_K1.txt\",delimiter=\",\")"
   ]
  },
  {
   "cell_type": "code",
   "execution_count": 4,
   "metadata": {},
   "outputs": [],
   "source": [
    "#辞書行列を作る関数\n",
    "def Dic(feat_l_tr,feat_r_tr): #入力の配列は2次元配列である必要がある\n",
    "    feat_tr = np.concatenate([feat_l_tr, feat_r_tr],0)\n",
    "    return feat_tr"
   ]
  },
  {
   "cell_type": "code",
   "execution_count": 5,
   "metadata": {},
   "outputs": [
    {
     "name": "stdout",
     "output_type": "stream",
     "text": [
      "(4, 12) (4, 200) (120, 4) (80, 4)\n"
     ]
    }
   ],
   "source": [
    "#対象被験者の各クラスのトレーニングデータから取得した特徴ベクトルを結合\n",
    "feat_tr = Dic(feat_C1,feat_C2)\n",
    "#非対象被験者の特徴ベクトルも同様の処理を行う\n",
    "feat_tr_K1 = Dic(feat_C1_K1,feat_C2_K1)\n",
    "#それぞれの特徴ベクトルをつなげる\n",
    "#この時、2M×Nの行列にするために転置させる(2Mは特徴ベクトルの次元、Nはスパース表現を推定するために使用した特徴ベクトルの総数)\n",
    "feat_tr_dic = Dic(feat_tr,feat_tr_K1).T\n",
    "#feat_tr_dicはすべての特徴ベクトルをつなげたもの\n",
    "feat_l_te = feat_Test_C1;\n",
    "feat_r_te = feat_Test_C2;\n",
    "#テストデータの特徴ベクトルも2Mが行になるように転置させる\n",
    "feat_l_te = feat_l_te.T\n",
    "feat_r_te = feat_r_te.T\n",
    "print(feat_l_te.shape,feat_tr_dic.shape,feat_tr.shape,feat_tr_K1.shape)"
   ]
  },
  {
   "cell_type": "code",
   "execution_count": 1,
   "metadata": {},
   "outputs": [],
   "source": [
    "#各クラスの特徴ベクトルの配列の列数を格納した配列を引数にすればもう少し拡張性が上がる\n",
    "def SGRM(feat_C1,feat_C2,feat_tr,feat_tr_K1,feat_tr_dic,feat_C1_K1,feat_C2_K1,feat_l_te):\n",
    "    #今回ハイパーパラメータは0.01に設定している\n",
    "    λ_1 = 0.01\n",
    "    λ_2 = 0.01\n",
    "    answer = np.zeros(feat_l_te.shape[1])\n",
    "    #スパース性を格納する行列\n",
    "    SGRM_Cla = np.zeros((feat_tr_dic.shape[1], feat_l_te.shape[1]))\n",
    "    #leftクラスのみのスパース性を格納するための行列\n",
    "    SGRM_l_Cla = np.zeros((feat_tr_dic.shape[1], feat_l_te.shape[1]))\n",
    "    #rightクラスのみのスパース性を格納するための行列\n",
    "    SGRM_r_Cla = np.zeros((feat_tr_dic.shape[1], feat_l_te.shape[1]))\n",
    "    for i in range(feat_l_te.shape[1]):\n",
    "        u = cv.Variable((feat_tr_dic.shape[1],1)) #目的関数の次元\n",
    "        #SGRMの最適化問題を設定している\n",
    "        objective = cv.Minimize(0.5*(cv.norm(feat_tr_dic@u-feat_l_te[:,i,np.newaxis],2)**2)\n",
    "                                +λ_1*cv.norm(u,1)\n",
    "                                +λ_2*(cv.norm(u[0:feat_tr.shape[0],0],2)\n",
    "                                      +cv.norm(u[feat_tr.shape[0]:feat_tr.shape[0]+feat_tr_K1.shape[0],0],2)))\n",
    "        prob = cv.Problem(objective)\n",
    "        result = prob.solve()\n",
    "        #classVariableから値を取るためには.valueを付け、次元も削減する\n",
    "        SGRM_Cla[:,i] = np.squeeze(u.value)\n",
    "        #各クラスに関連する表現ベクトルの値を抜き出す\n",
    "        #lは仕切りの値\n",
    "        l = 0\n",
    "        SGRM_l_Cla[0:feat_C1.shape[0],i] = SGRM_Cla[0:feat_C1.shape[0],i]     \n",
    "        l = l + feat_C1.shape[0]\n",
    "        SGRM_r_Cla[l:l+feat_C2.shape[0],i] = SGRM_Cla[l:l+feat_C2.shape[0],i]\n",
    "        l = l + feat_C2.shape[0]\n",
    "        SGRM_l_Cla[l:l+feat_C1_K1.shape[0],i] = SGRM_Cla[l:l+feat_C1_K1.shape[0],i]\n",
    "        l = l + feat_C1_K1.shape[0]\n",
    "        SGRM_r_Cla[l:l+feat_C2_K1.shape[0],i] = SGRM_Cla[l:l+feat_C2_K1.shape[0],i]\n",
    "    #パラメータを使って擬似的に各クラスのテスト信号の特徴ベクトルを作成\n",
    "    dout_feat_l_te = np.zeros((feat_l_te.shape[0], feat_l_te.shape[1]))\n",
    "    dout_feat_r_te = np.zeros((feat_l_te.shape[0], feat_l_te.shape[1])) \n",
    "    for i in range(feat_l_te.shape[1]):\n",
    "        dout_feat_l_te[:,i] = feat_tr_dic@SGRM_l_Cla[:,i]\n",
    "    for i in range(feat_r_te.shape[1]):\n",
    "        dout_feat_r_te[:,i] = feat_tr_dic@SGRM_r_Cla[:,i]\n",
    "    #作成した擬似特徴ベクトルとの残差を求める\n",
    "    R_l =  np.zeros((feat_l_te.shape[0], feat_l_te.shape[1])) #残差を格納するための配列\n",
    "    R_r =  np.zeros((feat_l_te.shape[0], feat_l_te.shape[1]))  \n",
    "    for i in range(feat_l_te.shape[1]):\n",
    "        R_l[:,i] = feat_l_te[:,i]-dout_feat_l_te[:,i]\n",
    "        R_r[:,i] = feat_l_te[:,i]-dout_feat_r_te[:,i]\n",
    "        #残差を比べてクラスを割り当てる\n",
    "        if np.linalg.norm(R_l[:,i], ord=2) < np.linalg.norm(R_r[:,i], ord=2):\n",
    "            answer[i] = 1\n",
    "        elif np.linalg.norm(R_l[:,i], ord=2) > np.linalg.norm(R_r[:,i], ord=2):\n",
    "            answer[i] = 2\n",
    "    return answer"
   ]
  },
  {
   "cell_type": "code",
   "execution_count": null,
   "metadata": {},
   "outputs": [],
   "source": [
    "#正答率を割り出す\n",
    "answer = SGRM(feat_C1,feat_C2,feat_tr,feat_tr_K1,feat_tr_dic,feat_C1_K1,feat_C2_K1,feat_l_te)\n",
    "x = 0\n",
    "for i in range(answer.shape[0]):\n",
    "    if answer[i] == 1:\n",
    "        x = x + 1\n",
    "print((x/answer.shape[0])*100)"
   ]
  },
  {
   "cell_type": "code",
   "execution_count": null,
   "metadata": {},
   "outputs": [],
   "source": []
  }
 ],
 "metadata": {
  "kernelspec": {
   "display_name": "Python 3",
   "language": "python",
   "name": "python3"
  },
  "language_info": {
   "codemirror_mode": {
    "name": "ipython",
    "version": 3
   },
   "file_extension": ".py",
   "mimetype": "text/x-python",
   "name": "python",
   "nbconvert_exporter": "python",
   "pygments_lexer": "ipython3",
   "version": "3.7.6"
  }
 },
 "nbformat": 4,
 "nbformat_minor": 4
}
