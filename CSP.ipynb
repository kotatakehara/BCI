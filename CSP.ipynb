{
 "cells": [
  {
   "cell_type": "code",
   "execution_count": 1,
   "id": "d854e19b-8691-4506-8e55-c41ee021dcb6",
   "metadata": {
    "tags": []
   },
   "outputs": [],
   "source": [
    "import numpy as np\n",
    "import matplotlib.pyplot as plt\n",
    "import scipy.io as io\n",
    "import pandas as pd\n",
    "from pandas import DataFrame as dframe"
   ]
  },
  {
   "cell_type": "code",
   "execution_count": 2,
   "id": "5202256b-4315-497d-9e14-ce1cb174fd93",
   "metadata": {},
   "outputs": [
    {
     "name": "stdout",
     "output_type": "stream",
     "text": [
      "Take 54 data of each left and right data as training data\n",
      "\n",
      "left_tr has dimension of:  (54, 22, 313)\n",
      "right_tr has dimension of:  (54, 22, 313)\n",
      "Take 18 data of each left and right data as train data\n",
      "\n",
      "left_te has dimension of:  (18, 22, 313)\n",
      "right_te has dimension of:  (18, 22, 313)\n"
     ]
    }
   ],
   "source": [
    "np.seterr(divide='ignore', invalid='ignore')\n",
    "#浮動小数点の計算での決め事\n",
    "#ignoreにすることでエラーを無視する\n",
    "#divideは0で除算した時どうするか、invalidは浮動小数点演算が無効な場合の処理\n",
    "data = np.load('A01T.npz')\n",
    "#numpy独自のバイナリファイルで保存する\n",
    "data.files\n",
    "prop = np.c_[data['etyp'], data['epos'], data['edur']]\n",
    "pd.options.display.max_rows = None\n",
    "pd.set_option('display.max_rows', None)\n",
    "#上のコードとしていることはほどんど同じ\n",
    "dframe(prop, columns=['etype', 'epos','edur']);\n",
    "#DataFrameに結合配列を格納\n",
    "#propというデータの3つの列を結合させてDataFrameに格\n",
    "sample_data = dframe(data['s'])\n",
    "sample_data = sample_data.iloc[:, 0:22]\n",
    "#行すべてと22列を切りだしている\n",
    "#EOGのデータを抜いて、脳波だけを取り出している\n",
    "sample_data.head();\n",
    "idx_left = np.argwhere(prop[:, 0]==769)\n",
    "idx_right = np.argwhere(prop[:, 0]==770)\n",
    "#イベントタイプが左、右のデータを取得する\n",
    "#argwhereは配列から条件にあうデータを取得する\n",
    "idx_left = idx_left.flatten()\n",
    "idx_right = idx_right.flatten()\n",
    "#多次元配列を1次元に変換\n",
    "left_pos = prop[idx_left, 1]\n",
    "right_pos = prop[idx_right, 1]\n",
    "#対応するイベントタイプのポジションを取得\n",
    "left_dur = prop[idx_left, 2]\n",
    "right_dur = prop[idx_right, 2]\n",
    "#各イベントの継続時間を取得\n",
    "dur = 313\n",
    "E_left = np.zeros([left_pos.shape[0], dur, sample_data.shape[1]])\n",
    "E_right = np.zeros([right_pos.shape[0], dur, sample_data.shape[1]])\n",
    "#各イベントのサンプルを取得するための配列形成\n",
    "for i in range(E_left.shape[0]):\n",
    "    E_left[i]=sample_data.iloc[left_pos[i]:left_pos[i]+dur, :]\n",
    "for i in range(E_right.shape[0]):\n",
    "    E_right[i]=sample_data.iloc[right_pos[i]:right_pos[i]+dur, :]\n",
    "#対応しているデータを切りだす\n",
    "#左手や右手の開始時刻から継続時間までのデータを取得する\n",
    "#1回の実験で22チャンネルのデータが入っている\n",
    "Xcol = []\n",
    "for i in range(1, 23):\n",
    "    if i < 11:\n",
    "        Xcol.append('EEG0'+str(i))\n",
    "    else:\n",
    "        Xcol.append('EEG'+str(i))\n",
    "#行列の名前を作成\n",
    "E_left = np.transpose(E_left, (0, 2, 1))\n",
    "E_right = np.transpose(E_right, (0, 2, 1))\n",
    "#行と列を変換\n",
    "ntrain = 54\n",
    "E_left_tr = E_left[:ntrain, :, :]\n",
    "E_right_tr = E_right[:ntrain, :, :]\n",
    "print('Take 54 data of each left and right data as training data\\n')\n",
    "print('left_tr has dimension of: ', E_left_tr.shape)\n",
    "print('right_tr has dimension of: ', E_right_tr.shape)\n",
    "#左右各54個ずつのデータを訓練に使用\n",
    "ntest = 18\n",
    "E_left_te = E_left[ntrain:ntrain+ntest, :, :]\n",
    "E_right_te = E_right[ntrain:ntrain+ntest, :, :]\n",
    "print('Take 18 data of each left and right data as train data\\n')\n",
    "print('left_te has dimension of: ', E_left_te.shape)\n",
    "print('right_te has dimension of: ', E_right_te.shape)\n",
    "#左右各18個ずつのデータをテストに使用\n",
    "nel = 22\n",
    "#要素数の定義"
   ]
  },
  {
   "cell_type": "code",
   "execution_count": 3,
   "id": "34bb6718-463b-44f8-9f2c-165311e7f24e",
   "metadata": {},
   "outputs": [],
   "source": [
    "feat_C1 = np.loadtxt(\"feat_C1.txt\",delimiter=\",\")\n",
    "feat_C2 = np.loadtxt(\"feat_C2.txt\",delimiter=\",\")\n",
    "W = np.loadtxt(\"W.txt\",delimiter=\",\")"
   ]
  },
  {
   "cell_type": "code",
   "execution_count": 4,
   "id": "8b952cdc-5ffc-41c8-8f6d-31d4f3c2faf1",
   "metadata": {},
   "outputs": [],
   "source": [
    "#新たにZを格納する配列を作成\n",
    "Z_left_te = np.zeros((E_left_te.shape[0], W.shape[0], E_left_te.shape[2]))\n",
    "Z_right_te = np.zeros((E_right_te.shape[0], W.shape[0], E_right_te.shape[2]))\n",
    "#左のクラス\n",
    "#射影行列を各試行の脳波に適用する\n",
    "#得られる行列Zは試行数(今回は18)×2m×試行時間(今回は313)の次元となる\n",
    "for i in range(Z_left_te.shape[0]):\n",
    "    Z_left_te[i] = W@E_left_te[i]\n",
    "\n",
    "#右のクラス\n",
    "for i in range(Z_right_te.shape[0]):\n",
    "    Z_right_te[i] = W@E_right_te[i]\n",
    "#特徴ベクトルを格納するための配列を作成\n",
    "feat_l_te =  np.zeros((Z_left_te.shape[0], Z_left_te.shape[1], 1))\n",
    "feat_r_te =  np.zeros((Z_right_te.shape[0], Z_right_te.shape[1], 1))"
   ]
  },
  {
   "cell_type": "code",
   "execution_count": 5,
   "id": "3682b40b-598a-4d3f-bf2f-4b8ae3e73052",
   "metadata": {},
   "outputs": [],
   "source": [
    "#対数を取ってないので不完全\n",
    "#forのループ部分はおそらく行の4でするべき\n",
    "#式の部分は変更可能\n",
    "#特徴ベクトルを求める\n",
    "#左のクラス\n",
    "for i in range(Z_left_te.shape[0]):\n",
    "    var = np.var(Z_left_te[i], ddof=1, axis=1)[:, np.newaxis]\n",
    "    varsum = np.sum(var)\n",
    "    feat_l_te[i] = np.log(var/varsum);\n",
    "#np.varで分散値を計算\n",
    "#axisでどの軸に沿って分散を計算するか求める\n",
    "#ddofで平均との偏差の2乗の和を(N-ddof)で割り、初期値ではデータ数であるNで割る。ddof=1では不偏分散を求める(つまりN-1)。\n",
    "#np.newaxisによって新たにサイズが1の次元を追加する。\n",
    "\n",
    "#右のクラス\n",
    "for i in range(Z_right_te.shape[0]):\n",
    "    var = np.var(Z_right_te[i], ddof=1, axis=1)[:, np.newaxis]\n",
    "    varsum = np.sum(var)\n",
    "    feat_r_te[i] = np.log(var/varsum);\n",
    "    "
   ]
  },
  {
   "cell_type": "code",
   "execution_count": 6,
   "id": "eae44b39-ca50-494e-8cf5-1345141a8514",
   "metadata": {},
   "outputs": [],
   "source": [
    "#まず、特徴ベクトルを2次元に変換\n",
    "feat_l_tr = feat_C1;\n",
    "feat_r_tr = feat_C2;\n",
    "feat_tr = np.concatenate([feat_l_tr, feat_r_tr],0)\n",
    "feat_tr = feat_tr.T\n",
    "\n",
    "#まず、特徴ベクトルを2次元に変換\n",
    "feat_l_te = np.squeeze(feat_l_te);\n",
    "feat_r_te = np.squeeze(feat_r_te);\n",
    "feat_l_te = feat_l_te.T\n",
    "feat_r_te = feat_r_te.T"
   ]
  },
  {
   "cell_type": "code",
   "execution_count": 7,
   "id": "dcd5e0a6-2891-4fe4-b7c6-2d0096a4d61d",
   "metadata": {},
   "outputs": [],
   "source": [
    "def SRC(feat_l_tr,fea_r_tr,feat_tr,feat_l_te): #rightの時は(feat_r_tr,feat_tr,feat_r_te)\n",
    "    import cvxpy as cv\n",
    "    ε=0.005\n",
    "    SRC_Cla = np.zeros((feat_tr.shape[1], feat_l_te.shape[1]))\n",
    "    SRC_l_Cla = np.zeros((feat_l_tr.shape[0], feat_l_te.shape[1]))\n",
    "    SRC_r_Cla = np.zeros((feat_l_tr.shape[0], feat_l_te.shape[1]))  #(feat_r_te.shape[0], feat_r_te.shape[1])でもいい\n",
    "    answer = np.zeros(feat_l_te.shape[1])\n",
    "    for i in range(feat_l_te.shape[1]):\n",
    "        x = cv.Variable((feat_tr.shape[1],1)) #目的関数の次元\n",
    "        objective = cv.Minimize(cv.norm(x,1))\n",
    "        constraints = [(cv.norm(feat_l_te[:,i,np.newaxis] - feat_tr@x,2)**2)<=ε]\n",
    "        prob = cv.Problem(objective, constraints)\n",
    "        result = prob.solve()\n",
    "        #classVariableから値を取るためには.valueを付ける\n",
    "        SRC_Cla[:,i] = np.squeeze(x.value)\n",
    "        #パラメータxを各クラスのパラメータに分ける\n",
    "        SRC_l_Cla[:,i] = SRC_Cla[0:feat_l_tr.shape[0],i]\n",
    "        SRC_r_Cla[:,i] = SRC_Cla[feat_l_tr.shape[0]:SRC_Cla.shape[0],i]\n",
    "        #分類では\n",
    "        #配列xの内、右のクラスのみに関する配列を使用して作成したy(右)、左のクラスのみに関する配列を使用して作成したy(左)の\n",
    "        #残差が小さい方のクラスを割り当てる\n",
    "        \n",
    "    #パラメータを使って擬似的に各クラスのテスト信号の特徴ベクトルを作成\n",
    "    dout_feat_l_te = np.zeros((feat_l_te.shape[0], feat_l_te.shape[1]))\n",
    "    dout_feat_r_te = np.zeros((feat_l_te.shape[0], feat_l_te.shape[1])) #(feat_r_te.shape[0], feat_r_te.shape[1])でもいい\n",
    "    for i in range(feat_l_te.shape[1]):\n",
    "        dout_feat_l_te[:,i] = feat_l_tr.T@SRC_l_Cla[:,i]\n",
    "    for i in range(feat_r_te.shape[1]):\n",
    "        dout_feat_r_te[:,i] = feat_r_tr.T@SRC_r_Cla[:,i]\n",
    "    \n",
    "    #作成した擬似特徴ベクトルとの残差を求める\n",
    "    R_l =  np.zeros((feat_l_te.shape[0], feat_l_te.shape[1])) #残差を格納するための配列\n",
    "    R_r =  np.zeros((feat_l_te.shape[0], feat_l_te.shape[1])) #(feat_r_te.shape[0], feat_r_te.shape[1])でもいい\n",
    "    for i in range(feat_l_te.shape[1]):\n",
    "        R_l[:,i] = feat_l_te[:,i]-dout_feat_l_te[:,i]\n",
    "        R_r[:,i] = feat_l_te[:,i]-dout_feat_r_te[:,i]\n",
    "        if np.linalg.norm(R_l[:,i], ord=2) < np.linalg.norm(R_r[:,i], ord=2):\n",
    "            answer[i] = 1\n",
    "        elif np.linalg.norm(R_l[:,i], ord=2) > np.linalg.norm(R_r[:,i], ord=2):\n",
    "            answer[i] = 2\n",
    "    \n",
    "    return answer"
   ]
  },
  {
   "cell_type": "code",
   "execution_count": 11,
   "id": "7f2fddf1-2221-44a0-8bf9-50a6c9048b96",
   "metadata": {},
   "outputs": [
    {
     "name": "stdout",
     "output_type": "stream",
     "text": [
      "33.33333333333333\n"
     ]
    }
   ],
   "source": [
    "answer = SRC(feat_l_tr,feat_r_tr,feat_tr,feat_l_te)\n",
    "x = 0\n",
    "for i in range(answer.shape[0]):\n",
    "    if answer[i] == 1:\n",
    "        x = x + 1\n",
    "print((x/answer.shape[0])*100)"
   ]
  },
  {
   "cell_type": "code",
   "execution_count": null,
   "id": "a07dc6b0-f348-480e-9396-b400222cab80",
   "metadata": {},
   "outputs": [],
   "source": []
  }
 ],
 "metadata": {
  "kernelspec": {
   "display_name": "Python 3 (ipykernel)",
   "language": "python",
   "name": "python3"
  },
  "language_info": {
   "codemirror_mode": {
    "name": "ipython",
    "version": 3
   },
   "file_extension": ".py",
   "mimetype": "text/x-python",
   "name": "python",
   "nbconvert_exporter": "python",
   "pygments_lexer": "ipython3",
   "version": "3.9.12"
  }
 },
 "nbformat": 4,
 "nbformat_minor": 5
}
