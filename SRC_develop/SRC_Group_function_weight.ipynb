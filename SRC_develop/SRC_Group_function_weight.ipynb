{
 "cells": [
  {
   "cell_type": "code",
   "execution_count": 12,
   "id": "691362bb",
   "metadata": {},
   "outputs": [],
   "source": [
    "import numpy as np\n",
    "import matplotlib.pyplot as plt\n",
    "import scipy.io as io\n",
    "import pandas as pd\n",
    "from pandas import DataFrame as dframe\n",
    "import cvxpy as cv"
   ]
  },
  {
   "cell_type": "code",
   "execution_count": 13,
   "id": "73a6ea40",
   "metadata": {},
   "outputs": [],
   "source": [
    "def Dic(feat_l_tr,feat_r_tr): #入力の配列は2次元配列である必要がある\n",
    "    feat_tr = np.concatenate([feat_l_tr, feat_r_tr],0)\n",
    "    return feat_tr"
   ]
  },
  {
   "cell_type": "code",
   "execution_count": 14,
   "id": "471fed04",
   "metadata": {},
   "outputs": [],
   "source": [
    "def SRC(feat_tr_dic,feat_l_te,matrix_index):\n",
    "    answer = np.zeros(feat_l_te.shape[1])\n",
    "    SRC_Cla = np.zeros((feat_tr_dic.shape[1], feat_l_te.shape[1]))\n",
    "    SRC_l_Cla = np.zeros((feat_tr_dic.shape[1], feat_l_te.shape[1]))\n",
    "    SRC_r_Cla = np.zeros((feat_tr_dic.shape[1], feat_l_te.shape[1]))\n",
    "    for i in range(feat_l_te.shape[1]):\n",
    "        x = cv.Variable((feat_tr_dic.shape[1],1)) #目的関数の次元\n",
    "        objective = cv.Minimize(cv.norm(x,1))\n",
    "        constraints = [feat_l_te[:,i,np.newaxis] == feat_tr_dic@x]\n",
    "        prob = cv.Problem(objective, constraints)\n",
    "        result = prob.solve()\n",
    "        #classVariableから値を取るためには.valueを付ける\n",
    "        SRC_Cla[:,i] = np.squeeze(x.value)\n",
    "        #各クラスに関連する表現ベクトルの値を抜き出す\n",
    "        #lは仕切りの値\n",
    "        l = 0\n",
    "        j = 0\n",
    "        while j < matrix_index.shape[0]-1:\n",
    "            SRC_l_Cla[l:l+matrix_index[j],i] = SRC_Cla[l:l+matrix_index[j],i]     \n",
    "            l = l + matrix_index[j]\n",
    "            j = j + 1\n",
    "            SRC_r_Cla[l:l+matrix_index[j],i] = SRC_Cla[l:l+matrix_index[j],i]\n",
    "            l = l + matrix_index[j]\n",
    "            j = j + 1\n",
    "    #パラメータを使って擬似的に各クラスのテスト信号の特徴ベクトルを作成\n",
    "    dout_feat_l_te = np.zeros((feat_l_te.shape[0], feat_l_te.shape[1]))\n",
    "    dout_feat_r_te = np.zeros((feat_l_te.shape[0], feat_l_te.shape[1])) \n",
    "    for i in range(feat_l_te.shape[1]):\n",
    "        dout_feat_l_te[:,i] = feat_tr_dic@SRC_l_Cla[:,i]\n",
    "    for i in range(feat_l_te.shape[1]):\n",
    "        dout_feat_r_te[:,i] = feat_tr_dic@SRC_r_Cla[:,i]\n",
    "    #作成した擬似特徴ベクトルとの残差を求める\n",
    "    R_l =  np.zeros((feat_l_te.shape[0], feat_l_te.shape[1])) #残差を格納するための配列\n",
    "    R_r =  np.zeros((feat_l_te.shape[0], feat_l_te.shape[1]))  \n",
    "    for i in range(feat_l_te.shape[1]):\n",
    "        R_l[:,i] = feat_l_te[:,i]-dout_feat_l_te[:,i]\n",
    "        R_r[:,i] = feat_l_te[:,i]-dout_feat_r_te[:,i]\n",
    "        if np.linalg.norm(R_l[:,i], ord=2) < np.linalg.norm(R_r[:,i], ord=2):\n",
    "            answer[i] = 1\n",
    "        elif np.linalg.norm(R_l[:,i], ord=2) > np.linalg.norm(R_r[:,i], ord=2):\n",
    "            answer[i] = 2\n",
    "    return answer"
   ]
  },
  {
   "cell_type": "code",
   "execution_count": 15,
   "id": "c6f5443d",
   "metadata": {
    "tags": []
   },
   "outputs": [],
   "source": [
    "def SRC_test(filename1,filename2,filename3,filename4,C1_K1,C2_K1,C1_K2,C2_K2,C1_K3,C2_K3):\n",
    "    #対象被験者の特徴ベクトルをMATLABから入手\n",
    "    feat_C1 = np.loadtxt(filename1,delimiter=\",\")\n",
    "    feat_C2 = np.loadtxt(filename2,delimiter=\",\")\n",
    "    feat_Test_C1 = np.loadtxt(filename3,delimiter=\",\")\n",
    "    feat_Test_C2 = np.loadtxt(filename4,delimiter=\",\")\n",
    "    #非対象被験者の特徴ベクトルをMATLABから入手\n",
    "    feat_C1_K1 = np.loadtxt(C1_K1,delimiter=\",\")\n",
    "    feat_C2_K1 = np.loadtxt(C2_K1,delimiter=\",\")\n",
    "    feat_C1_K2 = np.loadtxt(C1_K2,delimiter=\",\")\n",
    "    feat_C2_K2 = np.loadtxt(C1_K2,delimiter=\",\")\n",
    "    feat_C1_K3 = np.loadtxt(C1_K3,delimiter=\",\")\n",
    "    feat_C2_K3 = np.loadtxt(C1_K3,delimiter=\",\")\n",
    "    #Tは被験者の試行回数である\n",
    "    feat_tr = Dic(feat_C1,feat_C2)\n",
    "    #非対象被験者の特徴ベクトルも同様の処理を行う\n",
    "    feat_tr_K1 = Dic(feat_C1_K1,feat_C2_K1)\n",
    "    feat_tr_K2 = Dic(feat_C1_K2,feat_C2_K2)\n",
    "    feat_tr_K3 = Dic(feat_C1_K3,feat_C2_K3)\n",
    "\n",
    "    #それぞれの特徴ベクトルをつなげる\n",
    "    feat_tr_dic_1 = Dic(feat_tr,feat_tr_K1)\n",
    "    feat_tr_dic_2 = Dic(feat_tr_dic_1,feat_tr_K2)\n",
    "    feat_tr_dic = Dic(feat_tr_dic_2,feat_tr_K3).T\n",
    "    #feat_tr_dicはすべての特徴ベクトルをつなげたもの\n",
    "    #まず、分類に用いるテストデータの特徴ベクトルを2次元に変換\n",
    "    feat_l_te = feat_Test_C1;\n",
    "    feat_r_te = feat_Test_C2;\n",
    "    feat_l_te = feat_l_te.T\n",
    "    feat_r_te = feat_r_te.T\n",
    "\n",
    "    matrix_index = np.array([feat_C1.shape[0],feat_C2.shape[0],feat_C1_K1.shape[0],feat_C2_K1.shape[0],feat_C1_K2.shape[0],feat_C2_K2.shape[0],\n",
    "                        feat_C1_K3.shape[0],feat_C2_K3.shape[0]])\n",
    "    answer1 = SRC(feat_tr_dic,feat_l_te,matrix_index)\n",
    "    answer2 = SRC(feat_tr_dic,feat_r_te,matrix_index)\n",
    "    x1 = 0\n",
    "    x2 = 0\n",
    "    for i in range(answer1.shape[0]):\n",
    "        if answer1[i] == 1:\n",
    "            x1 = x1 + 1\n",
    "        if answer2[i] == 2:\n",
    "            x2 = x2 + 1\n",
    "    temp = ((x1+x2)/(answer1.shape[0]+answer2.shape[0]))*100\n",
    "    temp1 = ((x1)/(answer1.shape[0]))*100\n",
    "    temp2 = ((x2)/(answer2.shape[0]))*100\n",
    "                    \n",
    "    return temp,temp1,temp2"
   ]
  },
  {
   "cell_type": "code",
   "execution_count": 16,
   "id": "825eb2ea",
   "metadata": {
    "tags": []
   },
   "outputs": [
    {
     "name": "stdout",
     "output_type": "stream",
     "text": [
      "[[ 50.   0. 100.]\n",
      " [ 50.   0. 100.]\n",
      " [ 58.  38.  78.]\n",
      " [ 50. 100.   0.]\n",
      " [ 50.   0. 100.]\n",
      " [ 49.  86.  12.]]\n"
     ]
    }
   ],
   "source": [
    "#train=30,test=40で分類を行った結果\n",
    "probability = np.array([])\n",
    "temp,temp1,temp2 = SRC_test(\"feat_2a_250Hz_20/feat_left_A01T_20.txt\",\"feat_2a_250Hz_20/feat_right_A01T_20.txt\",\"feat_2a_250Hz_Test/feat_test_left_A01E.txt\",\"feat_2a_250Hz_Test/feat_test_right_A01E.txt\"\n",
    "                           ,\"feat_2a_250Hz_30/feat_left_A02T_30.txt\",\"feat_2a_250Hz_30/feat_right_A02T_30.txt\",\"feat_2a_250Hz_30/feat_left_A03T_30.txt\",\"feat_2a_250Hz_30/feat_right_A03T_30.txt\"\n",
    "                           ,\"feat_2a_250Hz_30/feat_left_A09T_30.txt\",\"feat_2a_250Hz_30/feat_right_A09T_30.txt\")\n",
    "temp_l = np.array([temp,temp1,temp2])\n",
    "probability = np.append(probability,temp_l,axis=0)\n",
    "temp,temp1,temp2 = SRC_test(\"feat_2a_250Hz_20/feat_left_A02T_20.txt\",\"feat_2a_250Hz_20/feat_right_A02T_20.txt\",\"feat_2a_250Hz_Test/feat_test_left_A02E.txt\",\"feat_2a_250Hz_Test/feat_test_right_A02E.txt\"\n",
    "                           ,\"feat_2a_250Hz_30/feat_left_A01T_30.txt\",\"feat_2a_250Hz_30/feat_right_A01T_30.txt\",\"feat_2a_250Hz_30/feat_left_A03T_30.txt\",\"feat_2a_250Hz_30/feat_right_A03T_30.txt\"\n",
    "                           ,\"feat_2a_250Hz_30/feat_left_A09T_30.txt\",\"feat_2a_250Hz_30/feat_right_A09T_30.txt\")\n",
    "temp_l = np.array([temp,temp1,temp2])\n",
    "probability = np.append(probability,temp_l,axis=0)\n",
    "temp,temp1,temp2 = SRC_test(\"feat_2a_250Hz_20/feat_left_A03T_20.txt\",\"feat_2a_250Hz_20/feat_right_A03T_20.txt\",\"feat_2a_250Hz_Test/feat_test_left_A03E.txt\",\"feat_2a_250Hz_Test/feat_test_right_A03E.txt\"\n",
    "                           ,\"feat_2a_250Hz_30/feat_left_A02T_30.txt\",\"feat_2a_250Hz_30/feat_right_A02T_30.txt\",\"feat_2a_250Hz_30/feat_left_A01T_30.txt\",\"feat_2a_250Hz_30/feat_right_A01T_30.txt\"\n",
    "                           ,\"feat_2a_250Hz_30/feat_left_A09T_30.txt\",\"feat_2a_250Hz_30/feat_right_A09T_30.txt\")\n",
    "temp_l = np.array([temp,temp1,temp2])\n",
    "probability = np.append(probability,temp_l,axis=0)\n",
    "temp,temp1,temp2 = SRC_test(\"feat_2a_250Hz_20/feat_left_A07T_20.txt\",\"feat_2a_250Hz_20/feat_right_A07T_20.txt\",\"feat_2a_250Hz_Test/feat_test_left_A07E.txt\",\"feat_2a_250Hz_Test/feat_test_right_A07E.txt\"\n",
    "                           ,\"feat_2a_250Hz_30/feat_left_A03T_30.txt\",\"feat_2a_250Hz_30/feat_right_A03T_30.txt\"\n",
    "                           ,\"feat_2a_250Hz_30/feat_left_A01T_30.txt\",\"feat_2a_250Hz_30/feat_right_A01T_30.txt\",\"feat_2a_250Hz_30/feat_left_A09T_30.txt\",\"feat_2a_250Hz_30/feat_right_A09T_30.txt\")\n",
    "temp_l = np.array([temp,temp1,temp2])\n",
    "probability = np.append(probability,temp_l,axis=0)\n",
    "temp,temp1,temp2 = SRC_test(\"feat_2a_250Hz_20/feat_left_A08T_20.txt\",\"feat_2a_250Hz_20/feat_right_A08T_20.txt\",\"feat_2a_250Hz_Test/feat_test_left_A08E.txt\",\"feat_2a_250Hz_Test/feat_test_right_A08E.txt\"\n",
    "                           ,\"feat_2a_250Hz_30/feat_left_A03T_30.txt\",\"feat_2a_250Hz_30/feat_right_A03T_30.txt\"\n",
    "                           ,\"feat_2a_250Hz_30/feat_left_A01T_30.txt\",\"feat_2a_250Hz_30/feat_right_A01T_30.txt\",\"feat_2a_250Hz_30/feat_left_A09T_30.txt\",\"feat_2a_250Hz_30/feat_right_A09T_30.txt\")\n",
    "temp_l = np.array([temp,temp1,temp2])\n",
    "probability = np.append(probability,temp_l,axis=0)\n",
    "temp,temp1,temp2 = SRC_test(\"feat_2a_250Hz_20/feat_left_A09T_20.txt\",\"feat_2a_250Hz_20/feat_right_A09T_20.txt\",\"feat_2a_250Hz_Test/feat_test_left_A09E.txt\",\"feat_2a_250Hz_Test/feat_test_right_A09E.txt\"\n",
    "                           ,\"feat_2a_250Hz_30/feat_left_A03T_30.txt\",\"feat_2a_250Hz_30/feat_right_A03T_30.txt\"\n",
    "                           ,\"feat_2a_250Hz_30/feat_left_A01T_30.txt\",\"feat_2a_250Hz_30/feat_right_A01T_30.txt\",\"feat_2a_250Hz_30/feat_left_A08T_30.txt\",\"feat_2a_250Hz_30/feat_right_A08T_30.txt\")\n",
    "temp_l = np.array([temp,temp1,temp2])\n",
    "probability = np.append(probability,temp_l,axis=0)\n",
    "\n",
    "probability_1 = probability.reshape([6, 3])\n",
    "print(probability_1)"
   ]
  },
  {
   "cell_type": "code",
   "execution_count": 17,
   "id": "14aca7bf",
   "metadata": {
    "tags": []
   },
   "outputs": [
    {
     "name": "stdout",
     "output_type": "stream",
     "text": [
      "[[ 51.   4.  98.]\n",
      " [ 50.   0. 100.]\n",
      " [ 50.  16.  84.]\n",
      " [ 52. 100.   4.]\n",
      " [ 50.   0. 100.]\n",
      " [ 50.   0. 100.]]\n"
     ]
    }
   ],
   "source": [
    "#train=30,test=40で分類を行った結果\n",
    "probability = np.array([])\n",
    "temp,temp1,temp2 = SRC_test(\"feat_2a_250Hz_20/feat_left_A01T_20.txt\",\"feat_2a_250Hz_20/feat_right_A01T_20.txt\",\"feat_2a_250Hz_Test/feat_test_left_A01E.txt\",\"feat_2a_250Hz_Test/feat_test_right_A01E.txt\"\n",
    "                           ,\"feat_2a_250Hz_30_2/feat_left_A02T_30.txt\",\"feat_2a_250Hz_30_2/feat_right_A02T_30.txt\",\"feat_2a_250Hz_30_2/feat_left_A03T_30.txt\",\"feat_2a_250Hz_30_2/feat_right_A03T_30.txt\"\n",
    "                           ,\"feat_2a_250Hz_30_2/feat_left_A09T_30.txt\",\"feat_2a_250Hz_30_2/feat_right_A09T_30.txt\")\n",
    "temp_l = np.array([temp,temp1,temp2])\n",
    "probability = np.append(probability,temp_l,axis=0)\n",
    "temp,temp1,temp2 = SRC_test(\"feat_2a_250Hz_20/feat_left_A02T_20.txt\",\"feat_2a_250Hz_20/feat_right_A02T_20.txt\",\"feat_2a_250Hz_Test/feat_test_left_A02E.txt\",\"feat_2a_250Hz_Test/feat_test_right_A02E.txt\"\n",
    "                           ,\"feat_2a_250Hz_30_2/feat_left_A01T_30.txt\",\"feat_2a_250Hz_30_2/feat_right_A01T_30.txt\",\"feat_2a_250Hz_30_2/feat_left_A03T_30.txt\",\"feat_2a_250Hz_30_2/feat_right_A03T_30.txt\"\n",
    "                           ,\"feat_2a_250Hz_30_2/feat_left_A09T_30.txt\",\"feat_2a_250Hz_30_2/feat_right_A09T_30.txt\")\n",
    "temp_l = np.array([temp,temp1,temp2])\n",
    "probability = np.append(probability,temp_l,axis=0)\n",
    "temp,temp1,temp2 = SRC_test(\"feat_2a_250Hz_20/feat_left_A03T_20.txt\",\"feat_2a_250Hz_20/feat_right_A03T_20.txt\",\"feat_2a_250Hz_Test/feat_test_left_A03E.txt\",\"feat_2a_250Hz_Test/feat_test_right_A03E.txt\"\n",
    "                           ,\"feat_2a_250Hz_30_2/feat_left_A02T_30.txt\",\"feat_2a_250Hz_30_2/feat_right_A02T_30.txt\",\"feat_2a_250Hz_30_2/feat_left_A01T_30.txt\",\"feat_2a_250Hz_30_2/feat_right_A01T_30.txt\"\n",
    "                           ,\"feat_2a_250Hz_30_2/feat_left_A09T_30.txt\",\"feat_2a_250Hz_30_2/feat_right_A09T_30.txt\")\n",
    "temp_l = np.array([temp,temp1,temp2])\n",
    "probability = np.append(probability,temp_l,axis=0)\n",
    "temp,temp1,temp2 = SRC_test(\"feat_2a_250Hz_20/feat_left_A07T_20.txt\",\"feat_2a_250Hz_20/feat_right_A07T_20.txt\",\"feat_2a_250Hz_Test/feat_test_left_A07E.txt\",\"feat_2a_250Hz_Test/feat_test_right_A07E.txt\"\n",
    "                           ,\"feat_2a_250Hz_30_2/feat_left_A03T_30.txt\",\"feat_2a_250Hz_30_2/feat_right_A03T_30.txt\"\n",
    "                           ,\"feat_2a_250Hz_30_2/feat_left_A01T_30.txt\",\"feat_2a_250Hz_30_2/feat_right_A01T_30.txt\",\"feat_2a_250Hz_30_2/feat_left_A09T_30.txt\",\"feat_2a_250Hz_30_2/feat_right_A09T_30.txt\")\n",
    "temp_l = np.array([temp,temp1,temp2])\n",
    "probability = np.append(probability,temp_l,axis=0)\n",
    "temp,temp1,temp2 = SRC_test(\"feat_2a_250Hz_20/feat_left_A08T_20.txt\",\"feat_2a_250Hz_20/feat_right_A08T_20.txt\",\"feat_2a_250Hz_Test/feat_test_left_A08E.txt\",\"feat_2a_250Hz_Test/feat_test_right_A08E.txt\"\n",
    "                           ,\"feat_2a_250Hz_30_2/feat_left_A03T_30.txt\",\"feat_2a_250Hz_30_2/feat_right_A03T_30.txt\"\n",
    "                           ,\"feat_2a_250Hz_30_2/feat_left_A01T_30.txt\",\"feat_2a_250Hz_30_2/feat_right_A01T_30.txt\",\"feat_2a_250Hz_30_2/feat_left_A09T_30.txt\",\"feat_2a_250Hz_30_2/feat_right_A09T_30.txt\")\n",
    "temp_l = np.array([temp,temp1,temp2])\n",
    "probability = np.append(probability,temp_l,axis=0)\n",
    "temp,temp1,temp2 = SRC_test(\"feat_2a_250Hz_20/feat_left_A09T_20.txt\",\"feat_2a_250Hz_20/feat_right_A09T_20.txt\",\"feat_2a_250Hz_Test/feat_test_left_A09E.txt\",\"feat_2a_250Hz_Test/feat_test_right_A09E.txt\"\n",
    "                           ,\"feat_2a_250Hz_30_2/feat_left_A03T_30.txt\",\"feat_2a_250Hz_30_2/feat_right_A03T_30.txt\"\n",
    "                           ,\"feat_2a_250Hz_30_2/feat_left_A01T_30.txt\",\"feat_2a_250Hz_30_2/feat_right_A01T_30.txt\",\"feat_2a_250Hz_30_2/feat_left_A08T_30.txt\",\"feat_2a_250Hz_30_2/feat_right_A08T_30.txt\")\n",
    "temp_l = np.array([temp,temp1,temp2])\n",
    "probability = np.append(probability,temp_l,axis=0)\n",
    "\n",
    "probability_2 = probability.reshape([6, 3])\n",
    "print(probability_2)"
   ]
  },
  {
   "cell_type": "code",
   "execution_count": 18,
   "id": "4c899881",
   "metadata": {},
   "outputs": [
    {
     "name": "stdout",
     "output_type": "stream",
     "text": [
      "[[ 44.  54.  34.]\n",
      " [ 50.   0. 100.]\n",
      " [ 48.   4.  92.]\n",
      " [ 51.  22.  80.]\n",
      " [ 44.  74.  14.]\n",
      " [ 51. 100.   2.]]\n"
     ]
    }
   ],
   "source": [
    "#train=30,test=40で分類を行った結果\n",
    "probability = np.array([])\n",
    "temp,temp1,temp2 = SRC_test(\"feat_2a_250Hz_20/feat_left_A01T_20.txt\",\"feat_2a_250Hz_20/feat_right_A01T_20.txt\",\"feat_2a_250Hz_Test/feat_test_left_A01E.txt\",\"feat_2a_250Hz_Test/feat_test_right_A01E.txt\"\n",
    "                           ,\"feat_2a_250Hz_30_3/feat_left_A02T_30.txt\",\"feat_2a_250Hz_30_3/feat_right_A02T_30.txt\",\"feat_2a_250Hz_30_3/feat_left_A03T_30.txt\",\"feat_2a_250Hz_30_3/feat_right_A03T_30.txt\"\n",
    "                           ,\"feat_2a_250Hz_30_3/feat_left_A09T_30.txt\",\"feat_2a_250Hz_30_3/feat_right_A09T_30.txt\")\n",
    "temp_l = np.array([temp,temp1,temp2])\n",
    "probability = np.append(probability,temp_l,axis=0)\n",
    "temp,temp1,temp2 = SRC_test(\"feat_2a_250Hz_20/feat_left_A02T_20.txt\",\"feat_2a_250Hz_20/feat_right_A02T_20.txt\",\"feat_2a_250Hz_Test/feat_test_left_A02E.txt\",\"feat_2a_250Hz_Test/feat_test_right_A02E.txt\"\n",
    "                           ,\"feat_2a_250Hz_30_3/feat_left_A01T_30.txt\",\"feat_2a_250Hz_30_3/feat_right_A01T_30.txt\",\"feat_2a_250Hz_30_3/feat_left_A03T_30.txt\",\"feat_2a_250Hz_30_3/feat_right_A03T_30.txt\"\n",
    "                           ,\"feat_2a_250Hz_30_3/feat_left_A09T_30.txt\",\"feat_2a_250Hz_30_3/feat_right_A09T_30.txt\")\n",
    "temp_l = np.array([temp,temp1,temp2])\n",
    "probability = np.append(probability,temp_l,axis=0)\n",
    "temp,temp1,temp2 = SRC_test(\"feat_2a_250Hz_20/feat_left_A03T_20.txt\",\"feat_2a_250Hz_20/feat_right_A03T_20.txt\",\"feat_2a_250Hz_Test/feat_test_left_A03E.txt\",\"feat_2a_250Hz_Test/feat_test_right_A03E.txt\"\n",
    "                           ,\"feat_2a_250Hz_30_3/feat_left_A02T_30.txt\",\"feat_2a_250Hz_30_3/feat_right_A02T_30.txt\",\"feat_2a_250Hz_30_3/feat_left_A01T_30.txt\",\"feat_2a_250Hz_30_3/feat_right_A01T_30.txt\"\n",
    "                           ,\"feat_2a_250Hz_30_3/feat_left_A09T_30.txt\",\"feat_2a_250Hz_30_3/feat_right_A09T_30.txt\")\n",
    "temp_l = np.array([temp,temp1,temp2])\n",
    "probability = np.append(probability,temp_l,axis=0)\n",
    "temp,temp1,temp2 = SRC_test(\"feat_2a_250Hz_30_3/feat_left_A07T_30.txt\",\"feat_2a_250Hz_30_3/feat_right_A07T_30.txt\",\"feat_2a_250Hz_Test/feat_test_left_A07E.txt\",\"feat_2a_250Hz_Test/feat_test_right_A07E.txt\"\n",
    "                           ,\"feat_2a_250Hz_30_3/feat_left_A03T_30.txt\",\"feat_2a_250Hz_30_3/feat_right_A03T_30.txt\"\n",
    "                           ,\"feat_2a_250Hz_30_3/feat_left_A01T_30.txt\",\"feat_2a_250Hz_30_3/feat_right_A01T_30.txt\",\"feat_2a_250Hz_30_3/feat_left_A09T_30.txt\",\"feat_2a_250Hz_30_3/feat_right_A09T_30.txt\")\n",
    "temp_l = np.array([temp,temp1,temp2])\n",
    "probability = np.append(probability,temp_l,axis=0)\n",
    "temp,temp1,temp2 = SRC_test(\"feat_2a_250Hz_20/feat_left_A08T_20.txt\",\"feat_2a_250Hz_20/feat_right_A08T_20.txt\",\"feat_2a_250Hz_Test/feat_test_left_A08E.txt\",\"feat_2a_250Hz_Test/feat_test_right_A08E.txt\"\n",
    "                           ,\"feat_2a_250Hz_30_3/feat_left_A03T_30.txt\",\"feat_2a_250Hz_30_3/feat_right_A03T_30.txt\"\n",
    "                           ,\"feat_2a_250Hz_30_3/feat_left_A01T_30.txt\",\"feat_2a_250Hz_30_3/feat_right_A01T_30.txt\",\"feat_2a_250Hz_30_3/feat_left_A09T_30.txt\",\"feat_2a_250Hz_30_3/feat_right_A09T_30.txt\")\n",
    "temp_l = np.array([temp,temp1,temp2])\n",
    "probability = np.append(probability,temp_l,axis=0)\n",
    "temp,temp1,temp2 = SRC_test(\"feat_2a_250Hz_20/feat_left_A09T_20.txt\",\"feat_2a_250Hz_20/feat_right_A09T_20.txt\",\"feat_2a_250Hz_Test/feat_test_left_A09E.txt\",\"feat_2a_250Hz_Test/feat_test_right_A09E.txt\"\n",
    "                           ,\"feat_2a_250Hz_30_3/feat_left_A03T_30.txt\",\"feat_2a_250Hz_30_3/feat_right_A03T_30.txt\"\n",
    "                           ,\"feat_2a_250Hz_30_3/feat_left_A01T_30.txt\",\"feat_2a_250Hz_30_3/feat_right_A01T_30.txt\",\"feat_2a_250Hz_30_3/feat_left_A08T_30.txt\",\"feat_2a_250Hz_30_3/feat_right_A08T_30.txt\")\n",
    "temp_l = np.array([temp,temp1,temp2])\n",
    "probability = np.append(probability,temp_l,axis=0)\n",
    "\n",
    "probability_3 = probability.reshape([6, 3])\n",
    "print(probability_3)"
   ]
  },
  {
   "cell_type": "code",
   "execution_count": 19,
   "id": "e199f208",
   "metadata": {
    "tags": []
   },
   "outputs": [
    {
     "name": "stdout",
     "output_type": "stream",
     "text": [
      "[[ 48.33333333  19.33333333  77.33333333]\n",
      " [ 50.           0.         100.        ]\n",
      " [ 52.          19.33333333  84.66666667]\n",
      " [ 51.          74.          28.        ]\n",
      " [ 48.          24.66666667  71.33333333]\n",
      " [ 50.          62.          38.        ]]\n"
     ]
    }
   ],
   "source": [
    "p_average_250Hz = (probability_1+probability_2+probability_3)/3\n",
    "print(p_average_250Hz)"
   ]
  },
  {
   "cell_type": "code",
   "execution_count": 20,
   "id": "07dac8f0",
   "metadata": {},
   "outputs": [
    {
     "name": "stdout",
     "output_type": "stream",
     "text": [
      "[[ 50. 100.   0.]\n",
      " [ 50.   0. 100.]\n",
      " [ 50.  70.  30.]\n",
      " [ 50.   0. 100.]\n",
      " [ 48.  12.  84.]\n",
      " [ 56.  80.  32.]]\n"
     ]
    }
   ],
   "source": [
    "#train=30,test=40で分類を行った結果\n",
    "probability = np.array([])\n",
    "temp,temp1,temp2 = SRC_test(\"feat_2a_125Hz_20/feat_left_A01T_20.txt\",\"feat_2a_125Hz_20/feat_right_A01T_20.txt\",\"feat_2a_125Hz_Test/feat_test_left_A01E.txt\",\"feat_2a_125Hz_Test/feat_test_right_A01E.txt\"\n",
    "                           ,\"feat_2a_125Hz_30/feat_left_A02T_30.txt\",\"feat_2a_125Hz_30/feat_right_A02T_30.txt\",\"feat_2a_125Hz_30/feat_left_A03T_30.txt\",\"feat_2a_125Hz_30/feat_right_A03T_30.txt\"\n",
    "                           ,\"feat_2a_125Hz_30/feat_left_A09T_30.txt\",\"feat_2a_125Hz_30/feat_right_A09T_30.txt\")\n",
    "temp_l = np.array([temp,temp1,temp2])\n",
    "probability = np.append(probability,temp_l,axis=0)\n",
    "temp,temp1,temp2 = SRC_test(\"feat_2a_125Hz_20/feat_left_A02T_20.txt\",\"feat_2a_125Hz_20/feat_right_A02T_20.txt\",\"feat_2a_125Hz_Test/feat_test_left_A02E.txt\",\"feat_2a_125Hz_Test/feat_test_right_A02E.txt\"\n",
    "                           ,\"feat_2a_125Hz_30/feat_left_A01T_30.txt\",\"feat_2a_125Hz_30/feat_right_A01T_30.txt\",\"feat_2a_125Hz_30/feat_left_A03T_30.txt\",\"feat_2a_125Hz_30/feat_right_A03T_30.txt\"\n",
    "                           ,\"feat_2a_125Hz_30/feat_left_A09T_30.txt\",\"feat_2a_125Hz_30/feat_right_A09T_30.txt\")\n",
    "temp_l = np.array([temp,temp1,temp2])\n",
    "probability = np.append(probability,temp_l,axis=0)\n",
    "temp,temp1,temp2 = SRC_test(\"feat_2a_125Hz_20/feat_left_A03T_20.txt\",\"feat_2a_125Hz_20/feat_right_A03T_20.txt\",\"feat_2a_125Hz_Test/feat_test_left_A03E.txt\",\"feat_2a_125Hz_Test/feat_test_right_A03E.txt\"\n",
    "                           ,\"feat_2a_125Hz_30/feat_left_A02T_30.txt\",\"feat_2a_125Hz_30/feat_right_A02T_30.txt\",\"feat_2a_125Hz_30/feat_left_A01T_30.txt\",\"feat_2a_125Hz_30/feat_right_A01T_30.txt\"\n",
    "                           ,\"feat_2a_125Hz_30/feat_left_A09T_30.txt\",\"feat_2a_125Hz_30/feat_right_A09T_30.txt\")\n",
    "temp_l = np.array([temp,temp1,temp2])\n",
    "probability = np.append(probability,temp_l,axis=0)\n",
    "temp,temp1,temp2 = SRC_test(\"feat_2a_125Hz_20/feat_left_A07T_20.txt\",\"feat_2a_125Hz_20/feat_right_A07T_20.txt\",\"feat_2a_125Hz_Test/feat_test_left_A07E.txt\",\"feat_2a_125Hz_Test/feat_test_right_A07E.txt\"\n",
    "                           ,\"feat_2a_125Hz_30/feat_left_A03T_30.txt\",\"feat_2a_125Hz_30/feat_right_A03T_30.txt\"\n",
    "                           ,\"feat_2a_125Hz_30/feat_left_A01T_30.txt\",\"feat_2a_125Hz_30/feat_right_A01T_30.txt\",\"feat_2a_125Hz_30/feat_left_A09T_30.txt\",\"feat_2a_125Hz_30/feat_right_A09T_30.txt\")\n",
    "temp_l = np.array([temp,temp1,temp2])\n",
    "probability = np.append(probability,temp_l,axis=0)\n",
    "temp,temp1,temp2 = SRC_test(\"feat_2a_125Hz_20/feat_left_A08T_20.txt\",\"feat_2a_125Hz_20/feat_right_A08T_20.txt\",\"feat_2a_125Hz_Test/feat_test_left_A08E.txt\",\"feat_2a_125Hz_Test/feat_test_right_A08E.txt\"\n",
    "                           ,\"feat_2a_125Hz_30/feat_left_A03T_30.txt\",\"feat_2a_125Hz_30/feat_right_A03T_30.txt\"\n",
    "                           ,\"feat_2a_125Hz_30/feat_left_A01T_30.txt\",\"feat_2a_125Hz_30/feat_right_A01T_30.txt\",\"feat_2a_125Hz_30/feat_left_A09T_30.txt\",\"feat_2a_125Hz_30/feat_right_A09T_30.txt\")\n",
    "temp_l = np.array([temp,temp1,temp2])\n",
    "probability = np.append(probability,temp_l,axis=0)\n",
    "temp,temp1,temp2 = SRC_test(\"feat_2a_125Hz_20/feat_left_A09T_20.txt\",\"feat_2a_125Hz_20/feat_right_A09T_20.txt\",\"feat_2a_125Hz_Test/feat_test_left_A09E.txt\",\"feat_2a_125Hz_Test/feat_test_right_A09E.txt\"\n",
    "                           ,\"feat_2a_125Hz_30/feat_left_A03T_30.txt\",\"feat_2a_125Hz_30/feat_right_A03T_30.txt\"\n",
    "                           ,\"feat_2a_125Hz_30/feat_left_A01T_30.txt\",\"feat_2a_125Hz_30/feat_right_A01T_30.txt\",\"feat_2a_125Hz_30/feat_left_A08T_30.txt\",\"feat_2a_125Hz_30/feat_right_A08T_30.txt\")\n",
    "temp_l = np.array([temp,temp1,temp2])\n",
    "probability = np.append(probability,temp_l,axis=0)\n",
    "\n",
    "probability_1 = probability.reshape([6, 3])\n",
    "print(probability_1)"
   ]
  },
  {
   "cell_type": "code",
   "execution_count": 21,
   "id": "c9a0fd14",
   "metadata": {},
   "outputs": [
    {
     "name": "stdout",
     "output_type": "stream",
     "text": [
      "[[ 52.   4. 100.]\n",
      " [ 51.  94.   8.]\n",
      " [ 58.  36.  80.]\n",
      " [ 50.   0. 100.]\n",
      " [ 50.   0. 100.]\n",
      " [ 53.  42.  64.]]\n"
     ]
    }
   ],
   "source": [
    "#train=30,test=40で分類を行った結果\n",
    "probability = np.array([])\n",
    "temp,temp1,temp2 = SRC_test(\"feat_2a_125Hz_20/feat_left_A01T_20.txt\",\"feat_2a_125Hz_20/feat_right_A01T_20.txt\",\"feat_2a_125Hz_Test/feat_test_left_A01E.txt\",\"feat_2a_125Hz_Test/feat_test_right_A01E.txt\"\n",
    "                           ,\"feat_2a_125Hz_30_2/feat_left_A02T_30.txt\",\"feat_2a_125Hz_30_2/feat_right_A02T_30.txt\",\"feat_2a_125Hz_30_2/feat_left_A03T_30.txt\",\"feat_2a_125Hz_30_2/feat_right_A03T_30.txt\"\n",
    "                           ,\"feat_2a_125Hz_30_2/feat_left_A09T_30.txt\",\"feat_2a_125Hz_30_2/feat_right_A09T_30.txt\")\n",
    "temp_l = np.array([temp,temp1,temp2])\n",
    "probability = np.append(probability,temp_l,axis=0)\n",
    "temp,temp1,temp2 = SRC_test(\"feat_2a_125Hz_20/feat_left_A02T_20.txt\",\"feat_2a_125Hz_20/feat_right_A02T_20.txt\",\"feat_2a_125Hz_Test/feat_test_left_A02E.txt\",\"feat_2a_125Hz_Test/feat_test_right_A02E.txt\"\n",
    "                           ,\"feat_2a_125Hz_30_2/feat_left_A01T_30.txt\",\"feat_2a_125Hz_30_2/feat_right_A01T_30.txt\",\"feat_2a_125Hz_30_2/feat_left_A03T_30.txt\",\"feat_2a_125Hz_30_2/feat_right_A03T_30.txt\"\n",
    "                           ,\"feat_2a_125Hz_30_2/feat_left_A09T_30.txt\",\"feat_2a_125Hz_30_2/feat_right_A09T_30.txt\")\n",
    "temp_l = np.array([temp,temp1,temp2])\n",
    "probability = np.append(probability,temp_l,axis=0)\n",
    "temp,temp1,temp2 = SRC_test(\"feat_2a_125Hz_20/feat_left_A03T_20.txt\",\"feat_2a_125Hz_20/feat_right_A03T_20.txt\",\"feat_2a_125Hz_Test/feat_test_left_A03E.txt\",\"feat_2a_125Hz_Test/feat_test_right_A03E.txt\"\n",
    "                           ,\"feat_2a_125Hz_30_2/feat_left_A02T_30.txt\",\"feat_2a_125Hz_30_2/feat_right_A02T_30.txt\",\"feat_2a_125Hz_30_2/feat_left_A01T_30.txt\",\"feat_2a_125Hz_30_2/feat_right_A01T_30.txt\"\n",
    "                           ,\"feat_2a_125Hz_30_2/feat_left_A09T_30.txt\",\"feat_2a_125Hz_30_2/feat_right_A09T_30.txt\")\n",
    "temp_l = np.array([temp,temp1,temp2])\n",
    "probability = np.append(probability,temp_l,axis=0)\n",
    "temp,temp1,temp2 = SRC_test(\"feat_2a_125Hz_20/feat_left_A07T_20.txt\",\"feat_2a_125Hz_20/feat_right_A07T_20.txt\",\"feat_2a_125Hz_Test/feat_test_left_A07E.txt\",\"feat_2a_125Hz_Test/feat_test_right_A07E.txt\"\n",
    "                           ,\"feat_2a_125Hz_30_2/feat_left_A03T_30.txt\",\"feat_2a_125Hz_30_2/feat_right_A03T_30.txt\"\n",
    "                           ,\"feat_2a_125Hz_30_2/feat_left_A01T_30.txt\",\"feat_2a_125Hz_30_2/feat_right_A01T_30.txt\",\"feat_2a_125Hz_30_2/feat_left_A09T_30.txt\",\"feat_2a_125Hz_30_2/feat_right_A09T_30.txt\")\n",
    "temp_l = np.array([temp,temp1,temp2])\n",
    "probability = np.append(probability,temp_l,axis=0)\n",
    "temp,temp1,temp2 = SRC_test(\"feat_2a_125Hz_20/feat_left_A08T_20.txt\",\"feat_2a_125Hz_20/feat_right_A08T_20.txt\",\"feat_2a_125Hz_Test/feat_test_left_A08E.txt\",\"feat_2a_125Hz_Test/feat_test_right_A08E.txt\"\n",
    "                           ,\"feat_2a_125Hz_30_2/feat_left_A03T_30.txt\",\"feat_2a_125Hz_30_2/feat_right_A03T_30.txt\"\n",
    "                           ,\"feat_2a_125Hz_30_2/feat_left_A01T_30.txt\",\"feat_2a_125Hz_30_2/feat_right_A01T_30.txt\",\"feat_2a_125Hz_30_2/feat_left_A09T_30.txt\",\"feat_2a_125Hz_30_2/feat_right_A09T_30.txt\")\n",
    "temp_l = np.array([temp,temp1,temp2])\n",
    "probability = np.append(probability,temp_l,axis=0)\n",
    "temp,temp1,temp2 = SRC_test(\"feat_2a_125Hz_20/feat_left_A09T_20.txt\",\"feat_2a_125Hz_20/feat_right_A09T_20.txt\",\"feat_2a_125Hz_Test/feat_test_left_A09E.txt\",\"feat_2a_125Hz_Test/feat_test_right_A09E.txt\"\n",
    "                           ,\"feat_2a_125Hz_30_2/feat_left_A03T_30.txt\",\"feat_2a_125Hz_30_2/feat_right_A03T_30.txt\"\n",
    "                           ,\"feat_2a_125Hz_30_2/feat_left_A01T_30.txt\",\"feat_2a_125Hz_30_2/feat_right_A01T_30.txt\",\"feat_2a_125Hz_30_2/feat_left_A06T_30.txt\",\"feat_2a_125Hz_30_2/feat_right_A06T_30.txt\")\n",
    "temp_l = np.array([temp,temp1,temp2])\n",
    "probability = np.append(probability,temp_l,axis=0)\n",
    "\n",
    "probability_2 = probability.reshape([6, 3])\n",
    "print(probability_2)"
   ]
  },
  {
   "cell_type": "code",
   "execution_count": 22,
   "id": "068dafba",
   "metadata": {},
   "outputs": [
    {
     "name": "stdout",
     "output_type": "stream",
     "text": [
      "[[ 59.  42.  76.]\n",
      " [ 50. 100.   0.]\n",
      " [ 51. 100.   2.]\n",
      " [ 50.   0. 100.]\n",
      " [ 56.  62.  50.]\n",
      " [ 49.   8.  90.]]\n"
     ]
    }
   ],
   "source": [
    "#train=30,test=40で分類を行った結果\n",
    "probability = np.array([])\n",
    "temp,temp1,temp2 = SRC_test(\"feat_2a_125Hz_20/feat_left_A01T_20.txt\",\"feat_2a_125Hz_20/feat_right_A01T_20.txt\",\"feat_2a_125Hz_Test/feat_test_left_A01E.txt\",\"feat_2a_125Hz_Test/feat_test_right_A01E.txt\"\n",
    "                           ,\"feat_2a_125Hz_30_3/feat_left_A02T_30.txt\",\"feat_2a_125Hz_30_3/feat_right_A02T_30.txt\",\"feat_2a_125Hz_30_3/feat_left_A03T_30.txt\",\"feat_2a_125Hz_30_3/feat_right_A03T_30.txt\"\n",
    "                           ,\"feat_2a_125Hz_30_3/feat_left_A09T_30.txt\",\"feat_2a_125Hz_30_3/feat_right_A09T_30.txt\")\n",
    "temp_l = np.array([temp,temp1,temp2])\n",
    "probability = np.append(probability,temp_l,axis=0)\n",
    "temp,temp1,temp2 = SRC_test(\"feat_2a_125Hz_20/feat_left_A02T_20.txt\",\"feat_2a_125Hz_20/feat_right_A02T_20.txt\",\"feat_2a_125Hz_Test/feat_test_left_A02E.txt\",\"feat_2a_125Hz_Test/feat_test_right_A02E.txt\"\n",
    "                           ,\"feat_2a_125Hz_30_3/feat_left_A01T_30.txt\",\"feat_2a_125Hz_30_3/feat_right_A01T_30.txt\",\"feat_2a_125Hz_30_3/feat_left_A03T_30.txt\",\"feat_2a_125Hz_30_3/feat_right_A03T_30.txt\"\n",
    "                           ,\"feat_2a_125Hz_30_3/feat_left_A09T_30.txt\",\"feat_2a_125Hz_30_3/feat_right_A09T_30.txt\")\n",
    "temp_l = np.array([temp,temp1,temp2])\n",
    "probability = np.append(probability,temp_l,axis=0)\n",
    "temp,temp1,temp2 = SRC_test(\"feat_2a_125Hz_20/feat_left_A03T_20.txt\",\"feat_2a_125Hz_20/feat_right_A03T_20.txt\",\"feat_2a_125Hz_Test/feat_test_left_A03E.txt\",\"feat_2a_125Hz_Test/feat_test_right_A03E.txt\"\n",
    "                           ,\"feat_2a_125Hz_30_3/feat_left_A02T_30.txt\",\"feat_2a_125Hz_30_3/feat_right_A02T_30.txt\",\"feat_2a_125Hz_30_3/feat_left_A01T_30.txt\",\"feat_2a_125Hz_30_3/feat_right_A01T_30.txt\"\n",
    "                           ,\"feat_2a_125Hz_30_3/feat_left_A09T_30.txt\",\"feat_2a_125Hz_30_3/feat_right_A09T_30.txt\")\n",
    "temp_l = np.array([temp,temp1,temp2])\n",
    "probability = np.append(probability,temp_l,axis=0)\n",
    "temp,temp1,temp2 = SRC_test(\"feat_2a_125Hz_20/feat_left_A07T_20.txt\",\"feat_2a_125Hz_20/feat_right_A07T_20.txt\",\"feat_2a_125Hz_Test/feat_test_left_A07E.txt\",\"feat_2a_125Hz_Test/feat_test_right_A07E.txt\"\n",
    "                           ,\"feat_2a_125Hz_30_3/feat_left_A03T_30.txt\",\"feat_2a_125Hz_30_3/feat_right_A03T_30.txt\"\n",
    "                           ,\"feat_2a_125Hz_30_3/feat_left_A01T_30.txt\",\"feat_2a_125Hz_30_3/feat_right_A01T_30.txt\",\"feat_2a_125Hz_30_3/feat_left_A09T_30.txt\",\"feat_2a_125Hz_30_3/feat_right_A09T_30.txt\")\n",
    "temp_l = np.array([temp,temp1,temp2])\n",
    "probability = np.append(probability,temp_l,axis=0)\n",
    "temp,temp1,temp2 = SRC_test(\"feat_2a_125Hz_20/feat_left_A08T_20.txt\",\"feat_2a_125Hz_20/feat_right_A08T_20.txt\",\"feat_2a_125Hz_Test/feat_test_left_A08E.txt\",\"feat_2a_125Hz_Test/feat_test_right_A08E.txt\"\n",
    "                           ,\"feat_2a_125Hz_30_3/feat_left_A03T_30.txt\",\"feat_2a_125Hz_30_3/feat_right_A03T_30.txt\"\n",
    "                           ,\"feat_2a_125Hz_30_3/feat_left_A01T_30.txt\",\"feat_2a_125Hz_30_3/feat_right_A01T_30.txt\",\"feat_2a_125Hz_30_3/feat_left_A09T_30.txt\",\"feat_2a_125Hz_30_3/feat_right_A09T_30.txt\")\n",
    "temp_l = np.array([temp,temp1,temp2])\n",
    "probability = np.append(probability,temp_l,axis=0)\n",
    "temp,temp1,temp2 = SRC_test(\"feat_2a_125Hz_20/feat_left_A09T_20.txt\",\"feat_2a_125Hz_20/feat_right_A09T_20.txt\",\"feat_2a_125Hz_Test/feat_test_left_A09E.txt\",\"feat_2a_125Hz_Test/feat_test_right_A09E.txt\"\n",
    "                           ,\"feat_2a_125Hz_30_3/feat_left_A03T_30.txt\",\"feat_2a_125Hz_30_3/feat_right_A03T_30.txt\"\n",
    "                           ,\"feat_2a_125Hz_30_3/feat_left_A01T_30.txt\",\"feat_2a_125Hz_30_3/feat_right_A01T_30.txt\",\"feat_2a_125Hz_30_3/feat_left_A08T_30.txt\",\"feat_2a_125Hz_30_3/feat_right_A08T_30.txt\")\n",
    "temp_l = np.array([temp,temp1,temp2])\n",
    "probability = np.append(probability,temp_l,axis=0)\n",
    "\n",
    "probability_3 = probability.reshape([6, 3])\n",
    "print(probability_3)"
   ]
  },
  {
   "cell_type": "code",
   "execution_count": 23,
   "id": "08140e3e",
   "metadata": {},
   "outputs": [
    {
     "name": "stdout",
     "output_type": "stream",
     "text": [
      "[[ 53.66666667  48.66666667  58.66666667]\n",
      " [ 50.33333333  64.66666667  36.        ]\n",
      " [ 53.          68.66666667  37.33333333]\n",
      " [ 50.           0.         100.        ]\n",
      " [ 51.33333333  24.66666667  78.        ]\n",
      " [ 52.66666667  43.33333333  62.        ]]\n"
     ]
    }
   ],
   "source": [
    "p_average_125Hz = (probability_1+probability_2+probability_3)/3\n",
    "print(p_average_125Hz)"
   ]
  },
  {
   "cell_type": "code",
   "execution_count": 24,
   "id": "681ba0d3",
   "metadata": {},
   "outputs": [
    {
     "name": "stdout",
     "output_type": "stream",
     "text": [
      "49.88888888888889 51.833333333333336\n"
     ]
    }
   ],
   "source": [
    "a_20 = 0; a_30 = 0;\n",
    "for i in range(6):\n",
    "    a_20 = a_20 + p_average_250Hz[i,0] \n",
    "    a_30 = a_30 + p_average_125Hz[i,0] \n",
    "    \n",
    "a_20 = a_20/6\n",
    "a_30 = a_30/6\n",
    "print(a_20,a_30)"
   ]
  },
  {
   "cell_type": "code",
   "execution_count": 25,
   "id": "65c4916d",
   "metadata": {},
   "outputs": [
    {
     "name": "stdout",
     "output_type": "stream",
     "text": [
      "[[53.66666667 50.33333333 53.         50.         51.33333333 52.66666667]\n",
      " [48.33333333 50.         52.         51.         48.         50.        ]]\n"
     ]
    },
    {
     "data": {
      "image/png": "[encoded data removed]",
      "text/plain": [
       "<Figure size 432x288 with 1 Axes>"
      ]
     },
     "metadata": {
      "needs_background": "light"
     },
     "output_type": "display_data"
    }
   ],
   "source": [
    "import matplotlib.pyplot as plt\n",
    "import japanize_matplotlib\n",
    "y = np.array([])\n",
    "x = np.arange(1, 7, step=1)\n",
    "y = np.append(p_average_250Hz[:,0],y)\n",
    "y = np.append(p_average_125Hz[:,0],y)\n",
    "y = y.reshape([2,6])\n",
    "print(y)\n",
    "plt.plot(x,y[1],\"red\")\n",
    "plt.plot(x,y[0])\n",
    "plt.title(\"SRC_Group分類確率\", {\"fontsize\":20})\n",
    "plt.xlabel(\"被験者No.\", {\"fontsize\":15})\n",
    "plt.ylabel(\"分類確率(%)\", {\"fontsize\":15})\n",
    "plt.xticks(np.arange(1, 7, step=1))\n",
    "plt.yticks(np.arange(0, 110, step=10))\n",
    "plt.savefig(\"2a_SRC_group_probability_K3.pdf\")\n",
    "plt.show()"
   ]
  },
  {
   "cell_type": "code",
   "execution_count": 31,
   "id": "e19ffac1",
   "metadata": {},
   "outputs": [
    {
     "name": "stdout",
     "output_type": "stream",
     "text": [
      "[[ 53.  52.  54.]\n",
      " [ 50. 100.   0.]\n",
      " [ 50.  94.   6.]]\n"
     ]
    }
   ],
   "source": [
    "#train=30,test=50で分類を行った結果\n",
    "probability = np.array([])\n",
    "temp,temp1,temp2 = SRC_test(\"feat_4a_1000Hz_20/feat_right_aa_20.txt\",\"feat_4a_1000Hz_20/feat_foot_aa_20.txt\",\"feat_4a_1000Hz_Test/feat_test_right_aa.txt\",\"feat_4a_1000Hz_Test/feat_test_foot_aa.txt\"\n",
    "                           ,\"feat_4a_1000Hz_30/feat_right_av_30.txt\",\"feat_4a_1000Hz_30/feat_foot_av_30.txt\",\"feat_4a_1000Hz_30/feat_right_al_30.txt\",\"feat_4a_1000Hz_30/feat_foot_al_30.txt\"\n",
    "                           ,\"feat_4a_1000Hz_30/feat_right_aw_30.txt\",\"feat_4a_1000Hz_30/feat_foot_aw_30.txt\")\n",
    "temp_l = np.array([temp,temp1,temp2])\n",
    "probability = np.append(probability,temp_l,axis=0)\n",
    "temp,temp1,temp2 = SRC_test(\"feat_4a_1000Hz_20/feat_right_av_20.txt\",\"feat_4a_1000Hz_20/feat_foot_av_20.txt\",\"feat_4a_1000Hz_Test/feat_test_right_av.txt\",\"feat_4a_1000Hz_Test/feat_test_foot_av.txt\"\n",
    "                           ,\"feat_4a_1000Hz_30/feat_right_aa_30.txt\",\"feat_4a_1000Hz_30/feat_foot_aa_30.txt\",\"feat_4a_1000Hz_30/feat_right_al_30.txt\",\"feat_4a_1000Hz_30/feat_foot_al_30.txt\"\n",
    "                           ,\"feat_4a_1000Hz_30/feat_right_aw_30.txt\",\"feat_4a_1000Hz_30/feat_foot_aw_30.txt\")\n",
    "temp_l = np.array([temp,temp1,temp2])\n",
    "probability = np.append(probability,temp_l,axis=0)\n",
    "temp,temp1,temp2 = SRC_test(\"feat_4a_1000Hz_20/feat_right_aw_20.txt\",\"feat_4a_1000Hz_20/feat_foot_aw_20.txt\",\"feat_4a_1000Hz_Test/feat_test_right_aw.txt\",\"feat_4a_1000Hz_Test/feat_test_foot_aw.txt\"\n",
    "                           ,\"feat_4a_1000Hz_30/feat_right_aa_30.txt\",\"feat_4a_1000Hz_30/feat_foot_aa_30.txt\",\"feat_4a_1000Hz_30/feat_right_al_30.txt\",\"feat_4a_1000Hz_30/feat_foot_al_30.txt\"\n",
    "                           ,\"feat_4a_1000Hz_30/feat_right_av_30.txt\",\"feat_4a_1000Hz_30/feat_foot_av_30.txt\")\n",
    "temp_l = np.array([temp,temp1,temp2])\n",
    "probability = np.append(probability,temp_l,axis=0)\n",
    "\n",
    "probability_1 = probability.reshape([3, 3])\n",
    "print(probability_1)"
   ]
  },
  {
   "cell_type": "code",
   "execution_count": 32,
   "id": "b333e3d4-796a-4b4d-adf9-22caf7341388",
   "metadata": {},
   "outputs": [
    {
     "name": "stdout",
     "output_type": "stream",
     "text": [
      "[[ 53.  64.  42.]\n",
      " [ 49.  42.  56.]\n",
      " [ 51. 100.   2.]]\n"
     ]
    }
   ],
   "source": [
    "#train=30,test=50で分類を行った結果\n",
    "probability = np.array([])\n",
    "temp,temp1,temp2 = SRC_test(\"feat_4a_1000Hz_20/feat_right_aa_20.txt\",\"feat_4a_1000Hz_20/feat_foot_aa_20.txt\",\"feat_4a_1000Hz_Test/feat_test_right_aa.txt\",\"feat_4a_1000Hz_Test/feat_test_foot_aa.txt\"\n",
    "                           ,\"feat_4a_1000Hz_30_2/feat_right_av_30.txt\",\"feat_4a_1000Hz_30_2/feat_foot_av_30.txt\",\"feat_4a_1000Hz_30_2/feat_right_al_30.txt\",\"feat_4a_1000Hz_30_2/feat_foot_al_30.txt\"\n",
    "                           ,\"feat_4a_1000Hz_30_2/feat_right_aw_30.txt\",\"feat_4a_1000Hz_30_2/feat_foot_aw_30.txt\")\n",
    "temp_l = np.array([temp,temp1,temp2])\n",
    "probability = np.append(probability,temp_l,axis=0)\n",
    "temp,temp1,temp2 = SRC_test(\"feat_4a_1000Hz_20/feat_right_av_20.txt\",\"feat_4a_1000Hz_20/feat_foot_av_20.txt\",\"feat_4a_1000Hz_Test/feat_test_right_av.txt\",\"feat_4a_1000Hz_Test/feat_test_foot_av.txt\"\n",
    "                           ,\"feat_4a_1000Hz_30_2/feat_right_aa_30.txt\",\"feat_4a_1000Hz_30_2/feat_foot_aa_30.txt\",\"feat_4a_1000Hz_30_2/feat_right_al_30.txt\",\"feat_4a_1000Hz_30_2/feat_foot_al_30.txt\"\n",
    "                           ,\"feat_4a_1000Hz_30_2/feat_right_aw_30.txt\",\"feat_4a_1000Hz_30_2/feat_foot_aw_30.txt\")\n",
    "temp_l = np.array([temp,temp1,temp2])\n",
    "probability = np.append(probability,temp_l,axis=0)\n",
    "temp,temp1,temp2 = SRC_test(\"feat_4a_1000Hz_20/feat_right_aw_20.txt\",\"feat_4a_1000Hz_20/feat_foot_aw_20.txt\",\"feat_4a_1000Hz_Test/feat_test_right_aw.txt\",\"feat_4a_1000Hz_Test/feat_test_foot_aw.txt\"\n",
    "                           ,\"feat_4a_1000Hz_30_2/feat_right_aa_30.txt\",\"feat_4a_1000Hz_30_2/feat_foot_aa_30.txt\",\"feat_4a_1000Hz_30_2/feat_right_al_30.txt\",\"feat_4a_1000Hz_30_2/feat_foot_al_30.txt\"\n",
    "                           ,\"feat_4a_1000Hz_30_2/feat_right_av_30.txt\",\"feat_4a_1000Hz_30_2/feat_foot_av_30.txt\")\n",
    "temp_l = np.array([temp,temp1,temp2])\n",
    "probability = np.append(probability,temp_l,axis=0)\n",
    "\n",
    "probability_2 = probability.reshape([3, 3])\n",
    "print(probability_2)"
   ]
  },
  {
   "cell_type": "code",
   "execution_count": 33,
   "id": "b302ef82-ca54-49a8-b51c-fb151cdafec7",
   "metadata": {},
   "outputs": [
    {
     "name": "stdout",
     "output_type": "stream",
     "text": [
      "[[53. 60. 46.]\n",
      " [48. 20. 76.]\n",
      " [47. 24. 70.]]\n"
     ]
    }
   ],
   "source": [
    "#train=30,test=50で分類を行った結果\n",
    "probability = np.array([])\n",
    "temp,temp1,temp2 = SRC_test(\"feat_4a_1000Hz_20/feat_right_aa_20.txt\",\"feat_4a_1000Hz_20/feat_foot_aa_20.txt\",\"feat_4a_1000Hz_Test/feat_test_right_aa.txt\",\"feat_4a_1000Hz_Test/feat_test_foot_aa.txt\"\n",
    "                           ,\"feat_4a_1000Hz_30_3/feat_right_av_30.txt\",\"feat_4a_1000Hz_30_3/feat_foot_av_30.txt\",\"feat_4a_1000Hz_30_3/feat_right_al_30.txt\",\"feat_4a_1000Hz_30_3/feat_foot_al_30.txt\"\n",
    "                           ,\"feat_4a_1000Hz_30_3/feat_right_aw_30.txt\",\"feat_4a_1000Hz_30_3/feat_foot_aw_30.txt\")\n",
    "temp_l = np.array([temp,temp1,temp2])\n",
    "probability = np.append(probability,temp_l,axis=0)\n",
    "temp,temp1,temp2 = SRC_test(\"feat_4a_1000Hz_20/feat_right_av_20.txt\",\"feat_4a_1000Hz_20/feat_foot_av_20.txt\",\"feat_4a_1000Hz_Test/feat_test_right_av.txt\",\"feat_4a_1000Hz_Test/feat_test_foot_av.txt\"\n",
    "                           ,\"feat_4a_1000Hz_30_3/feat_right_aa_30.txt\",\"feat_4a_1000Hz_30_3/feat_foot_aa_30.txt\",\"feat_4a_1000Hz_30_3/feat_right_al_30.txt\",\"feat_4a_1000Hz_30_3/feat_foot_al_30.txt\"\n",
    "                           ,\"feat_4a_1000Hz_30_3/feat_right_aw_30.txt\",\"feat_4a_1000Hz_30_3/feat_foot_aw_30.txt\")\n",
    "temp_l = np.array([temp,temp1,temp2])\n",
    "probability = np.append(probability,temp_l,axis=0)\n",
    "temp,temp1,temp2 = SRC_test(\"feat_4a_1000Hz_20/feat_right_aw_20.txt\",\"feat_4a_1000Hz_20/feat_foot_aw_20.txt\",\"feat_4a_1000Hz_Test/feat_test_right_aw.txt\",\"feat_4a_1000Hz_Test/feat_test_foot_aw.txt\"\n",
    "                           ,\"feat_4a_1000Hz_30_3/feat_right_aa_30.txt\",\"feat_4a_1000Hz_30_3/feat_foot_aa_30.txt\",\"feat_4a_1000Hz_30_3/feat_right_al_30.txt\",\"feat_4a_1000Hz_30_3/feat_foot_al_30.txt\"\n",
    "                           ,\"feat_4a_1000Hz_30_3/feat_right_av_30.txt\",\"feat_4a_1000Hz_30_3/feat_foot_av_30.txt\")\n",
    "temp_l = np.array([temp,temp1,temp2])\n",
    "probability = np.append(probability,temp_l,axis=0)\n",
    "\n",
    "probability_3 = probability.reshape([3, 3])\n",
    "print(probability_3)"
   ]
  },
  {
   "cell_type": "code",
   "execution_count": 34,
   "id": "50d11bb9-ac0f-4ae4-85db-e07a0eb45773",
   "metadata": {},
   "outputs": [
    {
     "name": "stdout",
     "output_type": "stream",
     "text": [
      "[[53.         58.66666667 47.33333333]\n",
      " [49.         54.         44.        ]\n",
      " [49.33333333 72.66666667 26.        ]]\n"
     ]
    }
   ],
   "source": [
    "p_average_1000Hz = (probability_1+probability_2+probability_3)/3\n",
    "print(p_average_1000Hz)"
   ]
  },
  {
   "cell_type": "code",
   "execution_count": 35,
   "id": "81b62912-9d31-4944-b6d8-163d926f145c",
   "metadata": {},
   "outputs": [
    {
     "name": "stdout",
     "output_type": "stream",
     "text": [
      "[[ 50.   0. 100.]\n",
      " [ 50.   0. 100.]\n",
      " [ 56.  16.  96.]]\n"
     ]
    }
   ],
   "source": [
    "#train=30,test=50で分類を行った結果\n",
    "probability = np.array([])\n",
    "temp,temp1,temp2 = SRC_test(\"feat_4a_100Hz_20/feat_right_aa_20.txt\",\"feat_4a_100Hz_20/feat_foot_aa_20.txt\",\"feat_4a_100Hz_Test/feat_test_right_aa.txt\",\"feat_4a_100Hz_Test/feat_test_foot_aa.txt\"\n",
    "                           ,\"feat_4a_100Hz_30/feat_right_av_30.txt\",\"feat_4a_100Hz_30/feat_foot_av_30.txt\",\"feat_4a_100Hz_30/feat_right_al_30.txt\",\"feat_4a_100Hz_30/feat_foot_al_30.txt\"\n",
    "                           ,\"feat_4a_100Hz_30/feat_right_aw_30.txt\",\"feat_4a_100Hz_30/feat_foot_aw_30.txt\")\n",
    "temp_l = np.array([temp,temp1,temp2])\n",
    "probability = np.append(probability,temp_l,axis=0)\n",
    "temp,temp1,temp2 = SRC_test(\"feat_4a_100Hz_20/feat_right_av_20.txt\",\"feat_4a_100Hz_20/feat_foot_av_20.txt\",\"feat_4a_100Hz_Test/feat_test_right_av.txt\",\"feat_4a_100Hz_Test/feat_test_foot_av.txt\"\n",
    "                           ,\"feat_4a_100Hz_30/feat_right_aa_30.txt\",\"feat_4a_100Hz_30/feat_foot_aa_30.txt\",\"feat_4a_100Hz_30/feat_right_al_30.txt\",\"feat_4a_100Hz_30/feat_foot_al_30.txt\"\n",
    "                           ,\"feat_4a_100Hz_30/feat_right_aw_30.txt\",\"feat_4a_100Hz_30/feat_foot_aw_30.txt\")\n",
    "temp_l = np.array([temp,temp1,temp2])\n",
    "probability = np.append(probability,temp_l,axis=0)\n",
    "temp,temp1,temp2 = SRC_test(\"feat_4a_100Hz_20/feat_right_aw_20.txt\",\"feat_4a_100Hz_20/feat_foot_aw_20.txt\",\"feat_4a_100Hz_Test/feat_test_right_aw.txt\",\"feat_4a_100Hz_Test/feat_test_foot_aw.txt\"\n",
    "                           ,\"feat_4a_100Hz_30/feat_right_aa_30.txt\",\"feat_4a_100Hz_30/feat_foot_aa_30.txt\",\"feat_4a_100Hz_30/feat_right_al_30.txt\",\"feat_4a_100Hz_30/feat_foot_al_30.txt\"\n",
    "                           ,\"feat_4a_100Hz_30/feat_right_av_30.txt\",\"feat_4a_100Hz_30/feat_foot_av_30.txt\")\n",
    "temp_l = np.array([temp,temp1,temp2])\n",
    "probability = np.append(probability,temp_l,axis=0)\n",
    "\n",
    "probability_1 = probability.reshape([3, 3])\n",
    "print(probability_1)"
   ]
  },
  {
   "cell_type": "code",
   "execution_count": 46,
   "id": "5a9eafcf-539d-4141-85df-7aaa2eee9bb0",
   "metadata": {},
   "outputs": [
    {
     "name": "stdout",
     "output_type": "stream",
     "text": [
      "[[ 50.   0. 100.]\n",
      " [ 50. 100.   0.]\n",
      " [ 54.  68.  40.]]\n"
     ]
    }
   ],
   "source": [
    "#train=30,test=50で分類を行った結果\n",
    "probability = np.array([])\n",
    "temp,temp1,temp2 = SRC_test(\"feat_4a_100Hz_20/feat_right_aa_20.txt\",\"feat_4a_100Hz_20/feat_foot_aa_20.txt\",\"feat_4a_100Hz_Test/feat_test_right_aa.txt\",\"feat_4a_100Hz_Test/feat_test_foot_aa.txt\"\n",
    "                           ,\"feat_4a_100Hz_30_2/feat_right_av_30.txt\",\"feat_4a_100Hz_30_2/feat_foot_av_30.txt\",\"feat_4a_100Hz_30_2/feat_right_al_30.txt\",\"feat_4a_100Hz_30_2/feat_foot_al_30.txt\"\n",
    "                           ,\"feat_4a_100Hz_30_2/feat_right_aw_30.txt\",\"feat_4a_100Hz_30_2/feat_foot_aw_30.txt\")\n",
    "temp_l = np.array([temp,temp1,temp2])\n",
    "probability = np.append(probability,temp_l,axis=0)\n",
    "temp,temp1,temp2 = SRC_test(\"feat_4a_100Hz_20/feat_right_av_20.txt\",\"feat_4a_100Hz_20/feat_foot_av_20.txt\",\"feat_4a_100Hz_Test/feat_test_right_av.txt\",\"feat_4a_100Hz_Test/feat_test_foot_av.txt\"\n",
    "                           ,\"feat_4a_100Hz_30_2/feat_right_aa_30.txt\",\"feat_4a_100Hz_30_2/feat_foot_aa_30.txt\",\"feat_4a_100Hz_30_2/feat_right_al_30.txt\",\"feat_4a_100Hz_30_2/feat_foot_al_30.txt\"\n",
    "                           ,\"feat_4a_100Hz_30_2/feat_right_aw_30.txt\",\"feat_4a_100Hz_30_2/feat_foot_aw_30.txt\")\n",
    "temp_l = np.array([temp,temp1,temp2])\n",
    "probability = np.append(probability,temp_l,axis=0)\n",
    "temp,temp1,temp2 = SRC_test(\"feat_4a_100Hz_20/feat_right_aw_20.txt\",\"feat_4a_100Hz_20/feat_foot_aw_20.txt\",\"feat_4a_100Hz_Test/feat_test_right_aw.txt\",\"feat_4a_100Hz_Test/feat_test_foot_aw.txt\"\n",
    "                           ,\"feat_4a_100Hz_30_2/feat_right_aa_30.txt\",\"feat_4a_100Hz_30_2/feat_foot_aa_30.txt\",\"feat_4a_100Hz_30_2/feat_right_al_30.txt\",\"feat_4a_100Hz_30_2/feat_foot_al_30.txt\"\n",
    "                           ,\"feat_4a_100Hz_30_2/feat_right_av_30.txt\",\"feat_4a_100Hz_30_2/feat_foot_av_30.txt\")\n",
    "temp_l = np.array([temp,temp1,temp2])\n",
    "probability = np.append(probability,temp_l,axis=0)\n",
    "\n",
    "probability_2 = probability.reshape([3, 3])\n",
    "print(probability_2)"
   ]
  },
  {
   "cell_type": "code",
   "execution_count": 47,
   "id": "d27ffcfc-e788-4497-b657-4b9ddd4595d4",
   "metadata": {},
   "outputs": [
    {
     "name": "stdout",
     "output_type": "stream",
     "text": [
      "[[ 50.   0. 100.]\n",
      " [ 51.  12.  90.]\n",
      " [ 46.   0.  92.]]\n"
     ]
    }
   ],
   "source": [
    "#train=30,test=50で分類を行った結果\n",
    "probability = np.array([])\n",
    "temp,temp1,temp2 = SRC_test(\"feat_4a_100Hz_20/feat_right_aa_20.txt\",\"feat_4a_100Hz_20/feat_foot_aa_20.txt\",\"feat_4a_100Hz_Test/feat_test_right_aa.txt\",\"feat_4a_100Hz_Test/feat_test_foot_aa.txt\"\n",
    "                           ,\"feat_4a_100Hz_30_3/feat_right_av_30.txt\",\"feat_4a_100Hz_30_3/feat_foot_av_30.txt\",\"feat_4a_100Hz_30_3/feat_right_al_30.txt\",\"feat_4a_100Hz_30_3/feat_foot_al_30.txt\"\n",
    "                           ,\"feat_4a_100Hz_30_3/feat_right_aw_30.txt\",\"feat_4a_100Hz_30_3/feat_foot_aw_30.txt\")\n",
    "temp_l = np.array([temp,temp1,temp2])\n",
    "probability = np.append(probability,temp_l,axis=0)\n",
    "temp,temp1,temp2 = SRC_test(\"feat_4a_100Hz_20/feat_right_av_20.txt\",\"feat_4a_100Hz_20/feat_foot_av_20.txt\",\"feat_4a_100Hz_Test/feat_test_right_av.txt\",\"feat_4a_100Hz_Test/feat_test_foot_av.txt\"\n",
    "                           ,\"feat_4a_100Hz_30_3/feat_right_aa_30.txt\",\"feat_4a_100Hz_30_3/feat_foot_aa_30.txt\",\"feat_4a_100Hz_30_3/feat_right_al_30.txt\",\"feat_4a_100Hz_30_3/feat_foot_al_30.txt\"\n",
    "                           ,\"feat_4a_100Hz_30_3/feat_right_aw_30.txt\",\"feat_4a_100Hz_30_3/feat_foot_aw_30.txt\")\n",
    "temp_l = np.array([temp,temp1,temp2])\n",
    "probability = np.append(probability,temp_l,axis=0)\n",
    "temp,temp1,temp2 = SRC_test(\"feat_4a_100Hz_20/feat_right_aw_20.txt\",\"feat_4a_100Hz_20/feat_foot_aw_20.txt\",\"feat_4a_100Hz_Test/feat_test_right_aw.txt\",\"feat_4a_100Hz_Test/feat_test_foot_aw.txt\"\n",
    "                           ,\"feat_4a_100Hz_30_3/feat_right_aa_30.txt\",\"feat_4a_100Hz_30_3/feat_foot_aa_30.txt\",\"feat_4a_100Hz_30_3/feat_right_al_30.txt\",\"feat_4a_100Hz_30_3/feat_foot_al_30.txt\"\n",
    "                           ,\"feat_4a_100Hz_30_3/feat_right_av_30.txt\",\"feat_4a_100Hz_30_3/feat_foot_av_30.txt\")\n",
    "temp_l = np.array([temp,temp1,temp2])\n",
    "probability = np.append(probability,temp_l,axis=0)\n",
    "\n",
    "probability_3 = probability.reshape([3, 3])\n",
    "print(probability_3)"
   ]
  },
  {
   "cell_type": "code",
   "execution_count": 48,
   "id": "3e10d6f7-4088-4c10-be69-d0764472393f",
   "metadata": {},
   "outputs": [
    {
     "name": "stdout",
     "output_type": "stream",
     "text": [
      "[[ 50.           0.         100.        ]\n",
      " [ 50.33333333  37.33333333  63.33333333]\n",
      " [ 52.          28.          76.        ]]\n"
     ]
    }
   ],
   "source": [
    "p_average_100Hz = (probability_1+probability_2+probability_3)/3\n",
    "print(p_average_100Hz)"
   ]
  },
  {
   "cell_type": "code",
   "execution_count": 49,
   "id": "7c0c08c5-f6a7-4540-b9da-5df98fbd96eb",
   "metadata": {},
   "outputs": [
    {
     "name": "stdout",
     "output_type": "stream",
     "text": [
      "50.44444444444445 50.77777777777778\n"
     ]
    }
   ],
   "source": [
    "a_20 = 0; a_30 = 0;\n",
    "for i in range(3):\n",
    "    a_20 = a_20 + p_average_1000Hz[i,0] \n",
    "    a_30 = a_30 + p_average_100Hz[i,0] \n",
    "    \n",
    "a_20 = a_20/3\n",
    "a_30 = a_30/3\n",
    "print(a_20,a_30)"
   ]
  },
  {
   "cell_type": "code",
   "execution_count": 50,
   "id": "734d34d0-6b6d-44ce-82fc-b934624de42c",
   "metadata": {},
   "outputs": [
    {
     "name": "stdout",
     "output_type": "stream",
     "text": [
      "[[50.         50.33333333 52.        ]\n",
      " [53.         49.         49.33333333]]\n"
     ]
    },
    {
     "data": {
      "image/png": "[encoded data removed]",
      "text/plain": [
       "<Figure size 432x288 with 1 Axes>"
      ]
     },
     "metadata": {
      "needs_background": "light"
     },
     "output_type": "display_data"
    }
   ],
   "source": [
    "import matplotlib.pyplot as plt\n",
    "import japanize_matplotlib\n",
    "y = np.array([])\n",
    "x = np.arange(1, 4, step=1)\n",
    "y = np.append(p_average_1000Hz[:,0],y)\n",
    "y = np.append(p_average_100Hz[:,0],y)\n",
    "y = y.reshape([2,3])\n",
    "print(y)\n",
    "plt.plot(x,y[1],\"red\")\n",
    "plt.plot(x,y[0])\n",
    "plt.title(\"SRC_Group分類確率\", {\"fontsize\":20})\n",
    "plt.xlabel(\"被験者No.\", {\"fontsize\":15})\n",
    "plt.ylabel(\"分類確率(%)\", {\"fontsize\":15})\n",
    "plt.xticks(np.arange(1, 4, step=1))\n",
    "plt.yticks(np.arange(0, 110, step=10))\n",
    "plt.savefig(\"4a_SRC_group_probability_K3.pdf\")\n",
    "plt.show()"
   ]
  },
  {
   "cell_type": "code",
   "execution_count": null,
   "id": "ff5ef433-03b1-44de-a8db-c90b5cc70248",
   "metadata": {},
   "outputs": [],
   "source": []
  }
 ],
 "metadata": {
  "kernelspec": {
   "display_name": "Python 3 (ipykernel)",
   "language": "python",
   "name": "python3"
  },
  "language_info": {
   "codemirror_mode": {
    "name": "ipython",
    "version": 3
   },
   "file_extension": ".py",
   "mimetype": "text/x-python",
   "name": "python",
   "nbconvert_exporter": "python",
   "pygments_lexer": "ipython3",
   "version": "3.9.12"
  }
 },
 "nbformat": 4,
 "nbformat_minor": 5
}
