{
 "cells": [
  {
   "cell_type": "code",
   "execution_count": 59,
   "id": "d854e19b-8691-4506-8e55-c41ee021dcb6",
   "metadata": {
    "tags": []
   },
   "outputs": [],
   "source": [
    "import numpy as np\n",
    "import matplotlib.pyplot as plt\n",
    "import scipy.io as io\n",
    "import pandas as pd\n",
    "from pandas import DataFrame as dframe\n",
    "import cvxpy as cv"
   ]
  },
  {
   "cell_type": "code",
   "execution_count": 60,
   "id": "59c23c9d-250b-4734-bd3e-cc2244fb6130",
   "metadata": {},
   "outputs": [],
   "source": [
    "#対象被験者の特徴ベクトルをMATLABから入手\n",
    "feat_C1 = np.loadtxt(\"feat_left_A02T_K0_125Hz.txt\",delimiter=\",\")\n",
    "feat_C2 = np.loadtxt(\"feat_right_A02T_K0_125Hz.txt\",delimiter=\",\")\n",
    "feat_Test_C1 = np.loadtxt(\"feat_test_left_A02T_125Hz.txt\",delimiter=\",\")\n",
    "feat_Test_C2 = np.loadtxt(\"feat_test_right_A02T_125Hz.txt\",delimiter=\",\")"
   ]
  },
  {
   "cell_type": "code",
   "execution_count": 61,
   "id": "042934c4-2b23-4fcb-9e54-0ed4eacba1eb",
   "metadata": {},
   "outputs": [],
   "source": [
    "#非対象被験者の特徴ベクトルをMATLABから入手\n",
    "feat_C1_K1 = np.loadtxt(\"feat_left_A01T_125Hz.txt\",delimiter=\",\")\n",
    "feat_C2_K1 = np.loadtxt(\"feat_right_A01T_125Hz.txt\",delimiter=\",\")\n",
    "feat_C1_K2 = np.loadtxt(\"feat_left_A03T_125Hz.txt\",delimiter=\",\")\n",
    "feat_C2_K2 = np.loadtxt(\"feat_right_A03T_125Hz.txt\",delimiter=\",\")\n",
    "feat_C1_K3 = np.loadtxt(\"feat_left_A05T_125Hz.txt\",delimiter=\",\")\n",
    "feat_C2_K3 = np.loadtxt(\"feat_right_A05T_125Hz.txt\",delimiter=\",\")\n",
    "feat_C1_K4 = np.loadtxt(\"feat_left_A06T_125Hz.txt\",delimiter=\",\")\n",
    "feat_C2_K4 = np.loadtxt(\"feat_right_A06T_125Hz.txt\",delimiter=\",\")\n",
    "#feat_C1_K5 = np.loadtxt(\"feat_left_A07T.txt\",delimiter=\",\")\n",
    "#feat_C2_K5 = np.loadtxt(\"feat_right_A07T.txt\",delimiter=\",\")\n",
    "#feat_C1_K6 = np.loadtxt(\"feat_left_A08T.txt\",delimiter=\",\")\n",
    "#feat_C2_K6 = np.loadtxt(\"feat_right_A08T.txt\",delimiter=\",\")\n",
    "#feat_C1_K7 = np.loadtxt(\"feat_left_A09T.txt\",delimiter=\",\")\n",
    "#feat_C2_K7 = np.loadtxt(\"feat_right_A09T.txt\",delimiter=\",\")"
   ]
  },
  {
   "cell_type": "code",
   "execution_count": 62,
   "id": "e49b1c4a-752a-4ef4-b498-338d8be67a2a",
   "metadata": {},
   "outputs": [],
   "source": [
    "def Dic(feat_l_tr,feat_r_tr): #入力の配列は2次元配列である必要がある\n",
    "    feat_tr = np.concatenate([feat_l_tr, feat_r_tr],0)\n",
    "    return feat_tr"
   ]
  },
  {
   "cell_type": "code",
   "execution_count": 63,
   "id": "cc6a7df5-4e7e-497a-a74b-efcea160985f",
   "metadata": {},
   "outputs": [
    {
     "name": "stdout",
     "output_type": "stream",
     "text": [
      "(4, 40) (4, 280) (40, 4) (100, 4)\n"
     ]
    }
   ],
   "source": [
    "#特徴ベクトルを2次元に変換\n",
    "#特徴ベクトル g は２M×Tになっている必要がある\n",
    "#Tは被験者の試行回数である\n",
    "feat_tr = Dic(feat_C1,feat_C2)\n",
    "#非対象被験者の特徴ベクトルも同様の処理を行う\n",
    "feat_tr_K1 = Dic(feat_C1_K1,feat_C2_K1)\n",
    "feat_tr_K2 = Dic(feat_C1_K2,feat_C2_K2)\n",
    "feat_tr_K3 = Dic(feat_C1_K3,feat_C2_K3)\n",
    "feat_tr_K4 = Dic(feat_C1_K4,feat_C2_K4)\n",
    "#feat_tr_K5 = Dic(feat_C1_K5,feat_C2_K5)\n",
    "#feat_tr_K6 = Dic(feat_C1_K6,feat_C2_K6)\n",
    "#feat_tr_K7 = Dic(feat_C1_K7,feat_C2_K7)\n",
    "#それぞれの特徴ベクトルをつなげる\n",
    "feat_tr_dic_1 = Dic(feat_tr,feat_tr_K1)\n",
    "feat_tr_dic_2 = Dic(feat_tr_dic_1,feat_tr_K2)\n",
    "feat_tr_dic_3 = Dic(feat_tr_dic_2,feat_tr_K3)\n",
    "feat_tr_dic = Dic(feat_tr_dic_3,feat_tr_K4).T\n",
    "#feat_tr_dic_5 = Dic(feat_tr_dic_4,feat_tr_K5)\n",
    "#feat_tr_dic_6 = Dic(feat_tr_dic_5,feat_tr_K6)\n",
    "#feat_tr_dic = Dic(feat_tr_dic_6,feat_tr_K7).T\n",
    "#feat_tr_dicはすべての特徴ベクトルをつなげたもの\n",
    "#まず、分類に用いるテストデータの特徴ベクトルを2次元に変換\n",
    "feat_l_te = feat_Test_C1;\n",
    "feat_r_te = feat_Test_C2;\n",
    "feat_l_te = feat_l_te.T\n",
    "feat_r_te = feat_r_te.T\n",
    "print(feat_l_te.shape,feat_tr_dic.shape,feat_tr.shape,feat_tr_dic_1.shape)\n",
    "matrix_index = np.array([feat_C1.shape[0],feat_C2.shape[0],feat_C1_K1.shape[0],feat_C2_K1.shape[0],feat_C1_K2.shape[0],feat_C2_K2.shape[0],\n",
    "                        feat_C1_K3.shape[0],feat_C2_K3.shape[0],feat_C1_K4.shape[0],feat_C2_K4.shape[0]])\n",
    "                        #,feat_C1_K5.shape[0],feat_C2_K5.shape[0],feat_C1_K6.shape[0],feat_C2_K6.shape[0],feat_C1_K7.shape[0],feat_C2_K7.shape[0]])"
   ]
  },
  {
   "cell_type": "code",
   "execution_count": 64,
   "id": "dcd5e0a6-2891-4fe4-b7c6-2d0096a4d61d",
   "metadata": {},
   "outputs": [],
   "source": [
    "def SRC(feat_tr,feat_tr_dic,feat_l_te,matrix_index):\n",
    "    answer = np.zeros(feat_l_te.shape[1])\n",
    "    SRC_Cla = np.zeros((feat_tr_dic.shape[1], feat_l_te.shape[1]))\n",
    "    SRC_l_Cla = np.zeros((feat_tr_dic.shape[1], feat_l_te.shape[1]))\n",
    "    SRC_r_Cla = np.zeros((feat_tr_dic.shape[1], feat_l_te.shape[1]))\n",
    "    for i in range(feat_l_te.shape[1]):\n",
    "        x = cv.Variable((feat_tr_dic.shape[1],1)) #目的関数の次元\n",
    "        objective = cv.Minimize(cv.norm(x,1))\n",
    "        constraints = [feat_l_te[:,i,np.newaxis] == feat_tr_dic@x]\n",
    "        prob = cv.Problem(objective, constraints)\n",
    "        result = prob.solve()\n",
    "        #classVariableから値を取るためには.valueを付ける\n",
    "        SRC_Cla[:,i] = np.squeeze(x.value)\n",
    "        #各クラスに関連する表現ベクトルの値を抜き出す\n",
    "        #lは仕切りの値\n",
    "        l = 0\n",
    "        j = 0\n",
    "        while j < matrix_index.shape[0]-1:\n",
    "            SRC_l_Cla[l:l+matrix_index[j],i] = SRC_Cla[l:l+matrix_index[j],i]     \n",
    "            l = l + matrix_index[j]\n",
    "            j = j + 1\n",
    "            SRC_r_Cla[l:l+matrix_index[j],i] = SRC_Cla[l:l+matrix_index[j],i]\n",
    "            l = l + matrix_index[j]\n",
    "            j = j + 1\n",
    "    #パラメータを使って擬似的に各クラスのテスト信号の特徴ベクトルを作成\n",
    "    dout_feat_l_te = np.zeros((feat_l_te.shape[0], feat_l_te.shape[1]))\n",
    "    dout_feat_r_te = np.zeros((feat_l_te.shape[0], feat_l_te.shape[1])) \n",
    "    for i in range(feat_l_te.shape[1]):\n",
    "        dout_feat_l_te[:,i] = feat_tr_dic@SRC_l_Cla[:,i]\n",
    "    for i in range(feat_r_te.shape[1]):\n",
    "        dout_feat_r_te[:,i] = feat_tr_dic@SRC_r_Cla[:,i]\n",
    "    #作成した擬似特徴ベクトルとの残差を求める\n",
    "    R_l =  np.zeros((feat_l_te.shape[0], feat_l_te.shape[1])) #残差を格納するための配列\n",
    "    R_r =  np.zeros((feat_l_te.shape[0], feat_l_te.shape[1]))  \n",
    "    for i in range(feat_l_te.shape[1]):\n",
    "        R_l[:,i] = feat_l_te[:,i]-dout_feat_l_te[:,i]\n",
    "        R_r[:,i] = feat_l_te[:,i]-dout_feat_r_te[:,i]\n",
    "        if np.linalg.norm(R_l[:,i], ord=2) < np.linalg.norm(R_r[:,i], ord=2):\n",
    "            answer[i] = 1\n",
    "        elif np.linalg.norm(R_l[:,i], ord=2) > np.linalg.norm(R_r[:,i], ord=2):\n",
    "            answer[i] = 2\n",
    "    return answer\n"
   ]
  },
  {
   "cell_type": "code",
   "execution_count": 65,
   "id": "7f2fddf1-2221-44a0-8bf9-50a6c9048b96",
   "metadata": {
    "tags": []
   },
   "outputs": [
    {
     "name": "stdout",
     "output_type": "stream",
     "text": [
      "51.24999999999999\n"
     ]
    }
   ],
   "source": [
    "answer1 = SRC(feat_tr,feat_tr_dic,feat_l_te,matrix_index)\n",
    "answer2 = SRC(feat_tr,feat_tr_dic,feat_r_te,matrix_index)\n",
    "x1 = 0\n",
    "x2 = 0\n",
    "for i in range(answer1.shape[0]):\n",
    "    if answer1[i] == 1:\n",
    "        x1 = x1 + 1\n",
    "    if answer2[i] == 2:\n",
    "        x2 = x2 + 1\n",
    "    temp = ((x1+x2)/(answer1.shape[0]+answer2.shape[0]))*100\n",
    "print(temp)"
   ]
  },
  {
   "cell_type": "code",
   "execution_count": 66,
   "id": "12269cc2-ba2b-4b3c-9abd-4583e2bb6abd",
   "metadata": {},
   "outputs": [
    {
     "name": "stdout",
     "output_type": "stream",
     "text": [
      "32.5 70.0\n"
     ]
    }
   ],
   "source": [
    "answer1 = SRC(feat_tr,feat_tr_dic,feat_l_te,matrix_index)\n",
    "answer2 = SRC(feat_tr,feat_tr_dic,feat_r_te,matrix_index)\n",
    "x1 = 0\n",
    "x2 = 0\n",
    "for i in range(answer1.shape[0]):\n",
    "    if answer1[i] == 1:\n",
    "        x1 = x1 + 1\n",
    "    if answer2[i] == 2:\n",
    "        x2 = x2 + 1\n",
    "    temp1 = ((x1)/(answer1.shape[0]))*100\n",
    "    temp2 = ((x2)/(answer2.shape[0]))*100\n",
    "print(temp1,temp2)"
   ]
  },
  {
   "cell_type": "code",
   "execution_count": null,
   "id": "11b1958d-e26e-4bf7-aacb-6808de68376d",
   "metadata": {},
   "outputs": [],
   "source": [
    "51.24999999999999\n",
    "92.5 10.0\n",
    "\n",
    "55.00000000000001\n",
    "37.5 72.5\n",
    "\n",
    "37.5\n",
    "60.0 15.0\n",
    "\n",
    "48.75\n",
    "60.0 37.5\n",
    "\n",
    "51.24999999999999\n",
    "95.0 7.5"
   ]
  }
 ],
 "metadata": {
  "kernelspec": {
   "display_name": "Python 3 (ipykernel)",
   "language": "python",
   "name": "python3"
  },
  "language_info": {
   "codemirror_mode": {
    "name": "ipython",
    "version": 3
   },
   "file_extension": ".py",
   "mimetype": "text/x-python",
   "name": "python",
   "nbconvert_exporter": "python",
   "pygments_lexer": "ipython3",
   "version": "3.9.12"
  }
 },
 "nbformat": 4,
 "nbformat_minor": 5
}
