{
 "cells": [
  {
   "cell_type": "code",
   "execution_count": 30,
   "id": "d854e19b-8691-4506-8e55-c41ee021dcb6",
   "metadata": {
    "tags": []
   },
   "outputs": [],
   "source": [
    "import numpy as np\n",
    "import matplotlib.pyplot as plt\n",
    "import scipy.io as io\n",
    "import pandas as pd\n",
    "from pandas import DataFrame as dframe"
   ]
  },
  {
   "cell_type": "code",
   "execution_count": 31,
   "id": "59c23c9d-250b-4734-bd3e-cc2244fb6130",
   "metadata": {},
   "outputs": [],
   "source": [
    "#対象被験者の特徴ベクトルをMATLABから入手\n",
    "feat_l_tr = np.loadtxt(\"feat_left_A01T.txt\",delimiter=\",\")\n",
    "feat_r_tr = np.loadtxt(\"feat_right_A01T.txt\",delimiter=\",\")\n",
    "feat_Test_C1 = np.loadtxt(\"feat_test_left_A01T.txt\",delimiter=\",\")\n",
    "feat_Test_C2 = np.loadtxt(\"feat_test_right_A01T.txt\",delimiter=\",\")"
   ]
  },
  {
   "cell_type": "code",
   "execution_count": 32,
   "id": "042934c4-2b23-4fcb-9e54-0ed4eacba1eb",
   "metadata": {},
   "outputs": [],
   "source": [
    "#非対象被験者の特徴ベクトルをMATLABから入手\n",
    "feat_C1_K1 = np.loadtxt(\"feat_C1_K1.txt\",delimiter=\",\")\n",
    "feat_C2_K1 = np.loadtxt(\"feat_C2_K1.txt\",delimiter=\",\")"
   ]
  },
  {
   "cell_type": "code",
   "execution_count": 33,
   "id": "e49b1c4a-752a-4ef4-b498-338d8be67a2a",
   "metadata": {},
   "outputs": [],
   "source": [
    "def Dic(feat_l_tr,feat_r_tr): #入力の配列は2次元配列である必要がある\n",
    "    feat_tr = np.concatenate([feat_l_tr, feat_r_tr],0)\n",
    "    return feat_tr"
   ]
  },
  {
   "cell_type": "code",
   "execution_count": 34,
   "id": "cc6a7df5-4e7e-497a-a74b-efcea160985f",
   "metadata": {},
   "outputs": [
    {
     "name": "stdout",
     "output_type": "stream",
     "text": [
      "(4, 30) (4, 140) (60, 4) (80, 4)\n"
     ]
    }
   ],
   "source": [
    "#特徴ベクトルを2次元に変換\n",
    "#特徴ベクトル g は２M×Tになっている必要がある\n",
    "#Tは被験者の試行回数である\n",
    "feat_tr = Dic(feat_l_tr,feat_r_tr)\n",
    "#非対象被験者の特徴ベクトルも同様の処理を行う\n",
    "feat_tr_K1 = Dic(feat_C1_K1,feat_C2_K1)\n",
    "#それぞれの特徴ベクトルをつなげる\n",
    "feat_tr_dic = Dic(feat_tr,feat_tr_K1).T\n",
    "#feat_tr_dicはすべての特徴ベクトルをつなげたもの\n",
    "#まず、分類に用いるテストデータの特徴ベクトルを2次元に変換\n",
    "feat_l_te = feat_Test_C1;\n",
    "feat_r_te = feat_Test_C2;\n",
    "feat_l_te = feat_l_te.T\n",
    "feat_r_te = feat_r_te.T\n",
    "print(feat_l_te.shape,feat_tr_dic.shape,feat_tr.shape,feat_tr_K1.shape)\n",
    "matrix_index = np.array([feat_l_tr.shape[0],feat_r_tr.shape[0],feat_C1_K1.shape[0],feat_C2_K1.shape[0]])"
   ]
  },
  {
   "cell_type": "code",
   "execution_count": 35,
   "id": "dcd5e0a6-2891-4fe4-b7c6-2d0096a4d61d",
   "metadata": {},
   "outputs": [],
   "source": [
    "def SRC(feat_l_tr,fea_r_tr,feat_tr,feat_tr_K1,feat_tr_dic,feat_C1_K1,feat_C2_K1,feat_l_te,matrix_index): #rightの時は(feat_r_tr,feat_tr,feat_r_te)\n",
    "    import cvxpy as cv\n",
    "    SRC_Cla = np.zeros((feat_tr_dic.shape[1], feat_l_te.shape[1]))\n",
    "    SRC_l_Cla = np.zeros((feat_tr_dic.shape[1], feat_l_te.shape[1]))\n",
    "    SRC_r_Cla = np.zeros((feat_tr_dic.shape[1], feat_l_te.shape[1]))\n",
    "    answer = np.zeros(feat_l_te.shape[1])\n",
    "    for i in range(feat_l_te.shape[1]):\n",
    "        x = cv.Variable((feat_tr_dic.shape[1],1)) #目的関数の次元\n",
    "        objective = cv.Minimize(cv.norm(x,1))\n",
    "        constraints = [feat_l_te[:,i,np.newaxis] == feat_tr_dic@x]\n",
    "        prob = cv.Problem(objective, constraints)\n",
    "        result = prob.solve()\n",
    "        #classVariableから値を取るためには.valueを付ける\n",
    "        SRC_Cla[:,i] = np.squeeze(x.value)\n",
    "        #パラメータxを各クラスのパラメータに分ける\n",
    "        l = 0\n",
    "        j = 0\n",
    "        while j < matrix_index.shape[0]-1:\n",
    "            SRC_l_Cla[l:matrix_index[j],i] = SRC_Cla[l:matrix_index[j],i]     \n",
    "            l = l + matrix_index[j]\n",
    "            j = j + 1\n",
    "            SRC_r_Cla[l:l+matrix_index[j],i] = SRC_Cla[l:l+matrix_index[j],i]\n",
    "            l = l + matrix_index[j]\n",
    "            j = j + 1\n",
    "        #分類では\n",
    "        #配列xの内、右のクラスのみに関する配列を使用して作成したy(右)、左のクラスのみに関する配列を使用して作成したy(左)の\n",
    "        #残差が小さい方のクラスを割り当てる\n",
    "    #パラメータを使って擬似的に各クラスのテスト信号の特徴ベクトルを作成\n",
    "    #sparce性(第一小数以上の値を持たないものは０にする)を重要視する場合入れる\n",
    "    #SRC_l_Cla = np.asarray(SRC_l_Cla*10, dtype = int)\n",
    "    #SRC_l_Cla = SRC_l_Cla*0.1\n",
    "    #SRC_r_Cla = np.asarray(SRC_r_Cla*10, dtype = int)\n",
    "    #SRC_r_Cla = SRC_r_Cla*0.1\n",
    "    dout_feat_l_te = np.zeros((feat_l_te.shape[0], feat_l_te.shape[1]))\n",
    "    dout_feat_r_te = np.zeros((feat_l_te.shape[0], feat_l_te.shape[1])) #(feat_r_te.shape[0], feat_r_te.shape[1])でもいい\n",
    "    for i in range(feat_l_te.shape[1]):\n",
    "        dout_feat_l_te[:,i] = feat_tr_dic@SRC_l_Cla[:,i]\n",
    "    for i in range(feat_r_te.shape[1]):\n",
    "        dout_feat_r_te[:,i] = feat_tr_dic@SRC_r_Cla[:,i]\n",
    "    #作成した擬似特徴ベクトルとの残差を求める\n",
    "    R_l =  np.zeros((feat_l_te.shape[0], feat_l_te.shape[1])) #残差を格納するための配列\n",
    "    R_r =  np.zeros((feat_l_te.shape[0], feat_l_te.shape[1])) #(feat_r_te.shape[0], feat_r_te.shape[1])でもいい\n",
    "    for i in range(feat_l_te.shape[1]):\n",
    "        R_l[:,i] = feat_l_te[:,i]-dout_feat_l_te[:,i]\n",
    "        R_r[:,i] = feat_l_te[:,i]-dout_feat_r_te[:,i]\n",
    "        if np.linalg.norm(R_l[:,i], ord=2) < np.linalg.norm(R_r[:,i], ord=2):\n",
    "            answer[i] = 1\n",
    "        elif np.linalg.norm(R_l[:,i], ord=2) > np.linalg.norm(R_r[:,i], ord=2):\n",
    "            answer[i] = 2\n",
    "    return answer"
   ]
  },
  {
   "cell_type": "code",
   "execution_count": 36,
   "id": "7f2fddf1-2221-44a0-8bf9-50a6c9048b96",
   "metadata": {},
   "outputs": [
    {
     "name": "stdout",
     "output_type": "stream",
     "text": [
      "33.33333333333333\n"
     ]
    }
   ],
   "source": [
    "answer = SRC(feat_l_tr,feat_r_tr,feat_tr,feat_tr_K1,feat_tr_dic,feat_C1_K1,feat_C2_K1,feat_l_te,matrix_index)\n",
    "x = 0\n",
    "for i in range(answer.shape[0]):\n",
    "    if answer[i] == 1:\n",
    "        x = x + 1\n",
    "print((x/answer.shape[0])*100)"
   ]
  },
  {
   "cell_type": "code",
   "execution_count": 37,
   "id": "78886ee6-704c-4897-87e2-3d3bc4f380a1",
   "metadata": {},
   "outputs": [
    {
     "name": "stdout",
     "output_type": "stream",
     "text": [
      "53.333333333333336\n"
     ]
    }
   ],
   "source": [
    "answer = SRC(feat_l_tr,feat_r_tr,feat_tr,feat_tr_K1,feat_tr_dic,feat_C1_K1,feat_C2_K1,feat_r_te,matrix_index)\n",
    "x = 0\n",
    "for i in range(answer.shape[0]):\n",
    "    if answer[i] == 2:\n",
    "        x = x + 1\n",
    "print((x/answer.shape[0])*100)"
   ]
  },
  {
   "cell_type": "code",
   "execution_count": null,
   "id": "11b1958d-e26e-4bf7-aacb-6808de68376d",
   "metadata": {},
   "outputs": [],
   "source": []
  }
 ],
 "metadata": {
  "kernelspec": {
   "display_name": "Python 3 (ipykernel)",
   "language": "python",
   "name": "python3"
  },
  "language_info": {
   "codemirror_mode": {
    "name": "ipython",
    "version": 3
   },
   "file_extension": ".py",
   "mimetype": "text/x-python",
   "name": "python",
   "nbconvert_exporter": "python",
   "pygments_lexer": "ipython3",
   "version": "3.9.12"
  }
 },
 "nbformat": 4,
 "nbformat_minor": 5
}
