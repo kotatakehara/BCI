{
 "cells": [
  {
   "cell_type": "code",
   "execution_count": 39,
   "id": "d854e19b-8691-4506-8e55-c41ee021dcb6",
   "metadata": {
    "tags": []
   },
   "outputs": [],
   "source": [
    "import numpy as np\n",
    "import matplotlib.pyplot as plt\n",
    "import scipy.io as io\n",
    "import pandas as pd\n",
    "from pandas import DataFrame as dframe"
   ]
  },
  {
   "cell_type": "code",
   "execution_count": 40,
   "id": "5202256b-4315-497d-9e14-ce1cb174fd93",
   "metadata": {},
   "outputs": [
    {
     "name": "stdout",
     "output_type": "stream",
     "text": [
      "Take 54 data of each left and right data as training data\n",
      "\n",
      "left_tr has dimension of:  (60, 22, 313)\n",
      "right_tr has dimension of:  (60, 22, 313)\n",
      "Take 18 data of each left and right data as train data\n",
      "\n",
      "left_te has dimension of:  (12, 22, 313)\n",
      "right_te has dimension of:  (12, 22, 313)\n"
     ]
    }
   ],
   "source": [
    "np.seterr(divide='ignore', invalid='ignore')\n",
    "#浮動小数点の計算での決め事\n",
    "#ignoreにすることでエラーを無視する\n",
    "#divideは0で除算した時どうするか、invalidは浮動小数点演算が無効な場合の処理\n",
    "data = np.load('A01T.npz')\n",
    "#numpy独自のバイナリファイルで保存する\n",
    "data.files\n",
    "prop = np.c_[data['etyp'], data['epos'], data['edur']]\n",
    "pd.options.display.max_rows = None\n",
    "pd.set_option('display.max_rows', None)\n",
    "#上のコードとしていることはほどんど同じ\n",
    "dframe(prop, columns=['etype', 'epos','edur']);\n",
    "#DataFrameに結合配列を格納\n",
    "#propというデータの3つの列を結合させてDataFrameに格\n",
    "sample_data = dframe(data['s'])\n",
    "sample_data = sample_data.iloc[:, 0:22]\n",
    "#行すべてと22列を切りだしている\n",
    "#EOGのデータを抜いて、脳波だけを取り出している\n",
    "sample_data.head();\n",
    "idx_left = np.argwhere(prop[:, 0]==769)\n",
    "idx_right = np.argwhere(prop[:, 0]==770)\n",
    "#イベントタイプが左、右のデータを取得する\n",
    "#argwhereは配列から条件にあうデータを取得する\n",
    "idx_left = idx_left.flatten()\n",
    "idx_right = idx_right.flatten()\n",
    "#多次元配列を1次元に変換\n",
    "left_pos = prop[idx_left, 1]\n",
    "right_pos = prop[idx_right, 1]\n",
    "#対応するイベントタイプのポジションを取得\n",
    "left_dur = prop[idx_left, 2]\n",
    "right_dur = prop[idx_right, 2]\n",
    "#各イベントの継続時間を取得\n",
    "dur = 313\n",
    "E_left = np.zeros([left_pos.shape[0], dur, sample_data.shape[1]])\n",
    "E_right = np.zeros([right_pos.shape[0], dur, sample_data.shape[1]])\n",
    "#各イベントのサンプルを取得するための配列形成\n",
    "for i in range(E_left.shape[0]):\n",
    "    E_left[i]=sample_data.iloc[left_pos[i]:left_pos[i]+dur, :]\n",
    "for i in range(E_right.shape[0]):\n",
    "    E_right[i]=sample_data.iloc[right_pos[i]:right_pos[i]+dur, :]\n",
    "#対応しているデータを切りだす\n",
    "#左手や右手の開始時刻から継続時間までのデータを取得する\n",
    "#1回の実験で22チャンネルのデータが入っている\n",
    "Xcol = []\n",
    "for i in range(1, 23):\n",
    "    if i < 11:\n",
    "        Xcol.append('EEG0'+str(i))\n",
    "    else:\n",
    "        Xcol.append('EEG'+str(i))\n",
    "#行列の名前を作成\n",
    "E_left = np.transpose(E_left, (0, 2, 1))\n",
    "E_right = np.transpose(E_right, (0, 2, 1))\n",
    "#行と列を変換\n",
    "ntrain = 60\n",
    "E_left_tr = E_left[:ntrain, :, :]\n",
    "E_right_tr = E_right[:ntrain, :, :]\n",
    "print('Take 54 data of each left and right data as training data\\n')\n",
    "print('left_tr has dimension of: ', E_left_tr.shape)\n",
    "print('right_tr has dimension of: ', E_right_tr.shape)\n",
    "#左右各54個ずつのデータを訓練に使用\n",
    "ntest = 12\n",
    "E_left_te = E_left[ntrain:ntrain+ntest, :, :]\n",
    "E_right_te = E_right[ntrain:ntrain+ntest, :, :]\n",
    "print('Take 18 data of each left and right data as train data\\n')\n",
    "print('left_te has dimension of: ', E_left_te.shape)\n",
    "print('right_te has dimension of: ', E_right_te.shape)\n",
    "#左右各18個ずつのデータをテストに使用\n",
    "nel = 22\n",
    "#要素数の定義"
   ]
  },
  {
   "cell_type": "code",
   "execution_count": 41,
   "id": "ee19842e-cbd8-4e67-9197-7e5680200ce7",
   "metadata": {},
   "outputs": [
    {
     "name": "stdout",
     "output_type": "stream",
     "text": [
      "(22, 18780)\n"
     ]
    }
   ],
   "source": [
    "#各試行のデータをひとまとめに\n",
    "for i in range(ntrain):\n",
    "    if i == 0:\n",
    "        E_left_one = np.squeeze(E_left_tr[i,:,:])\n",
    "    else:\n",
    "        E_left_one = np.concatenate([E_left_one,np.squeeze(E_left_tr[i,:,:])],1)\n",
    "for i in range(ntrain):\n",
    "    if i == 0:\n",
    "        E_right_one = np.squeeze(E_right_tr[i,:,:])\n",
    "    else:\n",
    "        E_right_one = np.concatenate([E_right_one,np.squeeze(E_right_tr[i,:,:])],1)\n",
    "print(E_left_one.shape)"
   ]
  },
  {
   "cell_type": "code",
   "execution_count": 42,
   "id": "649f3eb0-bb27-460a-98ce-fe9cb6fc1df6",
   "metadata": {},
   "outputs": [
    {
     "name": "stdout",
     "output_type": "stream",
     "text": [
      "Compute covariance of E_left_tr and E_right_tr...\n",
      "\n"
     ]
    }
   ],
   "source": [
    "#変更可能(変更済み)\n",
    "#各試行の空間共分散を計算\n",
    "print('Compute covariance of E_left_tr and E_right_tr...\\n')\n",
    "Cov_left_tr = np.zeros((nel, nel))\n",
    "Cov_right_tr = np.zeros((nel, nel))\n",
    "Cov_left_sum = np.zeros((nel))\n",
    "Cov_right_sum = np.zeros((nel))\n",
    "Cov_left_average = np.zeros((nel))\n",
    "Cov_right_average = np.zeros((nel))\n",
    "\n",
    "#その試行での各電極の平均値を求める\n",
    "for i in range(nel):\n",
    "    Cov_left_sum[i] = np.sum(E_left_one[i])               \n",
    "    Cov_left_average[i] = Cov_left_sum[i]/(ntrain*dur)\n",
    "#各平均値を引く\n",
    "    E_left_one[i] = E_left_one[i] - Cov_left_average[i]\n",
    "\n",
    "Cov_left_tr = ((E_left_one@E_left_one.T)/(ntrain*dur))\n",
    "\n",
    "#その試行での各電極の平均値を求める\n",
    "for i in range(nel):\n",
    "    Cov_right_sum[i] = np.sum(E_right_one[i])               \n",
    "    Cov_right_average[i] = Cov_right_sum[i]/(ntrain*dur)\n",
    "#各平均値を引く\n",
    "    E_right_one[i] = E_right_one[i] - Cov_right_average[i]\n",
    "\n",
    "Cov_right_tr = ((E_right_one@E_right_one.T)/(ntrain*dur))\n",
    "\n",
    "#.Tは転置を表す、@は行列の積算の演算子、np.traceは対角和"
   ]
  },
  {
   "cell_type": "code",
   "execution_count": 43,
   "id": "f56ccc09-4dad-4152-b50d-13b4b5fad5d3",
   "metadata": {},
   "outputs": [
    {
     "name": "stdout",
     "output_type": "stream",
     "text": [
      "Calculating composite covariance...\n",
      "\n",
      "Size of avgCov_c_tr =  (22, 22)\n"
     ]
    }
   ],
   "source": [
    "#空間共分散の合成\n",
    "print('Calculating composite covariance...\\n')\n",
    "avgCov_c_tr = Cov_left_tr + Cov_right_tr\n",
    "print('Size of avgCov_c_tr = ', avgCov_c_tr.shape)"
   ]
  },
  {
   "cell_type": "code",
   "execution_count": 44,
   "id": "10ac2212-4cdd-413a-94bd-261c91e80e08",
   "metadata": {},
   "outputs": [
    {
     "name": "stdout",
     "output_type": "stream",
     "text": [
      "Computing white transformation matrix....\n",
      "\n",
      "White transfomartion has dimension of:  (22, 22)\n"
     ]
    }
   ],
   "source": [
    "λ, V = np.linalg.eig(avgCov_c_tr)\n",
    "#linalg.eigは初めに固有値を含んだ配列を返し、次に固有値ベクトルを返す\n",
    "#U=Vである\n",
    "#Vは直行行列でないのでシュミレット直行化法の使用を検討\n",
    "#もしくは長さ1に規格化\n",
    "#変更可能\n",
    "λ_dsc = np.sort(λ)[::-1]\n",
    "idx_dsc = np.argsort(λ)[::-1]\n",
    "V_dsc = V[:, idx_dsc]\n",
    "#[::-1]で逆順になるので降順に並べ替えられる\n",
    "#argsortは降順になるようなインデントの配列を返す\n",
    "#λの固有値に対応するように固有値ベクトルVを並び替える\n",
    "\n",
    "λ_dsc = np.diag(λ_dsc)\n",
    "#固有値を対角線に配置することで対角化を行った状態にする\n",
    "\n",
    "#白色化を行う(平均を0、分散を1にする)ことで単位行列を求める\n",
    "#分散共分散行列に求めた固有値ベクトルと対角化した行列をかける\n",
    "print('Computing white transformation matrix....\\n')\n",
    "λ_dsc_sqr = np.sqrt(np.linalg.inv(λ_dsc))\n",
    "#linalg.invは逆行列を返す\n",
    "P = (λ_dsc_sqr)@(V_dsc.T.T)\n",
    "#逆行列のルートに固有ベクトルの行列を乗算\n",
    "print('White transfomartion has dimension of: ', P.shape)\n",
    "\n",
    "#変更可能\n",
    "temp = P@avgCov_c_tr@P.T\n",
    "#対角化した行列が単位行列と等しいか確認\n",
    "#ちゃんと単位行列になっていない\n",
    "#正規直交基底になるようにシュミレットを使えば単位行列になるはず\n",
    "\n",
    "#白色化を行う\n",
    "# Sl = P Cl P'\n",
    "S_left = P@Cov_left_tr@P.T\n",
    "# Sr = P Cr P'\n",
    "S_right = P@Cov_right_tr@P.T\n",
    "\n",
    "#白色化を行った行列から左と右の固有値行列を引き出す\n",
    "λl, Bl = np.linalg.eig(S_left)\n",
    "λr, Br = np.linalg.eig(S_right)\n",
    "\n",
    "#昇順にソートを行う\n",
    "idx_asc = λl.argsort() \n",
    "\n",
    "λl_asc = λl[idx_asc]\n",
    "\n",
    "# 降順にソートを行う\n",
    "idx_dsc = λr.argsort()[::-1] # Use this index to sort eigenvector largest -> smallest\n",
    "\n",
    "λr_dsc = λr[idx_dsc]\n",
    "\n",
    "# 左固有ベクトルを昇順でソート\n",
    "Bl = Bl[:, idx_asc]\n",
    "# 右固有ベクトルを降順にソート\n",
    "Br = Br[:, idx_dsc]\n",
    "\n",
    "# 固有値ベクトルに固有値行列をかけることで射影行列を取得\n",
    "W1 = (Br.T@P).T\n",
    "W2 = (Bl.T@P).T\n",
    "W = W1"
   ]
  },
  {
   "cell_type": "code",
   "execution_count": 45,
   "id": "f4f33ffc-1b64-4fd7-98d2-4aa9f4188dd0",
   "metadata": {},
   "outputs": [],
   "source": [
    "#変更可能\n",
    "# 論文の手順に従い、m = 2に設定\n",
    "# 2m = 4\n",
    "# したがって、行列の最初と最後の行の最初のmを取得します\n",
    "#一方のクラスにおける固有値が大きい初めの𝑚行と他方のクラスにおける固有値が大きい最後の𝑚行を抜き出して新たに行列を生成\n",
    "#つまり、各クラスの特徴が顕著に出ている最初のｍ行と最後のｍ行を抜き出す\n",
    "# 残りの行列を削除します\n",
    "#m=1に変更\n",
    "m = 2\n",
    "x, y = W.shape\n",
    "W_new = np.delete(W, np.s_[m+1:x-m+1], 0)\n",
    "#np.deleteで行列を削除、np.s[:]で場所を指定、第三要素で軸指定"
   ]
  },
  {
   "cell_type": "code",
   "execution_count": 46,
   "id": "21a39af8-9353-4a77-962c-5e10921ee1ca",
   "metadata": {},
   "outputs": [],
   "source": [
    "#ここから先は変更が必要かもしれない\n",
    "# E を 72 x 22 x 750 の次元に転置\n",
    "#第2要素が22でなければ変更することはわかるがなぜそれが必要なのかは不明\n",
    "if E_left_tr.shape[1] != 22 :\n",
    "    E_left_tr = np.transpose(E_left_tr, (0, 2, 1))\n",
    "if E_right_tr.shape[1] != 22 :\n",
    "    E_right_tr= np.transpose(E_right_tr, (0, 2, 1))\n",
    "    \n",
    "#新たにZを格納する配列を作成\n",
    "Z_left_tr = np.zeros((E_left_tr.shape[0], W_new.shape[0], E_left_tr.shape[2]))\n",
    "Z_right_tr = np.zeros((E_right_tr.shape[0], W_new.shape[0], E_right_tr.shape[2]))\n",
    "\n",
    "#左のクラス\n",
    "#射影行列を各試行の脳波に適用する\n",
    "#得られる行列Zは試行数(今回は54)×2m×試行時間(今回は313)の次元となる\n",
    "for i in range(Z_left_tr.shape[0]):\n",
    "    Z_left_tr[i] = W_new@E_left_tr[i]\n",
    "\n",
    "#右のクラス\n",
    "for i in range(Z_right_tr.shape[0]):\n",
    "    Z_right_tr[i] = W_new@E_right_tr[i]\n",
    "    \n",
    "#特徴ベクトルを格納するための配列を作成\n",
    "feat_l_tr =  np.zeros((Z_left_tr.shape[0], Z_left_tr.shape[1], 1))\n",
    "feat_r_tr =  np.zeros((Z_right_tr.shape[0], Z_right_tr.shape[1], 1))\n",
    "\n",
    "#式の部分は変更可能\n",
    "#特徴ベクトルを求める\n",
    "#左のクラス\n",
    "for i in range(Z_left_tr.shape[0]):\n",
    "    var = np.var(Z_left_tr[i], ddof=1, axis=1)[:, np.newaxis]\n",
    "    varsum = np.sum(var)\n",
    "    feat_l_tr[i] = np.log(var/varsum);\n",
    "#np.varで分散値を計算\n",
    "#axisでどの軸に沿って分散を計算するか求める\n",
    "#ddofで平均との偏差の2乗の和を(N-ddof)で割り、初期値ではデータ数であるNで割る。ddof=1では不偏分散を求める(つまりN-1)。\n",
    "#np.newaxisによって新たにサイズが1の次元を追加する。\n",
    "\n",
    "\n",
    "#右のクラス\n",
    "for i in range(Z_right_tr.shape[0]):\n",
    "    var = np.var(Z_right_tr[i], ddof=1, axis=1)[:, np.newaxis]\n",
    "    varsum = np.sum(var)\n",
    "    feat_r_tr[i] = np.log(var/varsum);"
   ]
  },
  {
   "cell_type": "code",
   "execution_count": 47,
   "id": "9ee669ed-efbf-4a44-974e-f38aeec05b80",
   "metadata": {},
   "outputs": [],
   "source": [
    "#Eを20 x 22 x 313に変更\n",
    "if E_left_te.shape[1] != 22 :\n",
    "    E_left_te = np.transpose(E_left_te, (0, 2, 1))\n",
    "if E_right_te.shape[1] != 22 :\n",
    "    E_right_te = np.transpose(E_right_te, (0, 2, 1))\n",
    "    \n",
    "#新たにZを格納する配列を作成\n",
    "Z_left_te = np.zeros((E_left_te.shape[0], W_new.shape[0], E_left_te.shape[2]))\n",
    "Z_right_te = np.zeros((E_right_te.shape[0], W_new.shape[0], E_right_te.shape[2]))\n",
    "\n",
    "#左のクラス\n",
    "#射影行列を各試行の脳波に適用する\n",
    "#得られる行列Zは試行数(今回は18)×2m×試行時間(今回は313)の次元となる\n",
    "for i in range(Z_left_te.shape[0]):\n",
    "    Z_left_te[i] = W_new@E_left_te[i]\n",
    "\n",
    "#右のクラス\n",
    "for i in range(Z_right_te.shape[0]):\n",
    "    Z_right_te[i] = W_new@E_right_te[i]\n",
    "    \n",
    "#特徴ベクトルを格納するための配列を作成\n",
    "feat_l_te =  np.zeros((Z_left_te.shape[0], Z_left_te.shape[1], 1))\n",
    "feat_r_te =  np.zeros((Z_right_te.shape[0], Z_right_te.shape[1], 1))\n",
    "\n",
    "\n",
    "#forのループ部分はおそらく行の4でするべき\n",
    "#式の部分は変更可能\n",
    "#特徴ベクトルを求める\n",
    "#左のクラス\n",
    "for i in range(Z_left_te.shape[0]):\n",
    "    var = np.var(Z_left_te[i], ddof=1, axis=1)[:, np.newaxis]\n",
    "    varsum = np.sum(var)\n",
    "    feat_l_te[i] = np.log(var/varsum);\n",
    "#np.varで分散値を計算\n",
    "#axisでどの軸に沿って分散を計算するか求める\n",
    "#ddofで平均との偏差の2乗の和を(N-ddof)で割り、初期値ではデータ数であるNで割る。ddof=1では不偏分散を求める(つまりN-1)。\n",
    "#np.newaxisによって新たにサイズが1の次元を追加する。\n",
    "\n",
    "#右のクラス\n",
    "for i in range(Z_right_te.shape[0]):\n",
    "    var = np.var(Z_right_te[i], ddof=1, axis=1)[:, np.newaxis]\n",
    "    varsum = np.sum(var)\n",
    "    feat_r_te[i] = np.log(var/varsum);\n",
    "    "
   ]
  },
  {
   "cell_type": "code",
   "execution_count": 59,
   "id": "eae44b39-ca50-494e-8cf5-1345141a8514",
   "metadata": {},
   "outputs": [],
   "source": [
    "#まず、特徴ベクトルを2次元に変換\n",
    "feat_l_tr = np.squeeze(feat_l_tr);\n",
    "feat_r_tr = np.squeeze(feat_r_tr);\n",
    "feat_tr = np.concatenate([feat_l_tr, feat_r_tr],0)\n",
    "feat_tr = feat_tr.T\n",
    "#まず、特徴ベクトルを2次元に変換\n",
    "feat_l_te = np.squeeze(feat_l_te);\n",
    "feat_r_te = np.squeeze(feat_r_te);\n",
    "feat_l_te = feat_l_te.T\n",
    "feat_r_te = feat_r_te.T"
   ]
  },
  {
   "cell_type": "code",
   "execution_count": 60,
   "id": "3b02b36b-0c05-4f59-bfa3-0fae403cc32d",
   "metadata": {},
   "outputs": [
    {
     "name": "stdout",
     "output_type": "stream",
     "text": [
      "(4, 120) (4, 12)\n"
     ]
    }
   ],
   "source": [
    "print(feat_tr.shape,feat_l_te.shape)"
   ]
  },
  {
   "cell_type": "code",
   "execution_count": 63,
   "id": "dcd5e0a6-2891-4fe4-b7c6-2d0096a4d61d",
   "metadata": {},
   "outputs": [],
   "source": [
    "def SRC(feat_l_tr,fea_r_tr,feat_tr,feat_l_te): #rightの時は(feat_r_tr,feat_tr,feat_r_te)\n",
    "    import cvxpy as cv\n",
    "    ε=0.3\n",
    "    SRC_Cla = np.zeros((feat_tr.shape[1], feat_l_te.shape[1]))\n",
    "    SRC_l_Cla = np.zeros((feat_l_tr.shape[0], feat_l_te.shape[1]))\n",
    "    SRC_r_Cla = np.zeros((feat_l_tr.shape[0], feat_l_te.shape[1]))  #(feat_r_te.shape[0], feat_r_te.shape[1])でもいい\n",
    "    answer = np.zeros(feat_l_te.shape[1])\n",
    "    for i in range(feat_l_te.shape[1]):\n",
    "        x = cv.Variable((feat_tr.shape[1],1)) #目的関数の次元\n",
    "        objective = cv.Minimize(cv.norm(x,1))\n",
    "        constraints = [(cv.norm(feat_l_te[:,i,np.newaxis] - feat_tr@x,2)**2)<=ε]\n",
    "        prob = cv.Problem(objective, constraints)\n",
    "        result = prob.solve()\n",
    "        #classVariableから値を取るためには.valueを付ける\n",
    "        SRC_Cla[:,i] = np.squeeze(x.value)\n",
    "        #パラメータxを各クラスのパラメータに分ける\n",
    "        SRC_l_Cla[:,i] = SRC_Cla[0:feat_l_tr.shape[0],i]\n",
    "        SRC_r_Cla[:,i] = SRC_Cla[feat_l_tr.shape[0]:SRC_Cla.shape[0],i]\n",
    "        #分類では\n",
    "        #配列xの内、右のクラスのみに関する配列を使用して作成したy(右)、左のクラスのみに関する配列を使用して作成したy(左)の\n",
    "        #残差が小さい方のクラスを割り当てる\n",
    "        \n",
    "    #パラメータを使って擬似的に各クラスのテスト信号の特徴ベクトルを作成\n",
    "    dout_feat_l_te = np.zeros((feat_l_te.shape[0], feat_l_te.shape[1]))\n",
    "    dout_feat_r_te = np.zeros((feat_l_te.shape[0], feat_l_te.shape[1])) #(feat_r_te.shape[0], feat_r_te.shape[1])でもいい\n",
    "    for i in range(feat_l_te.shape[1]):\n",
    "        dout_feat_l_te[:,i] = feat_l_tr.T@SRC_l_Cla[:,i]\n",
    "    for i in range(feat_r_te.shape[1]):\n",
    "        dout_feat_r_te[:,i] = feat_r_tr.T@SRC_r_Cla[:,i]\n",
    "    \n",
    "    #作成した擬似特徴ベクトルとの残差を求める\n",
    "    R_l =  np.zeros((feat_l_te.shape[0], feat_l_te.shape[1])) #残差を格納するための配列\n",
    "    R_r =  np.zeros((feat_l_te.shape[0], feat_l_te.shape[1])) #(feat_r_te.shape[0], feat_r_te.shape[1])でもいい\n",
    "    for i in range(feat_l_te.shape[1]):\n",
    "        R_l[:,i] = feat_l_te[:,i]-dout_feat_l_te[:,i]\n",
    "        R_r[:,i] = feat_l_te[:,i]-dout_feat_r_te[:,i]\n",
    "        if np.linalg.norm(R_l[:,i], ord=2) < np.linalg.norm(R_r[:,i], ord=2):\n",
    "            answer[i] = 1\n",
    "        elif np.linalg.norm(R_l[:,i], ord=2) > np.linalg.norm(R_r[:,i], ord=2):\n",
    "            answer[i] = 2\n",
    "    \n",
    "    return answer"
   ]
  },
  {
   "cell_type": "code",
   "execution_count": 65,
   "id": "7f2fddf1-2221-44a0-8bf9-50a6c9048b96",
   "metadata": {},
   "outputs": [
    {
     "name": "stdout",
     "output_type": "stream",
     "text": [
      "100.0\n"
     ]
    }
   ],
   "source": [
    "answer = SRC(feat_l_tr,feat_r_tr,feat_tr,feat_r_te)\n",
    "x = 0\n",
    "for i in range(answer.shape[0]):\n",
    "    if answer[i] == 2:\n",
    "        x = x + 1\n",
    "print((x/answer.shape[0])*100)"
   ]
  },
  {
   "cell_type": "code",
   "execution_count": null,
   "id": "78886ee6-704c-4897-87e2-3d3bc4f380a1",
   "metadata": {},
   "outputs": [],
   "source": []
  }
 ],
 "metadata": {
  "kernelspec": {
   "display_name": "Python 3 (ipykernel)",
   "language": "python",
   "name": "python3"
  },
  "language_info": {
   "codemirror_mode": {
    "name": "ipython",
    "version": 3
   },
   "file_extension": ".py",
   "mimetype": "text/x-python",
   "name": "python",
   "nbconvert_exporter": "python",
   "pygments_lexer": "ipython3",
   "version": "3.9.12"
  }
 },
 "nbformat": 4,
 "nbformat_minor": 5
}
