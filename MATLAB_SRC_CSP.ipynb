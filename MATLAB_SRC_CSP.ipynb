{
 "cells": [
  {
   "cell_type": "code",
   "execution_count": 1,
   "metadata": {},
   "outputs": [],
   "source": [
    "import numpy as np\n",
    "import matplotlib.pyplot as plt\n",
    "import scipy.io as io\n",
    "import pandas as pd\n",
    "from pandas import DataFrame as dframe"
   ]
  },
  {
   "cell_type": "code",
   "execution_count": 2,
   "metadata": {},
   "outputs": [
    {
     "name": "stdout",
     "output_type": "stream",
     "text": [
      "Take 54 data of each left and right data as training data\n",
      "\n",
      "left_tr has dimension of:  (60, 22, 313)\n",
      "right_tr has dimension of:  (60, 22, 313)\n",
      "Take 18 data of each left and right data as train data\n",
      "\n",
      "left_te has dimension of:  (12, 22, 313)\n",
      "right_te has dimension of:  (12, 22, 313)\n"
     ]
    }
   ],
   "source": [
    "np.seterr(divide='ignore', invalid='ignore')\n",
    "#浮動小数点の計算での決め事\n",
    "#ignoreにすることでエラーを無視する\n",
    "#divideは0で除算した時どうするか、invalidは浮動小数点演算が無効な場合の処理\n",
    "data = np.load('A01T.npz')\n",
    "#numpy独自のバイナリファイルで保存する\n",
    "data.files\n",
    "prop = np.c_[data['etyp'], data['epos'], data['edur']]\n",
    "pd.options.display.max_rows = None\n",
    "pd.set_option('display.max_rows', None)\n",
    "#上のコードとしていることはほどんど同じ\n",
    "dframe(prop, columns=['etype', 'epos','edur']);\n",
    "#DataFrameに結合配列を格納\n",
    "#propというデータの3つの列を結合させてDataFrameに格\n",
    "sample_data = dframe(data['s'])\n",
    "sample_data = sample_data.iloc[:, 0:22]\n",
    "#行すべてと22列を切りだしている\n",
    "#EOGのデータを抜いて、脳波だけを取り出している\n",
    "sample_data.head();\n",
    "idx_left = np.argwhere(prop[:, 0]==769)\n",
    "idx_right = np.argwhere(prop[:, 0]==770)\n",
    "#イベントタイプが左、右のデータを取得する\n",
    "#argwhereは配列から条件にあうデータを取得する\n",
    "idx_left = idx_left.flatten()\n",
    "idx_right = idx_right.flatten()\n",
    "#多次元配列を1次元に変換\n",
    "left_pos = prop[idx_left, 1]\n",
    "right_pos = prop[idx_right, 1]\n",
    "#対応するイベントタイプのポジションを取得\n",
    "left_dur = prop[idx_left, 2]\n",
    "right_dur = prop[idx_right, 2]\n",
    "#各イベントの継続時間を取得\n",
    "dur = 313\n",
    "E_left = np.zeros([left_pos.shape[0], dur, sample_data.shape[1]])\n",
    "E_right = np.zeros([right_pos.shape[0], dur, sample_data.shape[1]])\n",
    "#各イベントのサンプルを取得するための配列形成\n",
    "for i in range(E_left.shape[0]):\n",
    "    E_left[i]=sample_data.iloc[left_pos[i]:left_pos[i]+dur, :]\n",
    "for i in range(E_right.shape[0]):\n",
    "    E_right[i]=sample_data.iloc[right_pos[i]:right_pos[i]+dur, :]\n",
    "#対応しているデータを切りだす\n",
    "#左手や右手の開始時刻から継続時間までのデータを取得する\n",
    "#1回の実験で22チャンネルのデータが入っている\n",
    "Xcol = []\n",
    "for i in range(1, 23):\n",
    "    if i < 11:\n",
    "        Xcol.append('EEG0'+str(i))\n",
    "    else:\n",
    "        Xcol.append('EEG'+str(i))\n",
    "#行列の名前を作成\n",
    "E_left = np.transpose(E_left, (0, 2, 1))\n",
    "E_right = np.transpose(E_right, (0, 2, 1))\n",
    "#行と列を変換\n",
    "ntrain = 60\n",
    "E_left_tr = E_left[:ntrain, :, :]\n",
    "E_right_tr = E_right[:ntrain, :, :]\n",
    "print('Take 54 data of each left and right data as training data\\n')\n",
    "print('left_tr has dimension of: ', E_left_tr.shape)\n",
    "print('right_tr has dimension of: ', E_right_tr.shape)\n",
    "#左右各54個ずつのデータを訓練に使用\n",
    "ntest = 12\n",
    "E_left_te = E_left[ntrain:ntrain+ntest, :, :]\n",
    "E_right_te = E_right[ntrain:ntrain+ntest, :, :]\n",
    "print('Take 18 data of each left and right data as train data\\n')\n",
    "print('left_te has dimension of: ', E_left_te.shape)\n",
    "print('right_te has dimension of: ', E_right_te.shape)\n",
    "#左右各18個ずつのデータをテストに使用\n",
    "nel = 22\n",
    "#要素数の定義"
   ]
  },
  {
   "cell_type": "code",
   "execution_count": 3,
   "metadata": {},
   "outputs": [],
   "source": [
    "feat_C1 = np.loadtxt(\"feat_C1.txt\",delimiter=\",\")\n",
    "feat_C2 = np.loadtxt(\"feat_C2.txt\",delimiter=\",\")\n",
    "feat_Test_C1 = np.loadtxt(\"feat_Test_C1.txt\",delimiter=\",\")\n",
    "feat_Test_C2 = np.loadtxt(\"feat_Test_C2.txt\",delimiter=\",\")"
   ]
  },
  {
   "cell_type": "code",
   "execution_count": 4,
   "metadata": {},
   "outputs": [],
   "source": [
    "#まず、特徴ベクトルを2次元に変換\n",
    "feat_l_tr = feat_C1;\n",
    "feat_r_tr = feat_C2;\n",
    "feat_tr = np.concatenate([feat_l_tr, feat_r_tr],0)\n",
    "feat_tr = feat_tr.T\n",
    "\n",
    "#まず、特徴ベクトルを2次元に変換\n",
    "feat_l_te = feat_Test_C1;\n",
    "feat_r_te = feat_Test_C2;\n",
    "feat_l_te = feat_l_te.T\n",
    "feat_r_te = feat_r_te.T"
   ]
  },
  {
   "cell_type": "code",
   "execution_count": 8,
   "metadata": {},
   "outputs": [
    {
     "name": "stdout",
     "output_type": "stream",
     "text": [
      "(4, 12)\n"
     ]
    }
   ],
   "source": [
    "print(feat_l_te.shape)"
   ]
  },
  {
   "cell_type": "code",
   "execution_count": 9,
   "metadata": {},
   "outputs": [],
   "source": [
    "def SRC(feat_l_tr,fea_r_tr,feat_tr,feat_l_te): #rightの時は(feat_r_tr,feat_tr,feat_r_te)\n",
    "    import cvxpy as cv\n",
    "    ε=0.1\n",
    "    SRC_Cla = np.zeros((feat_tr.shape[1], feat_l_te.shape[1]))\n",
    "    SRC_l_Cla = np.zeros((feat_l_tr.shape[0], feat_l_te.shape[1]))\n",
    "    SRC_r_Cla = np.zeros((feat_l_tr.shape[0], feat_l_te.shape[1]))  #(feat_r_te.shape[0], feat_r_te.shape[1])でもいい\n",
    "    answer = np.zeros(feat_l_te.shape[1])\n",
    "    for i in range(feat_l_te.shape[1]):\n",
    "        x = cv.Variable((feat_tr.shape[1],1)) #目的関数の次元\n",
    "        objective = cv.Minimize(cv.norm(x,1))\n",
    "        constraints = [(cv.norm(feat_l_te[:,i,np.newaxis] - feat_tr@x,2)**2)<=ε]\n",
    "        prob = cv.Problem(objective, constraints)\n",
    "        result = prob.solve()\n",
    "        #classVariableから値を取るためには.valueを付ける\n",
    "        SRC_Cla[:,i] = np.squeeze(x.value)\n",
    "        #パラメータxを各クラスのパラメータに分ける\n",
    "        SRC_l_Cla[:,i] = SRC_Cla[0:feat_l_tr.shape[0],i]\n",
    "        SRC_r_Cla[:,i] = SRC_Cla[feat_l_tr.shape[0]:SRC_Cla.shape[0],i]\n",
    "        #分類では\n",
    "        #配列xの内、右のクラスのみに関する配列を使用して作成したy(右)、左のクラスのみに関する配列を使用して作成したy(左)の\n",
    "        #残差が小さい方のクラスを割り当てる\n",
    "        \n",
    "    #パラメータを使って擬似的に各クラスのテスト信号の特徴ベクトルを作成\n",
    "    dout_feat_l_te = np.zeros((feat_l_te.shape[0], feat_l_te.shape[1]))\n",
    "    dout_feat_r_te = np.zeros((feat_l_te.shape[0], feat_l_te.shape[1])) #(feat_r_te.shape[0], feat_r_te.shape[1])でもいい\n",
    "    for i in range(feat_l_te.shape[1]):\n",
    "        dout_feat_l_te[:,i] = feat_l_tr.T@SRC_l_Cla[:,i]\n",
    "    for i in range(feat_r_te.shape[1]):\n",
    "        dout_feat_r_te[:,i] = feat_r_tr.T@SRC_r_Cla[:,i]\n",
    "    \n",
    "    #作成した擬似特徴ベクトルとの残差を求める\n",
    "    R_l =  np.zeros((feat_l_te.shape[0], feat_l_te.shape[1])) #残差を格納するための配列\n",
    "    R_r =  np.zeros((feat_l_te.shape[0], feat_l_te.shape[1])) #(feat_r_te.shape[0], feat_r_te.shape[1])でもいい\n",
    "    for i in range(feat_l_te.shape[1]):\n",
    "        R_l[:,i] = feat_l_te[:,i]-dout_feat_l_te[:,i]\n",
    "        R_r[:,i] = feat_l_te[:,i]-dout_feat_r_te[:,i]\n",
    "        if np.linalg.norm(R_l[:,i], ord=2) < np.linalg.norm(R_r[:,i], ord=2):\n",
    "            answer[i] = 1\n",
    "        elif np.linalg.norm(R_l[:,i], ord=2) > np.linalg.norm(R_r[:,i], ord=2):\n",
    "            answer[i] = 2\n",
    "    \n",
    "    return answer"
   ]
  },
  {
   "cell_type": "code",
   "execution_count": 11,
   "metadata": {},
   "outputs": [
    {
     "name": "stdout",
     "output_type": "stream",
     "text": [
      "100.0\n"
     ]
    }
   ],
   "source": [
    "answer = SRC(feat_l_tr,feat_r_tr,feat_tr,feat_l_te)\n",
    "x = 0\n",
    "for i in range(answer.shape[0]):\n",
    "    if answer[i] == 1:\n",
    "        x = x + 1\n",
    "print((x/answer.shape[0])*100)"
   ]
  },
  {
   "cell_type": "code",
   "execution_count": null,
   "metadata": {},
   "outputs": [],
   "source": []
  }
 ],
 "metadata": {
  "kernelspec": {
   "display_name": "Python 3",
   "language": "python",
   "name": "python3"
  },
  "language_info": {
   "codemirror_mode": {
    "name": "ipython",
    "version": 3
   },
   "file_extension": ".py",
   "mimetype": "text/x-python",
   "name": "python",
   "nbconvert_exporter": "python",
   "pygments_lexer": "ipython3",
   "version": "3.7.6"
  }
 },
 "nbformat": 4,
 "nbformat_minor": 4
}
